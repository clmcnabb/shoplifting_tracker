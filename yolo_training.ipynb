{
  "nbformat": 4,
  "nbformat_minor": 0,
  "metadata": {
    "colab": {
      "provenance": [],
      "gpuType": "T4",
      "mount_file_id": "1LOx3vsE-EO6j7-DqQ-tTMuDeRRQQJooE",
      "authorship_tag": "ABX9TyO5A11FsyuDcfPkPBHJmYfW",
      "include_colab_link": true
    },
    "kernelspec": {
      "name": "python3",
      "display_name": "Python 3"
    },
    "language_info": {
      "name": "python"
    },
    "accelerator": "GPU"
  },
  "cells": [
    {
      "cell_type": "markdown",
      "metadata": {
        "id": "view-in-github",
        "colab_type": "text"
      },
      "source": [
        "<a href=\"https://colab.research.google.com/github/nabbers92/shoplifting_tracker/blob/main/yolo_training.ipynb\" target=\"_parent\"><img src=\"https://colab.research.google.com/assets/colab-badge.svg\" alt=\"Open In Colab\"/></a>"
      ]
    },
    {
      "cell_type": "code",
      "execution_count": null,
      "metadata": {
        "colab": {
          "base_uri": "https://localhost:8080/"
        },
        "id": "qJfzpOwE5yh9",
        "outputId": "f6cfc363-a96f-4628-864b-659393070d0f"
      },
      "outputs": [
        {
          "output_type": "stream",
          "name": "stdout",
          "text": [
            "Collecting ultralytics\n",
            "  Downloading ultralytics-8.2.16-py3-none-any.whl (756 kB)\n",
            "\u001b[2K     \u001b[90m━━━━━━━━━━━━━━━━━━━━━━━━━━━━━━━━━━━━━━━━\u001b[0m \u001b[32m756.9/756.9 kB\u001b[0m \u001b[31m7.4 MB/s\u001b[0m eta \u001b[36m0:00:00\u001b[0m\n",
            "\u001b[?25hRequirement already satisfied: matplotlib>=3.3.0 in /usr/local/lib/python3.10/dist-packages (from ultralytics) (3.7.1)\n",
            "Requirement already satisfied: opencv-python>=4.6.0 in /usr/local/lib/python3.10/dist-packages (from ultralytics) (4.8.0.76)\n",
            "Requirement already satisfied: pillow>=7.1.2 in /usr/local/lib/python3.10/dist-packages (from ultralytics) (9.4.0)\n",
            "Requirement already satisfied: pyyaml>=5.3.1 in /usr/local/lib/python3.10/dist-packages (from ultralytics) (6.0.1)\n",
            "Requirement already satisfied: requests>=2.23.0 in /usr/local/lib/python3.10/dist-packages (from ultralytics) (2.31.0)\n",
            "Requirement already satisfied: scipy>=1.4.1 in /usr/local/lib/python3.10/dist-packages (from ultralytics) (1.11.4)\n",
            "Requirement already satisfied: torch>=1.8.0 in /usr/local/lib/python3.10/dist-packages (from ultralytics) (2.2.1+cu121)\n",
            "Requirement already satisfied: torchvision>=0.9.0 in /usr/local/lib/python3.10/dist-packages (from ultralytics) (0.17.1+cu121)\n",
            "Requirement already satisfied: tqdm>=4.64.0 in /usr/local/lib/python3.10/dist-packages (from ultralytics) (4.66.4)\n",
            "Requirement already satisfied: psutil in /usr/local/lib/python3.10/dist-packages (from ultralytics) (5.9.5)\n",
            "Requirement already satisfied: py-cpuinfo in /usr/local/lib/python3.10/dist-packages (from ultralytics) (9.0.0)\n",
            "Collecting thop>=0.1.1 (from ultralytics)\n",
            "  Downloading thop-0.1.1.post2209072238-py3-none-any.whl (15 kB)\n",
            "Requirement already satisfied: pandas>=1.1.4 in /usr/local/lib/python3.10/dist-packages (from ultralytics) (2.0.3)\n",
            "Requirement already satisfied: seaborn>=0.11.0 in /usr/local/lib/python3.10/dist-packages (from ultralytics) (0.13.1)\n",
            "Requirement already satisfied: contourpy>=1.0.1 in /usr/local/lib/python3.10/dist-packages (from matplotlib>=3.3.0->ultralytics) (1.2.1)\n",
            "Requirement already satisfied: cycler>=0.10 in /usr/local/lib/python3.10/dist-packages (from matplotlib>=3.3.0->ultralytics) (0.12.1)\n",
            "Requirement already satisfied: fonttools>=4.22.0 in /usr/local/lib/python3.10/dist-packages (from matplotlib>=3.3.0->ultralytics) (4.51.0)\n",
            "Requirement already satisfied: kiwisolver>=1.0.1 in /usr/local/lib/python3.10/dist-packages (from matplotlib>=3.3.0->ultralytics) (1.4.5)\n",
            "Requirement already satisfied: numpy>=1.20 in /usr/local/lib/python3.10/dist-packages (from matplotlib>=3.3.0->ultralytics) (1.25.2)\n",
            "Requirement already satisfied: packaging>=20.0 in /usr/local/lib/python3.10/dist-packages (from matplotlib>=3.3.0->ultralytics) (24.0)\n",
            "Requirement already satisfied: pyparsing>=2.3.1 in /usr/local/lib/python3.10/dist-packages (from matplotlib>=3.3.0->ultralytics) (3.1.2)\n",
            "Requirement already satisfied: python-dateutil>=2.7 in /usr/local/lib/python3.10/dist-packages (from matplotlib>=3.3.0->ultralytics) (2.8.2)\n",
            "Requirement already satisfied: pytz>=2020.1 in /usr/local/lib/python3.10/dist-packages (from pandas>=1.1.4->ultralytics) (2023.4)\n",
            "Requirement already satisfied: tzdata>=2022.1 in /usr/local/lib/python3.10/dist-packages (from pandas>=1.1.4->ultralytics) (2024.1)\n",
            "Requirement already satisfied: charset-normalizer<4,>=2 in /usr/local/lib/python3.10/dist-packages (from requests>=2.23.0->ultralytics) (3.3.2)\n",
            "Requirement already satisfied: idna<4,>=2.5 in /usr/local/lib/python3.10/dist-packages (from requests>=2.23.0->ultralytics) (3.7)\n",
            "Requirement already satisfied: urllib3<3,>=1.21.1 in /usr/local/lib/python3.10/dist-packages (from requests>=2.23.0->ultralytics) (2.0.7)\n",
            "Requirement already satisfied: certifi>=2017.4.17 in /usr/local/lib/python3.10/dist-packages (from requests>=2.23.0->ultralytics) (2024.2.2)\n",
            "Requirement already satisfied: filelock in /usr/local/lib/python3.10/dist-packages (from torch>=1.8.0->ultralytics) (3.14.0)\n",
            "Requirement already satisfied: typing-extensions>=4.8.0 in /usr/local/lib/python3.10/dist-packages (from torch>=1.8.0->ultralytics) (4.11.0)\n",
            "Requirement already satisfied: sympy in /usr/local/lib/python3.10/dist-packages (from torch>=1.8.0->ultralytics) (1.12)\n",
            "Requirement already satisfied: networkx in /usr/local/lib/python3.10/dist-packages (from torch>=1.8.0->ultralytics) (3.3)\n",
            "Requirement already satisfied: jinja2 in /usr/local/lib/python3.10/dist-packages (from torch>=1.8.0->ultralytics) (3.1.4)\n",
            "Requirement already satisfied: fsspec in /usr/local/lib/python3.10/dist-packages (from torch>=1.8.0->ultralytics) (2023.6.0)\n",
            "Collecting nvidia-cuda-nvrtc-cu12==12.1.105 (from torch>=1.8.0->ultralytics)\n",
            "  Using cached nvidia_cuda_nvrtc_cu12-12.1.105-py3-none-manylinux1_x86_64.whl (23.7 MB)\n",
            "Collecting nvidia-cuda-runtime-cu12==12.1.105 (from torch>=1.8.0->ultralytics)\n",
            "  Using cached nvidia_cuda_runtime_cu12-12.1.105-py3-none-manylinux1_x86_64.whl (823 kB)\n",
            "Collecting nvidia-cuda-cupti-cu12==12.1.105 (from torch>=1.8.0->ultralytics)\n",
            "  Using cached nvidia_cuda_cupti_cu12-12.1.105-py3-none-manylinux1_x86_64.whl (14.1 MB)\n",
            "Collecting nvidia-cudnn-cu12==8.9.2.26 (from torch>=1.8.0->ultralytics)\n",
            "  Using cached nvidia_cudnn_cu12-8.9.2.26-py3-none-manylinux1_x86_64.whl (731.7 MB)\n",
            "Collecting nvidia-cublas-cu12==12.1.3.1 (from torch>=1.8.0->ultralytics)\n",
            "  Using cached nvidia_cublas_cu12-12.1.3.1-py3-none-manylinux1_x86_64.whl (410.6 MB)\n",
            "Collecting nvidia-cufft-cu12==11.0.2.54 (from torch>=1.8.0->ultralytics)\n",
            "  Using cached nvidia_cufft_cu12-11.0.2.54-py3-none-manylinux1_x86_64.whl (121.6 MB)\n",
            "Collecting nvidia-curand-cu12==10.3.2.106 (from torch>=1.8.0->ultralytics)\n",
            "  Using cached nvidia_curand_cu12-10.3.2.106-py3-none-manylinux1_x86_64.whl (56.5 MB)\n",
            "Collecting nvidia-cusolver-cu12==11.4.5.107 (from torch>=1.8.0->ultralytics)\n",
            "  Using cached nvidia_cusolver_cu12-11.4.5.107-py3-none-manylinux1_x86_64.whl (124.2 MB)\n",
            "Collecting nvidia-cusparse-cu12==12.1.0.106 (from torch>=1.8.0->ultralytics)\n",
            "  Using cached nvidia_cusparse_cu12-12.1.0.106-py3-none-manylinux1_x86_64.whl (196.0 MB)\n",
            "Collecting nvidia-nccl-cu12==2.19.3 (from torch>=1.8.0->ultralytics)\n",
            "  Using cached nvidia_nccl_cu12-2.19.3-py3-none-manylinux1_x86_64.whl (166.0 MB)\n",
            "Collecting nvidia-nvtx-cu12==12.1.105 (from torch>=1.8.0->ultralytics)\n",
            "  Using cached nvidia_nvtx_cu12-12.1.105-py3-none-manylinux1_x86_64.whl (99 kB)\n",
            "Requirement already satisfied: triton==2.2.0 in /usr/local/lib/python3.10/dist-packages (from torch>=1.8.0->ultralytics) (2.2.0)\n",
            "Collecting nvidia-nvjitlink-cu12 (from nvidia-cusolver-cu12==11.4.5.107->torch>=1.8.0->ultralytics)\n",
            "  Using cached nvidia_nvjitlink_cu12-12.4.127-py3-none-manylinux2014_x86_64.whl (21.1 MB)\n",
            "Requirement already satisfied: six>=1.5 in /usr/local/lib/python3.10/dist-packages (from python-dateutil>=2.7->matplotlib>=3.3.0->ultralytics) (1.16.0)\n",
            "Requirement already satisfied: MarkupSafe>=2.0 in /usr/local/lib/python3.10/dist-packages (from jinja2->torch>=1.8.0->ultralytics) (2.1.5)\n",
            "Requirement already satisfied: mpmath>=0.19 in /usr/local/lib/python3.10/dist-packages (from sympy->torch>=1.8.0->ultralytics) (1.3.0)\n",
            "Installing collected packages: nvidia-nvtx-cu12, nvidia-nvjitlink-cu12, nvidia-nccl-cu12, nvidia-curand-cu12, nvidia-cufft-cu12, nvidia-cuda-runtime-cu12, nvidia-cuda-nvrtc-cu12, nvidia-cuda-cupti-cu12, nvidia-cublas-cu12, nvidia-cusparse-cu12, nvidia-cudnn-cu12, nvidia-cusolver-cu12, thop, ultralytics\n",
            "Successfully installed nvidia-cublas-cu12-12.1.3.1 nvidia-cuda-cupti-cu12-12.1.105 nvidia-cuda-nvrtc-cu12-12.1.105 nvidia-cuda-runtime-cu12-12.1.105 nvidia-cudnn-cu12-8.9.2.26 nvidia-cufft-cu12-11.0.2.54 nvidia-curand-cu12-10.3.2.106 nvidia-cusolver-cu12-11.4.5.107 nvidia-cusparse-cu12-12.1.0.106 nvidia-nccl-cu12-2.19.3 nvidia-nvjitlink-cu12-12.4.127 nvidia-nvtx-cu12-12.1.105 thop-0.1.1.post2209072238 ultralytics-8.2.16\n"
          ]
        }
      ],
      "source": [
        "!pip install ultralytics"
      ]
    },
    {
      "cell_type": "code",
      "source": [
        "!unzip /content/drive/MyDrive/Shoplift.v1i.yolov8.zip"
      ],
      "metadata": {
        "colab": {
          "base_uri": "https://localhost:8080/"
        },
        "id": "DRjEN4d3A_yD",
        "outputId": "f3cdb828-ae3c-4cd9-e2e3-b92a5f4d9510"
      },
      "execution_count": null,
      "outputs": [
        {
          "output_type": "stream",
          "name": "stdout",
          "text": [
            "\u001b[1;30;43mStreaming output truncated to the last 5000 lines.\u001b[0m\n",
            " extracting: train/images/image_140_jpg.rf.6582c062a1be10686d21df2e1dca5973.jpg  \n",
            " extracting: train/images/image_141_jpg.rf.3104bc4cc5f81009668e8fbf05d4558b.jpg  \n",
            " extracting: train/images/image_142_jpg.rf.8dd12a03a64d47658a94236b59a8c55b.jpg  \n",
            " extracting: train/images/image_143_jpg.rf.622dcaf34905cf6cbe40f71bb81c8afd.jpg  \n",
            " extracting: train/images/image_143_jpg.rf.cb84cdd8aaa944c2933528040b971364.jpg  \n",
            " extracting: train/images/image_145_jpg.rf.0f37a526d5aec04eea97af6f9e9b41ae.jpg  \n",
            " extracting: train/images/image_146_jpg.rf.90cff8225312b2930c8e06cecd68f3db.jpg  \n",
            " extracting: train/images/image_147_jpg.rf.11438eabfd4ea55d8986b385d524f8f5.jpg  \n",
            " extracting: train/images/image_147_jpg.rf.b5d620d6a2f8fd80127f905be10e0a11.jpg  \n",
            " extracting: train/images/image_148_jpg.rf.11bc2a091bdd3b835168c08728cc8740.jpg  \n",
            " extracting: train/images/image_148_jpg.rf.4dfacae078b2a8b9a88f2591925fcd5b.jpg  \n",
            " extracting: train/images/image_149_jpg.rf.4e6db6f8818a94d909e71cc1e3ce57e0.jpg  \n",
            " extracting: train/images/image_14_jpg.rf.f5a4fec64931efb79a9e4488ae830f2e.jpg  \n",
            " extracting: train/images/image_150_jpg.rf.4fafa758c965e00a72319c552ec079ab.jpg  \n",
            " extracting: train/images/image_151_jpg.rf.28029220a0877ed26b632053d6fdd2f1.jpg  \n",
            " extracting: train/images/image_154_jpg.rf.afe025ad96a9b7a0fa93fb5f8520b4e3.jpg  \n",
            " extracting: train/images/image_155_jpg.rf.9cecf11f002356db599e71c8e00898bc.jpg  \n",
            " extracting: train/images/image_155_jpg.rf.9ee81500e4538fd680233e0a9f97cfaf.jpg  \n",
            " extracting: train/images/image_156_jpg.rf.06ea03c315bfd99ec08f7a4be2ceb81b.jpg  \n",
            " extracting: train/images/image_156_jpg.rf.b9b400ab00d9a82d7c23a445fee512fe.jpg  \n",
            " extracting: train/images/image_157_jpg.rf.af0e1594c96e74bbf9973ac9444c2da9.jpg  \n",
            " extracting: train/images/image_158_jpg.rf.5fcaa3d8ced07b27268a452b0f2fb2ca.jpg  \n",
            " extracting: train/images/image_158_jpg.rf.66bec111d26b566518fc3261553ca908.jpg  \n",
            " extracting: train/images/image_159_jpg.rf.9f8193b12625a3552754160e4c0c4e52.jpg  \n",
            " extracting: train/images/image_15_jpg.rf.3dc42e754bcfcfe1d272bd01018aed58.jpg  \n",
            " extracting: train/images/image_15_jpg.rf.8d54c53e412ba5b08fe01cdd874adf80.jpg  \n",
            " extracting: train/images/image_160_jpg.rf.c9b39618e2fe0fdc1b916aa41c608483.jpg  \n",
            " extracting: train/images/image_161_jpg.rf.11b08ee0b8dbb14ca35c3b53db5a48af.jpg  \n",
            " extracting: train/images/image_161_jpg.rf.7da9f70e9a82802fcb3926a0745690fc.jpg  \n",
            " extracting: train/images/image_162_jpg.rf.2c43bbb54d8bb5656a1cc7d691821314.jpg  \n",
            " extracting: train/images/image_164_jpg.rf.1f137db329996976a42789c600de2ebe.jpg  \n",
            " extracting: train/images/image_164_jpg.rf.ee3bcce6ebd9432d3db6cf8b1c991d25.jpg  \n",
            " extracting: train/images/image_165_jpg.rf.3ed652f8a1fe440282916aba254409fb.jpg  \n",
            " extracting: train/images/image_165_jpg.rf.ca06e4c3a346e6c8796cea3a4f90f218.jpg  \n",
            " extracting: train/images/image_166_jpg.rf.682f6d090970c12799c6b528760f610a.jpg  \n",
            " extracting: train/images/image_167_jpg.rf.764e537a73c87da740ee980c5946580f.jpg  \n",
            " extracting: train/images/image_167_jpg.rf.b98cb01c7a57d880eba13d4e54d371de.jpg  \n",
            " extracting: train/images/image_168_jpg.rf.a8fc92204d02e6fa06b48a82dcd4e815.jpg  \n",
            " extracting: train/images/image_169_jpg.rf.7e3a6ecfeb98ee615d2fda38696493eb.jpg  \n",
            " extracting: train/images/image_16_jpg.rf.22a726f9893d31f0c8d610a5824ebf62.jpg  \n",
            " extracting: train/images/image_16_jpg.rf.e300b122a7b7938ab93a475179da0373.jpg  \n",
            " extracting: train/images/image_170_jpg.rf.f3905161db593b28197725e00b7254f3.jpg  \n",
            " extracting: train/images/image_171_jpg.rf.07068febe40edbacd2b172ad8798eb16.jpg  \n",
            " extracting: train/images/image_171_jpg.rf.d08d5747da77e5f80022ed12a68e0b6c.jpg  \n",
            " extracting: train/images/image_172_jpg.rf.d3fb90781ed254c4768ec7f58c106f2f.jpg  \n",
            " extracting: train/images/image_174_jpg.rf.29724ed5aeb28aa92e0e7ca72a1b94dc.jpg  \n",
            " extracting: train/images/image_174_jpg.rf.3b2723668b0e777d92df1d1f8f354dd0.jpg  \n",
            " extracting: train/images/image_175_jpg.rf.09cd3e2edf72de9150de7109e882fc99.jpg  \n",
            " extracting: train/images/image_176_jpg.rf.525eb9adf9bc82f0319c1a5931cf2c9c.jpg  \n",
            " extracting: train/images/image_176_jpg.rf.974f6e11caca34dd13b085a5bddec65d.jpg  \n",
            " extracting: train/images/image_178_jpg.rf.64d10b35bf6adf60abaa00d2de6615d7.jpg  \n",
            " extracting: train/images/image_178_jpg.rf.b501e0fbbdb68a7e8d4107341a5ecfff.jpg  \n",
            " extracting: train/images/image_179_jpg.rf.9746eb6d04bd4670a928e6ae163c6258.jpg  \n",
            " extracting: train/images/image_17_jpg.rf.1d82f6ce9759c08801410d4fb462d67f.jpg  \n",
            " extracting: train/images/image_180_jpg.rf.7cb9db27fedbab350d8b8d5f87f8af8b.jpg  \n",
            " extracting: train/images/image_181_jpg.rf.5a93c01df5d475a9afc5e8d981ef985c.jpg  \n",
            " extracting: train/images/image_182_jpg.rf.7f87d6b2ecba83f144d0b1c5ba06d037.jpg  \n",
            " extracting: train/images/image_183_jpg.rf.6bcd498c1639fa7bb85524fa8d177b05.jpg  \n",
            " extracting: train/images/image_184_jpg.rf.1432c5eb0e7df5e627ecd24144116a64.jpg  \n",
            " extracting: train/images/image_184_jpg.rf.58f6b6a2c3bd62aadceac6ea7ab92285.jpg  \n",
            " extracting: train/images/image_185_jpg.rf.16576a62eed0bafb3d45c3e4a85c7e94.jpg  \n",
            " extracting: train/images/image_186_jpg.rf.f7d816a74596d3cca315acce08365ef6.jpg  \n",
            " extracting: train/images/image_189_jpg.rf.0f0e87858a039d9bd8dfdc73fda18ace.jpg  \n",
            " extracting: train/images/image_189_jpg.rf.c17d06add2bc27610b6e1bf32fad23e2.jpg  \n",
            " extracting: train/images/image_18_jpg.rf.0866c620a56c6ac6ba510ac2dbb3e64b.jpg  \n",
            " extracting: train/images/image_18_jpg.rf.f60c0e74bfa60ce0805648337b69e3cc.jpg  \n",
            " extracting: train/images/image_190_jpg.rf.06c301bb76dd502f0aa210924736daad.jpg  \n",
            " extracting: train/images/image_191_jpg.rf.82ea33e3d478ec6bee40e5df91968c0c.jpg  \n",
            " extracting: train/images/image_191_jpg.rf.f7777ba2587f9ad1242f1203e5e19d19.jpg  \n",
            " extracting: train/images/image_192_jpg.rf.9be175b23a32e3934bcb2eae833d5fc5.jpg  \n",
            " extracting: train/images/image_192_jpg.rf.c05c41b5e8cb004f8fa2a1da3a67b525.jpg  \n",
            " extracting: train/images/image_194_jpg.rf.ff694ff8a611b29eca4295ed12512a12.jpg  \n",
            " extracting: train/images/image_195_jpg.rf.ce225e4af49308eeb58a00809dcc5cb8.jpg  \n",
            " extracting: train/images/image_196_jpg.rf.26fbbdc480b198d4d8a609d0f8b87aa0.jpg  \n",
            " extracting: train/images/image_196_jpg.rf.56039069781071b96b5327d0d3b99a93.jpg  \n",
            " extracting: train/images/image_197_jpg.rf.da4a7e27af84960059b7d3b3dc580061.jpg  \n",
            " extracting: train/images/image_197_jpg.rf.e8e9a56c4acdef6966a4aca49d244953.jpg  \n",
            " extracting: train/images/image_198_jpg.rf.111ba40d742eaa592244aac9bd5cc3d8.jpg  \n",
            " extracting: train/images/image_198_jpg.rf.67ead372198341bcafb580873c6dedbb.jpg  \n",
            " extracting: train/images/image_199_jpg.rf.e82e3c509207feeb9c5c31d84db7140e.jpg  \n",
            " extracting: train/images/image_19_jpg.rf.a19f238742432a7b8539c0ca7c0d6676.jpg  \n",
            " extracting: train/images/image_1_jpg.rf.f93ed5b3736ce2391e11e67cc29245b8.jpg  \n",
            " extracting: train/images/image_200_jpg.rf.7f29b18e8d52364588ebf64cf2bf419f.jpg  \n",
            " extracting: train/images/image_201_jpg.rf.6d1814986077e3c38c4e01daf973f0e7.jpg  \n",
            " extracting: train/images/image_201_jpg.rf.e0a0e0a0a31034c5bf4c04471e29f2d2.jpg  \n",
            " extracting: train/images/image_202_jpg.rf.72b963432e48de56c2582ded2e981492.jpg  \n",
            " extracting: train/images/image_202_jpg.rf.eff9827249352f6ba74dcf07dab73c6f.jpg  \n",
            " extracting: train/images/image_203_jpg.rf.3b2e7ba55bead2b53dd3bf84ea1c8c04.jpg  \n",
            " extracting: train/images/image_203_jpg.rf.cc180f2712370edc3808f5690398b9f7.jpg  \n",
            " extracting: train/images/image_204_jpg.rf.3fbe9a9132b0cf76b981e48eb4f3bed5.jpg  \n",
            " extracting: train/images/image_205_jpg.rf.ad71cd069243e71aeb6eb81d930a23c7.jpg  \n",
            " extracting: train/images/image_206_jpg.rf.3892e804a953772400f9eb7c6c68483f.jpg  \n",
            " extracting: train/images/image_206_jpg.rf.8d30c8f341acc8760f4d22e3648de6fb.jpg  \n",
            " extracting: train/images/image_207_jpg.rf.9388b4e5a8bbc8f677d6064a2c054175.jpg  \n",
            " extracting: train/images/image_209_jpg.rf.a2e01a32b6384093ec982f68a2accd17.jpg  \n",
            " extracting: train/images/image_20_jpg.rf.969dd689f695d6b8ce918ff8596b93c6.jpg  \n",
            " extracting: train/images/image_210_jpg.rf.0f92027d7577b314aea902fd2d388608.jpg  \n",
            " extracting: train/images/image_211_jpg.rf.f3d6beeecd58472899fce5eafc77e339.jpg  \n",
            " extracting: train/images/image_212_jpg.rf.1ea199dc249dc71a802c50458495a6ca.jpg  \n",
            " extracting: train/images/image_212_jpg.rf.89b2005401b4ba0c31ba2dc8d299ea77.jpg  \n",
            " extracting: train/images/image_213_jpg.rf.ba258c0be2fc48a7c8ebe31b72b2bde0.jpg  \n",
            " extracting: train/images/image_214_jpg.rf.b60ddddaac1e1af148994816385d3bc7.jpg  \n",
            " extracting: train/images/image_216_jpg.rf.2a21da5894ac47ef3a962b83e4506d4a.jpg  \n",
            " extracting: train/images/image_216_jpg.rf.95bc86c8638ecbcc2308be2bc943ee3a.jpg  \n",
            " extracting: train/images/image_217_jpg.rf.0cb34b8c01ff67d960f357eff97bbe42.jpg  \n",
            " extracting: train/images/image_219_jpg.rf.9dcebde8629718a758f5653cf06b67b3.jpg  \n",
            " extracting: train/images/image_21_jpg.rf.b1162366540b1b50a413d59b5e40f95c.jpg  \n",
            " extracting: train/images/image_220_jpg.rf.d50c5de1d6fd0f8b5fba662bf61ce9e0.jpg  \n",
            " extracting: train/images/image_222_jpg.rf.1ff37040f909ebfc32783281467a8da0.jpg  \n",
            " extracting: train/images/image_222_jpg.rf.e0a71fd6e701eb98498594e119900732.jpg  \n",
            " extracting: train/images/image_223_jpg.rf.1069cea05b28f949b23e433635653160.jpg  \n",
            " extracting: train/images/image_224_jpg.rf.4d7ec843aa2b9acbc194e2fb8db58bbf.jpg  \n",
            " extracting: train/images/image_224_jpg.rf.630546b7714c81bf6c7ceffcec643ab8.jpg  \n",
            " extracting: train/images/image_225_jpg.rf.5e9980f798d9c81a393302661922b509.jpg  \n",
            " extracting: train/images/image_227_jpg.rf.17eb361cccf989b4510df150dab30e01.jpg  \n",
            " extracting: train/images/image_227_jpg.rf.61398359473a8c0ce55cef4445053935.jpg  \n",
            " extracting: train/images/image_228_jpg.rf.74ac968952249797723f236891f176e8.jpg  \n",
            " extracting: train/images/image_228_jpg.rf.bed68c06679a1fa02a8ac33bc87df6fa.jpg  \n",
            " extracting: train/images/image_229_jpg.rf.a2c41ae6a7ad94c6af4c7689ea64ef86.jpg  \n",
            " extracting: train/images/image_229_jpg.rf.b39813bba49fa6d016761ea2db2379b6.jpg  \n",
            " extracting: train/images/image_231_jpg.rf.96428baff0eff1b6c892ca059540372c.jpg  \n",
            " extracting: train/images/image_233_jpg.rf.36a1855c4ccb227c2bb0ecbd6dd1bbfd.jpg  \n",
            " extracting: train/images/image_234_jpg.rf.0c651b2c9d271a2d0b542dbe9a60369b.jpg  \n",
            " extracting: train/images/image_235_jpg.rf.032c6e01f51e982513e04b916c52ed22.jpg  \n",
            " extracting: train/images/image_236_jpg.rf.05ff927a4e7e2aab2c7edf3d129d5368.jpg  \n",
            " extracting: train/images/image_237_jpg.rf.5829a067b23f46768012d83fb8329b5a.jpg  \n",
            " extracting: train/images/image_238_jpg.rf.2396f45c559f76d228fdcc091067f947.jpg  \n",
            " extracting: train/images/image_239_jpg.rf.d2e7d92f275cf7fab019f0772b8267c9.jpg  \n",
            " extracting: train/images/image_23_jpg.rf.f234610a11daca7e20ed0916d5c89b68.jpg  \n",
            " extracting: train/images/image_240_jpg.rf.4463494a33d728576c89691022f08476.jpg  \n",
            " extracting: train/images/image_240_jpg.rf.7dd311e8c5bb70d84962f3cfa263ae64.jpg  \n",
            " extracting: train/images/image_242_jpg.rf.92341c074c3476e12cfc7f0bbaecb3bc.jpg  \n",
            " extracting: train/images/image_242_jpg.rf.e355d1ec36139486e543d8c9fe918a52.jpg  \n",
            " extracting: train/images/image_243_jpg.rf.7bd80ca4c5bf0e3fa29342334e545e93.jpg  \n",
            " extracting: train/images/image_244_jpg.rf.c0ccb7338476509b6c0242f633900dc7.jpg  \n",
            " extracting: train/images/image_246_jpg.rf.532984071fa24a3fbfd9f2964f5291e0.jpg  \n",
            " extracting: train/images/image_246_jpg.rf.dd985c64599e69d9d9b1b076ce304947.jpg  \n",
            " extracting: train/images/image_247_jpg.rf.098e5eb15e959a7fbfa5e0e9bbfb60ec.jpg  \n",
            " extracting: train/images/image_247_jpg.rf.95ce1104eeabe7a8bbdc3443a8145653.jpg  \n",
            " extracting: train/images/image_248_jpg.rf.72254d44cee2e5439aa97e5ad1d2b76d.jpg  \n",
            " extracting: train/images/image_248_jpg.rf.86de9b935376f4fb00e0352deeb7dabb.jpg  \n",
            " extracting: train/images/image_249_jpg.rf.f2923df7d14db539007de520039bfd66.jpg  \n",
            " extracting: train/images/image_250_jpg.rf.6b1cbff377dcda7b9ad058a9aefa3bc1.jpg  \n",
            " extracting: train/images/image_250_jpg.rf.c3213af0a6dc7ffc10142c25a062e5dd.jpg  \n",
            " extracting: train/images/image_251_jpg.rf.044e3038df8e7c6022219262409d599b.jpg  \n",
            " extracting: train/images/image_251_jpg.rf.2055f764fefaff54d4efcc05772707fb.jpg  \n",
            " extracting: train/images/image_253_jpg.rf.d4979ae95ca9174942c8817e16064412.jpg  \n",
            " extracting: train/images/image_254_jpg.rf.c246e0e38173ee8385eae668026f1388.jpg  \n",
            " extracting: train/images/image_255_jpg.rf.63afc3ac336def72eb903595c0a74db5.jpg  \n",
            " extracting: train/images/image_256_jpg.rf.30db0a8d54eac9734a6511a7ff149f26.jpg  \n",
            " extracting: train/images/image_257_jpg.rf.5b4a28dfb2849de086b04de343fe40f4.jpg  \n",
            " extracting: train/images/image_258_jpg.rf.ea9782a405491190766441cd6879e210.jpg  \n",
            " extracting: train/images/image_25_jpg.rf.60ad187a0d127dc843afcba1314b43cc.jpg  \n",
            " extracting: train/images/image_25_jpg.rf.d7975539a1f52684faf54012f9379547.jpg  \n",
            " extracting: train/images/image_260_jpg.rf.68b8142075b66ac75b017479fe882182.jpg  \n",
            " extracting: train/images/image_261_jpg.rf.a57aa08f6c3acb0e8b1c028d4d7df931.jpg  \n",
            " extracting: train/images/image_261_jpg.rf.dac2849e1345e57b2695d7f6f22b3b79.jpg  \n",
            " extracting: train/images/image_262_jpg.rf.85e3e87dc88a8b1defaf4eb3a9fe5b77.jpg  \n",
            " extracting: train/images/image_262_jpg.rf.b18b4e590441159d978b5af26ddef03f.jpg  \n",
            " extracting: train/images/image_263_jpg.rf.f76c5925b7128527e5821603ddfd3259.jpg  \n",
            " extracting: train/images/image_264_jpg.rf.2297cef249833d4fa97ac7edb40e8645.jpg  \n",
            " extracting: train/images/image_264_jpg.rf.4c6c830d3190877b231cb443a83f3c7a.jpg  \n",
            " extracting: train/images/image_265_jpg.rf.90d49488a6970afddadd930fdd95bbda.jpg  \n",
            " extracting: train/images/image_265_jpg.rf.bb93654fa344c4c722f3e110dc175b85.jpg  \n",
            " extracting: train/images/image_266_jpg.rf.0dea6e23e94398f7974ef5a66eefde72.jpg  \n",
            " extracting: train/images/image_266_jpg.rf.d7ebd1ea12ec5ed229a07e6c32a0fa30.jpg  \n",
            " extracting: train/images/image_268_jpg.rf.9d188facbcbda61864b37d80effbd856.jpg  \n",
            " extracting: train/images/image_269_jpg.rf.a2b2933ea4e4f58e390891db936238b8.jpg  \n",
            " extracting: train/images/image_26_jpg.rf.3971f52fe5fab71d8b51b9d084ad3690.jpg  \n",
            " extracting: train/images/image_26_jpg.rf.41d1aa9d8b9f5b3c95465b0f724faa8c.jpg  \n",
            " extracting: train/images/image_270_jpg.rf.65677ec16693028b0c06f50a609115aa.jpg  \n",
            " extracting: train/images/image_272_jpg.rf.af4a25462501fdc28fc420094b747072.jpg  \n",
            " extracting: train/images/image_272_jpg.rf.d4126817ad9d87eb76cd0e5a0ffdd5a9.jpg  \n",
            " extracting: train/images/image_273_jpg.rf.cee2cf62bb3a4aa03947ed0a7058c06a.jpg  \n",
            " extracting: train/images/image_274_jpg.rf.74b3dc5bd24e92dcdaa4f4a03f983466.jpg  \n",
            " extracting: train/images/image_275_jpg.rf.c463883ce6514ad81b031d7a3e4f21f5.jpg  \n",
            " extracting: train/images/image_276_jpg.rf.d5a2bc06e67cc5ff02554d590aa9894f.jpg  \n",
            " extracting: train/images/image_277_jpg.rf.04c8c0065e8a77565b1a3190e38817fd.jpg  \n",
            " extracting: train/images/image_277_jpg.rf.5a9983b0c06fa9096a25a9d17a5b1b8e.jpg  \n",
            " extracting: train/images/image_278_jpg.rf.54c59cb2c2d252b617f9e785186b3a16.jpg  \n",
            " extracting: train/images/image_278_jpg.rf.b643be323fc98f8e4ec60a68f69a0289.jpg  \n",
            " extracting: train/images/image_279_jpg.rf.6187b4198e3d49352fbad590b81e7e25.jpg  \n",
            " extracting: train/images/image_279_jpg.rf.d916048660ba299211436025f92e0c23.jpg  \n",
            " extracting: train/images/image_27_jpg.rf.29e5c81e82e74d6c9b9f71e692490e19.jpg  \n",
            " extracting: train/images/image_27_jpg.rf.c6248b34c1f8c0efa39280d4518fd198.jpg  \n",
            " extracting: train/images/image_280_jpg.rf.fcc801e27c3fc2574bdfd1dd0236bb0c.jpg  \n",
            " extracting: train/images/image_281_jpg.rf.b6272049112f700f0c9e6cf0ccb9ca15.jpg  \n",
            " extracting: train/images/image_281_jpg.rf.e90cfa9f08d6e51554c5c793b82925c1.jpg  \n",
            " extracting: train/images/image_284_jpg.rf.24f153c7c0ab2c36a48ce1f2dab73c84.jpg  \n",
            " extracting: train/images/image_284_jpg.rf.4a912b38fb7e6892b68d3973c0b5b381.jpg  \n",
            " extracting: train/images/image_286_jpg.rf.196458b53297b2dc2a29d542734a2692.jpg  \n",
            " extracting: train/images/image_287_jpg.rf.7c0cf2469e833d9c5ec1016d9c21f5eb.jpg  \n",
            " extracting: train/images/image_288_jpg.rf.c3248cec91d77ab109c5e18176438a8a.jpg  \n",
            " extracting: train/images/image_289_jpg.rf.b040b33c25a2d35121a8009e831c82dc.jpg  \n",
            " extracting: train/images/image_289_jpg.rf.e82856d1de7d68d275aacb4f75779b20.jpg  \n",
            " extracting: train/images/image_28_jpg.rf.1b26f5481c67c6ff814abd29676250ef.jpg  \n",
            " extracting: train/images/image_28_jpg.rf.f886dadfb9c0b797161ccae33514e5e1.jpg  \n",
            " extracting: train/images/image_290_jpg.rf.3ede9be8435c65566483d077d8159aff.jpg  \n",
            " extracting: train/images/image_291_jpg.rf.6e4b20d6358dfee5f160a1c1bfca5ad9.jpg  \n",
            " extracting: train/images/image_291_jpg.rf.e8053b192765b64de4b76d0a9bb50037.jpg  \n",
            " extracting: train/images/image_292_jpg.rf.7df814d998850187d72141410b7873f1.jpg  \n",
            " extracting: train/images/image_293_jpg.rf.421bdb6a250309c926e24f1cb8f35e56.jpg  \n",
            " extracting: train/images/image_295_jpg.rf.86e125206f9c85353e00a0788339a39d.jpg  \n",
            " extracting: train/images/image_296_jpg.rf.356c85aacc16fc90289338fb68a9f2bd.jpg  \n",
            " extracting: train/images/image_297_jpg.rf.63537ddb4882a03a07b122a77f14b0ae.jpg  \n",
            " extracting: train/images/image_297_jpg.rf.b58d263ab278ec07f0457977778a9f3f.jpg  \n",
            " extracting: train/images/image_298_jpg.rf.a42f7a5999367365088e4a328b153a67.jpg  \n",
            " extracting: train/images/image_299_jpg.rf.85a375d158f646d88348f4fc430f2608.jpg  \n",
            " extracting: train/images/image_29_jpg.rf.b29c799a6d93a39bbad406275630fc19.jpg  \n",
            " extracting: train/images/image_2_jpg.rf.698efb7cea745efeecba33ad8c87f789.jpg  \n",
            " extracting: train/images/image_2_jpg.rf.a7afe7a78ac2030968d243d3da7e75b6.jpg  \n",
            " extracting: train/images/image_300_jpg.rf.4241ccd1e5c185c236a75a9516acbaa5.jpg  \n",
            " extracting: train/images/image_300_jpg.rf.6b9ab53ac5f89b8c0dbee9e4d151a300.jpg  \n",
            " extracting: train/images/image_301_jpg.rf.962df41f39a06f1ff00cebb223fa01ef.jpg  \n",
            " extracting: train/images/image_301_jpg.rf.d08528efef3420534ca409a723e8565e.jpg  \n",
            " extracting: train/images/image_302_jpg.rf.68da4eb8e74cb53ef6579e1f279c9143.jpg  \n",
            " extracting: train/images/image_304_jpg.rf.14749a65e0f87c8b81c58526b0727161.jpg  \n",
            " extracting: train/images/image_304_jpg.rf.e0bdb002a3e5881c2911fdb7b2ae403d.jpg  \n",
            " extracting: train/images/image_305_jpg.rf.b38cf6ba93ff691a1988b5301771e885.jpg  \n",
            " extracting: train/images/image_306_jpg.rf.ca7b270f51e5ee542924fec93460ddce.jpg  \n",
            " extracting: train/images/image_308_jpg.rf.7f02d792257f4db3b51e007b08af59a2.jpg  \n",
            " extracting: train/images/image_309_jpg.rf.76765047bbf312a23d3fd0ca321eb8cd.jpg  \n",
            " extracting: train/images/image_309_jpg.rf.dabccfe2f2c000d3b6fef7a09dbf6ba9.jpg  \n",
            " extracting: train/images/image_30_jpg.rf.c08a419e86c8a32baffa96efca1dc1a4.jpg  \n",
            " extracting: train/images/image_311_jpg.rf.8d8917ed10ee041607f2988505f059ca.jpg  \n",
            " extracting: train/images/image_312_jpg.rf.41b0859a2c24370a8fa3fbe531ea71c8.jpg  \n",
            " extracting: train/images/image_313_jpg.rf.0fbafac479f409bff87e4a24395a7f9b.jpg  \n",
            " extracting: train/images/image_313_jpg.rf.2e02c6c8a343194f2300a40129303495.jpg  \n",
            " extracting: train/images/image_314_jpg.rf.aaff2fe048c001a59e9a97207a386bca.jpg  \n",
            " extracting: train/images/image_314_jpg.rf.b2f1744b4e2db3801e91c11a0308ac5d.jpg  \n",
            " extracting: train/images/image_315_jpg.rf.c21d58014d419b79f28d030807f12dbd.jpg  \n",
            " extracting: train/images/image_315_jpg.rf.cd06ac188ab0054af0de65cc499b1176.jpg  \n",
            " extracting: train/images/image_316_jpg.rf.3a0cacbd89367df44913ce5342b7d869.jpg  \n",
            " extracting: train/images/image_316_jpg.rf.b83fe3033a1b58bc2b232587bffcf731.jpg  \n",
            " extracting: train/images/image_317_jpg.rf.b60709ecfaf03cac25dc902c73bcbfcd.jpg  \n",
            " extracting: train/images/image_318_jpg.rf.67103df5e5569f85283916fbae4885fa.jpg  \n",
            " extracting: train/images/image_318_jpg.rf.c24c445cb9bc38049f6fa87b4fa85354.jpg  \n",
            " extracting: train/images/image_319_jpg.rf.49018e6302da7324c00f53b763e66d9c.jpg  \n",
            " extracting: train/images/image_319_jpg.rf.4bbc3947a89d545015c46f8c68745db8.jpg  \n",
            " extracting: train/images/image_31_jpg.rf.415199ecd91cb9b37de4227fef6ec3c3.jpg  \n",
            " extracting: train/images/image_31_jpg.rf.9bc31a205f0d69129eb2ff54d44d80a0.jpg  \n",
            " extracting: train/images/image_321_jpg.rf.244e22c0949e85937efa14d9d4700b67.jpg  \n",
            " extracting: train/images/image_323_jpg.rf.262626f0efa424e2e445de241d9ab0b2.jpg  \n",
            " extracting: train/images/image_323_jpg.rf.b78209f1eceb60112e2b02871208c08a.jpg  \n",
            " extracting: train/images/image_324_jpg.rf.2f41df632e4518d9f6455a3c016683d6.jpg  \n",
            " extracting: train/images/image_325_jpg.rf.347fcefa0d3382ef5367ff27ac35b39e.jpg  \n",
            " extracting: train/images/image_326_jpg.rf.df81dc82f4bb54397ce6a97d0ba4e18e.jpg  \n",
            " extracting: train/images/image_327_jpg.rf.b1959cbfe042488c79e90289dd108b16.jpg  \n",
            " extracting: train/images/image_328_jpg.rf.1eafa048a9acf3757d6b2c645ae1af03.jpg  \n",
            " extracting: train/images/image_328_jpg.rf.603f4a89d01ac311f9d696bc1ac25986.jpg  \n",
            " extracting: train/images/image_329_jpg.rf.002c682e6246049dcee132f466917c59.jpg  \n",
            " extracting: train/images/image_329_jpg.rf.620361b58ef3c40be11cfb9e36c4954d.jpg  \n",
            " extracting: train/images/image_32_jpg.rf.25e2855d0869bd1fcc45ce999ad372d5.jpg  \n",
            " extracting: train/images/image_32_jpg.rf.c3ae19ac51238401f9471efd674ad271.jpg  \n",
            " extracting: train/images/image_330_jpg.rf.6729df4f27ee734d994705bc5ce18ae7.jpg  \n",
            " extracting: train/images/image_332_jpg.rf.80d23ebd98c6c97af301a5d3979babf5.jpg  \n",
            " extracting: train/images/image_334_jpg.rf.bf0c95e31d3f704d6bc1d9551f873ddc.jpg  \n",
            " extracting: train/images/image_335_jpg.rf.22f8f297db519fa09e1eb57964d54439.jpg  \n",
            " extracting: train/images/image_336_jpg.rf.334273f16fa574fd4e7cd70c68d3198a.jpg  \n",
            " extracting: train/images/image_336_jpg.rf.82c78566ae6ebfc0bc29f373a30fc577.jpg  \n",
            " extracting: train/images/image_337_jpg.rf.f25a0f4bf0fc71d2b2fde8f85e5051eb.jpg  \n",
            " extracting: train/images/image_338_jpg.rf.74f479d453ad0b65bbe3e9ff2c0f0e72.jpg  \n",
            " extracting: train/images/image_339_jpg.rf.b9c811644641509566581c5643994422.jpg  \n",
            " extracting: train/images/image_33_jpg.rf.122008911f224ee4242c46e9b217913d.jpg  \n",
            " extracting: train/images/image_33_jpg.rf.a0135812a776297b8248351d7d066aaf.jpg  \n",
            " extracting: train/images/image_340_jpg.rf.08f3e8fcef358c19b9a777d60236a4eb.jpg  \n",
            " extracting: train/images/image_341_jpg.rf.bedcf14e092d8f08183dc22b310c05bf.jpg  \n",
            " extracting: train/images/image_341_jpg.rf.de28ab22e9261d3cf87e29d10b6536d8.jpg  \n",
            " extracting: train/images/image_342_jpg.rf.b39b283d2619d92c89566b1175d42050.jpg  \n",
            " extracting: train/images/image_343_jpg.rf.8dba5346439cc5bee85805fdbf5b45c4.jpg  \n",
            " extracting: train/images/image_344_jpg.rf.057adc56c60a473864e6976694961e40.jpg  \n",
            " extracting: train/images/image_344_jpg.rf.edb6a6687f702b3232578d8c270a8790.jpg  \n",
            " extracting: train/images/image_345_jpg.rf.ff4982c557f95bdb22cfbdc87bbc20fb.jpg  \n",
            " extracting: train/images/image_346_jpg.rf.9de5e73f262c1a9b7ca3beb643781165.jpg  \n",
            " extracting: train/images/image_348_jpg.rf.260d638436667fa979ddebd78ebcd159.jpg  \n",
            " extracting: train/images/image_348_jpg.rf.e423ee77cc9f76e11e7229ec71084b98.jpg  \n",
            " extracting: train/images/image_349_jpg.rf.80b88efd5311763a81c23d6962bd4d4b.jpg  \n",
            " extracting: train/images/image_34_jpg.rf.4e3c45c2953155930de81c7779e0a870.jpg  \n",
            " extracting: train/images/image_34_jpg.rf.fad5cec6e6319270cac9afea030ef81b.jpg  \n",
            " extracting: train/images/image_351_jpg.rf.765dab217f9ca2b03b3b22c8a9673016.jpg  \n",
            " extracting: train/images/image_351_jpg.rf.a56424e25a1e9952d8121bd5223b4336.jpg  \n",
            " extracting: train/images/image_352_jpg.rf.80e151b3f3872c717b499dfc0cceca8c.jpg  \n",
            " extracting: train/images/image_352_jpg.rf.b7d46390f1dd6380e6683bde2d33ef12.jpg  \n",
            " extracting: train/images/image_353_jpg.rf.5d66953505033b5b2bc42e2c7a4d4560.jpg  \n",
            " extracting: train/images/image_354_jpg.rf.97d789bd6e3eb53f49d7f3c605bc426d.jpg  \n",
            " extracting: train/images/image_355_jpg.rf.3d51532676df37f2e604004d4695bf7e.jpg  \n",
            " extracting: train/images/image_356_jpg.rf.3f52a43e2e7363e93dcb8f0838ed7920.jpg  \n",
            " extracting: train/images/image_357_jpg.rf.b30c3500fb6b6836ff947fbbdf51e0f3.jpg  \n",
            " extracting: train/images/image_358_jpg.rf.9eefbbd90cca0d6e3ca065f8c40ac44d.jpg  \n",
            " extracting: train/images/image_358_jpg.rf.de6d3d86d89ad087a4561bffe1f6fa70.jpg  \n",
            " extracting: train/images/image_359_jpg.rf.74a3b59852118b66e91ffdac754bc0a4.jpg  \n",
            " extracting: train/images/image_35_jpg.rf.6ee23a965db1dd646e909fa60dd90a50.jpg  \n",
            " extracting: train/images/image_360_jpg.rf.1fe3ed24b9fab445b0ffe6574a132b85.jpg  \n",
            " extracting: train/images/image_360_jpg.rf.65c0d79d6e77bc48256ec1340cc6002f.jpg  \n",
            " extracting: train/images/image_362_jpg.rf.67f21f1a8d7a31a33b5659fe45a3630d.jpg  \n",
            " extracting: train/images/image_362_jpg.rf.738cf38e4222fda9ac5ee9a29a3e0d78.jpg  \n",
            " extracting: train/images/image_363_jpg.rf.6f5260edd4eb5fe5f9af80e42c87875c.jpg  \n",
            " extracting: train/images/image_364_jpg.rf.2c7ae354f2332bbb541b01b576bf65f4.jpg  \n",
            " extracting: train/images/image_365_jpg.rf.7043f79e2197f0dc2650c8f2ac55ff06.jpg  \n",
            " extracting: train/images/image_366_jpg.rf.bc8f06171d074c5c28a3f77160c74c94.jpg  \n",
            " extracting: train/images/image_368_jpg.rf.36df327aa3bb14f44cbd831c70a4dea8.jpg  \n",
            " extracting: train/images/image_369_jpg.rf.6d1d6835be9c24dbbf47d761aceb6f44.jpg  \n",
            " extracting: train/images/image_369_jpg.rf.d43b8746e397efd230e01d6192e68d97.jpg  \n",
            " extracting: train/images/image_36_jpg.rf.4d714799115525ec4698c5552302e90a.jpg  \n",
            " extracting: train/images/image_370_jpg.rf.1ddbf3844ebbba2db20464944d779f8d.jpg  \n",
            " extracting: train/images/image_370_jpg.rf.ac059f582662406a4b4dd63c7f0b31b6.jpg  \n",
            " extracting: train/images/image_371_jpg.rf.b882fef92f498f5927536e66a82d54b1.jpg  \n",
            " extracting: train/images/image_372_jpg.rf.f5b26279a25c1d6690d4abf7efa7b067.jpg  \n",
            " extracting: train/images/image_373_jpg.rf.62040169259aa245a3d02e167d14a892.jpg  \n",
            " extracting: train/images/image_373_jpg.rf.fe66182079bcaed564ec6e8d47633263.jpg  \n",
            " extracting: train/images/image_376_jpg.rf.71d9b60f51a1c974b6c41f03b8c39486.jpg  \n",
            " extracting: train/images/image_377_jpg.rf.709c7669c7667a2b22a3c5e89581fa1d.jpg  \n",
            " extracting: train/images/image_377_jpg.rf.82965cc07d93536ad9f5be6c2380d327.jpg  \n",
            " extracting: train/images/image_378_jpg.rf.6ddd444bd4669878b26c768625a9e294.jpg  \n",
            " extracting: train/images/image_378_jpg.rf.c074233ca267de99d63d7d2313bd5220.jpg  \n",
            " extracting: train/images/image_379_jpg.rf.04fd45d6bb50603dec361c18e7ec30dc.jpg  \n",
            " extracting: train/images/image_379_jpg.rf.a72543103bde1c2e600e5e34fb2fda8e.jpg  \n",
            " extracting: train/images/image_37_jpg.rf.cfaea6bb94463dbd55b31f699f1b7bd1.jpg  \n",
            " extracting: train/images/image_380_jpg.rf.48de4b4f7ea4becb02436705754361dc.jpg  \n",
            " extracting: train/images/image_382_jpg.rf.4178d618f499f0c4bdf85ccaa816c7f1.jpg  \n",
            " extracting: train/images/image_383_jpg.rf.330117604a7cd0bf1714bb792c249fe4.jpg  \n",
            " extracting: train/images/image_384_jpg.rf.345d1a53984da503f45f35ab86ba824d.jpg  \n",
            " extracting: train/images/image_384_jpg.rf.ab89b1974b0000c96c34fb23a9655e66.jpg  \n",
            " extracting: train/images/image_385_jpg.rf.d4b070706ae3f4daea155b93c88b864a.jpg  \n",
            " extracting: train/images/image_386_jpg.rf.028376aed7cfd1394d5150865222ab6a.jpg  \n",
            " extracting: train/images/image_386_jpg.rf.65682e6a115f6902bec8cd4a5103d359.jpg  \n",
            " extracting: train/images/image_387_jpg.rf.3e2a0fab570dcc3af6da70aae1a74958.jpg  \n",
            " extracting: train/images/image_388_jpg.rf.aed7c781f2d5ad2d27c27450ae7ea363.jpg  \n",
            " extracting: train/images/image_388_jpg.rf.ef85388872aea2da58cbc5565d24d1bb.jpg  \n",
            " extracting: train/images/image_389_jpg.rf.0dee2276bdeb99e3f9f93366a4057635.jpg  \n",
            " extracting: train/images/image_389_jpg.rf.d48934f20e652b772e15a2d152db6494.jpg  \n",
            " extracting: train/images/image_38_jpg.rf.ee23b18ca360a4ca6906866551dc23cd.jpg  \n",
            " extracting: train/images/image_390_jpg.rf.0c0a19d7868b15c0fbd66bc4b4ec4417.jpg  \n",
            " extracting: train/images/image_390_jpg.rf.331a6e799f56ffc173a6e0f6e21e8e62.jpg  \n",
            " extracting: train/images/image_391_jpg.rf.28e3fab14dbd2b840a7fe55512f8c5ca.jpg  \n",
            " extracting: train/images/image_391_jpg.rf.5f65d32b34adef1660141277b521104f.jpg  \n",
            " extracting: train/images/image_392_jpg.rf.5325e24971d02f7a5962db0ff2cc2675.jpg  \n",
            " extracting: train/images/image_393_jpg.rf.482882561a8685daedef963ba600f087.jpg  \n",
            " extracting: train/images/image_393_jpg.rf.6ddf737ad87a2e1c34f3964a157f4042.jpg  \n",
            " extracting: train/images/image_394_jpg.rf.4883e2d6cc5aa4bb50b7b2afc1820fbd.jpg  \n",
            " extracting: train/images/image_394_jpg.rf.5638ddb6e1db7ba39ee1be892464e2b1.jpg  \n",
            " extracting: train/images/image_395_jpg.rf.6c9ece7be7b08b7da271d52115cbc268.jpg  \n",
            " extracting: train/images/image_395_jpg.rf.ed0668d9711530762bddd654ed6ba910.jpg  \n",
            " extracting: train/images/image_396_jpg.rf.01565eeab7fbeb7fe02335ce714d31fb.jpg  \n",
            " extracting: train/images/image_396_jpg.rf.40302bf99e5bb58d2f017434df3bcb9b.jpg  \n",
            " extracting: train/images/image_397_jpg.rf.7941f56a79d74d23f9ac4ca4fe2d45e1.jpg  \n",
            " extracting: train/images/image_398_jpg.rf.ee8bd95ec57f1e7dbd9a969b7041f1de.jpg  \n",
            " extracting: train/images/image_3_jpg.rf.7efbf96cbdf16f95a02886f0a2b6696e.jpg  \n",
            " extracting: train/images/image_400_jpg.rf.62cc99dad5482b031a20b210aabe61d0.jpg  \n",
            " extracting: train/images/image_400_jpg.rf.ee2827876081a863a15bf98636072639.jpg  \n",
            " extracting: train/images/image_401_jpg.rf.a88d8e18fdbf3c794c3e3356b68db286.jpg  \n",
            " extracting: train/images/image_401_jpg.rf.bf72bbc20207788fa1406120f1101cba.jpg  \n",
            " extracting: train/images/image_403_jpg.rf.8a9733d947b5e7f58bff78f109f145cd.jpg  \n",
            " extracting: train/images/image_403_jpg.rf.cd9a726c4bb6cf02f6f2363b572a2e6a.jpg  \n",
            " extracting: train/images/image_404_jpg.rf.01681487c94ead1382842f4a72edec0a.jpg  \n",
            " extracting: train/images/image_405_jpg.rf.7059308ff2ed5a13ca8ca48179e0cc9a.jpg  \n",
            " extracting: train/images/image_405_jpg.rf.8bd9ac33796c6efe78d22be5035c2bde.jpg  \n",
            " extracting: train/images/image_406_jpg.rf.891f095c3714812a12017070db995604.jpg  \n",
            " extracting: train/images/image_407_jpg.rf.0c92465c127e3469597b6bcbb3a763a4.jpg  \n",
            " extracting: train/images/image_408_jpg.rf.6904f3420bc1a4895858e002db4c59cd.jpg  \n",
            " extracting: train/images/image_408_jpg.rf.c0a7a287451af23b89a0d5242272efb4.jpg  \n",
            " extracting: train/images/image_40_jpg.rf.77fa7acde0f80814488fb151903b7f99.jpg  \n",
            " extracting: train/images/image_410_jpg.rf.1b324f4949394e63294bf8368f283ae5.jpg  \n",
            " extracting: train/images/image_411_jpg.rf.4215642c610d9118ab09de62eade8faa.jpg  \n",
            " extracting: train/images/image_411_jpg.rf.72a3aabd370343c935d4170fda8816f1.jpg  \n",
            " extracting: train/images/image_412_jpg.rf.6b855f91b30ae6f85e9377d9e80161f4.jpg  \n",
            " extracting: train/images/image_412_jpg.rf.e5e6a86aaebf37e64e78e6bded333761.jpg  \n",
            " extracting: train/images/image_413_jpg.rf.445db6561e0e1b294c0cf918b2e6290c.jpg  \n",
            " extracting: train/images/image_414_jpg.rf.a0694c341e76bdfc3f073ca892c848f8.jpg  \n",
            " extracting: train/images/image_414_jpg.rf.b677d4d60d964523f7d564498a0ece90.jpg  \n",
            " extracting: train/images/image_416_jpg.rf.36e571bce25ece3a7cae9218dc05e134.jpg  \n",
            " extracting: train/images/image_417_jpg.rf.6292c2cbf7d6abbd68c52e16707adf5e.jpg  \n",
            " extracting: train/images/image_418_jpg.rf.7f98fd21b18f3f2918a4325cd678871b.jpg  \n",
            " extracting: train/images/image_419_jpg.rf.4923804ce6f4a3f42576788747152c3b.jpg  \n",
            " extracting: train/images/image_419_jpg.rf.e0f7893908c2604ef73444ffde47dca4.jpg  \n",
            " extracting: train/images/image_420_jpg.rf.55272b66a437ac8ebbbd0a25f548f57f.jpg  \n",
            " extracting: train/images/image_422_jpg.rf.87f175d6780638c0d9ebf8009f6c8141.jpg  \n",
            " extracting: train/images/image_422_jpg.rf.970d879f80f337fb3379ef3eed039bfb.jpg  \n",
            " extracting: train/images/image_424_jpg.rf.25dde2d154e3bab70380b2be99fed3bc.jpg  \n",
            " extracting: train/images/image_424_jpg.rf.de204bd5c924df594b2d9499fc2fc689.jpg  \n",
            " extracting: train/images/image_425_jpg.rf.5cbea7141d722a2aa4645aee091575d1.jpg  \n",
            " extracting: train/images/image_426_jpg.rf.a44c80823657919627822a85f725c507.jpg  \n",
            " extracting: train/images/image_426_jpg.rf.d9b2bb650d8eaeb09e1550859adc800c.jpg  \n",
            " extracting: train/images/image_427_jpg.rf.bb13f995ed8ec8585951d20a57997cee.jpg  \n",
            " extracting: train/images/image_427_jpg.rf.f97a1c2d43907206fb953c62bb973958.jpg  \n",
            " extracting: train/images/image_428_jpg.rf.c7f1f62a98dbd0dcb817f9ccbe785a33.jpg  \n",
            " extracting: train/images/image_429_jpg.rf.8a54e165903438eca810f7267ee58928.jpg  \n",
            " extracting: train/images/image_42_jpg.rf.18cb2ca176cd96389df695501d9e7335.jpg  \n",
            " extracting: train/images/image_431_jpg.rf.75705c4cfdedecfc99459d23e9dbd3a3.jpg  \n",
            " extracting: train/images/image_431_jpg.rf.a965babdfb476988ab59bb9122e0928c.jpg  \n",
            " extracting: train/images/image_432_jpg.rf.13f095441674fc8312e3991be58f3299.jpg  \n",
            " extracting: train/images/image_432_jpg.rf.6adc8f09c653d09c0cd39c300560d5bb.jpg  \n",
            " extracting: train/images/image_433_jpg.rf.21c0a52fbf0c6318ad05132860482e16.jpg  \n",
            " extracting: train/images/image_433_jpg.rf.b72f88e068db0489189164b8fef319ac.jpg  \n",
            " extracting: train/images/image_436_jpg.rf.05e956f1fa2f4293dcc55ea72217b776.jpg  \n",
            " extracting: train/images/image_436_jpg.rf.a46cfe6e259f910ba8833b5538a65303.jpg  \n",
            " extracting: train/images/image_437_jpg.rf.f332dc9237552de4bb793983de0d7565.jpg  \n",
            " extracting: train/images/image_438_jpg.rf.73dec2fb674b83642462988598b89b77.jpg  \n",
            " extracting: train/images/image_439_jpg.rf.1ba0bb87553455a3272f31c38eab18cf.jpg  \n",
            " extracting: train/images/image_439_jpg.rf.cce5dc47cab9c67b250e18197481cd57.jpg  \n",
            " extracting: train/images/image_441_jpg.rf.0ca69f260b1a3e32ef8cff44b3f70408.jpg  \n",
            " extracting: train/images/image_441_jpg.rf.9f3348717230a9fa6f59c5049ced6dd4.jpg  \n",
            " extracting: train/images/image_442_jpg.rf.82ea4dbc8b4e5c9e50d306caf322c5cd.jpg  \n",
            " extracting: train/images/image_443_jpg.rf.854e49d41ca8cbc99c3d8091f0b7090a.jpg  \n",
            " extracting: train/images/image_444_jpg.rf.5ee2f8666623fca1d055aab2caaec71b.jpg  \n",
            " extracting: train/images/image_445_jpg.rf.2ee97cb6ace6b8da67dbbee2282f6f2e.jpg  \n",
            " extracting: train/images/image_446_jpg.rf.0339e91d94913be034dbcdc21fea5838.jpg  \n",
            " extracting: train/images/image_446_jpg.rf.72ec65c04c28155e5deffedfc7a3544e.jpg  \n",
            " extracting: train/images/image_447_jpg.rf.ccd98e6bffb23274bfc9ff33265c7968.jpg  \n",
            " extracting: train/images/image_448_jpg.rf.cc257c034e377f19fa7038bca178c172.jpg  \n",
            " extracting: train/images/image_44_jpg.rf.05b33ffc4fdab17252c2ee6dea32e315.jpg  \n",
            " extracting: train/images/image_44_jpg.rf.806d3f430927eee3b96cd972fe544f7e.jpg  \n",
            " extracting: train/images/image_450_jpg.rf.76c9f31864c1f1856cb22f15e35d0bdb.jpg  \n",
            " extracting: train/images/image_451_jpg.rf.0179fbfebed7a8a216932e88e10b9336.jpg  \n",
            " extracting: train/images/image_451_jpg.rf.680b06652146e02ea9293e72b1aedf2a.jpg  \n",
            " extracting: train/images/image_452_jpg.rf.2a57dc3a545a48d2b84a6479111993bb.jpg  \n",
            " extracting: train/images/image_454_jpg.rf.aae8f0874e9adf1d113a3911b2d2a2a9.jpg  \n",
            " extracting: train/images/image_455_jpg.rf.243bf805ffcad84f43c879018a1a4a82.jpg  \n",
            " extracting: train/images/image_456_jpg.rf.347ca06a377b23c95b1f54138c7e15f2.jpg  \n",
            " extracting: train/images/image_457_jpg.rf.3cd0f4d09b0f286c9c846e3df6e1dea8.jpg  \n",
            " extracting: train/images/image_458_jpg.rf.54f9712e904c8c935ea0991cc26f3c4e.jpg  \n",
            " extracting: train/images/image_458_jpg.rf.5f32dd1ff6de1d1dce5a0afca2bf5fcf.jpg  \n",
            " extracting: train/images/image_459_jpg.rf.ada20ef56097d41fc5812c176371c652.jpg  \n",
            " extracting: train/images/image_45_jpg.rf.9ad6bf39dd7e594056e1fb6863899914.jpg  \n",
            " extracting: train/images/image_45_jpg.rf.a76947139a16e9f1a1eb586e5868376f.jpg  \n",
            " extracting: train/images/image_460_jpg.rf.95a94d6042780854291682f75bd48007.jpg  \n",
            " extracting: train/images/image_462_jpg.rf.96126fbd17d38c6cd3a84577f4415bf7.jpg  \n",
            " extracting: train/images/image_462_jpg.rf.9b6e5df87d755cafd0470494e118ebfe.jpg  \n",
            " extracting: train/images/image_463_jpg.rf.bb36ce35eaf8d46af717112ed555ea8d.jpg  \n",
            " extracting: train/images/image_464_jpg.rf.6d714233befb051abff2ed401fcd69e8.jpg  \n",
            " extracting: train/images/image_465_jpg.rf.0788dd156e3c5890d98f50459c01791c.jpg  \n",
            " extracting: train/images/image_466_jpg.rf.42a8bc1f26a72faa8a7935798aa2c3cf.jpg  \n",
            " extracting: train/images/image_466_jpg.rf.8e0a3189aeeb1fcbbb848f3564a5ac96.jpg  \n",
            " extracting: train/images/image_467_jpg.rf.e75a658c389c7bcebb60503bec54e36d.jpg  \n",
            " extracting: train/images/image_467_jpg.rf.fe345a73bb46205c35d44c5d4f6d5ab9.jpg  \n",
            " extracting: train/images/image_468_jpg.rf.d36cfdb06a6fec84e56462f6f2967e83.jpg  \n",
            " extracting: train/images/image_469_jpg.rf.1332bcb311f86abc5cb5d1084d327980.jpg  \n",
            " extracting: train/images/image_470_jpg.rf.65734df7acfa5531e07e97163f2f1352.jpg  \n",
            " extracting: train/images/image_472_jpg.rf.59ad34f38d91b12caa2d895ae5823203.jpg  \n",
            " extracting: train/images/image_472_jpg.rf.9542b2900fbf93326ead6dc75fc5efaa.jpg  \n",
            " extracting: train/images/image_473_jpg.rf.02167284604c13d04d873dbc3505d048.jpg  \n",
            " extracting: train/images/image_474_jpg.rf.aa96a44c762ce69c1dcb348e331494c7.jpg  \n",
            " extracting: train/images/image_475_jpg.rf.fe532ea2bf982004a1f10511b27e054d.jpg  \n",
            " extracting: train/images/image_476_jpg.rf.efd28ec756a6e5d0dc3a4b9d12f20158.jpg  \n",
            " extracting: train/images/image_477_jpg.rf.eb0a7a9cceb4733df3cd58e65609a394.jpg  \n",
            " extracting: train/images/image_478_jpg.rf.8a54716fb69713dd594108dcce08a729.jpg  \n",
            " extracting: train/images/image_478_jpg.rf.b21c35e7316fa6d292d79c0760de00e7.jpg  \n",
            " extracting: train/images/image_479_jpg.rf.a670d4c5a316a50c11fb3e4214aafe9e.jpg  \n",
            " extracting: train/images/image_47_jpg.rf.b47b2eefbac9c07ca651d87a3b139978.jpg  \n",
            " extracting: train/images/image_480_jpg.rf.222c471ed49c71eca60352a0868b2469.jpg  \n",
            " extracting: train/images/image_480_jpg.rf.b5d59b89354f87e6817f040029a860f2.jpg  \n",
            " extracting: train/images/image_481_jpg.rf.b185b406e6e17cc058c9d0928194c0cf.jpg  \n",
            " extracting: train/images/image_481_jpg.rf.d76d771c7e09b885607b5e7735027ee3.jpg  \n",
            " extracting: train/images/image_483_jpg.rf.2f77360d0537da20cac10dcb5e56f2f6.jpg  \n",
            " extracting: train/images/image_484_jpg.rf.1ff4723d9b56048e70520081d7266263.jpg  \n",
            " extracting: train/images/image_485_jpg.rf.af2ccb72c683e957b9f85d48066a5986.jpg  \n",
            " extracting: train/images/image_486_jpg.rf.0a6053060dfe615046481bb9159c31b9.jpg  \n",
            " extracting: train/images/image_487_jpg.rf.b9a5c1ac0a429ef3427fac7d6e2b1777.jpg  \n",
            " extracting: train/images/image_488_jpg.rf.76e693f52ecb5c7c6b7eb9083d97d73f.jpg  \n",
            " extracting: train/images/image_488_jpg.rf.7bbeef327bd69962eb3b8f167eaf8252.jpg  \n",
            " extracting: train/images/image_489_jpg.rf.3fc2e61ee594c2aa1a51781e44f7df58.jpg  \n",
            " extracting: train/images/image_48_jpg.rf.a05b85bc1cc1881a0d12ef08b9aa8762.jpg  \n",
            " extracting: train/images/image_490_jpg.rf.eb155e58ae7ffee6550e46d6fcc185e3.jpg  \n",
            " extracting: train/images/image_491_jpg.rf.239cc4f4e9c8431c88586659fe72d56e.jpg  \n",
            " extracting: train/images/image_492_jpg.rf.3d4054447770943fece3ea5c5737abd1.jpg  \n",
            " extracting: train/images/image_492_jpg.rf.837476146cc958f5d771ab293543200c.jpg  \n",
            " extracting: train/images/image_493_jpg.rf.d6e7235098580416060d14ebdf9d0d89.jpg  \n",
            " extracting: train/images/image_493_jpg.rf.e5427b8a04d413c3dcd57381d83d134b.jpg  \n",
            " extracting: train/images/image_494_jpg.rf.ce4e2cbd2ac9f8a427bd5504c2c1cfdb.jpg  \n",
            " extracting: train/images/image_495_jpg.rf.b6aac49fd9f57c487a1e79092cf41c07.jpg  \n",
            " extracting: train/images/image_495_jpg.rf.c4dc2b381db6615b25f1327e0d27e871.jpg  \n",
            " extracting: train/images/image_496_jpg.rf.33512cc199dfb3a3de0bc8a3cf263dd3.jpg  \n",
            " extracting: train/images/image_497_jpg.rf.66bac464b10b76228f14c05f332cf275.jpg  \n",
            " extracting: train/images/image_498_jpg.rf.fbe4b559b3b67cb87f72876f13427efe.jpg  \n",
            " extracting: train/images/image_499_jpg.rf.c7d19a163c6370d4566d4b32d44bc270.jpg  \n",
            " extracting: train/images/image_49_jpg.rf.44dde904eb4188efa77f6014fa6f2853.jpg  \n",
            " extracting: train/images/image_4_jpg.rf.74816d0bdba22c5e6d690b16fc931162.jpg  \n",
            " extracting: train/images/image_4_jpg.rf.8aa6c1397845762852986f91fa482496.jpg  \n",
            " extracting: train/images/image_501_jpg.rf.0c9242dfff1cba9f35b8052687a6a25a.jpg  \n",
            " extracting: train/images/image_501_jpg.rf.6d1f86dd9ebc111f6c25384e01f9ff9c.jpg  \n",
            " extracting: train/images/image_502_jpg.rf.00dff2a7c1ad4c4d15c134c989d3c6dd.jpg  \n",
            " extracting: train/images/image_503_jpg.rf.e21b8248d78065183a5edae2379297af.jpg  \n",
            " extracting: train/images/image_504_jpg.rf.6609b528b367a9f4bd9ad8b8b6d82fe1.jpg  \n",
            " extracting: train/images/image_505_jpg.rf.f394495648d57e37f741bcedfea85bb4.jpg  \n",
            " extracting: train/images/image_506_jpg.rf.7b6c4813a794a63174bb246637917407.jpg  \n",
            " extracting: train/images/image_506_jpg.rf.b3a911d0e0b4b8ffd3c9c5c7590224a3.jpg  \n",
            " extracting: train/images/image_507_jpg.rf.1d5264e558e626e1ba7c28ec848e09df.jpg  \n",
            " extracting: train/images/image_507_jpg.rf.d23b87097e5eb7d8cdd6454721eeb625.jpg  \n",
            " extracting: train/images/image_508_jpg.rf.1782d3570cd6db68ba855c619543fb8f.jpg  \n",
            " extracting: train/images/image_508_jpg.rf.ddc2503d4691e5e220645f0b7e09f139.jpg  \n",
            " extracting: train/images/image_509_jpg.rf.ad94b98416ec5ec962a06b3a6e483c01.jpg  \n",
            " extracting: train/images/image_50_jpg.rf.742de0de6136b96332c53bf11ff7c769.jpg  \n",
            " extracting: train/images/image_50_jpg.rf.c9e77ebadb6ee99607240a7deb53c31d.jpg  \n",
            " extracting: train/images/image_510_jpg.rf.45e97acfef83ef6d14ca10d81e15be6a.jpg  \n",
            " extracting: train/images/image_510_jpg.rf.981ab25d5ab44782075640639fc1aef3.jpg  \n",
            " extracting: train/images/image_511_jpg.rf.3920b21afc8ef55c402ce8c3eef0a4db.jpg  \n",
            " extracting: train/images/image_511_jpg.rf.5adc0b649f25652b50f7c6afe09a0ee2.jpg  \n",
            " extracting: train/images/image_512_jpg.rf.a0e7f8dd8fe21b2df43b51014da0c69f.jpg  \n",
            " extracting: train/images/image_514_jpg.rf.ebaf8b57f8e995ebd88601256c75234c.jpg  \n",
            " extracting: train/images/image_515_jpg.rf.8581e6237783ae279baf6478618a3189.jpg  \n",
            " extracting: train/images/image_515_jpg.rf.8b4ace3a808da70d12807f500e637a31.jpg  \n",
            " extracting: train/images/image_516_jpg.rf.3b30b1c81962ba5669c1d643bd0f79fc.jpg  \n",
            " extracting: train/images/image_516_jpg.rf.457fc3fadf7c493bfb4c0da7009aaf3e.jpg  \n",
            " extracting: train/images/image_517_jpg.rf.4431104afe6619f257c9f272410355c0.jpg  \n",
            " extracting: train/images/image_518_jpg.rf.2abded0db65da9fe9f20daa4bf213537.jpg  \n",
            " extracting: train/images/image_519_jpg.rf.39c0d186aba4391ddc8da36724e5ceb5.jpg  \n",
            " extracting: train/images/image_519_jpg.rf.d671e5f7ad5d1225cddc16e28efaa555.jpg  \n",
            " extracting: train/images/image_51_jpg.rf.5940613ce28c7f00ceacf08c13b49823.jpg  \n",
            " extracting: train/images/image_51_jpg.rf.9c835b5f2261cf9df40e8939a5ec32f8.jpg  \n",
            " extracting: train/images/image_520_jpg.rf.95895ebfba7d7f2c7843959eed95699d.jpg  \n",
            " extracting: train/images/image_520_jpg.rf.b90ce946c62c60d675a3e4430e9e481b.jpg  \n",
            " extracting: train/images/image_521_jpg.rf.5cd0c260b915deabed99a35fd203ded2.jpg  \n",
            " extracting: train/images/image_521_jpg.rf.bd06aa962f16d7de0c6ffeb21bd8c4ff.jpg  \n",
            " extracting: train/images/image_522_jpg.rf.919842a1c8d199e24efc475b985fdbae.jpg  \n",
            " extracting: train/images/image_523_jpg.rf.8323d4e3ec73a5db953f0ca29389907e.jpg  \n",
            " extracting: train/images/image_524_jpg.rf.c2c31cc952b8add72d7aedb3b4993607.jpg  \n",
            " extracting: train/images/image_525_jpg.rf.7dc50924499e0d55c6fc1a1bebfd1052.jpg  \n",
            " extracting: train/images/image_525_jpg.rf.a85be8dec946e7572bb705bfc313c9f8.jpg  \n",
            " extracting: train/images/image_526_jpg.rf.06df234e1c971ae688661a54138aaef4.jpg  \n",
            " extracting: train/images/image_527_jpg.rf.a4c64abe193f69f7e1f6539a7311d76a.jpg  \n",
            " extracting: train/images/image_527_jpg.rf.f36fa0ae2a5ef6b2aaa99979a979e349.jpg  \n",
            " extracting: train/images/image_528_jpg.rf.67e0c654107609dbbaf3a25bd6c9e92c.jpg  \n",
            " extracting: train/images/image_529_jpg.rf.c7b42e098fdef69be36a3b22bb7b4f57.jpg  \n",
            " extracting: train/images/image_529_jpg.rf.ea520c754c32db3ed0a1b64e824608e8.jpg  \n",
            " extracting: train/images/image_52_jpg.rf.bc9799128c0647194d2513ac2a602de1.jpg  \n",
            " extracting: train/images/image_52_jpg.rf.d210dcbed9c22c98ba72f259e8322b9d.jpg  \n",
            " extracting: train/images/image_530_jpg.rf.714cc60342926b347457eeb7a38f310a.jpg  \n",
            " extracting: train/images/image_530_jpg.rf.7aa50f4296bd2db446f2744debe1c7e7.jpg  \n",
            " extracting: train/images/image_531_jpg.rf.e1b90b1dfea19570e65c023302ee8990.jpg  \n",
            " extracting: train/images/image_532_jpg.rf.3119932332a6ae84e6fa9ad5f5ad8d43.jpg  \n",
            " extracting: train/images/image_533_jpg.rf.6de0286f5e6d49e43b0c334cabeb7115.jpg  \n",
            " extracting: train/images/image_534_jpg.rf.58f024c89df6fcee48d2811009752e5a.jpg  \n",
            " extracting: train/images/image_534_jpg.rf.be631d982a072c9c721bebf44052f5dc.jpg  \n",
            " extracting: train/images/image_535_jpg.rf.2696b496ea20fbe26382f69436080eed.jpg  \n",
            " extracting: train/images/image_535_jpg.rf.f37180ae28b29bc0da59bb3d17a37e0c.jpg  \n",
            " extracting: train/images/image_536_jpg.rf.8f4e180fff66872e41bf193c1b176d99.jpg  \n",
            " extracting: train/images/image_537_jpg.rf.932ef5d74234d238fc8a84873caa4b02.jpg  \n",
            " extracting: train/images/image_537_jpg.rf.a4a001b9fb1f623eb3a27e596ba21696.jpg  \n",
            " extracting: train/images/image_538_jpg.rf.0c1fa8e4d1db275ce68f13f6bb990524.jpg  \n",
            " extracting: train/images/image_539_jpg.rf.bd44277a7429c57d06a7281bdfdb5761.jpg  \n",
            " extracting: train/images/image_540_jpg.rf.836b5499965e96d05013fd8bd3477e71.jpg  \n",
            " extracting: train/images/image_540_jpg.rf.f721a6082b5a20062d666c2e20f4de02.jpg  \n",
            " extracting: train/images/image_542_jpg.rf.369a3589cbc513b127a1ce53aa64e3fd.jpg  \n",
            " extracting: train/images/image_543_jpg.rf.d2ab678ecb878d8161046da629942644.jpg  \n",
            " extracting: train/images/image_543_jpg.rf.dc862c3a017a4dfd0de9c2b53adbe4aa.jpg  \n",
            " extracting: train/images/image_544_jpg.rf.8dbb5116dcf8f6c63a29b9a23453a42c.jpg  \n",
            " extracting: train/images/image_545_jpg.rf.96ec0242dca83bfdad486e354846cec7.jpg  \n",
            " extracting: train/images/image_547_jpg.rf.02bebdea6916b88d4d3d32a472d01b36.jpg  \n",
            " extracting: train/images/image_547_jpg.rf.6190158faf4364bffc79638363d4fdf6.jpg  \n",
            " extracting: train/images/image_548_jpg.rf.7829e8f89d06826d142b038a2b23c000.jpg  \n",
            " extracting: train/images/image_549_jpg.rf.8be469aff4967c57ca4941efd75d6353.jpg  \n",
            " extracting: train/images/image_54_jpg.rf.27282590839538bda5044d56f7bc4b6c.jpg  \n",
            " extracting: train/images/image_550_jpg.rf.2500fbccae06909cd0dccb1ae985f816.jpg  \n",
            " extracting: train/images/image_550_jpg.rf.7ef2050bb823e0339194253f690e2e3c.jpg  \n",
            " extracting: train/images/image_551_jpg.rf.0a42509ab7f1030aee1d835b53961b35.jpg  \n",
            " extracting: train/images/image_551_jpg.rf.6c3cef5cf1090a52f192733d483544dd.jpg  \n",
            " extracting: train/images/image_552_jpg.rf.7126523c7dbf30322120ea2c9dbaaa1c.jpg  \n",
            " extracting: train/images/image_552_jpg.rf.e05bbe6b99fb7c6ed450a5863696aea7.jpg  \n",
            " extracting: train/images/image_553_jpg.rf.7e2d216b0ad2a353e62fb8ce0e038e18.jpg  \n",
            " extracting: train/images/image_553_jpg.rf.8ff5b3d467481db4c34c83e6f9b35d25.jpg  \n",
            " extracting: train/images/image_554_jpg.rf.7f23f3fae3854c066486418baebbdb10.jpg  \n",
            " extracting: train/images/image_554_jpg.rf.c7dad833bfadfa8f96a1d93f41260b83.jpg  \n",
            " extracting: train/images/image_555_jpg.rf.102ca805355b47dc3c56f3eacefa522b.jpg  \n",
            " extracting: train/images/image_555_jpg.rf.50ebd1750ed68e2598f652ce6cf072f1.jpg  \n",
            " extracting: train/images/image_557_jpg.rf.5542fd61456d496f53f62c4152189785.jpg  \n",
            " extracting: train/images/image_558_jpg.rf.565303835421f0491f12e04e08cb202d.jpg  \n",
            " extracting: train/images/image_559_jpg.rf.05eb17bad0945c442c39bd9ab7253465.jpg  \n",
            " extracting: train/images/image_559_jpg.rf.42fc0eff062a157096ca5af7fbbe3d7c.jpg  \n",
            " extracting: train/images/image_55_jpg.rf.d9f8496257377ec1c3b09fb9204f2db3.jpg  \n",
            " extracting: train/images/image_561_jpg.rf.512e37ed035244a6d21c4221959cd79d.jpg  \n",
            " extracting: train/images/image_563_jpg.rf.71b1344260b02de4bfd174ec753d864c.jpg  \n",
            " extracting: train/images/image_564_jpg.rf.58b3734c7672d6109aeab99c0023f09b.jpg  \n",
            " extracting: train/images/image_564_jpg.rf.a7045c9a47784063d3be1f34bd7586be.jpg  \n",
            " extracting: train/images/image_566_jpg.rf.90a8df15cf46cacb72635727bbbe0a85.jpg  \n",
            " extracting: train/images/image_567_jpg.rf.3cd9a888127a544056fad8104c5ae330.jpg  \n",
            " extracting: train/images/image_567_jpg.rf.7abafbd810715d44ecb293f148d70f74.jpg  \n",
            " extracting: train/images/image_569_jpg.rf.221c23e3b42f4ad2d0360370812b3c88.jpg  \n",
            " extracting: train/images/image_56_jpg.rf.7b3bb5e4e9d7ce0b33eff1afb8ee4071.jpg  \n",
            " extracting: train/images/image_56_jpg.rf.fd9d0b3c493341747b20bccebad93603.jpg  \n",
            " extracting: train/images/image_570_jpg.rf.7117bd08b32aa894b435352c09144dd9.jpg  \n",
            " extracting: train/images/image_570_jpg.rf.f14f005c05f314f76aa942e74dcea6e5.jpg  \n",
            " extracting: train/images/image_573_jpg.rf.8e498a3387ff26fc621aa93d59991590.jpg  \n",
            " extracting: train/images/image_575_jpg.rf.4d1770a95592f6f48bb4889bcc164679.jpg  \n",
            " extracting: train/images/image_575_jpg.rf.9dcb1d530d1483b17303fc468e8ea198.jpg  \n",
            " extracting: train/images/image_576_jpg.rf.384e127a2eec92c522d06d8ad76ab7cf.jpg  \n",
            " extracting: train/images/image_576_jpg.rf.a4fbc3646368029753418cb560c7c8fd.jpg  \n",
            " extracting: train/images/image_577_jpg.rf.8b8c98f613bd2c761a125ac1f5f9c627.jpg  \n",
            " extracting: train/images/image_578_jpg.rf.64f9ac976405b0a3d54915a257d0120f.jpg  \n",
            " extracting: train/images/image_579_jpg.rf.37bd1fe09550d53784802afefed90418.jpg  \n",
            " extracting: train/images/image_57_jpg.rf.9ed72d730f3262ac8b1304795d00e9f8.jpg  \n",
            " extracting: train/images/image_580_jpg.rf.9f033de1c23ce52089d0f25179610e9a.jpg  \n",
            " extracting: train/images/image_580_jpg.rf.b862eb6b8e5445d6e56468097abee9e9.jpg  \n",
            " extracting: train/images/image_581_jpg.rf.025c827854e7569de2eb9b8cf71959d0.jpg  \n",
            " extracting: train/images/image_582_jpg.rf.1704826c257f6c0a2523714f44490526.jpg  \n",
            " extracting: train/images/image_582_jpg.rf.b36c07536a006bffc70c4f71cd1a9e3a.jpg  \n",
            " extracting: train/images/image_583_jpg.rf.15c580fcd43eb7abf81fa4a0d3310436.jpg  \n",
            " extracting: train/images/image_583_jpg.rf.98090e9b8211c4b71c3fbee3b298935e.jpg  \n",
            " extracting: train/images/image_584_jpg.rf.059813e6e001389af17a681251655542.jpg  \n",
            " extracting: train/images/image_584_jpg.rf.b0de222d1e080be4178710376300feeb.jpg  \n",
            " extracting: train/images/image_585_jpg.rf.2c75f09ba831e321ebffc6e9a1b7e1a0.jpg  \n",
            " extracting: train/images/image_585_jpg.rf.82a9160b5c3ac31c9992c339e74cd1e4.jpg  \n",
            " extracting: train/images/image_586_jpg.rf.94f6191983ac119a9e89bc7c2eb57007.jpg  \n",
            " extracting: train/images/image_586_jpg.rf.ec3c6c9a5679a55b10c0b39c4ffe0849.jpg  \n",
            " extracting: train/images/image_587_jpg.rf.3c5a4f8d435b54a7b02d00389e70a6ae.jpg  \n",
            " extracting: train/images/image_587_jpg.rf.7d6393c8c03bf1bb467290d8d0d5a62b.jpg  \n",
            " extracting: train/images/image_588_jpg.rf.528ae005955d4bff6e98b9eeec71d84e.jpg  \n",
            " extracting: train/images/image_589_jpg.rf.0c6818c8fd6cf2b3e6cc7b9fb26a0b95.jpg  \n",
            " extracting: train/images/image_589_jpg.rf.424b6ea04dbaefeef15d58912d868aaf.jpg  \n",
            " extracting: train/images/image_58_jpg.rf.9cd468315ed6f091a5fe95a9502b6f2e.jpg  \n",
            " extracting: train/images/image_591_jpg.rf.23bffe0cf0693bedcc40dbf096635d0e.jpg  \n",
            " extracting: train/images/image_591_jpg.rf.6ac1c7c3b8390f0ba86d547d1e2dac99.jpg  \n",
            " extracting: train/images/image_592_jpg.rf.2eef1e1e4f3299aab94a2fff1f87425b.jpg  \n",
            " extracting: train/images/image_593_jpg.rf.0551cb1a052cdc35e3be826c1d2d893c.jpg  \n",
            " extracting: train/images/image_593_jpg.rf.e865e11cf82ed1f21dbcfa475cf97a49.jpg  \n",
            " extracting: train/images/image_594_jpg.rf.1c1f4a08ddf1c45f98ff95d04ffc573a.jpg  \n",
            " extracting: train/images/image_594_jpg.rf.2ecbaf64e457dbeca921fe14ea8a57ac.jpg  \n",
            " extracting: train/images/image_595_jpg.rf.4ba3499b5506506c1dc7d12e88c5604b.jpg  \n",
            " extracting: train/images/image_596_jpg.rf.b51b71463e4d03bb0ab15da1709e569c.jpg  \n",
            " extracting: train/images/image_597_jpg.rf.712743d850d571f6111d07a2d48bce71.jpg  \n",
            " extracting: train/images/image_598_jpg.rf.2032c18f6de414e07b8eb6547e4104aa.jpg  \n",
            " extracting: train/images/image_598_jpg.rf.dd8fc3a5ce7f61ed4e01da1a2af8bfb6.jpg  \n",
            " extracting: train/images/image_599_jpg.rf.176ab0466a16e2a556f887edefe7a8f9.jpg  \n",
            " extracting: train/images/image_599_jpg.rf.d110aecb6bb77357846a16a11bfc2c99.jpg  \n",
            " extracting: train/images/image_5_jpg.rf.dae463f815011ecc896cccf90cc8c152.jpg  \n",
            " extracting: train/images/image_600_jpg.rf.34da27761ba6d05873670bcac115290a.jpg  \n",
            " extracting: train/images/image_600_jpg.rf.fb857b36e4925deb794c9583fb4f129f.jpg  \n",
            " extracting: train/images/image_601_jpg.rf.48fd2565e6c41a6d0914da64298bce73.jpg  \n",
            " extracting: train/images/image_601_jpg.rf.5d5579aeca956234bb60ce31a9a3c369.jpg  \n",
            " extracting: train/images/image_602_jpg.rf.5e67adc4654280a5fde27a7d717578d7.jpg  \n",
            " extracting: train/images/image_602_jpg.rf.9882432e540ebcdb09303efe1204ad0a.jpg  \n",
            " extracting: train/images/image_603_jpg.rf.47780dad77ead6105f8baf45e37b0189.jpg  \n",
            " extracting: train/images/image_604_jpg.rf.89c6ea177b45bf907b30db4cd23d6b8c.jpg  \n",
            " extracting: train/images/image_605_jpg.rf.7a19334fffd0d806809ed1b71dc5a41a.jpg  \n",
            " extracting: train/images/image_605_jpg.rf.fdad23f062fc31a9d2945dfd4b6909b8.jpg  \n",
            " extracting: train/images/image_606_jpg.rf.1806b6156c456cf7098dc71792e03355.jpg  \n",
            " extracting: train/images/image_606_jpg.rf.9a80a3c31e6e31687e832b42fdb76edc.jpg  \n",
            " extracting: train/images/image_607_jpg.rf.fd4451e1d0f1e9371ba809c5530da820.jpg  \n",
            " extracting: train/images/image_608_jpg.rf.415638af7f88b2535d6d2bde192adc6a.jpg  \n",
            " extracting: train/images/image_608_jpg.rf.65b4816701bc26564f9f13930ed435aa.jpg  \n",
            " extracting: train/images/image_609_jpg.rf.88636edb71768d5cb792f2fab12c7bea.jpg  \n",
            " extracting: train/images/image_60_jpg.rf.b583933ea257ff2005a2c6689f6d0668.jpg  \n",
            " extracting: train/images/image_610_jpg.rf.dd9982dfe57283482844ea9f50933dcf.jpg  \n",
            " extracting: train/images/image_611_jpg.rf.32830122c271d69d890ca9962f2ee8e8.jpg  \n",
            " extracting: train/images/image_613_jpg.rf.f49747e57b4b4f1b4eda49d9233d4852.jpg  \n",
            " extracting: train/images/image_614_jpg.rf.17356121e1d11e0b2d9e7a250b7dcb93.jpg  \n",
            " extracting: train/images/image_614_jpg.rf.c4f4358c1b812568e09068009d7f7abf.jpg  \n",
            " extracting: train/images/image_615_jpg.rf.493b1db19a9be2f1b9f6f1e6132c89b1.jpg  \n",
            " extracting: train/images/image_615_jpg.rf.bdcd9eef497c174e89c39fc33f7e3528.jpg  \n",
            " extracting: train/images/image_616_jpg.rf.ee209a61a84f952cd54368609e894503.jpg  \n",
            " extracting: train/images/image_617_jpg.rf.8c32f69b9b705f8da7aa45a4fcb25604.jpg  \n",
            " extracting: train/images/image_617_jpg.rf.d866cad04c46f4870a9dbf6ea8d306bc.jpg  \n",
            " extracting: train/images/image_618_jpg.rf.c0ac49ac615893032e4680bbb9d878ca.jpg  \n",
            " extracting: train/images/image_618_jpg.rf.fa64af05445c95e9cccf0600620860f5.jpg  \n",
            " extracting: train/images/image_61_jpg.rf.4fc92c1067a379cf5749351e474577bf.jpg  \n",
            " extracting: train/images/image_620_jpg.rf.22e8c2fa0e5dcbfb24574e744b8eccb8.jpg  \n",
            " extracting: train/images/image_621_jpg.rf.c1fe7b024ecd3cb2d1c71868bc96f452.jpg  \n",
            " extracting: train/images/image_622_jpg.rf.4fbad758f1188b23c1346ec36e2082be.jpg  \n",
            " extracting: train/images/image_623_jpg.rf.a9b261af907d0ee22204707afbc9dbb6.jpg  \n",
            " extracting: train/images/image_624_jpg.rf.24d46ae2fa97413bada7f3b94555dde9.jpg  \n",
            " extracting: train/images/image_626_jpg.rf.65aba8e1fb9843e9985b9fe2bd438e16.jpg  \n",
            " extracting: train/images/image_626_jpg.rf.e658900c108c347fcb3b7b7fa0b06ea4.jpg  \n",
            " extracting: train/images/image_627_jpg.rf.d75d0d14d72d0a67edc332e0a6b5507c.jpg  \n",
            " extracting: train/images/image_627_jpg.rf.eca0b99627b51f6761bff638c4434c0e.jpg  \n",
            " extracting: train/images/image_628_jpg.rf.5ab6d69e5921724e60f9f6c0214650a3.jpg  \n",
            " extracting: train/images/image_628_jpg.rf.c451055a5442305b83eb7a3129744cf5.jpg  \n",
            " extracting: train/images/image_629_jpg.rf.2a7ba4840846451d9b698284951efe6e.jpg  \n",
            " extracting: train/images/image_62_jpg.rf.5e2ee58f5c8171ca9f4e01f65c1e57e1.jpg  \n",
            " extracting: train/images/image_630_jpg.rf.2bcb3040a88bfa7b516c98cf8a08d9c4.jpg  \n",
            " extracting: train/images/image_632_jpg.rf.1e0e50d4761c68529b4b73de63755e51.jpg  \n",
            " extracting: train/images/image_632_jpg.rf.45b0feec5261332a13ad840cab7d63be.jpg  \n",
            " extracting: train/images/image_634_jpg.rf.82f85a0cf4332a08301202c3fceb1ab7.jpg  \n",
            " extracting: train/images/image_635_jpg.rf.b8556a6ea0e4ccdf7027faabd7953320.jpg  \n",
            " extracting: train/images/image_635_jpg.rf.c467091462c7f36500a3b57d93a933c9.jpg  \n",
            " extracting: train/images/image_637_jpg.rf.08c24dc6087c174656bff9db6d7c1ed9.jpg  \n",
            " extracting: train/images/image_637_jpg.rf.413cc7e6a649a576390717099f1d2b9f.jpg  \n",
            " extracting: train/images/image_638_jpg.rf.a94184e7463c4c46be254b3cd5cf71ee.jpg  \n",
            " extracting: train/images/image_639_jpg.rf.222742ebec08d8496f1763eaae93de65.jpg  \n",
            " extracting: train/images/image_639_jpg.rf.44a045088fb70492bb1ffef4b1a771c9.jpg  \n",
            " extracting: train/images/image_63_jpg.rf.5e7c177137449a915396d123cba3ae77.jpg  \n",
            " extracting: train/images/image_63_jpg.rf.f3f64d79e996bd19c45540960f895d90.jpg  \n",
            " extracting: train/images/image_640_jpg.rf.23c39ee5bcdc0bff40f2ddc6f794785c.jpg  \n",
            " extracting: train/images/image_640_jpg.rf.f8ea007fa2291c3a17754050af82511f.jpg  \n",
            " extracting: train/images/image_643_jpg.rf.75192b04a7f5a9db0dc1c97d8796fcc4.jpg  \n",
            " extracting: train/images/image_644_jpg.rf.2def87030f9f9d63723c60b4e38cb76c.jpg  \n",
            " extracting: train/images/image_646_jpg.rf.b1f5822d87fad877b791a30f17cdaeef.jpg  \n",
            " extracting: train/images/image_647_jpg.rf.c1d0aab51c6c2d5ce40e6459f9cd3319.jpg  \n",
            " extracting: train/images/image_648_jpg.rf.aeb9c5d120278cf8c790b707a28b815b.jpg  \n",
            " extracting: train/images/image_64_jpg.rf.b6ff56d366cd1506d34f07937707f16d.jpg  \n",
            " extracting: train/images/image_651_jpg.rf.16aae4e1945e30f4009dfac8b81d9dc6.jpg  \n",
            " extracting: train/images/image_651_jpg.rf.81efb82522be751990efa14492df12ed.jpg  \n",
            " extracting: train/images/image_652_jpg.rf.454277869fde2e3f668c1f756fd279b5.jpg  \n",
            " extracting: train/images/image_656_jpg.rf.41c3ebc78bdef5a2bf154f367c8d4c9c.jpg  \n",
            " extracting: train/images/image_656_jpg.rf.77455332d11d30c1398fd1b20a56a663.jpg  \n",
            " extracting: train/images/image_657_jpg.rf.4ead88977c4f131d36efdb950a88d3c5.jpg  \n",
            " extracting: train/images/image_658_jpg.rf.51fd9bec3a44c7c299b2e22695b05090.jpg  \n",
            " extracting: train/images/image_658_jpg.rf.ff3a47d7e5aaa86d2f06ff1a82b90c61.jpg  \n",
            " extracting: train/images/image_659_jpg.rf.269b98ba0f24351886a5899226b13485.jpg  \n",
            " extracting: train/images/image_659_jpg.rf.dc98158ccc9e1dac88c08680589e9475.jpg  \n",
            " extracting: train/images/image_65_jpg.rf.d0577a8b7a494daa42a93e680147a350.jpg  \n",
            " extracting: train/images/image_65_jpg.rf.eb3ccba46276993600d7032e2814ee2f.jpg  \n",
            " extracting: train/images/image_660_jpg.rf.12950dfffeade99ea6b3b4f12e6bf5f0.jpg  \n",
            " extracting: train/images/image_661_jpg.rf.312656e7221284307b32f1788fdb5bbe.jpg  \n",
            " extracting: train/images/image_661_jpg.rf.9dfb4653f1c48a928940f1c0ebe8b632.jpg  \n",
            " extracting: train/images/image_662_jpg.rf.13e16f52669de1f2d733d9d5525045a8.jpg  \n",
            " extracting: train/images/image_662_jpg.rf.7c08888ae6a2f19a171247483084fe59.jpg  \n",
            " extracting: train/images/image_663_jpg.rf.b082b88afbdf1fbf0fd7191d2144ad87.jpg  \n",
            " extracting: train/images/image_664_jpg.rf.a77d600f084f28c5697dfe517bcd8eeb.jpg  \n",
            " extracting: train/images/image_665_jpg.rf.289e138b18b71cb2614e31b494fecec2.jpg  \n",
            " extracting: train/images/image_666_jpg.rf.8450c44bce10820b2805d9df865efb8a.jpg  \n",
            " extracting: train/images/image_666_jpg.rf.8e31f2f9fdb2889d5e60b9305762ff51.jpg  \n",
            " extracting: train/images/image_667_jpg.rf.61cd41cc8f78dc70dcb5f07cd046936a.jpg  \n",
            " extracting: train/images/image_668_jpg.rf.bc08fa62abe542533da8aed6624716c2.jpg  \n",
            " extracting: train/images/image_669_jpg.rf.1783dce302142a90432eb635048f1803.jpg  \n",
            " extracting: train/images/image_669_jpg.rf.9b702cd5bfe0416c901252ab80ccc78a.jpg  \n",
            " extracting: train/images/image_66_jpg.rf.a3a48fbfde777ac63ef8a0c01252f4e1.jpg  \n",
            " extracting: train/images/image_671_jpg.rf.7d062a765319f72e48a102ed9d9fd4bf.jpg  \n",
            " extracting: train/images/image_672_jpg.rf.0f635691e95b68020379d024cd535b6b.jpg  \n",
            " extracting: train/images/image_672_jpg.rf.4a296366dc140ac812d1825cfe824790.jpg  \n",
            " extracting: train/images/image_674_jpg.rf.44c687464a3bf3b9b0fe41f49abaf0df.jpg  \n",
            " extracting: train/images/image_674_jpg.rf.87249926648d4ed1197a1d17e8d6bbdf.jpg  \n",
            " extracting: train/images/image_675_jpg.rf.14454aef036fd6e894c62e86c16a2a6d.jpg  \n",
            " extracting: train/images/image_675_jpg.rf.5c9d517b009ea9e21b484694bb7b636e.jpg  \n",
            " extracting: train/images/image_676_jpg.rf.1a26522215eb60b5d589ed58c13c93dd.jpg  \n",
            " extracting: train/images/image_676_jpg.rf.872262e0ffc01e3418444d8b1611f270.jpg  \n",
            " extracting: train/images/image_677_jpg.rf.03c0c7d086f7dc5eec0a789dc9c6b4c3.jpg  \n",
            " extracting: train/images/image_677_jpg.rf.e9543db1f522bbf60b7905939b5dc522.jpg  \n",
            " extracting: train/images/image_678_jpg.rf.bfcf6866af494677ae4cbd85115bba84.jpg  \n",
            " extracting: train/images/image_679_jpg.rf.41787083cad4d6d46e72c50acaf1b44d.jpg  \n",
            " extracting: train/images/image_67_jpg.rf.77378059de46b46dfc1e144b3a23d588.jpg  \n",
            " extracting: train/images/image_680_jpg.rf.1b9f8f123d51e352e5531520a837df08.jpg  \n",
            " extracting: train/images/image_680_jpg.rf.c09511078f679fe2281cde4547f3c239.jpg  \n",
            " extracting: train/images/image_681_jpg.rf.9f4cdbe7bbf3227df5e76fb7fe0a06e1.jpg  \n",
            " extracting: train/images/image_681_jpg.rf.b9717381542db972e56a8f06ec9f2d42.jpg  \n",
            " extracting: train/images/image_682_jpg.rf.b3b9dc3b1f211b8475ce3525d9a6c422.jpg  \n",
            " extracting: train/images/image_683_jpg.rf.185974777b9f550bfe4b5fec71a4444a.jpg  \n",
            " extracting: train/images/image_684_jpg.rf.737c36fc3fcd26f50d8e48145d27fae2.jpg  \n",
            " extracting: train/images/image_684_jpg.rf.795877cc4d156c11ca843d9a0beef8eb.jpg  \n",
            " extracting: train/images/image_685_jpg.rf.85325a17c84da619fd45d623570f52a4.jpg  \n",
            " extracting: train/images/image_686_jpg.rf.41e50ef65626f52df950b00137180d29.jpg  \n",
            " extracting: train/images/image_687_jpg.rf.b64856b6a2c642ab4aed885d5f441b6c.jpg  \n",
            " extracting: train/images/image_688_jpg.rf.3118710408d475636940a682bc2348c1.jpg  \n",
            " extracting: train/images/image_688_jpg.rf.e4a588800205b8554294e431a7c4754f.jpg  \n",
            " extracting: train/images/image_689_jpg.rf.d137c0e1bdfae030f32bacb06f8758b2.jpg  \n",
            " extracting: train/images/image_689_jpg.rf.f7171dd94f05a67acd48a4ca16ba0a75.jpg  \n",
            " extracting: train/images/image_68_jpg.rf.5d95098392709c057a251e06e256581b.jpg  \n",
            " extracting: train/images/image_68_jpg.rf.a6f97ef4e6d81e8c14ff81ccaa067285.jpg  \n",
            " extracting: train/images/image_690_jpg.rf.5b90cfbf6c13cbd2da6e48a0773b588b.jpg  \n",
            " extracting: train/images/image_690_jpg.rf.8af3aaa4a91623ba385395607558ee3b.jpg  \n",
            " extracting: train/images/image_691_jpg.rf.3cbf2d4367a4caaea6e30eb79b0ef04f.jpg  \n",
            " extracting: train/images/image_691_jpg.rf.68e79daf4423d100a2a80539f3dad2e7.jpg  \n",
            " extracting: train/images/image_692_jpg.rf.c67a6d61e28caf0aa9b1029495d48b5a.jpg  \n",
            " extracting: train/images/image_692_jpg.rf.ca6fb322ff737b415a6866efec808a1b.jpg  \n",
            " extracting: train/images/image_693_jpg.rf.098133cabe56a4992b63a4eace03755a.jpg  \n",
            " extracting: train/images/image_693_jpg.rf.6729fd2126273caab9a579b19165338c.jpg  \n",
            " extracting: train/images/image_694_jpg.rf.33c753e14c831dfadc45e6f7df7a2e4b.jpg  \n",
            " extracting: train/images/image_694_jpg.rf.a7405fdd766f5c4cd22f98045b645b34.jpg  \n",
            " extracting: train/images/image_6_jpg.rf.39c8963b188558a8861d02b7042aa1be.jpg  \n",
            " extracting: train/images/image_6_jpg.rf.d01bacd116921589acd4484c264fafd7.jpg  \n",
            " extracting: train/images/image_700_jpg.rf.6541ab2981264f9319314ec0c65d69fe.jpg  \n",
            " extracting: train/images/image_701_jpg.rf.bc92a026296a8499d25c26a09e0f5662.jpg  \n",
            " extracting: train/images/image_701_jpg.rf.f9136cd2790ced76201e11a4c0fd28f0.jpg  \n",
            " extracting: train/images/image_702_jpg.rf.37b724a6935ede8f1d7c80fd236f9fc2.jpg  \n",
            " extracting: train/images/image_703_jpg.rf.a9e1b9d14dd5d36a60c9f8a8d89bdacb.jpg  \n",
            " extracting: train/images/image_703_jpg.rf.b5fee70957a049bd8b4d7806e24bd4f2.jpg  \n",
            " extracting: train/images/image_705_jpg.rf.6f6d18d24edd30c8e64a67f64e23f891.jpg  \n",
            " extracting: train/images/image_705_jpg.rf.f65a029680d9809bba9d4a541a61421d.jpg  \n",
            " extracting: train/images/image_706_jpg.rf.f7d5bf19b94b2fef47c14c8597b167e9.jpg  \n",
            " extracting: train/images/image_707_jpg.rf.0dc625786dab5c42b9c5a15c301d3785.jpg  \n",
            " extracting: train/images/image_708_jpg.rf.1a188cb713122b6c94123fb8637c6512.jpg  \n",
            " extracting: train/images/image_708_jpg.rf.4e62233a596bbe73143ec293cc3e109c.jpg  \n",
            " extracting: train/images/image_709_jpg.rf.326e4a6d0d91c5940b163c9c9ac7ffe9.jpg  \n",
            " extracting: train/images/image_70_jpg.rf.fcb13672fbc687232e88b778ee0b34ac.jpg  \n",
            " extracting: train/images/image_711_jpg.rf.e253eca05db484474a7d64746d857810.jpg  \n",
            " extracting: train/images/image_712_jpg.rf.b2a17f0479f807aea8ea34990c888872.jpg  \n",
            " extracting: train/images/image_712_jpg.rf.ed86c813ed0d36c2a7a3d9d5159dd86e.jpg  \n",
            " extracting: train/images/image_714_jpg.rf.1136fae8e3ecfb35a901f3b602cecdce.jpg  \n",
            " extracting: train/images/image_714_jpg.rf.54ad108b38b0c21edbfe3c2cfc36dbef.jpg  \n",
            " extracting: train/images/image_715_jpg.rf.14be28b3994f1ac226d99c335f16c9e6.jpg  \n",
            " extracting: train/images/image_715_jpg.rf.3606a75ec400c2dbb2dafe53c816a5aa.jpg  \n",
            " extracting: train/images/image_716_jpg.rf.20a7586b5fe4413f7efdb244546a7207.jpg  \n",
            " extracting: train/images/image_717_jpg.rf.7013f3b625b78f203f7a95d5f96b15e5.jpg  \n",
            " extracting: train/images/image_718_jpg.rf.687533d55ccfd56a1a0ed50bbd2d470c.jpg  \n",
            " extracting: train/images/image_719_jpg.rf.28d13982937a03c88ebba4f35a7359d8.jpg  \n",
            " extracting: train/images/image_719_jpg.rf.363a52ad8f767727d5d59793a5d5716e.jpg  \n",
            " extracting: train/images/image_720_jpg.rf.c2a0efab528f63d455dac2941fbd2ec4.jpg  \n",
            " extracting: train/images/image_722_jpg.rf.0a9cf7fc008aaffb7fcf6235d8ab856c.jpg  \n",
            " extracting: train/images/image_722_jpg.rf.d5886e694efc91a8c0d13f9e50cf7e32.jpg  \n",
            " extracting: train/images/image_723_jpg.rf.a1d6e1dc773038a418fd62438f4af291.jpg  \n",
            " extracting: train/images/image_723_jpg.rf.e4715e71b199750b851df87ee4d1747c.jpg  \n",
            " extracting: train/images/image_725_jpg.rf.52dcf29a9f623d996a2b8ec3b72bb49f.jpg  \n",
            " extracting: train/images/image_725_jpg.rf.7c344750636c11de14c3dfd1399f8503.jpg  \n",
            " extracting: train/images/image_726_jpg.rf.662edc67424b0123a90ead468232e027.jpg  \n",
            " extracting: train/images/image_726_jpg.rf.e87ec03e10ff1da7cca39c967e58040a.jpg  \n",
            " extracting: train/images/image_727_jpg.rf.1ab3460f403256904d0d7683fce65e41.jpg  \n",
            " extracting: train/images/image_727_jpg.rf.4f087421f3487fd0f85dbf31f1291441.jpg  \n",
            " extracting: train/images/image_728_jpg.rf.8eefb018f4de0a583ec8b4392d94190d.jpg  \n",
            " extracting: train/images/image_729_jpg.rf.1f990c9b59aa909632423f452c5a0fbc.jpg  \n",
            " extracting: train/images/image_72_jpg.rf.5da7f37f0de933ad806049cef54c056a.jpg  \n",
            " extracting: train/images/image_730_jpg.rf.1ac47999406a2ac4551f8df258672283.jpg  \n",
            " extracting: train/images/image_730_jpg.rf.e8dee6e68eda94f02b5f68b1728975fc.jpg  \n",
            " extracting: train/images/image_731_jpg.rf.438f41ecd89e5dd2e03a4699b6b1c348.jpg  \n",
            " extracting: train/images/image_732_jpg.rf.791463a09138ae04061c3d8d44ef4e6d.jpg  \n",
            " extracting: train/images/image_732_jpg.rf.cc2545f7f828bb1f322f89a904302eed.jpg  \n",
            " extracting: train/images/image_733_jpg.rf.87555f87fee6247a43467a4e1f105dc5.jpg  \n",
            " extracting: train/images/image_734_jpg.rf.5036a06ccff17564f9cb4fd52186514d.jpg  \n",
            " extracting: train/images/image_734_jpg.rf.8f0deb10c5b6a4ed73be099c48e1fb3a.jpg  \n",
            " extracting: train/images/image_735_jpg.rf.b0131c9f977ce4c93d8e4e6782312ac4.jpg  \n",
            " extracting: train/images/image_736_jpg.rf.0e698ee9d103ebbefd0406d91ba43d92.jpg  \n",
            " extracting: train/images/image_736_jpg.rf.cec104a3579de9920d7a561b512ef994.jpg  \n",
            " extracting: train/images/image_737_jpg.rf.53fc519bc8cfb4c4e793451e15909c23.jpg  \n",
            " extracting: train/images/image_738_jpg.rf.7ad8eb890ec2bc1e0e3b3dac342eff2b.jpg  \n",
            " extracting: train/images/image_738_jpg.rf.d7280c8955c38ce5d518212bd6b65b37.jpg  \n",
            " extracting: train/images/image_739_jpg.rf.1ea67506b35c6de26784e8e6674a1a9a.jpg  \n",
            " extracting: train/images/image_739_jpg.rf.a200bd73cee57187f604f96a07fe67c8.jpg  \n",
            " extracting: train/images/image_73_jpg.rf.8c053c3f12914b7f9159c038b5f83e27.jpg  \n",
            " extracting: train/images/image_740_jpg.rf.357fdbd97fae8eb7d73944bad65aa1c1.jpg  \n",
            " extracting: train/images/image_741_jpg.rf.79b9ec1220a76c95a2a071ad91d74f39.jpg  \n",
            " extracting: train/images/image_742_jpg.rf.49e84afeb94dc6ee0b75a2f72cead7b0.jpg  \n",
            " extracting: train/images/image_742_jpg.rf.a737a539880b0bba3ed1bd725ba0a45c.jpg  \n",
            " extracting: train/images/image_743_jpg.rf.934e041958361715c8770cd7a96280f7.jpg  \n",
            " extracting: train/images/image_743_jpg.rf.df5634a4482bb7e6f9aa56e9d879d84d.jpg  \n",
            " extracting: train/images/image_744_jpg.rf.4f7d11a7589d630e1882c07c20bf3106.jpg  \n",
            " extracting: train/images/image_744_jpg.rf.6bdb760c18853e85a9e28855d64d0d0c.jpg  \n",
            " extracting: train/images/image_745_jpg.rf.d0c01f41a754ae1d53a5a4cd773e8307.jpg  \n",
            " extracting: train/images/image_746_jpg.rf.09becc67bd36a5e6f4f3c198e0cb5803.jpg  \n",
            " extracting: train/images/image_746_jpg.rf.40720932ccdfa4c58fde325b322c6c0c.jpg  \n",
            " extracting: train/images/image_747_jpg.rf.3abb1bb7d0ffd154af5cac9b457178fd.jpg  \n",
            " extracting: train/images/image_747_jpg.rf.60f7b53fff85507562115d2dfbe73be8.jpg  \n",
            " extracting: train/images/image_748_jpg.rf.36a6e89acc07a2d0c0d162a2394e964c.jpg  \n",
            " extracting: train/images/image_748_jpg.rf.cdc366752c9b23561d1cb186766079e7.jpg  \n",
            " extracting: train/images/image_749_jpg.rf.440c920908224f15e55e9ba45521e4dc.jpg  \n",
            " extracting: train/images/image_749_jpg.rf.8dc65306479f951dc976a1307e8ba406.jpg  \n",
            " extracting: train/images/image_750_jpg.rf.ce86779b0bd58b8880f378d44a8abb63.jpg  \n",
            " extracting: train/images/image_751_jpg.rf.41a4691005b0dd2771814085dcad1c8f.jpg  \n",
            " extracting: train/images/image_752_jpg.rf.5868f4f57f619b2c58b881dc1d553833.jpg  \n",
            " extracting: train/images/image_753_jpg.rf.d17ef7445087ee43f24a488002d7c43e.jpg  \n",
            " extracting: train/images/image_754_jpg.rf.26a0e431e75ec28c63e4879894b60704.jpg  \n",
            " extracting: train/images/image_754_jpg.rf.c7354ded71fea6c8ebae8da434f49132.jpg  \n",
            " extracting: train/images/image_755_jpg.rf.da902a744e253ccf549eb2fe2f845498.jpg  \n",
            " extracting: train/images/image_755_jpg.rf.f2c6242ec348e3b14fdf4f5ff86aee30.jpg  \n",
            " extracting: train/images/image_756_jpg.rf.2cb05cdf6f11b3ca22052b182844ddc3.jpg  \n",
            " extracting: train/images/image_756_jpg.rf.c667a73c59dbbdde53f8b5bc5ae6ef08.jpg  \n",
            " extracting: train/images/image_757_jpg.rf.a61d6fcb975caebfeb289ee9fd70c492.jpg  \n",
            " extracting: train/images/image_757_jpg.rf.e1f6bdb3d756988e937becbb83a8962d.jpg  \n",
            " extracting: train/images/image_758_jpg.rf.8a77811151af9569c5e9eb5eb7d1948b.jpg  \n",
            " extracting: train/images/image_759_jpg.rf.247570cc55e7d620552729e9224a5e16.jpg  \n",
            " extracting: train/images/image_759_jpg.rf.f09cc0314913b2de897561d5778e121d.jpg  \n",
            " extracting: train/images/image_760_jpg.rf.9d24057d5472b1a1e973f44250cf8921.jpg  \n",
            " extracting: train/images/image_760_jpg.rf.a60c77e1b6e9315d9662451d82488100.jpg  \n",
            " extracting: train/images/image_761_jpg.rf.1ef1df2a92379f8d22555e14bc70f2bc.jpg  \n",
            " extracting: train/images/image_761_jpg.rf.7edeed7f87dca2d777df048d9764d629.jpg  \n",
            " extracting: train/images/image_762_jpg.rf.0d0b86dd7fff639574165fc038439b50.jpg  \n",
            " extracting: train/images/image_763_jpg.rf.9dccfc81b620be7fa96450008a8d4f21.jpg  \n",
            " extracting: train/images/image_764_jpg.rf.42b15c5a581cb1a265af2548490325a2.jpg  \n",
            " extracting: train/images/image_765_jpg.rf.9a049e203bf50d4c30cfd5244d0a1788.jpg  \n",
            " extracting: train/images/image_766_jpg.rf.a3f6d5e60bf002bacd1560717e27ba4b.jpg  \n",
            " extracting: train/images/image_766_jpg.rf.bbfb32216f1f19c91f1f3d737f77a774.jpg  \n",
            " extracting: train/images/image_767_jpg.rf.3392c2fda8d042ded6fff9b31a8c7d11.jpg  \n",
            " extracting: train/images/image_767_jpg.rf.ad6cfae557db7a14bb3a7d4dce71e356.jpg  \n",
            " extracting: train/images/image_768_jpg.rf.4818b4233d9d8240dc839b65bf4aeb5b.jpg  \n",
            " extracting: train/images/image_769_jpg.rf.31d50e6e9a3331055e0c333dbc4be73d.jpg  \n",
            " extracting: train/images/image_76_jpg.rf.82f461cfab117c6223260a7cc18d4262.jpg  \n",
            " extracting: train/images/image_771_jpg.rf.13533eb15dd2d70906817f72e18da562.jpg  \n",
            " extracting: train/images/image_771_jpg.rf.de36df83cdf6981d20370f9fbf242422.jpg  \n",
            " extracting: train/images/image_772_jpg.rf.89fa5ac324f6fbb7f01cc6d72017a800.jpg  \n",
            " extracting: train/images/image_772_jpg.rf.9bcda78e2577b170690d8ed65b2426c9.jpg  \n",
            " extracting: train/images/image_773_jpg.rf.9946ed2eaf88fc888381d650156a1ec6.jpg  \n",
            " extracting: train/images/image_775_jpg.rf.064e9497b046ae03f9662a53a9d3d73d.jpg  \n",
            " extracting: train/images/image_775_jpg.rf.fddb9f273fc91c62c7bd7e579d621510.jpg  \n",
            " extracting: train/images/image_776_jpg.rf.07a11a1179247078bb82610c17099701.jpg  \n",
            " extracting: train/images/image_776_jpg.rf.e1762685f71006e790b98dfc9a1c9344.jpg  \n",
            " extracting: train/images/image_777_jpg.rf.7f16dd53e582da1bbf7d31f862d8ec2b.jpg  \n",
            " extracting: train/images/image_777_jpg.rf.c94bedc3db50646997a24d8ca22eb4ab.jpg  \n",
            " extracting: train/images/image_778_jpg.rf.2891c365eddb43b7122e02a5feedfdb5.jpg  \n",
            " extracting: train/images/image_778_jpg.rf.8f423d672ed092ab161356777a0c61f1.jpg  \n",
            " extracting: train/images/image_779_jpg.rf.07d0254a736b7bbd7d14400fb36ebb47.jpg  \n",
            " extracting: train/images/image_779_jpg.rf.415bc6bb1ac907d43f7014240e4b96c3.jpg  \n",
            " extracting: train/images/image_77_jpg.rf.51434167e35a4d86565beebacbf0a2ba.jpg  \n",
            " extracting: train/images/image_780_jpg.rf.11e1bca209b96a8c2d87a745f0b5bae9.jpg  \n",
            " extracting: train/images/image_782_jpg.rf.2ba53e5056387348f77cf061a8b21c14.jpg  \n",
            " extracting: train/images/image_783_jpg.rf.6c1f07f489a1b39b8aaede7be7532b46.jpg  \n",
            " extracting: train/images/image_784_jpg.rf.287196d2a299764b89b9e505470071da.jpg  \n",
            " extracting: train/images/image_784_jpg.rf.ca83384c9fa77474102f22ea2e803817.jpg  \n",
            " extracting: train/images/image_785_jpg.rf.0fd1d64912e992091270426fb4d77aa4.jpg  \n",
            " extracting: train/images/image_786_jpg.rf.20b549d7360656bd815e7fd1be1b7a1a.jpg  \n",
            " extracting: train/images/image_787_jpg.rf.6b5e8baaad25ea0263cc3a5caf85f6bb.jpg  \n",
            " extracting: train/images/image_787_jpg.rf.9f713335ce237abce91d1cc5ee0ee4f0.jpg  \n",
            " extracting: train/images/image_788_jpg.rf.eb06a6242005187b7fd3327426ec3e25.jpg  \n",
            " extracting: train/images/image_788_jpg.rf.fb15072a4b096c16cfd82e22f1ac1485.jpg  \n",
            " extracting: train/images/image_789_jpg.rf.b1e340a164cec45965f58f6cc43de548.jpg  \n",
            " extracting: train/images/image_789_jpg.rf.eefb5bea201dd5be13b41d722b99056f.jpg  \n",
            " extracting: train/images/image_78_jpg.rf.aab9a4d2d22248a1fc924598aecdc1fb.jpg  \n",
            " extracting: train/images/image_78_jpg.rf.cd18f46fb89851fece5b9a4fae1bc59a.jpg  \n",
            " extracting: train/images/image_790_jpg.rf.4ef3e0aef55cdc260b4af4a24b2247a9.jpg  \n",
            " extracting: train/images/image_791_jpg.rf.7387abe38e0f8e7a8518aa5392a20e70.jpg  \n",
            " extracting: train/images/image_792_jpg.rf.d826c405e1075ea4f0780e474c7fb007.jpg  \n",
            " extracting: train/images/image_794_jpg.rf.08976ab4953ff981e2479561623a29cb.jpg  \n",
            " extracting: train/images/image_794_jpg.rf.4d8d1e3033e34db81bb493871af00086.jpg  \n",
            " extracting: train/images/image_795_jpg.rf.3b1c9295a562a57594feb7459a0cc647.jpg  \n",
            " extracting: train/images/image_796_jpg.rf.c97db0d70b427662292a537667cd02a6.jpg  \n",
            " extracting: train/images/image_796_jpg.rf.e8e9805b3160b5aa826ff1e0e654677c.jpg  \n",
            " extracting: train/images/image_797_jpg.rf.678176581bc25fcc8de6e57d0426b32e.jpg  \n",
            " extracting: train/images/image_797_jpg.rf.c8b2255e3fd7cd0471d134501ea6338d.jpg  \n",
            " extracting: train/images/image_798_jpg.rf.b2dd27ee856efa4b0bd417c718b57676.jpg  \n",
            " extracting: train/images/image_799_jpg.rf.0e11046bf3a1eff4b0312426389d2f14.jpg  \n",
            " extracting: train/images/image_799_jpg.rf.525cafbc8a5a955bc485f509a3936726.jpg  \n",
            " extracting: train/images/image_79_jpg.rf.0072f65247f764f76931d97bf5ce1e62.jpg  \n",
            " extracting: train/images/image_79_jpg.rf.bdb627ea556cbcc7376c787088c72a2f.jpg  \n",
            " extracting: train/images/image_7_jpg.rf.3910e820d8902add3af048d8984cef1d.jpg  \n",
            " extracting: train/images/image_7_jpg.rf.980614f6d1d7a7d1203f755309d6ea44.jpg  \n",
            " extracting: train/images/image_800_jpg.rf.387e0e5f9a0aa6856ba5dd1e63afe309.jpg  \n",
            " extracting: train/images/image_800_jpg.rf.b4cbb343a11a0900c2c90ce5eec8db5d.jpg  \n",
            " extracting: train/images/image_801_jpg.rf.0466bfcf25204a95fec8ce4edf7bcbb2.jpg  \n",
            " extracting: train/images/image_801_jpg.rf.32f06c365d777f058d391a5d2a315a45.jpg  \n",
            " extracting: train/images/image_802_jpg.rf.69c2138dcdc19c502d7624cdd8e3ae7e.jpg  \n",
            " extracting: train/images/image_803_jpg.rf.2655ad0cef7012c04a74bef7d9739784.jpg  \n",
            " extracting: train/images/image_803_jpg.rf.8503c3bd3ea9e6d21b0ae59a328e0f93.jpg  \n",
            " extracting: train/images/image_804_jpg.rf.e565fb5536cc58b795639aeeabf0b118.jpg  \n",
            " extracting: train/images/image_805_jpg.rf.b6178848515ce3cd26de23e262e0e969.jpg  \n",
            " extracting: train/images/image_806_jpg.rf.90e5d37d7a9b464130e85c6f6463a2fe.jpg  \n",
            " extracting: train/images/image_807_jpg.rf.c4cb4901fcbf155d87df3bc2f03a203b.jpg  \n",
            " extracting: train/images/image_808_jpg.rf.33ba2b86283b7f0a012a27bd7c64a5eb.jpg  \n",
            " extracting: train/images/image_809_jpg.rf.f2e710b835c808c0d900e6e108974d74.jpg  \n",
            " extracting: train/images/image_80_jpg.rf.afcc829f8c86199d513e06348e5efbbb.jpg  \n",
            " extracting: train/images/image_810_jpg.rf.5c76963a4f7aeb972cf2563c5ec92643.jpg  \n",
            " extracting: train/images/image_810_jpg.rf.f9d4a8ded61bc480b99fd52e7ea65c60.jpg  \n",
            " extracting: train/images/image_811_jpg.rf.c539b17d5e6a9fe1fbb240251d572f3f.jpg  \n",
            " extracting: train/images/image_812_jpg.rf.5934971b863a58ed2c4fb273d9fc5f2d.jpg  \n",
            " extracting: train/images/image_813_jpg.rf.f8f852668fe3d667fd9e4c1e1f2626bd.jpg  \n",
            " extracting: train/images/image_814_jpg.rf.1508bb70656bf32c7d570c63c2b189a0.jpg  \n",
            " extracting: train/images/image_814_jpg.rf.5010ef7d6ac4f58af1c2b394e082695a.jpg  \n",
            " extracting: train/images/image_815_jpg.rf.bdf733b6883b9a0328b2d5fcc36380fb.jpg  \n",
            " extracting: train/images/image_815_jpg.rf.fa34496c4baab616d7aa900a2bf95cc9.jpg  \n",
            " extracting: train/images/image_816_jpg.rf.9a0d03983e5a24fb5da9f09fc97d9558.jpg  \n",
            " extracting: train/images/image_817_jpg.rf.29060097acaaed258579f493fd974070.jpg  \n",
            " extracting: train/images/image_817_jpg.rf.6b67f351e2ef3630daed5f75ea01f484.jpg  \n",
            " extracting: train/images/image_818_jpg.rf.01e99cecba836a4f7947ccda3a46536d.jpg  \n",
            " extracting: train/images/image_818_jpg.rf.a32d0f9291c6b2d538d6024e5a6a5057.jpg  \n",
            " extracting: train/images/image_819_jpg.rf.1b745fed78ee0c7043f8e85642116cd0.jpg  \n",
            " extracting: train/images/image_81_jpg.rf.1019801e52145438c0f7d6e9aa31bd96.jpg  \n",
            " extracting: train/images/image_81_jpg.rf.8874c2e60b7403bebb484d1aa4f72b0e.jpg  \n",
            " extracting: train/images/image_820_jpg.rf.06e7f719f0469e8fabb39e19f582bb39.jpg  \n",
            " extracting: train/images/image_821_jpg.rf.23afc4423e733da396939d246a613c1a.jpg  \n",
            " extracting: train/images/image_822_jpg.rf.1a4331b9b718ebcc9456092f1dfe4371.jpg  \n",
            " extracting: train/images/image_822_jpg.rf.c4c24368040022cc62a758e97a2564f9.jpg  \n",
            " extracting: train/images/image_824_jpg.rf.4cd2ea98f6475c77c44d5c68a30b3f86.jpg  \n",
            " extracting: train/images/image_825_jpg.rf.52c91b68069410c879c64cb9073e2d04.jpg  \n",
            " extracting: train/images/image_825_jpg.rf.ac0e46ce5dbcc124a83f0b7b04141759.jpg  \n",
            " extracting: train/images/image_827_jpg.rf.667e501ffa916eb0a14913b0ac2f044e.jpg  \n",
            " extracting: train/images/image_827_jpg.rf.76af73c284b53bf16453f93d54aa7a9c.jpg  \n",
            " extracting: train/images/image_829_jpg.rf.083d13f0b940b2da7b504898c3f7f66d.jpg  \n",
            " extracting: train/images/image_829_jpg.rf.0d6922fa4c4a57145e97a849fa579c8d.jpg  \n",
            " extracting: train/images/image_82_jpg.rf.07edcb40907ce65a2480546ddf6f04f9.jpg  \n",
            " extracting: train/images/image_82_jpg.rf.6e976ddcc8a514ff56c7a421fe2ada24.jpg  \n",
            " extracting: train/images/image_830_jpg.rf.f843a8349ec8437846bb1e9c3a6db818.jpg  \n",
            " extracting: train/images/image_831_jpg.rf.e764219eeab9f33ef3778e32c635ce00.jpg  \n",
            " extracting: train/images/image_831_jpg.rf.f2ad22ab38b0f475fb6f7ffc1cd9ac9f.jpg  \n",
            " extracting: train/images/image_833_jpg.rf.78926c030b197088882ef44ebe7d8c99.jpg  \n",
            " extracting: train/images/image_833_jpg.rf.db9fd224670b7d9976f3fefc86538f3d.jpg  \n",
            " extracting: train/images/image_834_jpg.rf.b967aa9d8f052c22c857a56829b9f466.jpg  \n",
            " extracting: train/images/image_835_jpg.rf.de025296f8ca22deebbfcd36af202a9d.jpg  \n",
            " extracting: train/images/image_836_jpg.rf.f46f744672bb686e45a8c3d28e30a26a.jpg  \n",
            " extracting: train/images/image_837_jpg.rf.70337ad6860a1b9f8f70009f1bd05785.jpg  \n",
            " extracting: train/images/image_838_jpg.rf.587b01ca9305757883f2f38c0325dd80.jpg  \n",
            " extracting: train/images/image_838_jpg.rf.ef281b9700460b802cb756c0903a09f4.jpg  \n",
            " extracting: train/images/image_839_jpg.rf.3260171379a4701188748b5aa8572516.jpg  \n",
            " extracting: train/images/image_83_jpg.rf.65cf2b0bed1f031bd8194ca13fb5caae.jpg  \n",
            " extracting: train/images/image_83_jpg.rf.8e7bec7fd216768f148ac1f8ebcf2ecf.jpg  \n",
            " extracting: train/images/image_840_jpg.rf.e9e952addcf155352520c96341b0a52a.jpg  \n",
            " extracting: train/images/image_841_jpg.rf.30150eb5ff0cecb8c7df1c8d8c3b2ef1.jpg  \n",
            " extracting: train/images/image_842_jpg.rf.408fbabf8190ae545c971e5fcf0b35e1.jpg  \n",
            " extracting: train/images/image_842_jpg.rf.8883ea8b5f356b4cc0a8bc84571b3ad1.jpg  \n",
            " extracting: train/images/image_843_jpg.rf.9ec837089ecdd516e9f49fc194f2f5d7.jpg  \n",
            " extracting: train/images/image_844_jpg.rf.f3ad0481613c5ee80a12d7e1ed2d9038.jpg  \n",
            " extracting: train/images/image_846_jpg.rf.00e8f03ec0d055e6dc1ff5811d7b11a0.jpg  \n",
            " extracting: train/images/image_848_jpg.rf.e6b7466b725804d6f03c9be960c7b488.jpg  \n",
            " extracting: train/images/image_849_jpg.rf.1f297e87437cd03b26cfc25fcc0fbb86.jpg  \n",
            " extracting: train/images/image_849_jpg.rf.fd2baf1009b977ab100ae44c5ea42164.jpg  \n",
            " extracting: train/images/image_84_jpg.rf.131a9492b7d6c2858304a590a44c0cc1.jpg  \n",
            " extracting: train/images/image_84_jpg.rf.d2ec7d7dd1884770a7e44bf9ea96cb07.jpg  \n",
            " extracting: train/images/image_850_jpg.rf.a8f507ab4d26b530519d96dd493f06bb.jpg  \n",
            " extracting: train/images/image_851_jpg.rf.2766f37e1f8a241267f4ce3ec69e3b7f.jpg  \n",
            " extracting: train/images/image_851_jpg.rf.2f71bd3a64d95e3dd411a0cf9583b4b3.jpg  \n",
            " extracting: train/images/image_852_jpg.rf.f0ba2e5444b8114d945bf282d1ac5e81.jpg  \n",
            " extracting: train/images/image_853_jpg.rf.91933d5e2c3a838655da4a8f3ec68e3f.jpg  \n",
            " extracting: train/images/image_854_jpg.rf.5fba92e493434982cc61d20f86a6b9aa.jpg  \n",
            " extracting: train/images/image_854_jpg.rf.8897c702d23e9937ccc0575ce619be05.jpg  \n",
            " extracting: train/images/image_855_jpg.rf.37a982b887c8b98c02554b8eefe29764.jpg  \n",
            " extracting: train/images/image_855_jpg.rf.486630428617c6aa4824ff76ea8a815e.jpg  \n",
            " extracting: train/images/image_856_jpg.rf.f47c64261cd8d683d3e02fe04d3f367b.jpg  \n",
            " extracting: train/images/image_857_jpg.rf.80794aabbdbad65c89f808daa155a371.jpg  \n",
            " extracting: train/images/image_858_jpg.rf.026108d1a7515a4c4a1a53779146171e.jpg  \n",
            " extracting: train/images/image_858_jpg.rf.2898e2cd9f872f372b74e2d93ec9459e.jpg  \n",
            " extracting: train/images/image_859_jpg.rf.2549d492b5f16399da42b02967c73069.jpg  \n",
            " extracting: train/images/image_85_jpg.rf.abcca442404f70d2a913f4a68b05bf79.jpg  \n",
            " extracting: train/images/image_860_jpg.rf.0e3489475a85fafa6d7ed9778e36d06f.jpg  \n",
            " extracting: train/images/image_860_jpg.rf.10f7d97f34fedc6c7e86966b808d4505.jpg  \n",
            " extracting: train/images/image_861_jpg.rf.e7222955a8e597d84694af46268a476c.jpg  \n",
            " extracting: train/images/image_862_jpg.rf.24cd5b96123a7d792e5ea556187cdcd2.jpg  \n",
            " extracting: train/images/image_862_jpg.rf.2ead63919ffe3590b3cd8e145a96283e.jpg  \n",
            " extracting: train/images/image_863_jpg.rf.ceac9302e87c0d3b7b3f79d2fd0a9360.jpg  \n",
            " extracting: train/images/image_864_jpg.rf.28cc6b0dbeb671e372c575e1a291182b.jpg  \n",
            " extracting: train/images/image_865_jpg.rf.128a2c7ab0519bf4554c3f9c6e35df2d.jpg  \n",
            " extracting: train/images/image_866_jpg.rf.24bf297c7be259dafeeca4a32f4427d4.jpg  \n",
            " extracting: train/images/image_867_jpg.rf.84cda576a135ed267668872ecb1e05d6.jpg  \n",
            " extracting: train/images/image_868_jpg.rf.63968b006cf4473921d6cd56eaffb83d.jpg  \n",
            " extracting: train/images/image_869_jpg.rf.807748c54d4e12e084fba4c45a4bf5ec.jpg  \n",
            " extracting: train/images/image_870_jpg.rf.1bda2ed1f267928eb1ddfe0194c7c99d.jpg  \n",
            " extracting: train/images/image_870_jpg.rf.7bf2882b2a7f62993bb44c89e3550447.jpg  \n",
            " extracting: train/images/image_871_jpg.rf.c8a622196dedeaeda97d4fac7e899bd7.jpg  \n",
            " extracting: train/images/image_872_jpg.rf.3f2d17e2baa444b71796df43aa30973d.jpg  \n",
            " extracting: train/images/image_872_jpg.rf.f8f97cfd7976568f2ea62d121216b192.jpg  \n",
            " extracting: train/images/image_873_jpg.rf.441016f38870e5b7fb4f8a2bc4b7eecc.jpg  \n",
            " extracting: train/images/image_874_jpg.rf.0d42f6b941169fdaa20384f2e2463070.jpg  \n",
            " extracting: train/images/image_874_jpg.rf.36afc7c18148d1aeff3ed195ba993381.jpg  \n",
            " extracting: train/images/image_875_jpg.rf.28e6e3f17145847cbcf99dc866e5391b.jpg  \n",
            " extracting: train/images/image_875_jpg.rf.d478b2181644ef4ad6d3df5a12f3147b.jpg  \n",
            " extracting: train/images/image_876_jpg.rf.02fe9c0b8cb77b73356ef6e2192185d1.jpg  \n",
            " extracting: train/images/image_876_jpg.rf.1ff0013c7dfa22c2f2d4ef75424cdd91.jpg  \n",
            " extracting: train/images/image_878_jpg.rf.1cbe2d1bec00996403be769780381e51.jpg  \n",
            " extracting: train/images/image_878_jpg.rf.88046d950cf0a884df30ca15f12839fa.jpg  \n",
            " extracting: train/images/image_879_jpg.rf.a9b80325333382356365579796086172.jpg  \n",
            " extracting: train/images/image_879_jpg.rf.c95bfb9068eb847c7f4c44582b53c766.jpg  \n",
            " extracting: train/images/image_87_jpg.rf.1a8f811043e08e4b94b2b1da614c26c8.jpg  \n",
            " extracting: train/images/image_880_jpg.rf.0bebdd13d6e13fa137cc31e543d352b0.jpg  \n",
            " extracting: train/images/image_880_jpg.rf.3c0206de82d210870c23a109b197717a.jpg  \n",
            " extracting: train/images/image_881_jpg.rf.1f9f219e5d18f3f443ef073901eca21f.jpg  \n",
            " extracting: train/images/image_882_jpg.rf.5d928b3e8418473f7231b0451903f08f.jpg  \n",
            " extracting: train/images/image_882_jpg.rf.ca94314e6834e432f19a145ae47b4ff5.jpg  \n",
            " extracting: train/images/image_883_jpg.rf.23111ab7709e0471ee8cb4f4d57318c7.jpg  \n",
            " extracting: train/images/image_883_jpg.rf.f560296528ce02851af966eda055c1b4.jpg  \n",
            " extracting: train/images/image_884_jpg.rf.c86d17a89ca66678cbce9f915e6f11b1.jpg  \n",
            " extracting: train/images/image_884_jpg.rf.cca2ee8250114cf475483c841b6661f0.jpg  \n",
            " extracting: train/images/image_886_jpg.rf.7f153bf95a99e58632f619c36c0b1670.jpg  \n",
            " extracting: train/images/image_886_jpg.rf.bcc79b28f1f8ffebe6a0d9d3789c852f.jpg  \n",
            " extracting: train/images/image_887_jpg.rf.65855810ffebff556f7bb55be84b9d38.jpg  \n",
            " extracting: train/images/image_889_jpg.rf.c8395d81efa42238a2a68f1ec2cc0a7b.jpg  \n",
            " extracting: train/images/image_88_jpg.rf.30bfb42d79b801fae8520d0c414bef7b.jpg  \n",
            " extracting: train/images/image_88_jpg.rf.b3901a704c6356ca244be517061f50ac.jpg  \n",
            " extracting: train/images/image_890_jpg.rf.563e3ec1531bf373f934a6f628c705a9.jpg  \n",
            " extracting: train/images/image_891_jpg.rf.d5f7eb7a1013600c5ea28a56a18a802e.jpg  \n",
            " extracting: train/images/image_891_jpg.rf.f6abb0106f62849e03abd9c6bee787ef.jpg  \n",
            " extracting: train/images/image_892_jpg.rf.51ef62466d37be4dbfb992f728f18a0c.jpg  \n",
            " extracting: train/images/image_892_jpg.rf.cb7996aaa7a185c2589816e080874360.jpg  \n",
            " extracting: train/images/image_893_jpg.rf.aca3432dc8c6a3ee811cdc490f7ea568.jpg  \n",
            " extracting: train/images/image_894_jpg.rf.3b7786728e0d5c5aa59cde72e3064e49.jpg  \n",
            " extracting: train/images/image_894_jpg.rf.baa85d459a612fec7c643696fcd998d4.jpg  \n",
            " extracting: train/images/image_895_jpg.rf.4973c9696c68128fcd3ac128f7a466a2.jpg  \n",
            " extracting: train/images/image_896_jpg.rf.5b124449ac5bcd0f0d2e70ceea10896f.jpg  \n",
            " extracting: train/images/image_896_jpg.rf.a4087267b2646ef0b2fb1d61aca5e184.jpg  \n",
            " extracting: train/images/image_897_jpg.rf.9899cfdc9bae0f57a8c7b6435fbcace3.jpg  \n",
            " extracting: train/images/image_899_jpg.rf.fdc1bb338d7b0df2fa263765e569fcf0.jpg  \n",
            " extracting: train/images/image_89_jpg.rf.0391cf03c6feb3c1a0ce729156482311.jpg  \n",
            " extracting: train/images/image_8_jpg.rf.98e6d0712ff75fb805a773568f3ba5c1.jpg  \n",
            " extracting: train/images/image_900_jpg.rf.df27a6b07db0a93289e738a28c447702.jpg  \n",
            " extracting: train/images/image_901_jpg.rf.368af4017ef17ef65c5da224f2165b70.jpg  \n",
            " extracting: train/images/image_901_jpg.rf.84b25ab663e8538e43b3bb2300738525.jpg  \n",
            " extracting: train/images/image_902_jpg.rf.28b9d1269c2c11145822d77e8d69ed24.jpg  \n",
            " extracting: train/images/image_902_jpg.rf.cf885b1939ec4b0a8453bca807f69729.jpg  \n",
            " extracting: train/images/image_903_jpg.rf.0515a09a2c8c642b6415b557926a44fd.jpg  \n",
            " extracting: train/images/image_904_jpg.rf.7b7ab05594234c9035c8a5f8405b023d.jpg  \n",
            " extracting: train/images/image_904_jpg.rf.ad50959cc1d507e7da2d9956042fe3a2.jpg  \n",
            " extracting: train/images/image_905_jpg.rf.777d4ce07b98a5dc61e6d99e540c8330.jpg  \n",
            " extracting: train/images/image_906_jpg.rf.30954ac01c38a351fb66c22ae77a1c43.jpg  \n",
            " extracting: train/images/image_907_jpg.rf.32eabd651e306584165ee1a7be4e9a88.jpg  \n",
            " extracting: train/images/image_907_jpg.rf.e0802275341e7c08ed4bb2ca8319c5c8.jpg  \n",
            " extracting: train/images/image_908_jpg.rf.f081a6fbdb745711e6cfa79b65ecee9a.jpg  \n",
            " extracting: train/images/image_909_jpg.rf.50cf6bccc06165f6cbe5f2656cafb92c.jpg  \n",
            " extracting: train/images/image_909_jpg.rf.8ffa31328767e4e8d19449443253d156.jpg  \n",
            " extracting: train/images/image_90_jpg.rf.3abe0d6fa93c5edeb8203079bf2eb1aa.jpg  \n",
            " extracting: train/images/image_90_jpg.rf.4df5a0562e596fa0b08fe9888366c292.jpg  \n",
            " extracting: train/images/image_911_jpg.rf.6b30c21e94ef0d4650476f45422184f3.jpg  \n",
            " extracting: train/images/image_912_jpg.rf.04f23fe9df8d24a68563914927fe6004.jpg  \n",
            " extracting: train/images/image_912_jpg.rf.18bf111c636f6703c318154c9d532bf0.jpg  \n",
            " extracting: train/images/image_913_jpg.rf.895a3eb98f4b08cc042976ab0beaeb93.jpg  \n",
            " extracting: train/images/image_914_jpg.rf.7575cdc80bed241c0a3886aa22819214.jpg  \n",
            " extracting: train/images/image_914_jpg.rf.a778b1706a8aea66c92f80855433f22f.jpg  \n",
            " extracting: train/images/image_915_jpg.rf.05e263d1c2dcc1cfedc813968d61d628.jpg  \n",
            " extracting: train/images/image_916_jpg.rf.0ac30c7442324e125e346f5d62507509.jpg  \n",
            " extracting: train/images/image_917_jpg.rf.482ac8a4b84fc8bd64ea2c33a984f865.jpg  \n",
            " extracting: train/images/image_918_jpg.rf.8ffe16ead9e8d0963e9f216fff1ede97.jpg  \n",
            " extracting: train/images/image_918_jpg.rf.a353a4cfc00ca2bbca077183f27094c2.jpg  \n",
            " extracting: train/images/image_91_jpg.rf.d88746fc057a09590502b1af50ee677a.jpg  \n",
            " extracting: train/images/image_920_jpg.rf.c9607f88065fd135521fa797903ec9b6.jpg  \n",
            " extracting: train/images/image_920_jpg.rf.e36a63cceffe06051be77d502befc1e2.jpg  \n",
            " extracting: train/images/image_921_jpg.rf.0f3f7729632a1fd98b2bc2a169d206f3.jpg  \n",
            " extracting: train/images/image_921_jpg.rf.4e86d0ebe1b9a72349b0d17c710cbd2c.jpg  \n",
            " extracting: train/images/image_922_jpg.rf.5c96a4fec399f3e1d9284e2f49e2859a.jpg  \n",
            " extracting: train/images/image_923_jpg.rf.47c2dcdcc3a0aeb5222a53736cef8970.jpg  \n",
            " extracting: train/images/image_924_jpg.rf.ab91a9c661cc6ac8cdf80ccd05068597.jpg  \n",
            " extracting: train/images/image_925_jpg.rf.1d4cfd73be25e5d54fff334c75552d91.jpg  \n",
            " extracting: train/images/image_925_jpg.rf.94c4ee4a9712994aa9d68766245a603a.jpg  \n",
            " extracting: train/images/image_926_jpg.rf.4bba532fd2b4db17960dc04e1932447b.jpg  \n",
            " extracting: train/images/image_926_jpg.rf.89c7c55502b9c3f0a3e348fc88e86da2.jpg  \n",
            " extracting: train/images/image_927_jpg.rf.a10cec6cd583de168994d87f1d302516.jpg  \n",
            " extracting: train/images/image_928_jpg.rf.69028df3204b02bbcc2ca1c273ef5f8a.jpg  \n",
            " extracting: train/images/image_928_jpg.rf.d6acbcdb865f598eab80f04579f29d56.jpg  \n",
            " extracting: train/images/image_929_jpg.rf.747128161e093482d2d19f47e4b5bbeb.jpg  \n",
            " extracting: train/images/image_92_jpg.rf.44831a4e99db1e5074f9d5749ebb3424.jpg  \n",
            " extracting: train/images/image_930_jpg.rf.5b0d136b636aec0b16e9e744207f57fa.jpg  \n",
            " extracting: train/images/image_930_jpg.rf.a04b1ed25539c04d6dcfce5fb8021ba7.jpg  \n",
            " extracting: train/images/image_931_jpg.rf.c0e5e66769c86e6cca5a0e33f5346570.jpg  \n",
            " extracting: train/images/image_932_jpg.rf.fe5d19447b1ca7ec18e1715cd4d9e5e9.jpg  \n",
            " extracting: train/images/image_933_jpg.rf.9d0ce47c670b2801605e01370405d4bf.jpg  \n",
            " extracting: train/images/image_934_jpg.rf.f7a376a0c17503502e9f8d5bfc8fceb8.jpg  \n",
            " extracting: train/images/image_935_jpg.rf.24efc4de12dc7bc76e4372a253c324e0.jpg  \n",
            " extracting: train/images/image_936_jpg.rf.8d4ce603e908fcedd21d07aaebe4e938.jpg  \n",
            " extracting: train/images/image_937_jpg.rf.52753b300edb5153817fcbbee7002229.jpg  \n",
            " extracting: train/images/image_939_jpg.rf.a76e871b4882e601ef7ffd1cf0c25311.jpg  \n",
            " extracting: train/images/image_93_jpg.rf.d34b19da0dc4087cc5c53c6bf6ec67b4.jpg  \n",
            " extracting: train/images/image_940_jpg.rf.4aa6345254273303819bb090114f2f55.jpg  \n",
            " extracting: train/images/image_941_jpg.rf.8af476be8416a32d27a9f803ad319e99.jpg  \n",
            " extracting: train/images/image_941_jpg.rf.96c369bd89fad4e8945ce80684cbb90c.jpg  \n",
            " extracting: train/images/image_942_jpg.rf.1b3104d73eccc9815cf1598427ba0ceb.jpg  \n",
            " extracting: train/images/image_942_jpg.rf.6843589433311e7e5ca0d367e42a24ec.jpg  \n",
            " extracting: train/images/image_943_jpg.rf.9a2c099b98a744f6d34b0131fab92317.jpg  \n",
            " extracting: train/images/image_943_jpg.rf.e22b6c817ceb2293ef0c00c7df4c360a.jpg  \n",
            " extracting: train/images/image_944_jpg.rf.d87fe0d42490af1d5ba1163e276c4941.jpg  \n",
            " extracting: train/images/image_945_jpg.rf.2ce6b1c4d173504c93c85935aaa44578.jpg  \n",
            " extracting: train/images/image_946_jpg.rf.a1e8160e64bb7024d4ece12861e1e85f.jpg  \n",
            " extracting: train/images/image_947_jpg.rf.4622929c96c5a65029f3e4e5cf166bfe.jpg  \n",
            " extracting: train/images/image_947_jpg.rf.fe2e87127b1c9b82ec2ccb18aca51066.jpg  \n",
            " extracting: train/images/image_948_jpg.rf.723e6086bcc64d2ba8a66f93f0121c68.jpg  \n",
            " extracting: train/images/image_94_jpg.rf.56edc00570cdd6ad04d2831491f06170.jpg  \n",
            " extracting: train/images/image_94_jpg.rf.cb4311c5343937e57eb05df5ff9297ac.jpg  \n",
            " extracting: train/images/image_951_jpg.rf.22cfa1bf37c08d1b11a1c72f7bf40951.jpg  \n",
            " extracting: train/images/image_952_jpg.rf.44ac00a227d29e24694195bb7f549406.jpg  \n",
            " extracting: train/images/image_953_jpg.rf.72da8d2372ab7490950a55243d63bdb0.jpg  \n",
            " extracting: train/images/image_954_jpg.rf.11a754d9f05143b207ff772709939557.jpg  \n",
            " extracting: train/images/image_954_jpg.rf.404cf985bc80db4741c8823c6fde99d3.jpg  \n",
            " extracting: train/images/image_955_jpg.rf.7bd33f0416620a2339d52932b9766fc5.jpg  \n",
            " extracting: train/images/image_956_jpg.rf.377e99ec07f96bec39d92a6cafbebea5.jpg  \n",
            " extracting: train/images/image_957_jpg.rf.2b365150eebc36739eed15f766720858.jpg  \n",
            " extracting: train/images/image_957_jpg.rf.f53ff3f99322955ae2f7ec9ea4da1635.jpg  \n",
            " extracting: train/images/image_958_jpg.rf.48e762aa7ba93e03bacc5b8ce9f9a9fa.jpg  \n",
            " extracting: train/images/image_959_jpg.rf.4819cbfa0e30a139267bc1ce6984b2f7.jpg  \n",
            " extracting: train/images/image_95_jpg.rf.cef321b40656eb41d542deb22f6a57c4.jpg  \n",
            " extracting: train/images/image_960_jpg.rf.8975492ef4e17bb04753bf51a42baade.jpg  \n",
            " extracting: train/images/image_960_jpg.rf.976b1ac13dde3613c0f833a34d378867.jpg  \n",
            " extracting: train/images/image_961_jpg.rf.e43b8eaf64ff117711c27094f05da8cb.jpg  \n",
            " extracting: train/images/image_962_jpg.rf.84cca6a99c0ed3dc45995151e37f1b45.jpg  \n",
            " extracting: train/images/image_962_jpg.rf.fd26c3155b53eab1b384813a76db7a25.jpg  \n",
            " extracting: train/images/image_963_jpg.rf.3336748ccbf0cb8f8372499e99d9581f.jpg  \n",
            " extracting: train/images/image_964_jpg.rf.2285f7d1a0ad06f14c03baa1a56b64f8.jpg  \n",
            " extracting: train/images/image_964_jpg.rf.c0ba69da4800063193b06472ea004651.jpg  \n",
            " extracting: train/images/image_965_jpg.rf.133b660980475ee8afebcb6316f23ee5.jpg  \n",
            " extracting: train/images/image_967_jpg.rf.c75d0842a72566a621f125e4e4696aee.jpg  \n",
            " extracting: train/images/image_968_jpg.rf.01582d55a49cc3f5ed12ce2ef56c8b0b.jpg  \n",
            " extracting: train/images/image_968_jpg.rf.c9710ced783713b01faa243a5c6ca378.jpg  \n",
            " extracting: train/images/image_969_jpg.rf.ca765480833c6c375ecbae99abd38260.jpg  \n",
            " extracting: train/images/image_96_jpg.rf.1eb820f43ad68da4212e64e80fe5f663.jpg  \n",
            " extracting: train/images/image_96_jpg.rf.2afc44f1dbb60ab4d40f0304beb36d05.jpg  \n",
            " extracting: train/images/image_970_jpg.rf.1e371385164f6572ca624185efe698da.jpg  \n",
            " extracting: train/images/image_971_jpg.rf.163ebf25d329933a9147d2ce98551c9b.jpg  \n",
            " extracting: train/images/image_971_jpg.rf.fc9dca04c62392f5b1f575c822f94f08.jpg  \n",
            " extracting: train/images/image_972_jpg.rf.63d710f85bd09e395e2f5660a6d312b3.jpg  \n",
            " extracting: train/images/image_973_jpg.rf.a975edfceaedf5428185f8b05aafba7f.jpg  \n",
            " extracting: train/images/image_974_jpg.rf.1d5c99ab291002df4bec8aa8f8e6027a.jpg  \n",
            " extracting: train/images/image_975_jpg.rf.02e9f55398bf771fa14bb73b9d7c1cde.jpg  \n",
            " extracting: train/images/image_976_jpg.rf.7e9ff44df43be500cd296fc052ecbd1f.jpg  \n",
            " extracting: train/images/image_976_jpg.rf.e6ccb4c4ef8c4180aabe27507f57aae6.jpg  \n",
            " extracting: train/images/image_977_jpg.rf.6b2555f9ffeae0fe13ff9cfdee287bbf.jpg  \n",
            " extracting: train/images/image_978_jpg.rf.10c5b72270182f74bb1ebe182890a178.jpg  \n",
            " extracting: train/images/image_978_jpg.rf.e2e7f44660b32498edbc0a24f233f5a6.jpg  \n",
            " extracting: train/images/image_979_jpg.rf.5ec42a2b3646cf7cff0b2bee2e338ba7.jpg  \n",
            " extracting: train/images/image_97_jpg.rf.5024b695bc7c6f656877c5d09027457d.jpg  \n",
            " extracting: train/images/image_980_jpg.rf.0812634aa46f131cdc96bdfb651f3e0e.jpg  \n",
            " extracting: train/images/image_980_jpg.rf.3331978823ef152a0106df332b6bf6c5.jpg  \n",
            " extracting: train/images/image_981_jpg.rf.36f73c8a4ea5e15e65cebfd90fc51b19.jpg  \n",
            " extracting: train/images/image_981_jpg.rf.73afc39fa123cdf6988e89733c93857b.jpg  \n",
            " extracting: train/images/image_982_jpg.rf.9512d99e46aaffd07c28f4c05d8d0999.jpg  \n",
            " extracting: train/images/image_982_jpg.rf.a5fdaea5aecadf6d797f530cac8a96e1.jpg  \n",
            " extracting: train/images/image_983_jpg.rf.3bd8add712ddbd532228e962b2514b7f.jpg  \n",
            " extracting: train/images/image_983_jpg.rf.b7953919d868a460bee667a251fcc731.jpg  \n",
            " extracting: train/images/image_984_jpg.rf.6ceef9416f75d1d8c34dc65f13e48925.jpg  \n",
            " extracting: train/images/image_984_jpg.rf.6e93792bffb92a1f8f46fae22550d0b9.jpg  \n",
            " extracting: train/images/image_985_jpg.rf.07a535038ddc4c432f2cd547a32df00c.jpg  \n",
            " extracting: train/images/image_985_jpg.rf.6bd97c959e1854f4206474457eca3158.jpg  \n",
            " extracting: train/images/image_988_jpg.rf.1f4a950c0704a34622a45f9297052c3c.jpg  \n",
            " extracting: train/images/image_989_jpg.rf.072ca5b7e2b74b067a29900e7d601838.jpg  \n",
            " extracting: train/images/image_98_jpg.rf.61d2a1a16c68c5a57dc04d65e58e0ffa.jpg  \n",
            " extracting: train/images/image_98_jpg.rf.82b0a2e6c01e4da1493204622bfb7034.jpg  \n",
            " extracting: train/images/image_990_jpg.rf.96a7993a7d99dfd4f35f47cea72de2e1.jpg  \n",
            " extracting: train/images/image_991_jpg.rf.f566b2bd411e9848ec2f6197d811488e.jpg  \n",
            " extracting: train/images/image_992_jpg.rf.139585bc0b1956461be97c524cd86a27.jpg  \n",
            " extracting: train/images/image_992_jpg.rf.466501dce30328605a7c61effa39e1c4.jpg  \n",
            " extracting: train/images/image_993_jpg.rf.770d6800123a8e3bf18fdb3b0681ca47.jpg  \n",
            " extracting: train/images/image_994_jpg.rf.f704299e16a8c65cfc0badf0286f0036.jpg  \n",
            " extracting: train/images/image_995_jpg.rf.b082f813d170dcb76b99498c6ae0ff86.jpg  \n",
            " extracting: train/images/image_995_jpg.rf.f6f4c9bdd01de6a62c8fa703aa0ea40f.jpg  \n",
            " extracting: train/images/image_996_jpg.rf.502f385a0df081ebcfc8c8140aa6002b.jpg  \n",
            " extracting: train/images/image_996_jpg.rf.c72244f0472f617377f431711d438bb2.jpg  \n",
            " extracting: train/images/image_997_jpg.rf.19a54044f58a05aca108443193b060ea.jpg  \n",
            " extracting: train/images/image_997_jpg.rf.59a53c6d00e2791911165e60fcd5bcde.jpg  \n",
            " extracting: train/images/image_998_jpg.rf.976775ec948fe0a578b19b5ccb89960f.jpg  \n",
            " extracting: train/images/image_99_jpg.rf.d4a789b2d664a311e88135608d1927b9.jpg  \n",
            " extracting: train/images/image_9_jpg.rf.98ab06c65576ae8f86e8c5c5909e0e4e.jpg  \n",
            " extracting: train/images/image_9_jpg.rf.e2018b9a678c833db9642dec54bd582a.jpg  \n",
            " extracting: train/images/images-1-_jpg.rf.2454440559a1c647e605bd802514f4d3.jpg  \n",
            " extracting: train/images/images-2-_jpg.rf.1fb07eca3d3a9696359a5a03225a61e4.jpg  \n",
            " extracting: train/images/images-2-_jpg.rf.a90fff6582281d8614a45a28e3e19532.jpg  \n",
            " extracting: train/images/images-2-_jpg.rf.dde0837e34e2ac6d612f6a58c39f8d26.jpg  \n",
            " extracting: train/images/images-3-_jpg.rf.59e12f7866a2179a350444efd95b7ab9.jpg  \n",
            " extracting: train/images/images-4-_jpg.rf.e866153048165efa487fdb3f5e93980a.jpg  \n",
            " extracting: train/images/images2960653_mature_man_walking_park_outdoors_beig_jpg.rf.786c512f50c0e6470ccae8f27430ec9e.jpg  \n",
            " extracting: train/images/images_jpg.rf.1bfb3002912e459b1c50fe0323bfe16f.jpg  \n",
            " extracting: train/images/images_jpg.rf.66b00dc02c898d69cc32fa0834066355.jpg  \n",
            " extracting: train/images/images_jpg.rf.66b0b1f296e1d6064b9dfec51e5c2d89.jpg  \n",
            " extracting: train/images/istockphoto-1036872646-1024x1024_jpg.rf.132d4e5146efdd51918921f03571f047.jpg  \n",
            " extracting: train/images/istockphoto-1048316430-170667a_jpg.rf.00f29e8ee9097bf0c6082b2322ef6f6f.jpg  \n",
            " extracting: train/images/istockphoto-1048316430-170667a_jpg.rf.1d4e3518a544fc8faaf1b7679bfc8dac.jpg  \n",
            " extracting: train/images/istockphoto-1172486872-612x612_jpg.rf.f74d4961b5f9c5628dfe34fbff3141b4.jpg  \n",
            " extracting: train/images/istockphoto-1184388353-612x612_jpg.rf.85c3cdf7bdd92bb8a5a8d265545ae6b8.jpg  \n",
            " extracting: train/images/istockphoto-180500360-612x612-1-_jpg.rf.bc6053eb0ced25d9d990f7caab17b394.jpg  \n",
            " extracting: train/images/istockphoto-180652355-612x612_jpg.rf.15848f4d5bda8e3daf9ae84274ce5f19.jpg  \n",
            " extracting: train/images/istockphoto-180652355-612x612_jpg.rf.ad8665269989eb89b18242104a17adad.jpg  \n",
            " extracting: train/images/istockphoto-183066963-1024x1024_jpg.rf.be3967c73caf2752a89a6b62606bb75e.jpg  \n",
            " extracting: train/images/istockphoto-184833050-612x612_jpg.rf.2bf63fa7ade994f81c0fbe1ad311108c.jpg  \n",
            " extracting: train/images/istockphoto-486289973-612x612_jpg.rf.a712e233bff5d17e303087cda6de3e81.jpg  \n",
            " extracting: train/images/kisspng-person-walking-silhouette-clip-art-person-cut-out-5aaaf5801c85c9-2139787115211534081168_jpg.rf.39f8af9473b4751dd27b52b76916e3a0.jpg  \n",
            " extracting: train/images/kleptomania-concept-a-man-in-the-grocery-store-stealing-food-and-put-it-in-the-pocket-2B03KPY_jpg.rf.f5fa4e800f8e956bd2a1e54b2d78fafd.jpg  \n",
            " extracting: train/images/kleptomania-concept-a-man-in-the-grocery-store-stealing-food-and-put-it-in-the-pocket-2B03NHM_jpg.rf.83858967f439d09a63af664a3dc8d1a3.jpg  \n",
            " extracting: train/images/kleptomania-concept-a-man-in-the-grocery-store-stealing-food-and-put-it-in-the-pocket-2B03RAJ_jpg.rf.82e6d7999109000c7a90c16a2c9bcfbf.jpg  \n",
            " extracting: train/images/lifestyle-fashion-people-concept-full-body-young-woman-mo-model-posing-studio-92157599_jpg.rf.8256ed0bfd1af7487ab6d767f168ef94.jpg  \n",
            " extracting: train/images/man-as-a-shoplifter-in-the-supermarket-puts-food-in-his-jacket-pocket-WXWTWP_jpg.rf.188d39e239dc11dcef4c83ede00b2223.jpg  \n",
            " extracting: train/images/men_pavement_people_street_walk_walking_women-1491825_jpg.rf.88f8cd6bbf92f4451077748ec2876a45.jpg  \n",
            " extracting: train/images/midsection-man-hiding-jeans-jacket-600w-370067363_jpg.rf.98b0816bc0e6c1d04d7ee63719aa22dd.jpg  \n",
            " extracting: train/images/midsection-of-woman-stealing-capsule-packet-at-supermarket-KAKMJ5_jpg.rf.8b92dc7b34f37a658b7ebe650800c324.jpg  \n",
            " extracting: train/images/midsection-of-woman-stealing-lipstick-at-supermarket-KAKMHR_jpg.rf.ed1c79306d56f02bd873fa86eccf33cb.jpg  \n",
            " extracting: train/images/midsection-woman-stealing-capsule-packet-600w-360072032_jpg.rf.37394d046fd7d1092f4c4588520917dc.jpg  \n",
            " extracting: train/images/photo-1519255122284-c3acd66be602_jpg.rf.161f26049fb48be6f460485b71b7c430.jpg  \n",
            " extracting: train/images/picture25-07283931_jpg.rf.296179e0af753b9d3aecbd90e40ebfb5.jpg  \n",
            " extracting: train/images/retail-shoplifting-man-stealing-in-supermarket-theft-at-shop-2HGBJJP-1-_jpg.rf.efaff746b32e19e3f7d374ae16e29257.jpg  \n",
            " extracting: train/images/retail-shoplifting-woman-stealing-in-supermarket-theft-at-shop-2FN41H1_jpg.rf.91c87169648128e000e4ec559409121d.jpg  \n",
            " extracting: train/images/retail-shoplifting-woman-stealing-in-supermarket-theft-at-shop-2FRR62X_jpg.rf.debe887bdd8375f2c3742268ef8b0af3.jpg  \n",
            " extracting: train/images/shoplifter-stealing-bar-of-chocolate-in-a-supermarket-EDX75G_jpg.rf.1d2290fb6dd843d857e00f68d498b879.jpg  \n",
            " extracting: train/images/shoplifting-2ACACYC_jpg.rf.35da4dc275ffa8c517d122baee396bbb.jpg  \n",
            " extracting: train/images/stock-photo-a-female-in-the-act-of-shoplifting-or-stealing-puts-an-item-under-her-clothes-40679440_jpg.rf.1a851b41061f275553b156cb1ced0cce.jpg  \n",
            " extracting: train/images/stock-photo-a-man-and-woman-standing-together-talking-on-white-background-6980614_jpg.rf.e4f8cf3111ae117341c1d49811fb9a49.jpg  \n",
            " extracting: train/images/stock-photo-closeup-of-young-woman-is-stealing-red-jeans-in-store-shop-boutique-at-shopping-center-girl-is-1760790494_jpg.rf.c81ba831f3f93e70cf413a263742c0dc.jpg  \n",
            " extracting: train/images/stock-photo-closeup-of-young-woman-is-stealing-red-shoes-in-store-shop-boutique-at-shopping-center-girl-1760790476_jpg.rf.24aedcb081c2556ad8e78f3f9d4755d4.jpg  \n",
            " extracting: train/images/stock-photo-jeans-being-stolen-by-a-shoplifter-in-a-shop-169978247_jpg.rf.3c8ac655aaf6eb8d993efb570b6fb908.jpg  \n",
            " extracting: train/images/stock-photo-sneaky-shoplifting-cropped-shot-of-a-young-woman-slipping-stolen-goods-into-her-handbag-2146710091_jpg.rf.821aae786c9f6f7eba0aa17972664f00.jpg  \n",
            " extracting: train/images/stock-photo-woman-stealing-clothes-from-store-341522657_jpg.rf.7e7e8f1187fc53472c7a41e3488a4d3b.jpg  \n",
            " extracting: train/images/stock-photo-young-man-trying-to-steal-book-from-the-library-kleptomania-1306971037_jpg.rf.70db834974928d1cbb7b1adaf054eae9.jpg  \n",
            " extracting: train/images/stock-photo-young-woman-is-stealing-goods-in-a-shop-320228909_jpg.rf.0ab421b0464eb1beaac12fb4cd1a37ed.jpg  \n",
            " extracting: train/images/stock-photo-young-woman-is-stealing-goods-in-a-shop-321588290_jpg.rf.4d18df92d5806b925e2588d13d664d6e.jpg  \n",
            " extracting: train/images/stock-vector-pop-art-beautiful-woman-stealing-food-in-supermarket-shoplifting-kleptomania-concept-vector-765022036_jpg.rf.f1fad994c59ed50a23eea78da723ea5b.jpg  \n",
            " extracting: train/images/teenage-girl-shoplifting-in-department-store-model-re-enactment-bob-daemmrich-2AT9925_jpg.rf.dad28b30ea33a8cbe85ce415bb8bc1d1.jpg  \n",
            " extracting: train/images/teenage-girl-shoplifting-in-department-store-model-re-enactment-bob-daemmrich-2AT9927_jpg.rf.fbc68cb741e2dbd4c23fad04f81f16e7.jpg  \n",
            " extracting: train/images/teenage-girl-shoplifting-in-department-store-model-re-enactment-bob-daemmrich-2B7W4RX_jpg.rf.afe75dac88a2cb1f22ab2daf2dcecf29.jpg  \n",
            " extracting: train/images/teenage-girls-shoplifting-clothes-BN987N_jpg.rf.597b51d0348a1afe1ab6bc323287f215.jpg  \n",
            " extracting: train/images/ttxvn_london_covid19_jpg.rf.f111450347652e732cd1aa1fb5824585.jpg  \n",
            " extracting: train/images/two-men-gesturing-high-five-full-length-profile-shot-isolated-white-background-156693614_jpg.rf.399a4546c1103858223b7986b81224f5.jpg  \n",
            " extracting: train/images/two-men-gesturing-high-five-full-length-profile-shot-isolated-white-background-156693614_jpg.rf.b6ae75cfa0c7eea9e3c32ef6195cf332.jpg  \n",
            " extracting: train/images/unnamed_jpg.rf.20980e028af6f586b5669f5c6c848756.jpg  \n",
            " extracting: train/images/v1_15_jpg.rf.186180021b17115123b2ce00d8dccaf6.jpg  \n",
            " extracting: train/images/v1_15_jpg.rf.6d11fc5f190a370d6b27720d43ff4455.jpg  \n",
            " extracting: train/images/v1_16_jpg.rf.bcd34fa6e87d70dd1653dcce2cafc345.jpg  \n",
            " extracting: train/images/v1_29_jpg.rf.b625955144e020f14b6640ae24831aac.jpg  \n",
            " extracting: train/images/v1_35_jpg.rf.4e7997e9f472c01d4928d15d7b3b63ff.jpg  \n",
            " extracting: train/images/v1_35_jpg.rf.bd3c2d99e62c0a4b8fbc07c68c663bb6.jpg  \n",
            " extracting: train/images/v1_44_jpg.rf.a1a20033687792512f990abdeff5fb37.jpg  \n",
            " extracting: train/images/v1_44_jpg.rf.de9bbffa4f5f5e5de8ec5744465ce17c.jpg  \n",
            " extracting: train/images/v1_4_jpg.rf.23de3ffcaa8bab7b56c234eef7a825a5.jpg  \n",
            " extracting: train/images/v1_4_jpg.rf.7c2079a4d33ad497cf3a8c93b93b9baf.jpg  \n",
            " extracting: train/images/v1_51_jpg.rf.085cc90dcd724cf17795d587d4894822.jpg  \n",
            " extracting: train/images/v1_51_jpg.rf.447e4dfbda841a53ffa0b148f96de25f.jpg  \n",
            " extracting: train/images/v1_61_jpg.rf.3e3c1dca77c3f4a78da95c071ccf055e.jpg  \n",
            " extracting: train/images/v1_61_jpg.rf.59541f3b56bbb507df4b5bf402227d62.jpg  \n",
            " extracting: train/images/v1_62_jpg.rf.ed8c8e9258f76b32d7756a493c577ba2.jpg  \n",
            " extracting: train/images/v1_65_jpg.rf.86b8153ae484f57518fa51395aa47e30.jpg  \n",
            " extracting: train/images/v1_65_jpg.rf.906f733d40aaad502f16f9abc58fc1fb.jpg  \n",
            " extracting: train/images/v1_69_jpg.rf.94a6aa1ee71a8b5c16c4d00703c0aebc.jpg  \n",
            " extracting: train/images/v1_69_jpg.rf.997a6fb7e2a1a44fa2b209ef76ba13fa.jpg  \n",
            " extracting: train/images/v1_7_jpg.rf.750258248acc33137ebb934e6af0fa6c.jpg  \n",
            " extracting: train/images/v1_7_jpg.rf.f40559ac060a0a52f854774390c507a2.jpg  \n",
            " extracting: train/images/v1_9_jpg.rf.4095076b7f37a6c768b5df454a7292e1.jpg  \n",
            " extracting: train/images/v1_9_jpg.rf.e9e37eb9195cb6e0ff902916042bc916.jpg  \n",
            " extracting: train/images/v2_15_jpg.rf.116cefe01e2a28cca09d606c3668d078.jpg  \n",
            " extracting: train/images/v2_15_jpg.rf.49c418fb146afe6ec7f4c36714db6843.jpg  \n",
            " extracting: train/images/v2_23_jpg.rf.1086ad9bba09b9e6032060a9998cca9f.jpg  \n",
            " extracting: train/images/v2_23_jpg.rf.7dba97441c8e8ddee5d4bad9a0050d4c.jpg  \n",
            " extracting: train/images/v2_26_jpg.rf.2d4df91c1e6102964566b32fa7c68539.jpg  \n",
            " extracting: train/images/v2_30_jpg.rf.c6b4916b1124a54d89528df868eeed06.jpg  \n",
            " extracting: train/images/v2_31_jpg.rf.87842cf09efb2a08925f1ef03167028d.jpg  \n",
            " extracting: train/images/v2_31_jpg.rf.ae2c1953e1a70de4c40cd4443f4df757.jpg  \n",
            " extracting: train/images/v2_32_jpg.rf.d5e91f27bee75ca878ee10a6f043b4d0.jpg  \n",
            " extracting: train/images/v2_33_jpg.rf.d325c9e52021dbeb6c8b01067887c0a4.jpg  \n",
            " extracting: train/images/v2_34_jpg.rf.8a3f30ea3013b43ee76d332f126de2c1.jpg  \n",
            " extracting: train/images/v2_35_jpg.rf.3583f1557988a4e9737d2091128f7e10.jpg  \n",
            " extracting: train/images/v2_35_jpg.rf.35ce6febac90d7a2c7af436acb33c485.jpg  \n",
            " extracting: train/images/v2_36_jpg.rf.44a2f43726c088696b71ad267f74de1e.jpg  \n",
            " extracting: train/images/v2_36_jpg.rf.57a963c37ba2e0e13a136609233939cb.jpg  \n",
            " extracting: train/images/v2_37_jpg.rf.77144106833e68a23da39db54224c309.jpg  \n",
            " extracting: train/images/v2_39_jpg.rf.00e3ecc87d7a0fadcf2eff4daff68a4b.jpg  \n",
            " extracting: train/images/v2_39_jpg.rf.e1f43eca67c1412a3b16c0ccd40d9753.jpg  \n",
            " extracting: train/images/v2_3_jpg.rf.30580518a49c7ac46b2c2b796124e70d.jpg  \n",
            " extracting: train/images/v2_3_jpg.rf.6ce4478601bf040839fe0843b77fea64.jpg  \n",
            " extracting: train/images/v2_40_jpg.rf.a4b09449acd2b839fc8702fe2a6e1cc6.jpg  \n",
            " extracting: train/images/v2_41_jpg.rf.c217542af46d504654fb553010bee814.jpg  \n",
            " extracting: train/images/v2_42_jpg.rf.8eb508e509b8e485deb4b508eb542bb3.jpg  \n",
            " extracting: train/images/v2_43_jpg.rf.07a5602f00e20c3bc4c0dfa2ac3a8063.jpg  \n",
            " extracting: train/images/v2_44_jpg.rf.7c4a562413e404ab8f0507449d1c7fe5.jpg  \n",
            " extracting: train/images/v2_46_jpg.rf.495f103e6f3f42e7c569445ae5160648.jpg  \n",
            " extracting: train/images/v2_61_jpg.rf.f9e423f4d9fce37b214ea38af026e241.jpg  \n",
            " extracting: train/images/video1_000_jpg.rf.634390cf855f161bbd021c44c9743680.jpg  \n",
            " extracting: train/images/video1_001_jpg.rf.6138c70546b98b4470e8bb0f893ab4b2.jpg  \n",
            " extracting: train/images/video1_003_jpg.rf.07abee424efd2693de6ef2ea0f52480f.jpg  \n",
            " extracting: train/images/video1_004_jpg.rf.e2b056873d958554eaa05dde2ab46e68.jpg  \n",
            " extracting: train/images/video1_005_jpg.rf.79a414c5dde6d9233f1d3e4c2d15d68d.jpg  \n",
            " extracting: train/images/video1_006_jpg.rf.e71cc0f3fc4af39d14369bbdfe256af4.jpg  \n",
            " extracting: train/images/video1_008_jpg.rf.cad5f42e4b453ec86d9963503a227639.jpg  \n",
            " extracting: train/images/video1_009_jpg.rf.842da4dc230751f349390a737321c684.jpg  \n",
            " extracting: train/images/video1_011_jpg.rf.8d238b6f813f5c4069529b503ce1f43a.jpg  \n",
            " extracting: train/images/video1_013_jpg.rf.f43d26d8c21ad16b9acb06ef7bdb20f4.jpg  \n",
            " extracting: train/images/video1_014_jpg.rf.506a8c051e81a74dca62c32f9a425472.jpg  \n",
            " extracting: train/images/video1_016_jpg.rf.6c058bfa58c4ca49fea5850a587eeb1d.jpg  \n",
            " extracting: train/images/video1_017_jpg.rf.437a4bfb364ca424bf45d40dca2919a6.jpg  \n",
            " extracting: train/images/video1_018_jpg.rf.c3bb5a5476760936825a6a51efbdd37b.jpg  \n",
            " extracting: train/images/video1_019_jpg.rf.76b76d830e0c9f1ea3ab4086f20acd23.jpg  \n",
            " extracting: train/images/video1_020_jpg.rf.3f343885cd9b37e08f7d82b8df3f6395.jpg  \n",
            " extracting: train/images/video1_021_jpg.rf.4d8f6e2908e170c9b4acb404f53c0c76.jpg  \n",
            " extracting: train/images/video1_023_jpg.rf.9e3d0ea9888be841eea9f137a493dcf0.jpg  \n",
            " extracting: train/images/video1_025_jpg.rf.c199fa8dc98e181811fd3bff2fb3006e.jpg  \n",
            " extracting: train/images/video1_026_jpg.rf.1a443aa8c4acff161cc1a8118a8f75af.jpg  \n",
            " extracting: train/images/video1_027_jpg.rf.5b5cd730d1202bff8e321269a28cf4a0.jpg  \n",
            " extracting: train/images/video1_028_jpg.rf.fb6801147b859b12e01958f7ad16335d.jpg  \n",
            " extracting: train/images/video1_033_jpg.rf.3c28e2cb5fcc1d614cc6a294f4468a14.jpg  \n",
            " extracting: train/images/video1_036_jpg.rf.dbbd0bfaecacad6b492452d1b471982f.jpg  \n",
            " extracting: train/images/video1_038_jpg.rf.d0ede84aa64eeba424fca2f2a37a1335.jpg  \n",
            " extracting: train/images/video1_044_jpg.rf.a2e12e9f2a8789b71fb2ad93280aaaa1.jpg  \n",
            " extracting: train/images/video1_046_jpg.rf.f256f3e48cd154a4480bb77bb993d26c.jpg  \n",
            " extracting: train/images/video1_047_jpg.rf.175b196bb9b2c6a6cf42db8d897e8e9d.jpg  \n",
            " extracting: train/images/video1_049_jpg.rf.31797b774821182ffbcacef871a7b5fc.jpg  \n",
            " extracting: train/images/video1_050_jpg.rf.5aa1c041fb66dbe4697bca70ba84aaca.jpg  \n",
            " extracting: train/images/video1_053_jpg.rf.7a001a77878c173b0192154545ebb0e8.jpg  \n",
            " extracting: train/images/video1_054_jpg.rf.0b46f3b055b98997283bd4da58577c26.jpg  \n",
            " extracting: train/images/video1_055_jpg.rf.a4cf4d53c18ccc4a4023e35c2786a082.jpg  \n",
            " extracting: train/images/video1_056_jpg.rf.eb4be4ae2907247711e7edd6c5968873.jpg  \n",
            " extracting: train/images/video1_057_jpg.rf.b55042c362db82d69e12da7f770668b4.jpg  \n",
            " extracting: train/images/video1_058_jpg.rf.25f3f7565946f0c4f0f921a22d67aa7e.jpg  \n",
            " extracting: train/images/video1_060_jpg.rf.c71373b7d44539e6a2714be0e1d9197e.jpg  \n",
            " extracting: train/images/video1_062_jpg.rf.67b6d316ec30b094097fe16118c6e3c9.jpg  \n",
            " extracting: train/images/video1_063_jpg.rf.6d3f2cdb8cf4ec8e8f3f0815ce4ea7d5.jpg  \n",
            " extracting: train/images/video1_064_jpg.rf.4af62e18c743f5ad2161d8400c6156ba.jpg  \n",
            " extracting: train/images/video1_066_jpg.rf.7aac10504d70447f5d58a01534a3f1eb.jpg  \n",
            " extracting: train/images/video1_067_jpg.rf.6dfa180cad46e96b5ec7174d722351b1.jpg  \n",
            " extracting: train/images/video1_068_jpg.rf.6b903c2c98de359739fd57c08afa2111.jpg  \n",
            " extracting: train/images/video1_071_jpg.rf.3ab37485b12ef30afed7cf59b6085502.jpg  \n",
            " extracting: train/images/video1_072_jpg.rf.08fdefc62e8510a206836614c5e3285c.jpg  \n",
            " extracting: train/images/video1_074_jpg.rf.df5dc1f041683851bc5761c48f351e06.jpg  \n",
            " extracting: train/images/video1_075_jpg.rf.899a476b17f3c1e664b293264c731e62.jpg  \n",
            " extracting: train/images/video1_076_jpg.rf.c353a9e126a89e710e55e3f4776b2604.jpg  \n",
            " extracting: train/images/video1_077_jpg.rf.ae5a41439ffd27d5eb8588bc37d816f3.jpg  \n",
            " extracting: train/images/video1_078_jpg.rf.e3d09eca4b0160104bb1e509852e78ce.jpg  \n",
            " extracting: train/images/video1_079_jpg.rf.15b29a29f5d77e18ab0e03af00a6d323.jpg  \n",
            " extracting: train/images/video1_080_jpg.rf.d7f236076aca1b7657da0d4cb7a8be51.jpg  \n",
            " extracting: train/images/video1_081_jpg.rf.f666ed04a2e3fce3edd9e23afcb4ebaf.jpg  \n",
            " extracting: train/images/video1_082_jpg.rf.8461ce5fcbe27cfee2b901ebc47e9656.jpg  \n",
            " extracting: train/images/video1_083_jpg.rf.18aa6ef267a4ad3f3f5b14997b3850a1.jpg  \n",
            " extracting: train/images/video1_084_jpg.rf.c4881efccdf0be8e3070193c0e4a2f10.jpg  \n",
            " extracting: train/images/video1_085_jpg.rf.cbbf03513923e3f3bdac1829772d5104.jpg  \n",
            " extracting: train/images/video1_086_jpg.rf.3e827b2b896561aed2ef4f18d0aff88f.jpg  \n",
            " extracting: train/images/video1_088_jpg.rf.5f90576a7bab6e3bb10cf4c865d8c283.jpg  \n",
            " extracting: train/images/video1_089_jpg.rf.188b223af0af895988c18d79cbdfa4c0.jpg  \n",
            " extracting: train/images/video1_090_jpg.rf.85bd24c56f5603d0ddccaf3e8f9abdae.jpg  \n",
            " extracting: train/images/video1_091_jpg.rf.133de7cfb7bbd150349cb2b73c0d7b49.jpg  \n",
            " extracting: train/images/video1_094_jpg.rf.701898d693dffbf53d794bbd6a09c802.jpg  \n",
            " extracting: train/images/video1_095_jpg.rf.7df981c1a422f57394d2430ad5b48786.jpg  \n",
            " extracting: train/images/video1_098_jpg.rf.385890e940ab47484211f71e0ec88a88.jpg  \n",
            " extracting: train/images/video1_099_jpg.rf.6d7765057023313645cf75585a96c38f.jpg  \n",
            " extracting: train/images/video1_100_jpg.rf.edd2512f75ab892378448fb8eb83d8bd.jpg  \n",
            " extracting: train/images/video1_101_jpg.rf.10b8878fd5199b05045a6c33b8929d10.jpg  \n",
            " extracting: train/images/video2_001_jpg.rf.f367e3ae6d52ba1acf73260af65c8b4f.jpg  \n",
            " extracting: train/images/video2_002_jpg.rf.d5c45d58856662eb68a8b1e920fb6a61.jpg  \n",
            " extracting: train/images/video2_003_jpg.rf.77877d19d8ed0482b4013a1915872037.jpg  \n",
            " extracting: train/images/video2_004_jpg.rf.15856c42a1a39dd43a5183976205a05e.jpg  \n",
            " extracting: train/images/video2_005_jpg.rf.bc8225c13121f7da156661674cb86a65.jpg  \n",
            " extracting: train/images/video2_006_jpg.rf.0341ebefc2e685883be2b8e1930ebd75.jpg  \n",
            " extracting: train/images/video2_007_jpg.rf.5ae7261616ce2b1407183f714cf8a085.jpg  \n",
            " extracting: train/images/video2_008_jpg.rf.023b2f59b61f67aa39baba40d9a25bd8.jpg  \n",
            " extracting: train/images/video2_009_jpg.rf.0ca3d48da971a62628ce706a13c31fa5.jpg  \n",
            " extracting: train/images/video2_010_jpg.rf.5fa4586d6c14990dcba1e0326adda210.jpg  \n",
            " extracting: train/images/video2_011_jpg.rf.482ed662cc534ba49f42ad187ef258fa.jpg  \n",
            " extracting: train/images/video2_012_jpg.rf.ec150294c870a1a049ebfdaf5818b991.jpg  \n",
            " extracting: train/images/video2_014_jpg.rf.59fa24c61da79ca4e6a5349e6adcec00.jpg  \n",
            " extracting: train/images/video2_015_jpg.rf.765ed3cdb685dee08eca88c296d80a25.jpg  \n",
            " extracting: train/images/video2_016_jpg.rf.6e91648cd773f63e8096a269400ee947.jpg  \n",
            " extracting: train/images/video2_017_jpg.rf.39b39dabaeca87dfe74c0a2deca16b7e.jpg  \n",
            " extracting: train/images/video2_018_jpg.rf.0eaacbf16df145e206c4112b76e2ee64.jpg  \n",
            " extracting: train/images/video2_019_jpg.rf.5fcebd1c4a690dd5c1622d3c12e277bd.jpg  \n",
            " extracting: train/images/video2_020_jpg.rf.64c4d44e206eaf319f8558b52da85038.jpg  \n",
            " extracting: train/images/video2_021_jpg.rf.a058155bb3d9d9b2643cb9ca0a373952.jpg  \n",
            " extracting: train/images/video2_022_jpg.rf.c80e3aff7f9b10be9a6427e9571eb6ff.jpg  \n",
            " extracting: train/images/video2_023_jpg.rf.3d4a4e568120d9b79ac0f8632406a93a.jpg  \n",
            " extracting: train/images/video2_024_jpg.rf.b3bf5e87e81b156774044ddeda5c2115.jpg  \n",
            " extracting: train/images/video2_026_jpg.rf.57f6aa3142a1a21a9ddfe90f5166776b.jpg  \n",
            " extracting: train/images/video2_027_jpg.rf.f75fc120dd155453f15c9909090bbef5.jpg  \n",
            " extracting: train/images/video2_028_jpg.rf.7d88c4eb1deb1d60f8101451ac1eca0c.jpg  \n",
            " extracting: train/images/video2_030_jpg.rf.aa64415218d8c80babd620d4a31db599.jpg  \n",
            " extracting: train/images/video2_031_jpg.rf.9fef2b775ece95ee3acf17212268e1e4.jpg  \n",
            " extracting: train/images/video2_032_jpg.rf.1c825e3c9d079ec4f48f5512f6b88245.jpg  \n",
            " extracting: train/images/video2_033_jpg.rf.5b1e8ecbdd565793e7cba7c23682489a.jpg  \n",
            " extracting: train/images/video2_034_jpg.rf.93753f572941f3271bb94801db4ab213.jpg  \n",
            " extracting: train/images/video2_037_jpg.rf.2f9826f345e861431e5315dd0dc4d750.jpg  \n",
            " extracting: train/images/video2_038_jpg.rf.c23527c36ec8fc72157b93a981e1412b.jpg  \n",
            " extracting: train/images/video2_039_jpg.rf.defe5d16c50768fe16dc7554c6d88863.jpg  \n",
            " extracting: train/images/video2_040_jpg.rf.74a992cd0ca6c9e053e36ceec20cc763.jpg  \n",
            " extracting: train/images/video2_041_jpg.rf.3bbd613c11ce7641c9ed2e730a7baa7b.jpg  \n",
            " extracting: train/images/video2_042_jpg.rf.2e008d90084d1c7d8410dfa8f73f1b21.jpg  \n",
            " extracting: train/images/video2_043_jpg.rf.a4e230bc1380452f88f79ebbece8827b.jpg  \n",
            " extracting: train/images/video2_045_jpg.rf.98f7158fa1b20b50cbc954025184a5b5.jpg  \n",
            " extracting: train/images/video2_047_jpg.rf.8ac326e911e97682bc5096de654d9f03.jpg  \n",
            " extracting: train/images/video2_048_jpg.rf.455a5465051d0ea5f886a414da22af4d.jpg  \n",
            " extracting: train/images/video2_050_jpg.rf.7c712a24328942786f4ad33e689a5523.jpg  \n",
            " extracting: train/images/video2_051_jpg.rf.542581ab2cee455c0f4a62966fe7f2e4.jpg  \n",
            " extracting: train/images/video2_052_jpg.rf.990040d609237188b12359090ed3bd4c.jpg  \n",
            " extracting: train/images/video2_054_jpg.rf.d44770a2fd1b08b345afde99c473268a.jpg  \n",
            " extracting: train/images/video2_056_jpg.rf.8076482cb7b90dc4551bfa139edcaf66.jpg  \n",
            " extracting: train/images/video2_057_jpg.rf.67c2976a2f5ccd778dd4271f46f653b8.jpg  \n",
            " extracting: train/images/video2_059_jpg.rf.a8083bd3b5c862d8b18d253359cd54b8.jpg  \n",
            " extracting: train/images/video2_060_jpg.rf.d090a86fab1d7c9947681d4b39da417c.jpg  \n",
            " extracting: train/images/video2_061_jpg.rf.b94bc6a033023f6dea2dc7d2fd91bf2a.jpg  \n",
            " extracting: train/images/video2_062_jpg.rf.482d9f50292def1cce1b5a4bfec44264.jpg  \n",
            " extracting: train/images/video2_066_jpg.rf.fb349a851fbb1ad12831c0444f1b2852.jpg  \n",
            " extracting: train/images/video2_067_jpg.rf.6eb7cf17e49a5d1b99ee39a5ddeffd5a.jpg  \n",
            " extracting: train/images/video2_068_jpg.rf.ce9b9e1d39b99bb21440b09abe170e8b.jpg  \n",
            " extracting: train/images/video2_069_jpg.rf.e0ae67a5dbaf688bed491e67622ff31b.jpg  \n",
            " extracting: train/images/video2_070_jpg.rf.3b91ad6fa6bbfbe597892a37c1b96d6c.jpg  \n",
            " extracting: train/images/video2_072_jpg.rf.2821ea9822496590cbfca597b058c39c.jpg  \n",
            " extracting: train/images/video2_073_jpg.rf.d3a6f785a7bbdcb23c94e54479b533bb.jpg  \n",
            " extracting: train/images/video2_074_jpg.rf.121b5156ba34db4bfd42a1b84e382e23.jpg  \n",
            " extracting: train/images/video2_075_jpg.rf.198a586d1c415f68ef1d92e9f7cd7875.jpg  \n",
            " extracting: train/images/video2_076_jpg.rf.77f0d2515b487ca3185224a46846a24d.jpg  \n",
            " extracting: train/images/video2_077_jpg.rf.2aeac45cd5c67b2ee66c3f75ceb15422.jpg  \n",
            " extracting: train/images/video2_079_jpg.rf.1359a07178e3e733be283e0d59ec41b0.jpg  \n",
            " extracting: train/images/video2_081_jpg.rf.3d5474764cfc47d167a9ecfcf3e32413.jpg  \n",
            " extracting: train/images/video2_082_jpg.rf.58b6f42a48c951f12cf0ab50fb01a30c.jpg  \n",
            " extracting: train/images/video2_083_jpg.rf.427a2287430df8a695214ae83646edbd.jpg  \n",
            " extracting: train/images/video2_084_jpg.rf.e9adbc093d2046432c34fb8d9a8d4819.jpg  \n",
            " extracting: train/images/video2_085_jpg.rf.d3e3340d244fe2e5d94a96aaed929744.jpg  \n",
            " extracting: train/images/video2_087_jpg.rf.35e67633dfcd5437d5fd3010e0d784a6.jpg  \n",
            " extracting: train/images/video2_088_jpg.rf.b111eefdd2359d6196997010ba5e7837.jpg  \n",
            " extracting: train/images/video2_089_jpg.rf.ae53c9e03c0f0636fa5314b7a811dcbd.jpg  \n",
            " extracting: train/images/video2_090_jpg.rf.da3db253156a74d95d413f456bc71283.jpg  \n",
            " extracting: train/images/video2_091_jpg.rf.57b95ff2dbd360b3e000006c9cd627ae.jpg  \n",
            " extracting: train/images/video2_092_jpg.rf.afdc9b75fc6d3ea26a5a1ff9d24a8aaa.jpg  \n",
            " extracting: train/images/video2_093_jpg.rf.8ba57fc40650abd569b278cc443af8a0.jpg  \n",
            " extracting: train/images/video2_094_jpg.rf.e33b5e15b0c2cea7fe80f8eae2af1897.jpg  \n",
            " extracting: train/images/video2_095_jpg.rf.1e015e2f521c23887fd043240b9555d3.jpg  \n",
            " extracting: train/images/video2_096_jpg.rf.712266123d6487bacd2b6680acffb55d.jpg  \n",
            " extracting: train/images/video2_097_jpg.rf.157898e3449cfbee63d96a90e44a96da.jpg  \n",
            " extracting: train/images/video2_098_jpg.rf.962a0c45aec5a516c9e02cf8ec6244a3.jpg  \n",
            " extracting: train/images/video2_099_jpg.rf.8d50570f0dea13a9b0d723c902035f69.jpg  \n",
            " extracting: train/images/video2_100_jpg.rf.1e46383f5c7caa0ed077ca4c6327f563.jpg  \n",
            " extracting: train/images/video3_039_jpg.rf.ce0a286d270f88b1401abc8bfbbd91c9.jpg  \n",
            " extracting: train/images/video3_040_jpg.rf.e2f95a61619f1dd917fd00c41351720f.jpg  \n",
            " extracting: train/images/video3_044_jpg.rf.6e7782ec2cf0a6a009450d211864d877.jpg  \n",
            " extracting: train/images/video3_045_jpg.rf.02c39290f330ae7a93defbee2d9dd0c6.jpg  \n",
            " extracting: train/images/video3_046_jpg.rf.2cc33f07fb92152ad95b51925cfe9099.jpg  \n",
            " extracting: train/images/video3_047_jpg.rf.64fc01876410b16433b22806ea2ab777.jpg  \n",
            " extracting: train/images/video3_049_jpg.rf.22b53ea4d39aa6585c26cf6dc1e38c65.jpg  \n",
            " extracting: train/images/video3_050_jpg.rf.1e1bbc9668b54d3fdeb0d70819eac78d.jpg  \n",
            " extracting: train/images/video3_051_jpg.rf.ffc627db198bc60f7fcb5361aebbd501.jpg  \n",
            " extracting: train/images/video3_052_jpg.rf.0c3fb970be72e232b34dfce318a10125.jpg  \n",
            " extracting: train/images/video3_053_jpg.rf.d6198230c8860c1c1b262ece961109a8.jpg  \n",
            " extracting: train/images/video3_054_jpg.rf.5d90de7f6cc22657873389c10cb3498f.jpg  \n",
            " extracting: train/images/video3_055_jpg.rf.33db3d43e8d8dbf0f7555c37930befcc.jpg  \n",
            " extracting: train/images/video3_056_jpg.rf.a827debcf7b9aa53089bd767d20ea62f.jpg  \n",
            " extracting: train/images/video3_057_jpg.rf.7f074a42ce3f0e9897186bd981e57de6.jpg  \n",
            " extracting: train/images/video3_086_jpg.rf.8773132eb44cce753a3b8e9646b7bbcf.jpg  \n",
            " extracting: train/images/video3_091_jpg.rf.d7a653e4aabaea3b98ce15fbdc424972.jpg  \n",
            " extracting: train/images/video3_092_jpg.rf.e6c62b6bfefbf4cd320811a2c029b26b.jpg  \n",
            " extracting: train/images/video3_095_jpg.rf.32777aabd44356de39bfea00de5fc68f.jpg  \n",
            " extracting: train/images/video4_002_jpg.rf.d8681ba96dc826b69cbe3f73365bd9ed.jpg  \n",
            " extracting: train/images/video4_003_jpg.rf.b6b2299897103a09111d05da1ee2c068.jpg  \n",
            " extracting: train/images/video4_004_jpg.rf.2c260db480471b6e9f9dcef3332a3006.jpg  \n",
            " extracting: train/images/video4_005_jpg.rf.2112dfd918139244d952e231b4b748b3.jpg  \n",
            " extracting: train/images/video4_008_jpg.rf.426108a72c959b7949e114a93fa45dcb.jpg  \n",
            " extracting: train/images/video4_009_jpg.rf.437a5c3cd820edcf34cf0c23cef115a0.jpg  \n",
            " extracting: train/images/video4_011_jpg.rf.4c589c59346bca83b0e1b16bb2a5c746.jpg  \n",
            " extracting: train/images/video4_014_jpg.rf.6038513788bfe880fb2bb5d98bbbef99.jpg  \n",
            " extracting: train/images/video4_015_jpg.rf.91fed918fcb862ca3789ceb079ccebdb.jpg  \n",
            " extracting: train/images/video4_019_jpg.rf.77108af2f26597e31bf8a3c6efed690d.jpg  \n",
            " extracting: train/images/video4_027_jpg.rf.22c8c958eb961c58e0addedb00f6d6f7.jpg  \n",
            " extracting: train/images/video4_028_jpg.rf.70cdea74f455295ea63893d8ce5e5d24.jpg  \n",
            " extracting: train/images/video4_029_jpg.rf.9d84200fb7f9cca0accab5c45831c60d.jpg  \n",
            " extracting: train/images/video4_033_jpg.rf.0a5412b81361f12a580023db4c8da54c.jpg  \n",
            " extracting: train/images/video4_036_jpg.rf.736d63f667a0b58125d1642f8b114f2a.jpg  \n",
            " extracting: train/images/video4_039_jpg.rf.7b157335b606bca43a80226cd5621600.jpg  \n",
            " extracting: train/images/video4_042_jpg.rf.2b1ddaf659ac083775fc44ac9af27e99.jpg  \n",
            " extracting: train/images/video4_044_jpg.rf.edc9c17ac5447a3609dd7640a2056cf0.jpg  \n",
            " extracting: train/images/video4_047_jpg.rf.f60ced55511cd6d06218de8dc1f31845.jpg  \n",
            " extracting: train/images/video4_055_jpg.rf.fbd9cb5b40cbff495fe13d14140164ba.jpg  \n",
            " extracting: train/images/woman-hides-strawberries-in-her-handbag-while-shoplifting-in-the-supermarket-WXWWKP-1-_jpg.rf.1c5e21b339fe179fc4b900e3d25f7ced.jpg  \n",
            " extracting: train/images/woman-is-stealing-bottle-of-wine-and-hiding-it-in-handbag-in-supermarket-2D9DP8X_jpg.rf.4790fcda3ca74a6095e7ffd5be08dfa1.jpg  \n",
            " extracting: train/images/woman-shoplifting-in-a-store-RJ0NT9_jpg.rf.5b829a8fca383907c25cbc1e2e162432.jpg  \n",
            " extracting: train/images/woman-shoplifting-in-a-store-RJ0T4H_jpg.rf.18c922e54d239028b01d741d1b5b2dc6.jpg  \n",
            " extracting: train/images/woman-stealing-compact-makeup-powder-in-retail-store-shoplifting-theft-crime-2GNCM91_jpg.rf.cfbef43ba63c534a8417620880b501b9.jpg  \n",
            " extracting: train/images/young-casual-man-full-body-260nw-68570401_jpg.rf.219dcd3d22a2d455eb473983f554cfc4.jpg  \n",
            " extracting: train/images/young-casual-man-full-body-260nw-68570401_jpg.rf.b7f92079a59003002e39cdb6c499e7b7.jpg  \n",
            "   creating: train/labels/\n",
            " extracting: train/labels/0558_duong_di_bo_song_To_Lich_1_jpg.rf.6e42e8edc6078b3c10c893b628e1b1b2.txt  \n",
            " extracting: train/labels/0558_duong_di_bo_song_To_Lich_1_jpg.rf.b1f92d8b5da62c59897bcf08694d1ecf.txt  \n",
            " extracting: train/labels/0716_duong_di_bo_song_To_Lich_13_jpg.rf.a22627bfe033dbcf50726975a4efff97.txt  \n",
            " extracting: train/labels/0825-jpg_wh860_jpg.rf.3a3ebd6c241910a0fbd24069d485f78b.txt  \n",
            " extracting: train/labels/1-1-_jpg.rf.1f21264a4e952c3b3ee3d45357ffcc94.txt  \n",
            " extracting: train/labels/1-16668_human-walking-side-view-standing-hd-png-download_png_jpg.rf.1c9163f7a2429aa54ea821b7915e98b7.txt  \n",
            " extracting: train/labels/1-17289_people-walking-side-view-png-woman-people-walking_jpg.rf.4f5104163503a30324f2b2835f7e7754.txt  \n",
            " extracting: train/labels/1-1_10_jpg.rf.6f98b61309a302cb8e0caa1c40a93399.txt  \n",
            " extracting: train/labels/1-1_10_jpg.rf.a8ebbe422bf6aeb4b7fb8bedffc73006.txt  \n",
            " extracting: train/labels/1-1_11_jpg.rf.3ccd8b929277047343389c3fdd7cdadb.txt  \n",
            " extracting: train/labels/1-1_11_jpg.rf.79626a59299644e9384b88713d24e615.txt  \n",
            " extracting: train/labels/1-1_12_jpg.rf.b26e1a4f088476938007e752aae5c6a0.txt  \n",
            " extracting: train/labels/1-1_13_jpg.rf.ecd890cb312e9f1fc9c8ec4b0dfbe3a4.txt  \n",
            " extracting: train/labels/1-1_14_jpg.rf.c3d716afe472a814c62cdc316ff80e44.txt  \n",
            " extracting: train/labels/1-1_1_jpg.rf.f8ffb0826a731e78805f40c311baf31b.txt  \n",
            " extracting: train/labels/1-1_2_jpg.rf.d3493bd588716fdd7f23fdd7e58bd7a2.txt  \n",
            " extracting: train/labels/1-1_3_jpg.rf.1d3ab709f43fa508a817ccf3842aef1e.txt  \n",
            " extracting: train/labels/1-1_3_jpg.rf.b4ef3408ad2bef26c82c5b6b577edacf.txt  \n",
            " extracting: train/labels/1-1_4_jpg.rf.08a9e222533f4168cb77daf69817e7b3.txt  \n",
            " extracting: train/labels/1-1_4_jpg.rf.6e4e70cdad9097acf5bfe0de3e042cad.txt  \n",
            " extracting: train/labels/1-1_5_jpg.rf.27766ccb57a9eb4bc0ec7f791667d242.txt  \n",
            " extracting: train/labels/1-1_5_jpg.rf.d4fbe63bbdeec3727348611bb269b5c7.txt  \n",
            " extracting: train/labels/1-1_6_jpg.rf.2d02af4d0b28281e9827f238771f3d65.txt  \n",
            " extracting: train/labels/1-1_7_jpg.rf.cd0a39b1c26055abcff324b83a927ecc.txt  \n",
            " extracting: train/labels/1-1_9_jpg.rf.644c102ebddbecd61dd413d488afdcee.txt  \n",
            " extracting: train/labels/1-1_9_jpg.rf.7b9417c63adc97e2acfd3f4014b7dbe7.txt  \n",
            " extracting: train/labels/1-2-_jpg.rf.3351aba3df3ad06c535cf03c9add0063.txt  \n",
            " extracting: train/labels/1-2_10_jpg.rf.3f02fbacc4191dc016c6846f30fdd95d.txt  \n",
            " extracting: train/labels/1-2_11_jpg.rf.e51e8dc4b72cdf88d0aa5ae6c9a68dce.txt  \n",
            " extracting: train/labels/1-2_11_jpg.rf.e96d12fe17ce190057b888083385256f.txt  \n",
            " extracting: train/labels/1-2_12_jpg.rf.3606dfae4bb02740a77c4e0f15cc9da8.txt  \n",
            " extracting: train/labels/1-2_12_jpg.rf.ea468002363815f548133edd4b969f80.txt  \n",
            " extracting: train/labels/1-2_13_jpg.rf.9b246677bd5e400704933c9dfdbb5d47.txt  \n",
            " extracting: train/labels/1-2_13_jpg.rf.f16d85bd4b1013e2bf5dc08d72dab0fb.txt  \n",
            " extracting: train/labels/1-2_14_jpg.rf.385a3fdf08b77f22f5dd3b54d136a356.txt  \n",
            " extracting: train/labels/1-2_14_jpg.rf.ea16a408f5d4075c53fe0c1cd1050932.txt  \n",
            " extracting: train/labels/1-2_15_jpg.rf.5377dcb4a6dbca2662fe9c97f8113d92.txt  \n",
            " extracting: train/labels/1-2_16_jpg.rf.5d4777d85d47659dd4f4e77051be968f.txt  \n",
            " extracting: train/labels/1-2_18_jpg.rf.bd690462ab2c2b66abfae3e97376b2ca.txt  \n",
            " extracting: train/labels/1-2_18_jpg.rf.c2708c8c6ec096826055af3d81c3dbce.txt  \n",
            " extracting: train/labels/1-2_19_jpg.rf.95afccc2f7c1a4419fcf86622b514c93.txt  \n",
            " extracting: train/labels/1-2_1_jpg.rf.bbb577b2453634d99b23fcd863b829a6.txt  \n",
            " extracting: train/labels/1-2_20_jpg.rf.309ce9f10b62e5859e67594e5baa2fa5.txt  \n",
            " extracting: train/labels/1-2_21_jpg.rf.2e117f0da52724870c70ff6f3094b8d1.txt  \n",
            " extracting: train/labels/1-2_21_jpg.rf.c97052a34535aa94cb583f67ac705f5d.txt  \n",
            " extracting: train/labels/1-2_22_jpg.rf.00decfc355558f4885829e2e0060ac6d.txt  \n",
            " extracting: train/labels/1-2_22_jpg.rf.eb39770701d2cde31595d5bb61ee8c1f.txt  \n",
            " extracting: train/labels/1-2_23_jpg.rf.31a10769fdabaf0753d2d8db55920534.txt  \n",
            " extracting: train/labels/1-2_23_jpg.rf.4ede6c12d6b3e26d184b42a2c9acb2c3.txt  \n",
            " extracting: train/labels/1-2_24_jpg.rf.0a09905efb4e2f6fcaa52b781f16c88d.txt  \n",
            " extracting: train/labels/1-2_2_jpg.rf.f2c8f58518a0b657fa8b79207d072dbf.txt  \n",
            " extracting: train/labels/1-2_3_jpg.rf.2d5eb7f0ac297f4ffb4d7603f8d20db8.txt  \n",
            " extracting: train/labels/1-2_4_jpg.rf.ad07c8ba66b19550601de1b4087a0833.txt  \n",
            " extracting: train/labels/1-2_5_jpg.rf.db13693eb02b1f558cd412c2d8be7cd0.txt  \n",
            " extracting: train/labels/1-2_6_jpg.rf.79b7a819f67e7501564a53b45a515a15.txt  \n",
            " extracting: train/labels/1-2_8_jpg.rf.f8007e4b63abba53e5702d90372ff53d.txt  \n",
            " extracting: train/labels/1-2_9_jpg.rf.f43ac769d26b2ddf315aeec40d3a9be4.txt  \n",
            " extracting: train/labels/13-138589_png-asian-person-walking_png_jpg.rf.057696ed543235965266e0e1d10264df.txt  \n",
            " extracting: train/labels/13_jpg.rf.7e703efea6a9c4b47b251bc99db8f59a.txt  \n",
            " extracting: train/labels/13kamera-mamalar-Trim_mp4-0_jpg.rf.65000286ec0ea775a8b09268d13477f8.txt  \n",
            " extracting: train/labels/13kamera-mamalar-Trim_mp4-10_jpg.rf.b15ffbf32459fad5d76507fe22be8891.txt  \n",
            " extracting: train/labels/13kamera-mamalar-Trim_mp4-17_jpg.rf.141ebbf1d513f732ebd422d2a3135e2d.txt  \n",
            " extracting: train/labels/13kamera-mamalar-Trim_mp4-19_jpg.rf.bac1a1217790951c4a3d50ffbf4c52ab.txt  \n",
            " extracting: train/labels/13kamera-mamalar-Trim_mp4-1_jpg.rf.e8a9b059f2d4372d50d9dcf1901b402b.txt  \n",
            " extracting: train/labels/13kamera-mamalar-Trim_mp4-21_jpg.rf.b05a09f41b9bc099dda8c068441c991d.txt  \n",
            " extracting: train/labels/13kamera-mamalar-Trim_mp4-37_jpg.rf.807ba0c41b1921c7a30aba8d0a7bbe9e.txt  \n",
            " extracting: train/labels/13kamera-mamalar-Trim_mp4-3_jpg.rf.927050d661fc63cd1ca963d55d704191.txt  \n",
            " extracting: train/labels/13kamera-mamalar-Trim_mp4-49_jpg.rf.9756472a971206fc052d18778d021c61.txt  \n",
            " extracting: train/labels/13kamera-mamalar-Trim_mp4-5_jpg.rf.76a7f7880ce364c2ba7e0409c6661d28.txt  \n",
            " extracting: train/labels/13kamera-mamalar-Trim_mp4-8_jpg.rf.13e7322cbcb94f288f21199d0628161a.txt  \n",
            " extracting: train/labels/16A_jpg.rf.a03b782bed9d0bf4a1a598d696e9efa7.txt  \n",
            " extracting: train/labels/1796640-middle_jpg.rf.73e8c72150db7ce0d3a716a13e45c283.txt  \n",
            " extracting: train/labels/18_jpg.rf.c3b70c63b176d8bc688bf63e6ac444ea.txt  \n",
            " extracting: train/labels/18_jpg.rf.e64239be655ad7bd78b1efe90545d372.txt  \n",
            " extracting: train/labels/1_jpg.rf.32f8a6a127701159e1a2cff14b3f4d7a.txt  \n",
            " extracting: train/labels/1_jpg.rf.e632fc56d319f66c18f4b32f0e790b35.txt  \n",
            " extracting: train/labels/1_mp4-0_jpg.rf.f90b75551f5a1637505d302e1e7c9ede.txt  \n",
            " extracting: train/labels/1_mp4-10_jpg.rf.ef6ccd560d82dca525708c9eaab40cd1.txt  \n",
            " extracting: train/labels/1_mp4-13_jpg.rf.7f8619197c500f28057b4173e228361c.txt  \n",
            " extracting: train/labels/1_mp4-14_jpg.rf.5851cb7996060f520623dfbf37974ce8.txt  \n",
            " extracting: train/labels/1_mp4-1_jpg.rf.f9c5068b1beab186f850c51daeef36ea.txt  \n",
            " extracting: train/labels/1_mp4-3_jpg.rf.8d7aee82aca43f125565125098252faf.txt  \n",
            " extracting: train/labels/1_mp4-5_jpg.rf.837fa9dffa7de783813a36bf6f4cf7b7.txt  \n",
            " extracting: train/labels/1_mp4-6_jpg.rf.c1d544529f8b19679e9336a12d314b6d.txt  \n",
            " extracting: train/labels/1_mp4-7_jpg.rf.656a20be4e387a5c7de9301db00ba0e0.txt  \n",
            " extracting: train/labels/1_mp4-8_jpg.rf.0b2a09c01122365c17ea0753ca187b4e.txt  \n",
            " extracting: train/labels/1_mp4-9_jpg.rf.7c4bb9e5ba3a571a9072f6add75b7c95.txt  \n",
            " extracting: train/labels/2-1_11_jpg.rf.abc5b932ce32875d604893371a833c37.txt  \n",
            " extracting: train/labels/2-1_11_jpg.rf.fdcd21d54f1dd20e4be43dabb0c0eb95.txt  \n",
            " extracting: train/labels/2-1_12_jpg.rf.6b9cf42b5be8d694676e0c28dcb54c7e.txt  \n",
            " extracting: train/labels/2-1_13_jpg.rf.0d2cbbaf57f2b04933bac63d85aed610.txt  \n",
            " extracting: train/labels/2-1_13_jpg.rf.5fb138baf9b53bb6c151fbf57af507aa.txt  \n",
            " extracting: train/labels/2-1_14_jpg.rf.0eb5b3d7f111682975b235a3cfb66d4d.txt  \n",
            " extracting: train/labels/2-1_14_jpg.rf.a245a1e006b40349a4f6e996934fb4fb.txt  \n",
            " extracting: train/labels/2-1_15_jpg.rf.3ebbb0284e01c8e9023587e4243b811a.txt  \n",
            " extracting: train/labels/2-1_1_jpg.rf.bd5cdb3131619ffc3d0be66e32b6fcaf.txt  \n",
            " extracting: train/labels/2-1_1_jpg.rf.c5bb0a061327a495a9ec50ac60a8ec8a.txt  \n",
            " extracting: train/labels/2-1_2_jpg.rf.30fa2d6335a3b47def065b7c4a4ef474.txt  \n",
            " extracting: train/labels/2-1_3_jpg.rf.2d94b7b440964069ee4d684255dac5a3.txt  \n",
            " extracting: train/labels/2-1_3_jpg.rf.30adf092cf67e17661614eafc1699cb1.txt  \n",
            " extracting: train/labels/2-1_5_jpg.rf.0f3950ae0836fe99e6fab9aa056efece.txt  \n",
            " extracting: train/labels/2-1_5_jpg.rf.c32b2b02444e0c6e912c718d88afd52b.txt  \n",
            " extracting: train/labels/2-1_6_jpg.rf.a14db0ea13c949e6795c886a76fc85c0.txt  \n",
            " extracting: train/labels/2-1_7_jpg.rf.2e1cb3530b10f171345a2a76f1fb1c3a.txt  \n",
            " extracting: train/labels/2-1_7_jpg.rf.d41e11aa02822ad1fcc7b96f98eac8fd.txt  \n",
            " extracting: train/labels/2-1_8_jpg.rf.8811acc6c37709f2e149e966a1656182.txt  \n",
            " extracting: train/labels/2-2_10_jpg.rf.0e2e037aca2ec775796b2d0c36188fad.txt  \n",
            " extracting: train/labels/2-2_11_jpg.rf.3be243197b2ea09231b06bb78df5bd0f.txt  \n",
            " extracting: train/labels/2-2_11_jpg.rf.5c1b309d0054e40b84c0773259fc2f8f.txt  \n",
            " extracting: train/labels/2-2_12_jpg.rf.e321146413ba87dc21ecebe0e971c018.txt  \n",
            " extracting: train/labels/2-2_13_jpg.rf.9790829431a5334446f5d379aec108d2.txt  \n",
            " extracting: train/labels/2-2_14_jpg.rf.920e10a8d4aeec052720ddc8be5aefc8.txt  \n",
            " extracting: train/labels/2-2_15_jpg.rf.a104a24dbd1ec84e9096da0ce5c57804.txt  \n",
            " extracting: train/labels/2-2_15_jpg.rf.b089019d9e7be75b0b2e9781ad04bd8f.txt  \n",
            " extracting: train/labels/2-2_17_jpg.rf.7f8b003606bd13554274da988c8f71a0.txt  \n",
            " extracting: train/labels/2-2_18_jpg.rf.523d638c62725f1182cbcca6915cf3e2.txt  \n",
            " extracting: train/labels/2-2_19_jpg.rf.3330ff4407df41201ddfd9abc8649f30.txt  \n",
            " extracting: train/labels/2-2_19_jpg.rf.d65ff19b272adc8d17bc0200af6f8785.txt  \n",
            " extracting: train/labels/2-2_1_jpg.rf.618b21c9317f38dbc16600e2f38efec8.txt  \n",
            " extracting: train/labels/2-2_1_jpg.rf.c9aad63ec74c5783e93a69ee5c571dff.txt  \n",
            " extracting: train/labels/2-2_21_jpg.rf.5f4b69296f54c923925026ce0d1bd615.txt  \n",
            " extracting: train/labels/2-2_21_jpg.rf.9208569e1106a32b4fc94d83e25f4429.txt  \n",
            " extracting: train/labels/2-2_23_jpg.rf.302b03403661c51067563063f79435c8.txt  \n",
            " extracting: train/labels/2-2_2_jpg.rf.a4f8ba6c27d0edf2efed0fb601818a83.txt  \n",
            " extracting: train/labels/2-2_3_jpg.rf.93e3a13222d92509d2a3e040a6e8eb0b.txt  \n",
            " extracting: train/labels/2-2_3_jpg.rf.e606e36d7420468d63105aec47bd65aa.txt  \n",
            " extracting: train/labels/2-2_4_jpg.rf.1c1c88a5f5852b536a17c25ab67e6c82.txt  \n",
            " extracting: train/labels/2-2_5_jpg.rf.e1e68e8f8e931e41ff60ed5d27921994.txt  \n",
            " extracting: train/labels/2-2_6_jpg.rf.31a15f34d6e90756d1594cf336f797e8.txt  \n",
            " extracting: train/labels/2-2_7_jpg.rf.b65c51deef2b91ab78b8c4eed2dd6ea0.txt  \n",
            " extracting: train/labels/2-2_8_jpg.rf.7156e3eb25eec781cbc496399bef1a65.txt  \n",
            " extracting: train/labels/2-2_9_jpg.rf.291f89ae325b503835959746dbdf5915.txt  \n",
            " extracting: train/labels/2-2_9_jpg.rf.299642730af814c7ecb7bbdb9afbfbe4.txt  \n",
            " extracting: train/labels/20_jpg.rf.226e053d184ebbf94ab0799c46a109ac.txt  \n",
            " extracting: train/labels/21847675-groupe-de-personnes-reelles-diversite-occasionnel-isole-sur-fond-blanc_jpg.rf.0952e4c31c8f3ee48322cd87e307b52f.txt  \n",
            " extracting: train/labels/21847675-groupe-de-personnes-reelles-diversite-occasionnel-isole-sur-fond-blanc_jpg.rf.ceab289bb083105272aa5b8cc9ff8d2c.txt  \n",
            " extracting: train/labels/21858508-group-of-real-people-casual-diversity-isolated-on-white-background_jpg.rf.306c1baacb31048f328f864e2496ddbe.txt  \n",
            " extracting: train/labels/24_jpg.rf.828d4afd358e5886325350242da020ea.txt  \n",
            " extracting: train/labels/24_jpg.rf.d48f429aebc1981d79766ce71aa7581d.txt  \n",
            " extracting: train/labels/25447790-casual-young-man-standing-with-his-legs-crossed-in-a-relaxed-pose_jpg.rf.0ebae103678cc05c7a1f6488b2233dac.txt  \n",
            " extracting: train/labels/27140-0_png.rf.47e268e8e24dcf1672f2d694c082d6c6.txt  \n",
            " extracting: train/labels/27145-0_png.rf.de8c75febf5fbd5c21533f5dea9912e3.txt  \n",
            " extracting: train/labels/27146-0_png.rf.83e54ff7afde7abc9636222c9a089ff3.txt  \n",
            " extracting: train/labels/27147-0_png.rf.30d0ec01f322bd9802550d82b4c6b609.txt  \n",
            " extracting: train/labels/27148-0_png.rf.6fa3a20bdf95447456bae20037773518.txt  \n",
            " extracting: train/labels/27168-0_png.rf.d017fe308998bda5ee157880e6dd6c38.txt  \n",
            " extracting: train/labels/27181-0_png.rf.4355e1430260c23bc15baf516b40011b.txt  \n",
            " extracting: train/labels/27200-0_png.rf.aac7eb2e6fcbfa099d4b3ca89ea5231d.txt  \n",
            " extracting: train/labels/27201-0_png.rf.874ac6b820cdbd137ff3ff280b7f9fb5.txt  \n",
            " extracting: train/labels/27203-0_png.rf.4522f710edbbc94c068e40b055803e32.txt  \n",
            " extracting: train/labels/27204-0_png.rf.a7d9df12a99afe9dbba9e9f0c917f578.txt  \n",
            " extracting: train/labels/27205-0_png.rf.ae382f00f9a0cf5a5f4f11ed1362be3b.txt  \n",
            " extracting: train/labels/27206-0_png.rf.3fbec02f8d6f10a87d9a8e7a0b4c97af.txt  \n",
            " extracting: train/labels/27208-0_png.rf.b944f8bfb039b0991ec03ffb4c880daa.txt  \n",
            " extracting: train/labels/27214-0_png.rf.9ae36ab42b2a743c5914d5ce7e59c0e2.txt  \n",
            " extracting: train/labels/27238-0_png.rf.e3da8096d3b1c8b7e5dbb2f4e01e34e5.txt  \n",
            " extracting: train/labels/27302-0_png.rf.9573b5dd24ba327dd9c7c38707420930.txt  \n",
            " extracting: train/labels/27303-0_png.rf.6b5663056649c1a8a0da579f43f7c0f0.txt  \n",
            " extracting: train/labels/27305-0_png.rf.ea285edd46816777faf8fdd6350fcc7c.txt  \n",
            " extracting: train/labels/27307-0_png.rf.433b17e13b9b06104a47a0fa6efec391.txt  \n",
            " extracting: train/labels/27309-0_png.rf.7734a605a9b86a77241d1424145d7537.txt  \n",
            " extracting: train/labels/27315-0_png.rf.9eb291a2096675d68cb75b003c328315.txt  \n",
            " extracting: train/labels/27334-0_png.rf.25e20c41e9e0274850660f091a39fa94.txt  \n",
            " extracting: train/labels/27350-0_png.rf.ecf5cf21f6e697913b71fd059db9b931.txt  \n",
            " extracting: train/labels/27376-0_png.rf.08cc20d67eb422d3e0e6cfda2834056c.txt  \n",
            " extracting: train/labels/27384-0_png.rf.00bb3c401529ee561f008079878c100f.txt  \n",
            " extracting: train/labels/27401-0_png.rf.28be2aa8f13793a85cad8743089d6ea9.txt  \n",
            " extracting: train/labels/27406-0_png.rf.ae7ab614c298766433fbaa6511c41591.txt  \n",
            " extracting: train/labels/27407-0_png.rf.5e0786e08f56fd761b0ff9a2fbacdd52.txt  \n",
            " extracting: train/labels/27408-0_png.rf.9329ed83acbbb1a352aff934d02de9e2.txt  \n",
            " extracting: train/labels/27426-0_png.rf.a71dc6b878a3070cf1f7364ae3704146.txt  \n",
            " extracting: train/labels/27458-0_png.rf.2380ce9a34b956a11ab266e801d97568.txt  \n",
            " extracting: train/labels/27513-0_png.rf.899344be25af308015e7ee2b770726cd.txt  \n",
            " extracting: train/labels/27514-0_png.rf.baaa4ee333a00b0ebde538961a6a5448.txt  \n",
            " extracting: train/labels/27529-0_png.rf.ddec8e09039a4120575e585f88604a3c.txt  \n",
            " extracting: train/labels/27530-0_png.rf.1acf65338e3efcd911898da58b25b9ba.txt  \n",
            " extracting: train/labels/27532-0_png.rf.3d77ea41b4ea046fb916fe731890ef5f.txt  \n",
            " extracting: train/labels/27534-0_png.rf.377fc3fb1ad1adaad259d38684b4cb5a.txt  \n",
            " extracting: train/labels/27535-0_png.rf.6f5917519906efd4b2295c279af8af66.txt  \n",
            " extracting: train/labels/27536-0_png.rf.4f8f397c91b859bfda0c0460c827ddfc.txt  \n",
            " extracting: train/labels/27537-0_png.rf.4d5fb15dbd91840b4add00a3067093a0.txt  \n",
            " extracting: train/labels/27538-0_png.rf.160e19d78937aac1cfab3b16481ecc86.txt  \n",
            " extracting: train/labels/27540-0_png.rf.e8d2649f07a1cd9688665a8df97d839e.txt  \n",
            " extracting: train/labels/27544-0_png.rf.b5559c49ed5ac70187c519cfe8f5acb0.txt  \n",
            " extracting: train/labels/27557-0_png.rf.6ecf9beac28b5f99ca47fe91f15b7c10.txt  \n",
            " extracting: train/labels/27661-0_png.rf.df504780ec58d76663d90cdacac2095c.txt  \n",
            " extracting: train/labels/27662-0_png.rf.6717b25e80d076d5fbd7fa4855bc84a1.txt  \n",
            " extracting: train/labels/27677-0_png.rf.3008ba72dda73d83a9a1f85c8bbef835.txt  \n",
            " extracting: train/labels/27678-0_png.rf.5b155bf0b66ee8c8776d1c98720bd0eb.txt  \n",
            " extracting: train/labels/27744-0_png.rf.97dbde9de0382b44084cfa79a0632f14.txt  \n",
            " extracting: train/labels/28347-0_png.rf.d3cdc07adb63a8be6c5017017d95f44c.txt  \n",
            " extracting: train/labels/28355-0_png.rf.1f94e72aecfd0da091cef400400deb84.txt  \n",
            " extracting: train/labels/28363-0_png.rf.ddc4e6a040dfc6345e7defb23af3548e.txt  \n",
            " extracting: train/labels/28364-0_png.rf.41f102687564b26d1edfc24246636fed.txt  \n",
            " extracting: train/labels/28369-0_png.rf.0a0544a02b2642b89ece86b27d688460.txt  \n",
            " extracting: train/labels/28370-0_png.rf.6ca6e5c99906ce8129c1c70c8a92db2f.txt  \n",
            " extracting: train/labels/28371-0_png.rf.1760311c980d2ab717a12f39c74b5a5a.txt  \n",
            " extracting: train/labels/28372-0_png.rf.7f39d33d4fe19d3ab6c24c61ec969f72.txt  \n",
            " extracting: train/labels/28380-0_png.rf.48a5d6b0e5a641b7460731a4eb7f4a16.txt  \n",
            " extracting: train/labels/28387-0_png.rf.07391997118140fc173d1cc5b841646d.txt  \n",
            " extracting: train/labels/28397-0_png.rf.c52b0f1088544c0bdc3faa7695480bc1.txt  \n",
            " extracting: train/labels/28405-0_png.rf.98b372a9816495dc4e941976b6efbf14.txt  \n",
            " extracting: train/labels/28411-0_png.rf.253b782516e0afd7ab54cd5dbb4a5fd6.txt  \n",
            " extracting: train/labels/28419-0_png.rf.67910d923b78bf39525e369746d281b2.txt  \n",
            " extracting: train/labels/28427-0_png.rf.189b2095d2ba8d42176580f122d1bd64.txt  \n",
            " extracting: train/labels/28469-0_png.rf.e13656a905e87017a35e69dc5279da04.txt  \n",
            " extracting: train/labels/28519-0_png.rf.02951c8756de5fdcd63aa46015dce5a3.txt  \n",
            " extracting: train/labels/28520-0_png.rf.f71479093d06e152a7c0b28300a78be5.txt  \n",
            " extracting: train/labels/28522-0_png.rf.15fc32c9618fb457654b9421912d0797.txt  \n",
            " extracting: train/labels/28539-0_png.rf.55082f039a3ed4d2ba0e973eb034ecac.txt  \n",
            " extracting: train/labels/28547-0_png.rf.783608e9133731f7d86d03149c2e6280.txt  \n",
            " extracting: train/labels/28555-0_png.rf.84278e71936e867c4d9a173ea86e600d.txt  \n",
            " extracting: train/labels/28563-0_png.rf.1b45c70733945478f40acd35a9922de6.txt  \n",
            " extracting: train/labels/28564-0_png.rf.afdec114c9846fcd9ced56d7c308673c.txt  \n",
            " extracting: train/labels/28572-0_png.rf.d7395aa3803cefea33e49da724319190.txt  \n",
            " extracting: train/labels/28573-0_png.rf.ed5f7178dc44bbd43a969e516ca37594.txt  \n",
            " extracting: train/labels/28581-0_png.rf.ca2ff673e0601f1fe5d205c35e0a4b7c.txt  \n",
            " extracting: train/labels/28582-0_png.rf.173d12350df2adfbafa741b684273a01.txt  \n",
            " extracting: train/labels/28583-0_png.rf.13b325a4c1384f736ae941d78f315393.txt  \n",
            " extracting: train/labels/28584-0_png.rf.79855f87916972ade012f2a597a0d076.txt  \n",
            " extracting: train/labels/28586-0_png.rf.8357a64f7f48f70c5c361ce9d010c9cf.txt  \n",
            " extracting: train/labels/28587-0_png.rf.68a7b101c4a224fda6131523b5270c84.txt  \n",
            " extracting: train/labels/28588-0_png.rf.69720e5fa1c38e33cd79c43ec19d82b5.txt  \n",
            " extracting: train/labels/28589-0_png.rf.00f49127734133da2d0dea4b54abc659.txt  \n",
            " extracting: train/labels/28590-0_png.rf.3d337a8ed801ef4e3d019d6b50f26b3d.txt  \n",
            " extracting: train/labels/28591-0_png.rf.5502fa62f81de372e28d7eb5b3e0df9c.txt  \n",
            " extracting: train/labels/28592-0_png.rf.ebf32d0c6d13d74a155da06687c1deb4.txt  \n",
            " extracting: train/labels/28593-0_png.rf.eaa4d14702d668721cf4cae942aa5123.txt  \n",
            " extracting: train/labels/28594-0_png.rf.838f1dca1f5c7ec37a0351d9c2f862f1.txt  \n",
            " extracting: train/labels/28596-0_png.rf.677756bc46ce7e5c27b44418e60a0bf6.txt  \n",
            " extracting: train/labels/28597-0_png.rf.f8f8f18388bd82e0215132a5e899f3e6.txt  \n",
            " extracting: train/labels/28599-0_png.rf.b29f9f4021d1cad8bf7390b76f27f68f.txt  \n",
            " extracting: train/labels/28600-0_png.rf.f967e13bcb9e703460863e5d55db3fe2.txt  \n",
            " extracting: train/labels/28602-0_png.rf.e8a1fc6f253bb07673f83df5269bc895.txt  \n",
            " extracting: train/labels/28603-0_png.rf.a2d707f7007070e59dd5e4260c60a42b.txt  \n",
            " extracting: train/labels/28604-0_png.rf.6ab69d08ddec7c322d420fa634ce52e5.txt  \n",
            " extracting: train/labels/28605-0_png.rf.33edec31fc58befb6d72b0f452369236.txt  \n",
            " extracting: train/labels/28606-0_png.rf.2419e29e62060c5c3c9c0ea38f7a79da.txt  \n",
            " extracting: train/labels/28607-0_png.rf.9bcd7a43738f3c5cbf0a2820af20016e.txt  \n",
            " extracting: train/labels/28608-0_png.rf.113b979137ade8a0e1d22da5e7bdfe58.txt  \n",
            " extracting: train/labels/28609-0_png.rf.593230246b6adec9b1e12e7e1b7d8922.txt  \n",
            " extracting: train/labels/28610-0_png.rf.7d70ee1436f00892de361cdd90a1ef23.txt  \n",
            " extracting: train/labels/28611-0_png.rf.7e386568acb1efc76dd6176b81af54b7.txt  \n",
            " extracting: train/labels/28613-0_png.rf.2525f130808f1c9df4e5b61cdbc1cff8.txt  \n",
            " extracting: train/labels/28614-0_png.rf.7f320447e5b3b9ef93bdfb8801f447c6.txt  \n",
            " extracting: train/labels/28616-0_png.rf.1b5a006177618d2322f55cc097b7f608.txt  \n",
            " extracting: train/labels/28617-0_png.rf.1d36c52cdfca4e51dcdd73fe6380550e.txt  \n",
            " extracting: train/labels/28620-0_png.rf.c7ebdb40ff5f54985843a5135732674f.txt  \n",
            " extracting: train/labels/28621-0_png.rf.8ace16f30482e91c5822d55d5d03ebe0.txt  \n",
            " extracting: train/labels/28629-0_png.rf.146cd6a0bbec14e8b203076955fd08b8.txt  \n",
            " extracting: train/labels/28645-0_png.rf.e66f578d5760089673dada41dda9debd.txt  \n",
            " extracting: train/labels/28657-0_png.rf.cb7c1c6ee35e7fc662b3e923a663e636.txt  \n",
            " extracting: train/labels/28660-0_png.rf.d376107c3907ddd17e95243900e2de13.txt  \n",
            " extracting: train/labels/28661-0_png.rf.57c1740863a25de2e4c6d7174c71ed65.txt  \n",
            " extracting: train/labels/28666-0_png.rf.f75c129672de0675042a9d4a5b5a1ed5.txt  \n",
            " extracting: train/labels/28731-0_png.rf.0b1b25f9ac7750cf7052ee25b3e76de7.txt  \n",
            " extracting: train/labels/28732-0_png.rf.cbd08ba14810f8fae0a709dd59068a42.txt  \n",
            " extracting: train/labels/28739-0_png.rf.d1b6956c6774be6942944d471ddf4945.txt  \n",
            " extracting: train/labels/28740-0_png.rf.88de9a509793cac8db4865d93ca1642a.txt  \n",
            " extracting: train/labels/28829-0_png.rf.ac447c41fec865fa8079b0f92fb2f290.txt  \n",
            " extracting: train/labels/29768-0_png.rf.75bd1ad5589a33918700bf7be894a1b1.txt  \n",
            " extracting: train/labels/29805-0_png.rf.1729e6ec4d18ff119725fa6216a8201f.txt  \n",
            " extracting: train/labels/29823-0_png.rf.5670c022b61265d862824c274f71ae3b.txt  \n",
            " extracting: train/labels/29824-0_png.rf.d443c13716ed6eed8a9e4a65d48d0343.txt  \n",
            " extracting: train/labels/29825-0_png.rf.d882d94bf00753d48d4cf2a71de1a9de.txt  \n",
            " extracting: train/labels/29826-0_png.rf.37653beb864ab3516d1952c74523da0a.txt  \n",
            " extracting: train/labels/29827-0_png.rf.9795b1b67652434322c00221e3f3d43c.txt  \n",
            " extracting: train/labels/29828-0_png.rf.4173264cec25c72fe345fda2ad6ccbd2.txt  \n",
            " extracting: train/labels/29829-0_png.rf.f1e880c48e1bca77f5da5b75d3b66427.txt  \n",
            " extracting: train/labels/29856-0_png.rf.a450f967460bf92e3ce6f1a0d00234ca.txt  \n",
            " extracting: train/labels/29872-0_png.rf.8bdfca5a98ad546aa40b011879dc6529.txt  \n",
            " extracting: train/labels/29889-0_png.rf.e9c66da95f09946ef67f6ddca0bbe3cf.txt  \n",
            " extracting: train/labels/29892-0_png.rf.da2987d550154e6c37a5567511ac60d4.txt  \n",
            " extracting: train/labels/29894-0_png.rf.e173c6d1107e372e82fd7e38d755374a.txt  \n",
            " extracting: train/labels/29912-0_png.rf.a66db244c6aebca62a93f49beffacc48.txt  \n",
            " extracting: train/labels/29914-0_png.rf.b47d5f61e33dae9f9635c5c56cf39e57.txt  \n",
            " extracting: train/labels/29916-0_png.rf.b1f415b9130c41e4e62c95d68531cf3a.txt  \n",
            " extracting: train/labels/29917-0_png.rf.4528531f51b2bc5e9175d5d2daa1941e.txt  \n",
            " extracting: train/labels/29922-0_png.rf.0bb15101f7557f618321b21b002ebe86.txt  \n",
            " extracting: train/labels/29923-0_png.rf.34d780c5261e92ea13d328deedb76342.txt  \n",
            " extracting: train/labels/29924-0_png.rf.60b1c1dcdc7f640ac12283cf81d28e48.txt  \n",
            " extracting: train/labels/29925-0_png.rf.64862c04fe72bcc3edc3ea6a27f1a501.txt  \n",
            " extracting: train/labels/29927-0_png.rf.a4f35a8d5e5e5f2c5bfd40e6b5daa5fa.txt  \n",
            " extracting: train/labels/29928-0_png.rf.72561ac3098fd104c26cf2e9c9fc0ae0.txt  \n",
            " extracting: train/labels/29929-0_png.rf.d7024222dd7a470ec6fa37ec05d8d6f3.txt  \n",
            " extracting: train/labels/29930-0_png.rf.85790fefe0f106dcca27db83c26e470e.txt  \n",
            " extracting: train/labels/29931-0_png.rf.d425b27363cfb5ea8ea2f457458dd0e5.txt  \n",
            " extracting: train/labels/29935-0_png.rf.7de94fb49e93b16dd62a7b5bbd2a91ef.txt  \n",
            " extracting: train/labels/29939-0_png.rf.31529c0df89b781328382e3c45f15c42.txt  \n",
            " extracting: train/labels/29960-0_png.rf.9253c4474635adf5c285a74e01bf7d18.txt  \n",
            " extracting: train/labels/29961-0_png.rf.7cd11d9d9818e24cf800c988e5352f42.txt  \n",
            " extracting: train/labels/29963-0_png.rf.6a602c7a77e2dae98f3265c6eb1c6761.txt  \n",
            " extracting: train/labels/29964-0_png.rf.61be47fd07023cee69924a88f8811672.txt  \n",
            " extracting: train/labels/29965-0_png.rf.312de5ff27dc368f48606df08e29de68.txt  \n",
            " extracting: train/labels/29966-0_png.rf.8c4ab4af7964cf3a64e12d813f338894.txt  \n",
            " extracting: train/labels/29968-0_png.rf.b45e95d4fd53c3dbc16b0451cfe3284c.txt  \n",
            " extracting: train/labels/29969-0_png.rf.7c18495f030afa358bd6a0e048418064.txt  \n",
            " extracting: train/labels/29970-0_png.rf.c304a78af96997381706e9f5b80d2863.txt  \n",
            " extracting: train/labels/29971-0_png.rf.36700c5340f22e6e4a4bb958b48eb3f8.txt  \n",
            " extracting: train/labels/29972-0_png.rf.20166725332fbf30ed4a53184baacc42.txt  \n",
            " extracting: train/labels/29974-0_png.rf.b9be9549b5447fa01f939da8b8d6efbd.txt  \n",
            " extracting: train/labels/29975-0_png.rf.4df57d4c63286c4038e35f563ce3e88b.txt  \n",
            " extracting: train/labels/29976-0_png.rf.044932f37e3de98c8d0748f649ad2b80.txt  \n",
            " extracting: train/labels/29977-0_png.rf.e808a9c22bdf14d1723dce89c158e392.txt  \n",
            " extracting: train/labels/29978-0_png.rf.1a7c1c5b17c2ddcedb30ac6abc838b30.txt  \n",
            " extracting: train/labels/3-1_10_jpg.rf.74085d8173e88633841fa93f0c830b77.txt  \n",
            " extracting: train/labels/3-1_11_jpg.rf.833570a9af3329f7b017b45a16ad32a9.txt  \n",
            " extracting: train/labels/3-1_11_jpg.rf.8e61050eb5fa4a87e0cfcc68884ba35d.txt  \n",
            " extracting: train/labels/3-1_12_jpg.rf.41a2358fc69f696b5260cb15c47c5bf4.txt  \n",
            " extracting: train/labels/3-1_12_jpg.rf.858143fc903924fb42fa4f6aa08f09ca.txt  \n",
            " extracting: train/labels/3-1_13_jpg.rf.0c776b7a6c5f267f28579b460ec4a40f.txt  \n",
            " extracting: train/labels/3-1_14_jpg.rf.e36dc59233d19fb08d39ea98c49142c9.txt  \n",
            " extracting: train/labels/3-1_15_jpg.rf.0c2890449f528e47f0ebd5c247280315.txt  \n",
            " extracting: train/labels/3-1_17_jpg.rf.906a4accf98fcffeac4bf08ee794d679.txt  \n",
            " extracting: train/labels/3-1_18_jpg.rf.1b29f9dc994b4c305834607bf2764a6b.txt  \n",
            " extracting: train/labels/3-1_19_jpg.rf.9014e4026a9e9bf90cc69e98add8371e.txt  \n",
            " extracting: train/labels/3-1_1_jpg.rf.8e097c4a5b7691562c580c31c4668be7.txt  \n",
            " extracting: train/labels/3-1_1_jpg.rf.ddb9a385a77145debebbaa8e5558a3f9.txt  \n",
            " extracting: train/labels/3-1_20_jpg.rf.a4946787960b0a7dfc253ce84597f131.txt  \n",
            " extracting: train/labels/3-1_20_jpg.rf.f15fab40481e0cf584403693b0536732.txt  \n",
            " extracting: train/labels/3-1_21_jpg.rf.70e32719b9bdc92d5181f2b39a641e0c.txt  \n",
            " extracting: train/labels/3-1_21_jpg.rf.d2f09a9777759aa771cbf50bd64dca16.txt  \n",
            " extracting: train/labels/3-1_23_jpg.rf.069fd0f01b5b1ec57c4b6c8b2e7567e7.txt  \n",
            " extracting: train/labels/3-1_24_jpg.rf.0b2f0c42984aede22b5d1024c75cfe74.txt  \n",
            " extracting: train/labels/3-1_24_jpg.rf.c7365a6c74c3224cb7436f76b52b66ad.txt  \n",
            " extracting: train/labels/3-1_25_jpg.rf.94a0110b832735e13303ea57b71b5ecd.txt  \n",
            " extracting: train/labels/3-1_26_jpg.rf.0ba08aa09b8a0e42595c74e175ce268f.txt  \n",
            " extracting: train/labels/3-1_26_jpg.rf.997a9dad8017665ea68d2ea2b28820cd.txt  \n",
            " extracting: train/labels/3-1_27_jpg.rf.a413f2f89f217ee00de90652f17e01d0.txt  \n",
            " extracting: train/labels/3-1_28_jpg.rf.0365ae612b04f75c5629af8306cf5e08.txt  \n",
            " extracting: train/labels/3-1_29_jpg.rf.88e45f7a417aa3fa8237918baa2b5301.txt  \n",
            " extracting: train/labels/3-1_29_jpg.rf.fcfad7b31e64d8ee1c07d8e0c5494f69.txt  \n",
            " extracting: train/labels/3-1_2_jpg.rf.3854adf6f50e04fc0068bda061ad14bf.txt  \n",
            " extracting: train/labels/3-1_30_jpg.rf.747a8df0caa350022e41a40df60f62c1.txt  \n",
            " extracting: train/labels/3-1_31_jpg.rf.630bc0d2060450b4a3ca4747209af8f1.txt  \n",
            " extracting: train/labels/3-1_3_jpg.rf.8e9a1b9f19c33f00d51149d59aa13c86.txt  \n",
            " extracting: train/labels/3-1_4_jpg.rf.9eb4bbdd61e3b014f1f829c583c36026.txt  \n",
            " extracting: train/labels/3-1_5_jpg.rf.9d7d9832c8048f8002c5e809c0c92de0.txt  \n",
            " extracting: train/labels/3-1_5_jpg.rf.aa701b87cec283dea931ec348df47e24.txt  \n",
            " extracting: train/labels/3-1_6_jpg.rf.ae25f9b56ed323e7e8a8b07cb3cf1916.txt  \n",
            " extracting: train/labels/3-1_6_jpg.rf.d26f958ca8b97039e271f7352398fb28.txt  \n",
            " extracting: train/labels/3-1_7_jpg.rf.3b3e344c607d6162295c6fa6fea372d2.txt  \n",
            " extracting: train/labels/3-1_7_jpg.rf.974a2b13ee123343db9db48094433d83.txt  \n",
            " extracting: train/labels/3-1_8_jpg.rf.45dc6f9a7a82c36c06d5c41e37d3fef6.txt  \n",
            " extracting: train/labels/3-1_9_jpg.rf.a6b1fff8c1bc95765b2e9ac2f349d8b2.txt  \n",
            " extracting: train/labels/3-2_11_jpg.rf.2a983765a5211b8175ed91008622571c.txt  \n",
            " extracting: train/labels/3-2_11_jpg.rf.c464e97e1972af8f76d29af34f0e1def.txt  \n",
            " extracting: train/labels/3-2_12_jpg.rf.1526e2935035e51095707fd1bffbeacf.txt  \n",
            " extracting: train/labels/3-2_12_jpg.rf.3faa2806925601377eb75cef3ea86fa6.txt  \n",
            " extracting: train/labels/3-2_13_jpg.rf.4a0902eae95915f1dd674d518d273447.txt  \n",
            " extracting: train/labels/3-2_13_jpg.rf.973206cbb5ca1d52fe00d3ddd4fadd11.txt  \n",
            " extracting: train/labels/3-2_14_jpg.rf.258a922d007952f163c5be7781592089.txt  \n",
            " extracting: train/labels/3-2_14_jpg.rf.3b22126fe8433d7accb76fab93eda126.txt  \n",
            " extracting: train/labels/3-2_15_jpg.rf.58d012da926caf5a1b5a4adf8af5de52.txt  \n",
            " extracting: train/labels/3-2_16_jpg.rf.2f4899a9b1364330f5dfb9317ebea8c0.txt  \n",
            " extracting: train/labels/3-2_17_jpg.rf.6e2ca0991d6fa4fbde409b9f4f46c11d.txt  \n",
            " extracting: train/labels/3-2_17_jpg.rf.e06e38ce6a270624ccb1b6177e65ffd1.txt  \n",
            " extracting: train/labels/3-2_18_jpg.rf.1b7de787077726ea9e4030e8eaa29128.txt  \n",
            " extracting: train/labels/3-2_19_jpg.rf.0a1ef9f525607994d49ea246cad42e32.txt  \n",
            " extracting: train/labels/3-2_1_jpg.rf.7bf6ef125c00d788a608a28753c32ff2.txt  \n",
            " extracting: train/labels/3-2_20_jpg.rf.3bb0a79c72915799bd3812dfe188df1b.txt  \n",
            " extracting: train/labels/3-2_22_jpg.rf.11dd38ce03cd9718dee5c5c76ee0fd0c.txt  \n",
            " extracting: train/labels/3-2_23_jpg.rf.980b6be019cb93f8591340c679d30b50.txt  \n",
            " extracting: train/labels/3-2_23_jpg.rf.fbc82c65bfc522eaf8508ff49d2971d9.txt  \n",
            " extracting: train/labels/3-2_24_jpg.rf.5f0d141b121e0ee4f805ddcebd6da5cc.txt  \n",
            " extracting: train/labels/3-2_24_jpg.rf.7146811f6cbc7f00b7bfb5e1f8a843f2.txt  \n",
            " extracting: train/labels/3-2_25_jpg.rf.02619bbe1d50687a0aa2920a15ee17c0.txt  \n",
            " extracting: train/labels/3-2_25_jpg.rf.bdec1e62b3b27d01d0281ddd2e1a485f.txt  \n",
            " extracting: train/labels/3-2_26_jpg.rf.fba2262d68a9e5b7e15f5f403455805b.txt  \n",
            " extracting: train/labels/3-2_27_jpg.rf.15ab1fc8d668976af774c4110134a605.txt  \n",
            " extracting: train/labels/3-2_27_jpg.rf.57426365ed8dc6c782255cb2326c1603.txt  \n",
            " extracting: train/labels/3-2_28_jpg.rf.9adb94b1bbbd48c63cf29b3766a9fc89.txt  \n",
            " extracting: train/labels/3-2_28_jpg.rf.c6b9fe0e4e5274b568b4c656aa049a47.txt  \n",
            " extracting: train/labels/3-2_2_jpg.rf.64b1039e377dfb27efcc62d25ea7e1ed.txt  \n",
            " extracting: train/labels/3-2_2_jpg.rf.e42d04cdcc11828ce1a872ea2ae220b3.txt  \n",
            " extracting: train/labels/3-2_30_jpg.rf.8314863706e2af7eb0f8eeff3e066e53.txt  \n",
            " extracting: train/labels/3-2_31_jpg.rf.42224c8719c6b89ed96fc0fe36f089fc.txt  \n",
            " extracting: train/labels/3-2_31_jpg.rf.9eca483ce0d64058ac4f6479432fccdb.txt  \n",
            " extracting: train/labels/3-2_32_jpg.rf.b567db8b08117a64b522bdd0c7f34815.txt  \n",
            " extracting: train/labels/3-2_33_jpg.rf.a4ab72d75b34fbd0eecf5406be8b4285.txt  \n",
            " extracting: train/labels/3-2_3_jpg.rf.ef7b111ea7aff32ec723606e7c4f43cf.txt  \n",
            " extracting: train/labels/3-2_4_jpg.rf.a74fe4dd756a2e80cd955cdf5bbfd52b.txt  \n",
            " extracting: train/labels/3-2_5_jpg.rf.e5c54e2c6ffa69e80a0174df38093048.txt  \n",
            " extracting: train/labels/3-2_6_jpg.rf.8363142adacedd6fe66a4c100c6cf619.txt  \n",
            " extracting: train/labels/3-2_6_jpg.rf.d035e4491564fa09293e604b5de14267.txt  \n",
            " extracting: train/labels/3-2_7_jpg.rf.7a2c32005027b7f227b0821d8052efb7.txt  \n",
            " extracting: train/labels/3-2_8_jpg.rf.7381c493b115ea45c980b55e4ce5cda0.txt  \n",
            " extracting: train/labels/3-2_8_jpg.rf.9777fad1826927311307e8c8ae78ba7d.txt  \n",
            " extracting: train/labels/3-2_9_jpg.rf.93fbe1bcc6505f6749b40a42a7ee537c.txt  \n",
            " extracting: train/labels/30006-0_png.rf.8c7868a5d908d97c9a1e321f1f51b2f3.txt  \n",
            " extracting: train/labels/30014-0_png.rf.75b2ec92752b190ecba1835086428602.txt  \n",
            " extracting: train/labels/30025-0_png.rf.6c133fc724f2b0066a7c152d1ae481f5.txt  \n",
            " extracting: train/labels/30026-0_png.rf.2b14310a5899c2ee55ad5fe90743e336.txt  \n",
            " extracting: train/labels/30028-0_png.rf.451efc699070346816b04d5aa5be1f88.txt  \n",
            " extracting: train/labels/30030-0_png.rf.262fbb7017d7c3231a6b186a16830b3c.txt  \n",
            " extracting: train/labels/30031-0_png.rf.a4ae6a48003f4b4d9f19f26b4ebfe8a4.txt  \n",
            " extracting: train/labels/30036-0_png.rf.2f2a9e1dcfff8c1cf241731643cd8dbd.txt  \n",
            " extracting: train/labels/30037-0_png.rf.566fc3c87d0c816f0134a851a4370b32.txt  \n",
            " extracting: train/labels/30038-0_png.rf.529cf1b7d1596420eb5686ddc3130640.txt  \n",
            " extracting: train/labels/360_F_262210971_GhUPB6ryelh5qJ9K6ZBAlqbLCVC1Zraf_jpg.rf.03aaa5a13214c967cc304b9a840a5d0e.txt  \n",
            " extracting: train/labels/360_F_283818854_I6tRbnirh66veHundfx21eCeOpryqwGz_jpg.rf.cb156b5a6f3fec8fc8c612a4de6a7414.txt  \n",
            " extracting: train/labels/4-1_10_jpg.rf.39137e076444a18912cf2242146a72c5.txt  \n",
            " extracting: train/labels/4-1_10_jpg.rf.d4fee3729eb2ed107d8fd0dc4973c9fb.txt  \n",
            " extracting: train/labels/4-1_11_jpg.rf.3ab33ea0017834f262c86c9205c3bb27.txt  \n",
            " extracting: train/labels/4-1_11_jpg.rf.d6feebbea8757006369f8463cf4db8aa.txt  \n",
            " extracting: train/labels/4-1_12_jpg.rf.50780f39d28de4cb6049b3f9c065a1b9.txt  \n",
            " extracting: train/labels/4-1_14_jpg.rf.73c8fb384534da901ba1ccddc143f636.txt  \n",
            " extracting: train/labels/4-1_15_jpg.rf.b17b157df62f0e20ee3ce2d5a0e6d5f3.txt  \n",
            " extracting: train/labels/4-1_16_jpg.rf.9282eda6b955ac4724cc000f18eb8e46.txt  \n",
            " extracting: train/labels/4-1_17_jpg.rf.725249c4df8d1042c800b09d9711cd4b.txt  \n",
            " extracting: train/labels/4-1_18_jpg.rf.8820934653cc3e4195eb3a8ed08fa502.txt  \n",
            " extracting: train/labels/4-1_19_jpg.rf.a48eb98834dff2aa9b5938f494c5d8a1.txt  \n",
            " extracting: train/labels/4-1_20_jpg.rf.6d41f7c72d7ec53cf334656f5bfde207.txt  \n",
            " extracting: train/labels/4-1_21_jpg.rf.f70fa57309c52b4b663b653cafd860e0.txt  \n",
            " extracting: train/labels/4-1_22_jpg.rf.5225962c806bd85309ad2e900f1d6f1a.txt  \n",
            " extracting: train/labels/4-1_23_jpg.rf.b2128b8cb944909924e9efebd2f167b8.txt  \n",
            " extracting: train/labels/4-1_24_jpg.rf.07f9044190d417254373ae0b45591551.txt  \n",
            " extracting: train/labels/4-1_24_jpg.rf.e1697e16dff855c6781ff3f814ad1f44.txt  \n",
            " extracting: train/labels/4-1_25_jpg.rf.a6216c1e6caa3b03f0ec5d0d2fdffa83.txt  \n",
            " extracting: train/labels/4-1_25_jpg.rf.d7930c74bd28a189651d1ddd95c04f37.txt  \n",
            " extracting: train/labels/4-1_26_jpg.rf.0e347ac61ea9685c5930b7a2f96fd974.txt  \n",
            " extracting: train/labels/4-1_26_jpg.rf.2f9db1aca612a1049764dbbaf5e7c454.txt  \n",
            " extracting: train/labels/4-1_27_jpg.rf.ce2b29bb3bae13dc70826b608d6e8aa3.txt  \n",
            " extracting: train/labels/4-1_28_jpg.rf.55acbcce95120e34ae2dad2b127b18ae.txt  \n",
            " extracting: train/labels/4-1_28_jpg.rf.80a6505425a766d6cf3be426e2e268cc.txt  \n",
            " extracting: train/labels/4-1_29_jpg.rf.57bd945d673e7fed2ae82e91c36b2eae.txt  \n",
            " extracting: train/labels/4-1_2_jpg.rf.8be83098a928791cd4d702694fd5daa3.txt  \n",
            " extracting: train/labels/4-1_2_jpg.rf.a0b156ba3b6f2676d59f84f0c74e3439.txt  \n",
            " extracting: train/labels/4-1_30_jpg.rf.72fa3e4d1f186bed12bb9cbab6599220.txt  \n",
            " extracting: train/labels/4-1_31_jpg.rf.59b6aef12088f4d3b7df0216646ca2cb.txt  \n",
            " extracting: train/labels/4-1_32_jpg.rf.04d042e60a386593943a690fc7383b31.txt  \n",
            " extracting: train/labels/4-1_32_jpg.rf.a811a395d435ee9fd648ee347c921667.txt  \n",
            " extracting: train/labels/4-1_33_jpg.rf.15a69f8564ddc860b7f7436501f26ede.txt  \n",
            " extracting: train/labels/4-1_34_jpg.rf.f3064ac13a999e1c1db6e6dc8162d369.txt  \n",
            " extracting: train/labels/4-1_3_jpg.rf.021ce087d052eebf4881e2e85ad970d2.txt  \n",
            " extracting: train/labels/4-1_3_jpg.rf.f1e9e93496f12dc4aa229eaf9b02a1b4.txt  \n",
            " extracting: train/labels/4-1_4_jpg.rf.0b9a18c7dd095f8b0a3d70a378e5ac79.txt  \n",
            " extracting: train/labels/4-1_4_jpg.rf.ffd25c5b2e1bac36186c9ff1eac25a00.txt  \n",
            " extracting: train/labels/4-1_6_jpg.rf.64ea6294e4b07e997e2450b7d7ed3b1c.txt  \n",
            " extracting: train/labels/4-1_7_jpg.rf.ba46d55c37e5617975b223ee0a29bdd1.txt  \n",
            " extracting: train/labels/4-1_8_jpg.rf.526a3ffc9f55ce64faeba42e7b9a2a1e.txt  \n",
            " extracting: train/labels/4-1_8_jpg.rf.9b71a701ef20b183cdaf21069689e31c.txt  \n",
            " extracting: train/labels/4-1_9_jpg.rf.2dfce36f3ab63cf9b13235247f31a959.txt  \n",
            " extracting: train/labels/4-2_10_jpg.rf.6ab5e31be7da6ea63f2e360381ba3f6b.txt  \n",
            " extracting: train/labels/4-2_12_jpg.rf.5800b12844bee31b6019f85f12e5b72a.txt  \n",
            " extracting: train/labels/4-2_14_jpg.rf.a82b0629ea13020c0ed6a551143eb8a2.txt  \n",
            " extracting: train/labels/4-2_14_jpg.rf.fe5391250490dc71da97c2f3a5568b6b.txt  \n",
            " extracting: train/labels/4-2_15_jpg.rf.bf47e53e0079f75bde67ba87478be410.txt  \n",
            " extracting: train/labels/4-2_16_jpg.rf.7c6535dfa57f25b907259321d3991f9e.txt  \n",
            " extracting: train/labels/4-2_16_jpg.rf.a7984456f8d03e73f920edad84829ec9.txt  \n",
            " extracting: train/labels/4-2_17_jpg.rf.b307336a8d0b3197f7b7aaa7c466cffc.txt  \n",
            " extracting: train/labels/4-2_17_jpg.rf.f5c08d1790dc54195f0059b6e144dfe1.txt  \n",
            " extracting: train/labels/4-2_18_jpg.rf.bf9abed860f8136274de4c5e3c8d86c5.txt  \n",
            " extracting: train/labels/4-2_19_jpg.rf.a6871a09985cfd2be0416dc712295001.txt  \n",
            " extracting: train/labels/4-2_19_jpg.rf.b34671aed45b22459f89c1322452d086.txt  \n",
            " extracting: train/labels/4-2_1_jpg.rf.260eb6b91ddce32c61dd1564f91b34fd.txt  \n",
            " extracting: train/labels/4-2_1_jpg.rf.7e7b2b019a038142880867cd128e0434.txt  \n",
            " extracting: train/labels/4-2_20_jpg.rf.2594124a6d4f9425193a4c63c058a00b.txt  \n",
            " extracting: train/labels/4-2_21_jpg.rf.0d06ff4e22e4b98d3c14752092cf685e.txt  \n",
            " extracting: train/labels/4-2_22_jpg.rf.0304e789956081edb649b0b36aed35e0.txt  \n",
            " extracting: train/labels/4-2_22_jpg.rf.4aa7fdaf142eb5c3438dffa504d7003d.txt  \n",
            " extracting: train/labels/4-2_23_jpg.rf.c4415f5ac200ac7fbd5cb4d9e2a4ae97.txt  \n",
            " extracting: train/labels/4-2_25_jpg.rf.662409f60a130333543e1547f267609a.txt  \n",
            " extracting: train/labels/4-2_25_jpg.rf.c2ae4f79cbbebfb605e417012f79b066.txt  \n",
            " extracting: train/labels/4-2_26_jpg.rf.3edd52315a82f1d70065e2c1c2d814a9.txt  \n",
            " extracting: train/labels/4-2_28_jpg.rf.676ec44048565435835dd815d8962b10.txt  \n",
            " extracting: train/labels/4-2_28_jpg.rf.7af1d0b9b5fd9948b3c4ff992532a398.txt  \n",
            " extracting: train/labels/4-2_29_jpg.rf.64baf1330402319e6e107735ae8813e5.txt  \n",
            " extracting: train/labels/4-2_29_jpg.rf.84d0158a312fa5539ea80e85b095c956.txt  \n",
            " extracting: train/labels/4-2_2_jpg.rf.1350dfb733cfc7e42c8a1d79f1eb8078.txt  \n",
            " extracting: train/labels/4-2_30_jpg.rf.e7367943ac5538ec891c05419befd5d7.txt  \n",
            " extracting: train/labels/4-2_30_jpg.rf.fefab3713b09fc8e470c43e7a6ac69c6.txt  \n",
            " extracting: train/labels/4-2_32_jpg.rf.540f8f454e2a0e8ed7a423e81e55800e.txt  \n",
            " extracting: train/labels/4-2_32_jpg.rf.697d114fab149c0a092a243a0bc3b0b1.txt  \n",
            " extracting: train/labels/4-2_3_jpg.rf.7036e909f2f3f8fa0e240e050dc2e3bd.txt  \n",
            " extracting: train/labels/4-2_3_jpg.rf.94655e7904e3f1277ecb8d9e9c1cc3fa.txt  \n",
            " extracting: train/labels/4-2_4_jpg.rf.279228ce805360389ad8b7306a699b46.txt  \n",
            " extracting: train/labels/4-2_4_jpg.rf.8f40c7761a892cf9c4fbccdd502615e5.txt  \n",
            " extracting: train/labels/4-2_5_jpg.rf.70a5ce5218903d6f82fb0712e1be67a1.txt  \n",
            " extracting: train/labels/4-2_6_jpg.rf.89b029da9cbc3af8a0bf8245cf35de15.txt  \n",
            " extracting: train/labels/4-2_6_jpg.rf.cc868b17096127a1546243ccce77c5f3.txt  \n",
            " extracting: train/labels/4-2_7_jpg.rf.2154415a624bdb51d15e5e3368895652.txt  \n",
            " extracting: train/labels/4-2_7_jpg.rf.95381c0a7cac1f9c7ad1d850fe144f2c.txt  \n",
            " extracting: train/labels/4-2_8_jpg.rf.4fc3e39eea861ec127aa82a3bbf10e50.txt  \n",
            " extracting: train/labels/4-2_9_jpg.rf.21218bc9c0ef9d60e66d1d5e755e6fea.txt  \n",
            " extracting: train/labels/46646-0_png.rf.f92a4408aff6e2ae9ef826d959366fc8.txt  \n",
            " extracting: train/labels/46647-0_png.rf.7f4f577a958961297c247f5994bbb0ba.txt  \n",
            " extracting: train/labels/46648-0_png.rf.26da3cb17ed7544b4d5a597b7b58f504.txt  \n",
            " extracting: train/labels/46654-0_png.rf.bec2ecc87774343fdc72c400bfcab699.txt  \n",
            " extracting: train/labels/46655-0_png.rf.78e6cb6f8cc5f0f4f1157a1d391a1675.txt  \n",
            " extracting: train/labels/46704-0_png.rf.fef81567b883c616cd28aa54b453e5b9.txt  \n",
            " extracting: train/labels/46793-0_png.rf.fd8099f89cb52d324912fc0f69433f30.txt  \n",
            " extracting: train/labels/46812-0_png.rf.ad307ecdd3ee7531011d5cf6647c2603.txt  \n",
            " extracting: train/labels/46851-0_png.rf.0428b7c3af12db6108d75bb7dc60b17d.txt  \n",
            " extracting: train/labels/46859-0_png.rf.c0327c75a85ca5cd032616da2b4cd592.txt  \n",
            " extracting: train/labels/46860-0_png.rf.b98eae377b9cb60b0fbb91f69c9a2eff.txt  \n",
            " extracting: train/labels/46867-0_png.rf.a3acd6f12f0260605d93d815bace677c.txt  \n",
            " extracting: train/labels/46916-0_png.rf.b36df126e8d6c9b95cd6ec426ecfe23e.txt  \n",
            " extracting: train/labels/46924-0_png.rf.cd2479c9dc2ab9d54092025a973699b3.txt  \n",
            " extracting: train/labels/46932-0_png.rf.557b6cb1001aa1cd4d1309814d661b81.txt  \n",
            " extracting: train/labels/46940-0_png.rf.a0f56e2b84072575c1858a09df191768.txt  \n",
            " extracting: train/labels/46942-0_png.rf.5350b93161178b9bcd047490e491bed9.txt  \n",
            " extracting: train/labels/50855-0_png.rf.3aa56951c488bb34aa3ff4d19bb5ae29.txt  \n",
            " extracting: train/labels/50862-0_png.rf.3774fb3e23b5e9b943451276a99dc1f9.txt  \n",
            " extracting: train/labels/50863-0_png.rf.bf46fcb211e35a492abf98399c3f35d0.txt  \n",
            " extracting: train/labels/50878-0_png.rf.953a3f9757c2a77bfe37064b6851da70.txt  \n",
            " extracting: train/labels/51008-0_png.rf.5caf568c9cc600feda8da1264118408d.txt  \n",
            " extracting: train/labels/51009-0_png.rf.1e5783a604217f15692de9c9f2b6da4d.txt  \n",
            " extracting: train/labels/51012-0_png.rf.6923011a5b854f544baec1a7846a36b6.txt  \n",
            " extracting: train/labels/51020-0_png.rf.1dde3c1cbcdbe8a20509ed87f7566e04.txt  \n",
            " extracting: train/labels/51023-0_png.rf.ba04bbef50d0bfc5069ec49f3ad48e4c.txt  \n",
            " extracting: train/labels/51024-0_png.rf.54095e55246dcf58fe2215195afb32fa.txt  \n",
            " extracting: train/labels/51031-0_png.rf.546f20f6517465f1b037709b179a7433.txt  \n",
            " extracting: train/labels/51032-0_png.rf.2135dfb8ed7309845b4420891f29db45.txt  \n",
            " extracting: train/labels/51033-0_png.rf.4e4aae435af9a45fbe0782dc46308f2b.txt  \n",
            " extracting: train/labels/51034-0_png.rf.ba8fc9a65056282044fcc6b0aa6e0cc6.txt  \n",
            " extracting: train/labels/51052-0_png.rf.a3a8c51f7a088923ad4cb1138522cd6a.txt  \n",
            " extracting: train/labels/51055-0_png.rf.3e26374df2ea2faf8e9333b7f150c123.txt  \n",
            " extracting: train/labels/51063-0_png.rf.0fe53ad0b5ed34a0b46087fd15d7df5e.txt  \n",
            " extracting: train/labels/51064-0_png.rf.5d3eded4e1dabb38be6774de302ac156.txt  \n",
            " extracting: train/labels/51070-0_png.rf.8b152ed1f7366a69ae89a5adb6c06bbd.txt  \n",
            " extracting: train/labels/51194-0_png.rf.dcbc0336bd8a9f8f36f98aa0326a625b.txt  \n",
            " extracting: train/labels/51195-0_png.rf.bc1bce0ab27412a162c785fb98e30321.txt  \n",
            " extracting: train/labels/51196-0_png.rf.3d263711b59d4e7031b051367cced74a.txt  \n",
            " extracting: train/labels/51202-0_png.rf.9f43271e6050cabecd648c7d00738931.txt  \n",
            " extracting: train/labels/51203-0_png.rf.89b43507c296f28d79a7ce125856468e.txt  \n",
            " extracting: train/labels/51204-0_png.rf.8448ccd5d4dbd79afbf779c10ea7b5dc.txt  \n",
            " extracting: train/labels/51210-0_png.rf.402f441f5017c4978e11bc3492f999a5.txt  \n",
            " extracting: train/labels/51466-0_png.rf.40698a3d4da6416c1863469db604292d.txt  \n",
            " extracting: train/labels/51468-0_png.rf.6005d80246d30f14e7557a846e3f9bd1.txt  \n",
            " extracting: train/labels/51475-0_png.rf.038c8df53787b354c4c841a995107f3e.txt  \n",
            " extracting: train/labels/51476-0_png.rf.913b1581f983da2354de503e67ac83f7.txt  \n",
            " extracting: train/labels/51478-0_png.rf.a06c564d0aa0ef9b5c7ff3a3250d6a3e.txt  \n",
            " extracting: train/labels/6390-jpg_wh860_jpg.rf.939e6e3a113bc35e151996a2c6b5ae10.txt  \n",
            " extracting: train/labels/6390-jpg_wh860_jpg.rf.aa640ce4e65eb7ca4bc2a15102bbae08.txt  \n",
            " extracting: train/labels/678fc132f9bb6e2b32cbafc417780304_jpg.rf.7626632c94d00872dd2459e92c96fb55.txt  \n",
            " extracting: train/labels/75-751594_man-walking-old-man-cutout-back-old-people_jpg.rf.57dc4d62e83eac5716401156fce4fbc8.txt  \n",
            " extracting: train/labels/7c2022713healthwalkingexerciseparkhealthylifestylefriendsoutdoors_jpg.rf.8f01a88d2cd226be673007908223bec0.txt  \n",
            " extracting: train/labels/7c2022713healthwalkingexerciseparkhealthylifestylefriendsoutdoors_jpg.rf.b8c1705c09c04640500f5760a22eb998.txt  \n",
            " extracting: train/labels/80749851_2968775283134667_739498166126116864_n_jpg.rf.0cee6729e2774c6412c8b193fdf24239.txt  \n",
            " extracting: train/labels/80749851_2968775283134667_739498166126116864_n_jpg.rf.37bcfb5e6a2a7ff539e53aac63e18d95.txt  \n",
            " extracting: train/labels/81209578_2968775593134636_5688292942096105472_n_jpg.rf.ff80ee4b37fb5bb7f91f907432641f28.txt  \n",
            " extracting: train/labels/81714425_2968775709801291_1673241322045046784_n_jpg.rf.2aa1b1a2097337b1501a7fe312352240.txt  \n",
            " extracting: train/labels/81714425_2968775709801291_1673241322045046784_n_jpg.rf.a84cb87ffea90827573521f5f3408b56.txt  \n",
            " extracting: train/labels/82195557_2968775483134647_1730229628187967488_n_jpg.rf.6950231d5f1a88b7cdbca1638d7de282.txt  \n",
            " extracting: train/labels/82195557_2968775483134647_1730229628187967488_n_jpg.rf.bd9e591dbd85c6248cb505efd8262357.txt  \n",
            " extracting: train/labels/9195-0_png.rf.dce522e05241f452999314af813a1bd5.txt  \n",
            " extracting: train/labels/9196-0_png.rf.1c8b158d9e7cd6af17d4edf3c511b204.txt  \n",
            " extracting: train/labels/9197-0_png.rf.40c21948edae0a076c6802588ef0c00b.txt  \n",
            " extracting: train/labels/9198-0_png.rf.904a6231d93ad4e7bce1e4f1f906751e.txt  \n",
            " extracting: train/labels/9201-0_png.rf.6ad379f9bb7c2ab463ac187ef9d08b69.txt  \n",
            " extracting: train/labels/9204-0_png.rf.b775dcb028a6db797a5670d6145d0b4d.txt  \n",
            " extracting: train/labels/9208-0_png.rf.1ea58490329dcd2b95389b74576c45e0.txt  \n",
            " extracting: train/labels/9212-0_png.rf.250e15923afcd087e3d5316a033510e3.txt  \n",
            " extracting: train/labels/9215-0_png.rf.8434a1ea1c77c8b10e8a02551262b68f.txt  \n",
            " extracting: train/labels/9217-0_png.rf.2709a59dc2dd1ff25012422df1b6fb3f.txt  \n",
            " extracting: train/labels/9290_png.rf.35bee7a7b61d73610cea86db33dac6f4.txt  \n",
            " extracting: train/labels/9291-0_png.rf.9f2264cee898c06093964bcec67dda0d.txt  \n",
            " extracting: train/labels/9292_png.rf.248cd029a921e4420f91fe50825b5f6c.txt  \n",
            " extracting: train/labels/9293_png.rf.7f4b672551bb712689d75ca8a182386c.txt  \n",
            " extracting: train/labels/9294_png.rf.cb254936a801643233d716ef8b0fa32c.txt  \n",
            " extracting: train/labels/9295_png.rf.c1d5d9ff0a2a5c804fbd9cc89800ab5e.txt  \n",
            " extracting: train/labels/9297_png.rf.5247f04ffc76eaae21040ec6a85afdcc.txt  \n",
            " extracting: train/labels/9298-0_png.rf.de4d2e74c13d6f9c3b27c053d28f3484.txt  \n",
            " extracting: train/labels/9298_png.rf.0289d35d0e6489b2325acf80f2f811d1.txt  \n",
            " extracting: train/labels/9299-0_png.rf.5322ad98b7db37bed3d4144a148e26a5.txt  \n",
            " extracting: train/labels/9300-0_png.rf.1c8a256ef0a57bc3152f484635b768c6.txt  \n",
            " extracting: train/labels/9300_png.rf.fc5f62ea0685ba5db90dc82187f0e35d.txt  \n",
            " extracting: train/labels/9301-0_png.rf.b57c423216c1888409eef3f82f1e4779.txt  \n",
            " extracting: train/labels/9301_png.rf.a13cd595b7b520095d84e0512a6f2c0e.txt  \n",
            " extracting: train/labels/9302-0_png.rf.828392b8691fa39d5652108e66688d32.txt  \n",
            " extracting: train/labels/9302_png.rf.07add28a374306dea2cfbc5e4563ffa9.txt  \n",
            " extracting: train/labels/9303-0_png.rf.7efbdb096dfed3fa7f803646bb83da44.txt  \n",
            " extracting: train/labels/9303_png.rf.d03fa7b8ecdcffee02eb0d213a78764c.txt  \n",
            " extracting: train/labels/9304_png.rf.4483beb607a2c12fa5e2e85793ace046.txt  \n",
            " extracting: train/labels/9306_png.rf.1fe7fcdf34d50306bdbb6b62f1d75d66.txt  \n",
            " extracting: train/labels/9307_png.rf.6abcd3975cb77f4dd5dd4424ce5bbc2a.txt  \n",
            " extracting: train/labels/9311_png.rf.7733236fee24b1d6599bdf1823c5cec1.txt  \n",
            " extracting: train/labels/9312_png.rf.30fec3c6d86b5d1242a203ddf1f7ee9e.txt  \n",
            " extracting: train/labels/9313_png.rf.7658b66b3678022f2366843c66b15006.txt  \n",
            " extracting: train/labels/9318_png.rf.7a071c7ca5a27d92e27870693b9a8bff.txt  \n",
            " extracting: train/labels/9319_png.rf.dee5cf0bbcdad801c8bc201b42897e20.txt  \n",
            " extracting: train/labels/9322_png.rf.04be99f0599c3cdc2e29335f50f03281.txt  \n",
            " extracting: train/labels/9kamera-biskvi-ikolata-Trim_mp4-0_jpg.rf.538ac11f5517e0d716b4c2ea43732247.txt  \n",
            " extracting: train/labels/9kamera-biskvi-ikolata-Trim_mp4-10_jpg.rf.7234e364823a216574cb4fb425ae2239.txt  \n",
            " extracting: train/labels/9kamera-biskvi-ikolata-Trim_mp4-16_jpg.rf.8f2a408cc1484d4818a11b8bed3efd8a.txt  \n",
            " extracting: train/labels/9kamera-biskvi-ikolata-Trim_mp4-28_jpg.rf.524cc5b2a98b7a98080943eb5ce5a58b.txt  \n",
            " extracting: train/labels/9kamera-biskvi-ikolata-Trim_mp4-34_jpg.rf.6731b4374c7987697efcb546556a0ad6.txt  \n",
            " extracting: train/labels/9kamera-biskvi-ikolata-Trim_mp4-40_jpg.rf.fc5ab14a320db3efc14630179e474231.txt  \n",
            " extracting: train/labels/9kamera-biskvi-ikolata-Trim_mp4-52_jpg.rf.c9e80bdaed8dd6c4477a7894561d3a26.txt  \n",
            " extracting: train/labels/9kamera-biskvi-ikolata-Trim_mp4-64_jpg.rf.2b24e85dcc1e4241589d9664a697d968.txt  \n",
            " extracting: train/labels/9kamera-biskvi-ikolata-Trim_mp4-70_jpg.rf.734699284912e4be1508f48eef269b3f.txt  \n",
            " extracting: train/labels/9kamera-biskvi-ikolata-Trim_mp4-76_jpg.rf.fab33f909f955f2db0692162abeb0080.txt  \n",
            " extracting: train/labels/9kamera-biskvi-ikolata-Trim_mp4-82_jpg.rf.a760a4815cc44edea80365909b8e6700.txt  \n",
            " extracting: train/labels/9kamera-biskvi-ikolata-Trim_mp4-88_jpg.rf.12e207e426c58ecddc1943693b7a5ca7.txt  \n",
            " extracting: train/labels/9kamera-biskvi-ikolata-Trim_mp4-94_jpg.rf.98fb3b17bbc3cf8d54cc3b39e740503e.txt  \n",
            " extracting: train/labels/DSC_1068_jpg.rf.e66295e3b37b8aa3191316e7436c76ed.txt  \n",
            " extracting: train/labels/Hieu-truong-Harvard-Hay-dua-tre-den-5-noi-nay-chung-se-biet-on-cha-me-khi-lon-len-0-1614927098-695-width550height550_jpg.rf.578434b152a61b205c2c4ef7f8bf2267.txt  \n",
            " extracting: train/labels/How-to-Handle-a-Shoplifting-Charge-in-BC-IMAGE-1-DDLaw_png.rf.cb37943b898786c8c7d1fcfa3700e99b.txt  \n",
            " extracting: train/labels/IE-two-men-standing-and-talking_png_jpg.rf.17c0d9feab60f0e936343bb0a14c167c.txt  \n",
            " extracting: train/labels/IE-two-men-standing-and-talking_png_jpg.rf.71f6b4d8d1283ee8177874699c6681bb.txt  \n",
            " extracting: train/labels/NEONs-640x353_jpg.rf.3615a49a2793d163948a2b8e240af308.txt  \n",
            " extracting: train/labels/NEONs-640x353_jpg.rf.5125ec3fd5ca4e3f2ec9102ca73da37f.txt  \n",
            " extracting: train/labels/Normal_shopping_4_new_15_jpg.rf.1ff53d54bf7c128e92f79873eea0ce3a.txt  \n",
            " extracting: train/labels/Normal_shopping_4_new_15_jpg.rf.2e8d55e0903f4b7e47318824f223abf2.txt  \n",
            " extracting: train/labels/Why-Im-Only-Having-One-Child_jpg.rf.d9b86d5675b617a82047cd0a7739ff74.txt  \n",
            " extracting: train/labels/c89c4471-3-1631413_jpg.rf.706f4bba55b99838eb0f6a25cbb489ac.txt  \n",
            " extracting: train/labels/c89c4471-3-1631413_jpg.rf.c5f84c7969912a5b8a135be87453842d.txt  \n",
            " extracting: train/labels/c89c4488-3-1631450_jpg.rf.bc58a3a55df879f80c99fddd4592af84.txt  \n",
            " extracting: train/labels/close-up-the-consumer-thiefs-hands-putting-the-new-gadget-in-the-pocket-in-the-store-2AETE87_jpg.rf.2aacf0ab803579764d7024c128edc793.txt  \n",
            " extracting: train/labels/close-up-the-consumer-thiefs-hands-putting-the-new-gadget-in-the-pocket-in-the-store-2AETMX9_jpg.rf.99f1d2d13e4bec340dd029eecd7a91b4.txt  \n",
            " extracting: train/labels/cut-out-people-people-png-people-sitting-png-entourage-person-sitting-back-11562850062sbltarutuf_png_jpg.rf.56a31b2a54c6be8e321fac0bb3092792.txt  \n",
            " extracting: train/labels/d2drrt_jpg.rf.877a7901b82c37b1fdf1a9e927ee3a0b.txt  \n",
            " extracting: train/labels/depositphotos_156401552-stock-photo-diverse-people-back-view_jpg.rf.5ea72ec8c75f36e4e74370532223dd27.txt  \n",
            " extracting: train/labels/depositphotos_156401552-stock-photo-diverse-people-back-view_jpg.rf.cb04ddd8d22744c8e9df1afccf790a41.txt  \n",
            " extracting: train/labels/depositphotos_159768788-stock-photo-adult-woman-in-studio_jpg.rf.1ed8e3c4de6d7385a759d6b47dcbc40f.txt  \n",
            " extracting: train/labels/depositphotos_159768788-stock-photo-adult-woman-in-studio_jpg.rf.f51dc48ed6b8a17a4cee82fee5dd31f3.txt  \n",
            " extracting: train/labels/depositphotos_211724208-stock-photo-confident-smiling-casual-man-hands_jpg.rf.b8be13242a86e3c715902d9749a94afe.txt  \n",
            " extracting: train/labels/depositphotos_211724208-stock-photo-confident-smiling-casual-man-hands_jpg.rf.d9f8475aa91e6754ec0b41652d57a018.txt  \n",
            " extracting: train/labels/depositphotos_77920142-stock-photo-two-guys-with-black-hair_jpg.rf.3058d585fd4b48d39f661eb90e176b28.txt  \n",
            " extracting: train/labels/depositphotos_77920142-stock-photo-two-guys-with-black-hair_jpg.rf.9e2bed7d736f4d15ecfe325d76e31620.txt  \n",
            " extracting: train/labels/female-shoplifter-BNB67C_jpg.rf.9819ba09cf958cb322ba8102e15dc220.txt  \n",
            " extracting: train/labels/focused_151402126-stock-photo-couple-holding-hands-while-walking_jpg.rf.56d2a25c0d30e12f1d8862fe178f3163.txt  \n",
            " extracting: train/labels/focused_151402126-stock-photo-couple-holding-hands-while-walking_jpg.rf.80607a8d3b527cec028960b42f155f21.txt  \n",
            " extracting: train/labels/france-shoplifting-in-a-supermarket-D2DRTW_jpg.rf.09bdfa2c81505cf6833309500654b092.txt  \n",
            " extracting: train/labels/full-body-portrait-many-business-people-white-background-wearing-formal-suit-studio-collection-207756294_jpg.rf.ebc2fd878e8349cfade5fe3b6947ee94.txt  \n",
            " extracting: train/labels/full-length-portrait-two-handsome-young-men-full-length-portrait-two-handsome-young-men-talking-laughing-isolated-over-116861200_jpg.rf.4ec99b33e11a532efaeeb23b6ea4901e.txt  \n",
            " extracting: train/labels/full-length-portrait-two-handsome-young-men-full-length-portrait-two-handsome-young-men-talking-laughing-isolated-over-116861200_jpg.rf.8519ca6e03facaf5bd23bedf960fea73.txt  \n",
            " extracting: train/labels/gettyimages-129311948-612x612_jpg.rf.bf43a1b59a0ddfe094e403982579308c.txt  \n",
            " extracting: train/labels/happy-office-colleagues-talking-walking-happy-excited-office-colleagues-stylish-outfits-talking-work-walking-121380273_jpg.rf.24badfa06a501ac76aadfc7889466f9f.txt  \n",
            " extracting: train/labels/happy-office-colleagues-talking-walking-happy-excited-office-colleagues-stylish-outfits-talking-work-walking-121380273_jpg.rf.2d00da6ba3f9d654a5b1d20fb91c8bc2.txt  \n",
            " extracting: train/labels/image_1000_jpg.rf.2d7f1a3c7b9714b9e39f1cf40463cada.txt  \n",
            " extracting: train/labels/image_1000_jpg.rf.dce470530c2f38f70cab84bf11044bd0.txt  \n",
            " extracting: train/labels/image_1001_jpg.rf.12c80db4f416eef6a82618891d568573.txt  \n",
            " extracting: train/labels/image_1002_jpg.rf.1cc1d312f8cd5724f4d21bea16895cf7.txt  \n",
            " extracting: train/labels/image_1002_jpg.rf.67062ab5270db5a7c404757fb323256e.txt  \n",
            " extracting: train/labels/image_1003_jpg.rf.0724fa6f9ecaf2d1f6c3cf175a2a718c.txt  \n",
            " extracting: train/labels/image_1003_jpg.rf.61e6bd3c59c80232d7d2e3feac2a3699.txt  \n",
            " extracting: train/labels/image_1004_jpg.rf.39e0b507fe09c42ed847773f7e68129e.txt  \n",
            " extracting: train/labels/image_1005_jpg.rf.5a7e0ccea5cceb72bb9f40036f252dda.txt  \n",
            " extracting: train/labels/image_1006_jpg.rf.94cd042a0a90f00de480833f0659d4ff.txt  \n",
            " extracting: train/labels/image_1006_jpg.rf.e8f6aff4651ab8515c7f922a5b4f07e8.txt  \n",
            " extracting: train/labels/image_1007_jpg.rf.160ad8991716ed108478e636cf64be62.txt  \n",
            " extracting: train/labels/image_1007_jpg.rf.6797d281b2b26f3cfad96a5bc303eab5.txt  \n",
            " extracting: train/labels/image_1008_jpg.rf.19446b4a03d217c17b6e61eb38917365.txt  \n",
            " extracting: train/labels/image_1009_jpg.rf.9b573ab862a4e4c18d9111fd372ead69.txt  \n",
            " extracting: train/labels/image_100_jpg.rf.044c6b8f86b8c2a4b04a2712896d09da.txt  \n",
            " extracting: train/labels/image_1010_jpg.rf.94e134d0617e69030574b0609546b3d1.txt  \n",
            " extracting: train/labels/image_1012_jpg.rf.37ca8569495334c4c74c22f10aa5c66c.txt  \n",
            " extracting: train/labels/image_1012_jpg.rf.b953418b45fa1ef87783a72202f7555c.txt  \n",
            " extracting: train/labels/image_1013_jpg.rf.b8b0a94296026c93efa07e47df3f4a77.txt  \n",
            " extracting: train/labels/image_1013_jpg.rf.d51c465088bc0dafea6e3609f216809b.txt  \n",
            " extracting: train/labels/image_1014_jpg.rf.bc2fa365542bce586a425d78f1507b93.txt  \n",
            " extracting: train/labels/image_1015_jpg.rf.4ea7562152647466e2ca22bb9b4f4456.txt  \n",
            " extracting: train/labels/image_1016_jpg.rf.39c444a29bcc868e0e610ad45e2dcfef.txt  \n",
            " extracting: train/labels/image_1016_jpg.rf.7c9577dd020fc869cb9d1a3b1f5137e6.txt  \n",
            " extracting: train/labels/image_1017_jpg.rf.af359d0c479975d629ad8c2826111eac.txt  \n",
            " extracting: train/labels/image_1017_jpg.rf.da5a9bdfeb366e77c656ab57c441a119.txt  \n",
            " extracting: train/labels/image_1019_jpg.rf.18b76872ecc7c2c1f3526a5b9959136d.txt  \n",
            " extracting: train/labels/image_101_jpg.rf.bc39da375091871b5854397b357993e9.txt  \n",
            " extracting: train/labels/image_101_jpg.rf.f774f4aa521ab96f8573cf3bc80387e3.txt  \n",
            " extracting: train/labels/image_1020_jpg.rf.c7f5212c30afce2dc254803459225798.txt  \n",
            " extracting: train/labels/image_1022_jpg.rf.1f1591b4e7f1630baac789b3859057b7.txt  \n",
            " extracting: train/labels/image_1023_jpg.rf.3066284976c4b7db47b9bb13cb12d07e.txt  \n",
            " extracting: train/labels/image_1023_jpg.rf.cc9c372e2d7cc97d02fb67791152e30e.txt  \n",
            " extracting: train/labels/image_1027_jpg.rf.ede110c4f94494c53cec495e36c53b63.txt  \n",
            " extracting: train/labels/image_1028_jpg.rf.54e5dfd38d06df5acbd8440da8c833c0.txt  \n",
            " extracting: train/labels/image_1029_jpg.rf.73a3fb34dc7034822338766959fc8f52.txt  \n",
            " extracting: train/labels/image_102_jpg.rf.40cd981c5766c921854f682a8d468f83.txt  \n",
            " extracting: train/labels/image_1030_jpg.rf.dfceab1d430e26dc1b915683c1364af7.txt  \n",
            " extracting: train/labels/image_1030_jpg.rf.e3b0817872fa3f70ae6294b628fba369.txt  \n",
            " extracting: train/labels/image_1031_jpg.rf.ad9b1fa2204c4e3a7e98a5dfdf23fb40.txt  \n",
            " extracting: train/labels/image_1032_jpg.rf.5a55dcd201cbc9b516a14238e572e04f.txt  \n",
            " extracting: train/labels/image_1032_jpg.rf.949f9b61f520896da57078450055967c.txt  \n",
            " extracting: train/labels/image_1033_jpg.rf.31b77c816c900bffa778397c3f59c41e.txt  \n",
            " extracting: train/labels/image_1033_jpg.rf.f8af254f82706613c24157d3667fae0e.txt  \n",
            " extracting: train/labels/image_1034_jpg.rf.b92c3e97cdc690f335ddacb76308f195.txt  \n",
            " extracting: train/labels/image_1034_jpg.rf.e18b2de1e4cd51c1e42191266f4c1a0a.txt  \n",
            " extracting: train/labels/image_1035_jpg.rf.28877dbd92f9dbab3591f1787ca382c6.txt  \n",
            " extracting: train/labels/image_1036_jpg.rf.b26f2fe72710c2c4ea3af84fe3e02fd7.txt  \n",
            " extracting: train/labels/image_1037_jpg.rf.bf3a82d1151f3d9dd23eaa981a00d2ab.txt  \n",
            " extracting: train/labels/image_103_jpg.rf.7046777518a08e143ba40989b2a61216.txt  \n",
            " extracting: train/labels/image_103_jpg.rf.fad4958253ceded11085550a65fe85a5.txt  \n",
            " extracting: train/labels/image_1040_jpg.rf.d986f7bd51cbd7074a0c1dfb9eeb5f2f.txt  \n",
            " extracting: train/labels/image_1041_jpg.rf.037a5783577dc098a80bb60390704e5d.txt  \n",
            " extracting: train/labels/image_1042_jpg.rf.70c6d109c3ebec2554b4d105c5f7dfa4.txt  \n",
            " extracting: train/labels/image_1043_jpg.rf.a8732071a73628fca51fbeb98d08b771.txt  \n",
            " extracting: train/labels/image_1046_jpg.rf.da8fb60059633c503c435e3e9acea5b0.txt  \n",
            " extracting: train/labels/image_1046_jpg.rf.f4577aa3c28d933281586a77dab48aa8.txt  \n",
            " extracting: train/labels/image_1047_jpg.rf.d32c810c971536a0c9fd695ce3099043.txt  \n",
            " extracting: train/labels/image_1048_jpg.rf.09e9b026093d8bb7b3acb987a716e74f.txt  \n",
            " extracting: train/labels/image_1048_jpg.rf.5040452bcaef0cf613c4fbe33e90a0ca.txt  \n",
            " extracting: train/labels/image_1049_jpg.rf.14a4b7afc573ba1401f9f3f33b32d7f5.txt  \n",
            " extracting: train/labels/image_1049_jpg.rf.561c16a04a3a19b25ee445a389db27ba.txt  \n",
            " extracting: train/labels/image_104_jpg.rf.599f7c06630920038b89d7d1fa573ff6.txt  \n",
            " extracting: train/labels/image_104_jpg.rf.6e119a69f62e36eabd14510d27cb8dc5.txt  \n",
            " extracting: train/labels/image_1050_jpg.rf.cdafb7c6f3a7cc408ab752df1c22d669.txt  \n",
            " extracting: train/labels/image_1051_jpg.rf.6b0c74482320b831abcdad9ce0c2747f.txt  \n",
            " extracting: train/labels/image_1052_jpg.rf.3a386d5899c75e14c40e43d2a84e1804.txt  \n",
            " extracting: train/labels/image_1053_jpg.rf.fae04d0b1c9f746791e4d5d85e78d208.txt  \n",
            " extracting: train/labels/image_1054_jpg.rf.6689104f610d452bda9d8d764e2f8abb.txt  \n",
            " extracting: train/labels/image_1054_jpg.rf.8b38ad78e2a622b26838cfb04d23942f.txt  \n",
            " extracting: train/labels/image_1055_jpg.rf.e18542b7d8e7f2ce8728c5bd66cde405.txt  \n",
            " extracting: train/labels/image_1055_jpg.rf.f0f1267e199fae9ec825cca3fc370372.txt  \n",
            " extracting: train/labels/image_1056_jpg.rf.d34d517ad42981d4c06d346f3b4d5def.txt  \n",
            " extracting: train/labels/image_1057_jpg.rf.8989c23aa4b43a6823c99a25cf3962d9.txt  \n",
            " extracting: train/labels/image_1057_jpg.rf.fad1d693f7cd32987edd2c5b093f8d25.txt  \n",
            " extracting: train/labels/image_1059_jpg.rf.7c93a844de318cbd416a50964a81e88f.txt  \n",
            " extracting: train/labels/image_105_jpg.rf.a4a4cc6499e5068af3886ab435896bb5.txt  \n",
            " extracting: train/labels/image_105_jpg.rf.d40d833fa5ac8376aba62607f507c2c1.txt  \n",
            " extracting: train/labels/image_1060_jpg.rf.4686317ec5f04fc9662fca5d8c0fa6f0.txt  \n",
            " extracting: train/labels/image_1062_jpg.rf.d9c12bcde8c50e2b21e229f52f141d7c.txt  \n",
            " extracting: train/labels/image_1063_jpg.rf.c262a0934786415ce4bdca626dfbd695.txt  \n",
            " extracting: train/labels/image_1063_jpg.rf.d73b05dc77adcba5dc54b16d9b5ff5f6.txt  \n",
            " extracting: train/labels/image_1065_jpg.rf.995d6a73f9bcab0b6c0d7fd69a40c0a8.txt  \n",
            " extracting: train/labels/image_1066_jpg.rf.cec6e75898bd038eccf439f257d91cd1.txt  \n",
            " extracting: train/labels/image_1067_jpg.rf.7c0070f4765ceb06d8c693da5ab2d235.txt  \n",
            " extracting: train/labels/image_1068_jpg.rf.9f6ab42d81543d23b8714d240a4bb058.txt  \n",
            " extracting: train/labels/image_1069_jpg.rf.dab77a45784d3f76c4da3d1f46496f46.txt  \n",
            " extracting: train/labels/image_106_jpg.rf.e36dac6f020e9cbc0a03573604452055.txt  \n",
            " extracting: train/labels/image_1070_jpg.rf.067555348826c2ef7be8788be283ebea.txt  \n",
            " extracting: train/labels/image_1071_jpg.rf.55f290cd026d5f152b8a4ffa84a7f1de.txt  \n",
            " extracting: train/labels/image_1072_jpg.rf.5d8c34586e1f0db0df5bb1364baa4bd4.txt  \n",
            " extracting: train/labels/image_1074_jpg.rf.34cc9aca43d16f9da3e13d536ff1b577.txt  \n",
            " extracting: train/labels/image_1074_jpg.rf.e3e5ef9a09403eb172b92f733049e71c.txt  \n",
            " extracting: train/labels/image_1075_jpg.rf.47f2a5bfd8dc397f7fc67514d109f1bc.txt  \n",
            " extracting: train/labels/image_1075_jpg.rf.65ab9d4fad5ae375cfe2fe2855791e05.txt  \n",
            " extracting: train/labels/image_1076_jpg.rf.1debfcf6b42b430687e7abc95b08c014.txt  \n",
            " extracting: train/labels/image_1076_jpg.rf.d3e34d19d682b006e64a0615bcc2e9c7.txt  \n",
            " extracting: train/labels/image_1077_jpg.rf.d0c3778f5b192556d5c6ff8b66061369.txt  \n",
            " extracting: train/labels/image_1077_jpg.rf.dc0aaee00ece7350084fcb2bb7f8c6a8.txt  \n",
            " extracting: train/labels/image_1078_jpg.rf.8c72fe9749123b1312ab7c54c189349b.txt  \n",
            " extracting: train/labels/image_1079_jpg.rf.d69f63bbdfeda0347df883964b247936.txt  \n",
            " extracting: train/labels/image_1080_jpg.rf.8026e5368488d45b5f8a557090e80de4.txt  \n",
            " extracting: train/labels/image_1081_jpg.rf.da5e552e6c5017ff20b86f225c870ad1.txt  \n",
            " extracting: train/labels/image_1082_jpg.rf.49fef7aeea5dd3dd625470860a4f0bcd.txt  \n",
            " extracting: train/labels/image_1083_jpg.rf.17933c6b79e033d5e8f58e7ce52c2c15.txt  \n",
            " extracting: train/labels/image_1083_jpg.rf.2bcd7da36c2b1d6bc70ec82f01074269.txt  \n",
            " extracting: train/labels/image_1084_jpg.rf.46dd70fdf8b80722b11bafd5c8ccd495.txt  \n",
            " extracting: train/labels/image_1085_jpg.rf.b519917c3db322b8f6dc14a84bddceb6.txt  \n",
            " extracting: train/labels/image_1086_jpg.rf.48a1e6ccd39e2891bc354b4b719e214c.txt  \n",
            " extracting: train/labels/image_1086_jpg.rf.879c1b9140fee286c8f075c787ac4804.txt  \n",
            " extracting: train/labels/image_1087_jpg.rf.7c1837bb5082fb96141567f2fee6502e.txt  \n",
            " extracting: train/labels/image_1087_jpg.rf.99d30b6409d45cef52691b4d60ebf0ad.txt  \n",
            " extracting: train/labels/image_1088_jpg.rf.d3af38da2c95fc52ed0f309697f94df0.txt  \n",
            " extracting: train/labels/image_1089_jpg.rf.07c66ae81953027875c6024c7fdd856e.txt  \n",
            " extracting: train/labels/image_108_jpg.rf.493d5faebbbff7105a10f89aeba792e0.txt  \n",
            " extracting: train/labels/image_1090_jpg.rf.2658bd96ea1cbffad08f6737a9dd5e35.txt  \n",
            " extracting: train/labels/image_1090_jpg.rf.a125a8c393da5a00e7cbc5901a7844bd.txt  \n",
            " extracting: train/labels/image_1091_jpg.rf.fcc7f1682bae1c3847478752676e2fe6.txt  \n",
            " extracting: train/labels/image_1092_jpg.rf.a7182f309dc61f77f4f34ef9e1c762de.txt  \n",
            " extracting: train/labels/image_1093_jpg.rf.04902de4392265b6db9317f4adf7479d.txt  \n",
            " extracting: train/labels/image_1093_jpg.rf.1024f632d220a3c2412c76f6dd34a3ae.txt  \n",
            " extracting: train/labels/image_1094_jpg.rf.9493d7a9705f1d400fa86efc1b74a171.txt  \n",
            " extracting: train/labels/image_1094_jpg.rf.9782773ab5d4585ef5b498e7497c2bce.txt  \n",
            " extracting: train/labels/image_1095_jpg.rf.7d2901732de58d3157fc3a8d9a8b6a14.txt  \n",
            " extracting: train/labels/image_1097_jpg.rf.671ad7f8e3eb92c7053413b06f365aa2.txt  \n",
            " extracting: train/labels/image_1098_jpg.rf.3e67f185538258c4ee85998047f81212.txt  \n",
            " extracting: train/labels/image_1098_jpg.rf.9d9ae029d30daed315b8664f0efd55f0.txt  \n",
            " extracting: train/labels/image_1099_jpg.rf.9b0c8b4c499e30c5c938b36d051a7d61.txt  \n",
            " extracting: train/labels/image_109_jpg.rf.f4e290ae30c66be7f8ac7585018fc120.txt  \n",
            " extracting: train/labels/image_10_jpg.rf.e22774b9325d681ec57f2525248e19ff.txt  \n",
            " extracting: train/labels/image_1100_jpg.rf.42afe656baaaf914b3baf7ebb410d5e4.txt  \n",
            " extracting: train/labels/image_1100_jpg.rf.f334a4d233b06eabfd4fe84ea6946b4e.txt  \n",
            " extracting: train/labels/image_1102_jpg.rf.68805ea2d2cfbb6fbb0fd0617596f8af.txt  \n",
            " extracting: train/labels/image_1103_jpg.rf.0fddc094586bdc8c3cd9b9abe7faeda9.txt  \n",
            " extracting: train/labels/image_1103_jpg.rf.2fc6439e08880ea223ee89da5ba39ac0.txt  \n",
            " extracting: train/labels/image_1105_jpg.rf.403f8d9494d2af2287b4902bef432cf1.txt  \n",
            " extracting: train/labels/image_1105_jpg.rf.de32db36e2ca6d94e659bc61ee49e608.txt  \n",
            " extracting: train/labels/image_1107_jpg.rf.6f0459f5fc62ce1c1e6f3fcd7640117b.txt  \n",
            " extracting: train/labels/image_1107_jpg.rf.eb3cbe38556ae069f604eb3ed2ad9f1b.txt  \n",
            " extracting: train/labels/image_1108_jpg.rf.e240fa5cde2a16dd9d6b460a8f0e868a.txt  \n",
            " extracting: train/labels/image_1108_jpg.rf.e3426c3da326b0af6ea779180e3db7e5.txt  \n",
            " extracting: train/labels/image_1109_jpg.rf.a0bc915dd5904e1309dee4324c5f2092.txt  \n",
            " extracting: train/labels/image_1109_jpg.rf.dee4480da202a5adaf6ef453efadefa9.txt  \n",
            " extracting: train/labels/image_110_jpg.rf.40b50134a5a6b26f9831d32e54812530.txt  \n",
            " extracting: train/labels/image_1110_jpg.rf.ff188631124fb10f14b711b2f252aed3.txt  \n",
            " extracting: train/labels/image_1111_jpg.rf.7b2781d04b7d5f4e75c4ef6afd89fc4e.txt  \n",
            " extracting: train/labels/image_1111_jpg.rf.83f26983c0cf7be312d3cca233aefcc5.txt  \n",
            " extracting: train/labels/image_1112_jpg.rf.97ed78464491d8e24d035459374ab17d.txt  \n",
            " extracting: train/labels/image_1113_jpg.rf.601c788bae64037d4f0eb6c4cf9630e7.txt  \n",
            " extracting: train/labels/image_1114_jpg.rf.b4abdc1317e778678139301319133c9a.txt  \n",
            " extracting: train/labels/image_1114_jpg.rf.fc1b5642d4e1b82ea685837689ec5a19.txt  \n",
            " extracting: train/labels/image_1115_jpg.rf.ef4bd794e5b6de62032e4add20e4bd7e.txt  \n",
            " extracting: train/labels/image_1116_jpg.rf.280274a9fdbdebbeb9f4fb43cae6c6ef.txt  \n",
            " extracting: train/labels/image_1116_jpg.rf.c0a54095d44f034148bfbf9d029146b0.txt  \n",
            " extracting: train/labels/image_1118_jpg.rf.54e85cc76dccb34aa5e1405c36a1e0e6.txt  \n",
            " extracting: train/labels/image_1118_jpg.rf.90c72a0ef7b5056d5afd1904d01e6b4d.txt  \n",
            " extracting: train/labels/image_1119_jpg.rf.370ff3ea6540356eea42b1a6045204e6.txt  \n",
            " extracting: train/labels/image_1119_jpg.rf.6adf76325b65c8dd1877669ea7b381f7.txt  \n",
            " extracting: train/labels/image_111_jpg.rf.b50cc351f9ac01b1dd920ca87316e753.txt  \n",
            " extracting: train/labels/image_1120_jpg.rf.ac1114f206d4e21de76a4e6f7afd0a5f.txt  \n",
            " extracting: train/labels/image_1121_jpg.rf.2b8155cb43a325bd7cc813175bcddb26.txt  \n",
            " extracting: train/labels/image_1122_jpg.rf.0112b98e5c9e50d15efbdfb6937a608f.txt  \n",
            " extracting: train/labels/image_1123_jpg.rf.d50245d89efde813712a5c8d34fbf3e1.txt  \n",
            " extracting: train/labels/image_1124_jpg.rf.1b2805abf49839da544b73cfafb44bcd.txt  \n",
            " extracting: train/labels/image_1125_jpg.rf.b497c6f72400ae7ec9334a59947d2e84.txt  \n",
            " extracting: train/labels/image_1126_jpg.rf.0b37565f3c6e0a1f368ed81f3ffea2b0.txt  \n",
            " extracting: train/labels/image_1127_jpg.rf.52e1d5f44f2ec2df130c62f7f05f6c76.txt  \n",
            " extracting: train/labels/image_1127_jpg.rf.844e172aa8d9827465292566c99682eb.txt  \n",
            " extracting: train/labels/image_1128_jpg.rf.c45348638f0e04c2269222be92cf46d1.txt  \n",
            " extracting: train/labels/image_1129_jpg.rf.d0557dcc1f9cbe6b8fada0adff98c8a8.txt  \n",
            " extracting: train/labels/image_1129_jpg.rf.fb6b991b6c308553cf70fd920a494bfe.txt  \n",
            " extracting: train/labels/image_112_jpg.rf.a2ef87f86146c2028a5fdbe259cc0ff9.txt  \n",
            " extracting: train/labels/image_1130_jpg.rf.85340af42d1be86bc07f72ac6a37d9bc.txt  \n",
            " extracting: train/labels/image_1130_jpg.rf.a8b7b41e926ee5837d0acc9fb36a880e.txt  \n",
            " extracting: train/labels/image_1131_jpg.rf.e7f6262d3f735c340bd04e82a3c79f66.txt  \n",
            " extracting: train/labels/image_1133_jpg.rf.33d99932b512a0afaa28679a27ddc698.txt  \n",
            " extracting: train/labels/image_1134_jpg.rf.d11de8018cb09ca1d2c233f71543de2b.txt  \n",
            " extracting: train/labels/image_1135_jpg.rf.03b646179d5b1dfbe6088bef5b9cf3fd.txt  \n",
            " extracting: train/labels/image_1135_jpg.rf.a177aa44b00d049cf04d349f51933c34.txt  \n",
            " extracting: train/labels/image_1136_jpg.rf.f8bcedeed9c4fcb306f0b46447f08348.txt  \n",
            " extracting: train/labels/image_1139_jpg.rf.a46e2c8212be1aba5e92529bc182f832.txt  \n",
            " extracting: train/labels/image_1139_jpg.rf.b357490ab608da937ce25e4a6f4a960b.txt  \n",
            " extracting: train/labels/image_113_jpg.rf.1888b6644b3b1eaee97f167e90694c68.txt  \n",
            " extracting: train/labels/image_113_jpg.rf.ea11dc6a5f6765c493457de0c9c1211d.txt  \n",
            " extracting: train/labels/image_1140_jpg.rf.0d6932eae7cf743df1b1f7eeb8ec9ee9.txt  \n",
            " extracting: train/labels/image_1140_jpg.rf.62e28bb80f8a1c16b877578a7b743792.txt  \n",
            " extracting: train/labels/image_1141_jpg.rf.8ce96d371d4371b42f58a4e1ca04ff53.txt  \n",
            " extracting: train/labels/image_1142_jpg.rf.3d12a36023a490d9c8c32df5bf9b300f.txt  \n",
            " extracting: train/labels/image_1142_jpg.rf.f0d175ae85a12a874b90f67dbc7abe05.txt  \n",
            " extracting: train/labels/image_1143_jpg.rf.1329f811428736bd6592a7551ab61464.txt  \n",
            " extracting: train/labels/image_1143_jpg.rf.a88120ff27318143c107b1d7acb095fe.txt  \n",
            " extracting: train/labels/image_1144_jpg.rf.1ff74298bc8d0b742c0ebcaf784c6e8c.txt  \n",
            " extracting: train/labels/image_1144_jpg.rf.bf9bd88653dd30dbc1c95841474ccd37.txt  \n",
            " extracting: train/labels/image_1145_jpg.rf.06519f82cb2fe6aba2d8e431312aeae9.txt  \n",
            " extracting: train/labels/image_1146_jpg.rf.ac1c89d81a6faec0375a680f131dc3f7.txt  \n",
            " extracting: train/labels/image_1147_jpg.rf.b68d6df21befe5fbafe6df4838a44e2c.txt  \n",
            " extracting: train/labels/image_1148_jpg.rf.14046620e65c7a135fec89eaa4af7a31.txt  \n",
            " extracting: train/labels/image_1148_jpg.rf.8c980bdb05b81b1732f93357688444b3.txt  \n",
            " extracting: train/labels/image_1149_jpg.rf.20613171ec38e339976346a3eb47d6ab.txt  \n",
            " extracting: train/labels/image_1149_jpg.rf.5977c8dae9177b76c36857f38cd3fbd4.txt  \n",
            " extracting: train/labels/image_114_jpg.rf.b5400ac21151f0e29f917b9eaa5ec147.txt  \n",
            " extracting: train/labels/image_1150_jpg.rf.20c4d0063eacca9f47657d3a939cff58.txt  \n",
            " extracting: train/labels/image_1151_jpg.rf.90850a2eca13aa1c5ff3029b5ee66712.txt  \n",
            " extracting: train/labels/image_115_jpg.rf.70824b74016cae39aa26d26923796073.txt  \n",
            " extracting: train/labels/image_116_jpg.rf.2ad616cd49afcf14d0d7aea15f870ecc.txt  \n",
            " extracting: train/labels/image_118_jpg.rf.3dad95a79bbd21728b79d8b57385413c.txt  \n",
            " extracting: train/labels/image_118_jpg.rf.aeecfa2ec762f40bd2a3daec29e87dcc.txt  \n",
            " extracting: train/labels/image_119_jpg.rf.6452a7228e21a2cb4e538f11eb1edfcb.txt  \n",
            " extracting: train/labels/image_119_jpg.rf.c7b563e30e51a9265067815db0225b96.txt  \n",
            " extracting: train/labels/image_11_jpg.rf.789ba1eec915d2b8cf8e3f3e7a1d4604.txt  \n",
            " extracting: train/labels/image_120_jpg.rf.1fa550ee0d4063763bd8a32ca18a882d.txt  \n",
            " extracting: train/labels/image_120_jpg.rf.ceeb6b101a71a4f4fb70239dee7e1dcb.txt  \n",
            " extracting: train/labels/image_121_jpg.rf.a74a1e4484b1a1f4713eacf2175284a0.txt  \n",
            " extracting: train/labels/image_121_jpg.rf.d171a1c20bf40ba278289053b4074fd5.txt  \n",
            " extracting: train/labels/image_122_jpg.rf.59afe3fece342a6cc090a2a5322b5ea2.txt  \n",
            " extracting: train/labels/image_122_jpg.rf.7e40c2ae13a2e8138332f88ead5137fd.txt  \n",
            " extracting: train/labels/image_123_jpg.rf.8ca3eecfd40e8dc9963d6396143d64bf.txt  \n",
            " extracting: train/labels/image_123_jpg.rf.fcf42bfc06425b6b8fc92b557b1fab2b.txt  \n",
            " extracting: train/labels/image_126_jpg.rf.71f3d692ab78b93744dd40656b9121dd.txt  \n",
            " extracting: train/labels/image_126_jpg.rf.e9698d07e22bab165b695abdd16e7a17.txt  \n",
            " extracting: train/labels/image_127_jpg.rf.18b6c1701b7d241270a13cfc9ce34f58.txt  \n",
            " extracting: train/labels/image_127_jpg.rf.29a962de9a49e60415f6beecec8f60ef.txt  \n",
            " extracting: train/labels/image_128_jpg.rf.c5597bba925cbb8252b22968cd36bb40.txt  \n",
            " extracting: train/labels/image_129_jpg.rf.9274931adb56390bafb1d9882b86d1b4.txt  \n",
            " extracting: train/labels/image_12_jpg.rf.ee01ecbc04feafa079e76d623d2ec528.txt  \n",
            " extracting: train/labels/image_131_jpg.rf.ee9d7840d7589fba5104685b948a9811.txt  \n",
            " extracting: train/labels/image_132_jpg.rf.9f851ff3db107d3dd9c7039662879d96.txt  \n",
            " extracting: train/labels/image_133_jpg.rf.4e3ecd5eb8817160bc2ea21673c47398.txt  \n",
            " extracting: train/labels/image_134_jpg.rf.04502c93e12ff915e3dac57b924aef0f.txt  \n",
            " extracting: train/labels/image_134_jpg.rf.29f0a0574332bbafdf94a1b41fef4d09.txt  \n",
            " extracting: train/labels/image_135_jpg.rf.6006be40e99acf8fc6866c2e9d8ae82a.txt  \n",
            " extracting: train/labels/image_136_jpg.rf.0d5566815e4c51a564839e6339b59019.txt  \n",
            " extracting: train/labels/image_136_jpg.rf.6dd781bd97f53ffa216508c15410f9ac.txt  \n",
            " extracting: train/labels/image_137_jpg.rf.b7e980630b13b4e98d07de6ce930bfd9.txt  \n",
            " extracting: train/labels/image_138_jpg.rf.0b701e9d3455f6880e1fb9e21430bd1c.txt  \n",
            " extracting: train/labels/image_139_jpg.rf.152ec00036a54054119f7e6f510869b0.txt  \n",
            " extracting: train/labels/image_139_jpg.rf.adee9b2e8469d6e6761f28824763ec38.txt  \n",
            " extracting: train/labels/image_13_jpg.rf.522d5124010e79bf4c0c006d9e80907d.txt  \n",
            " extracting: train/labels/image_13_jpg.rf.df62995e42d73014560dfaa6a8baae58.txt  \n",
            " extracting: train/labels/image_140_jpg.rf.29323e4dac3c58cfbfae6902f59a83fc.txt  \n",
            " extracting: train/labels/image_140_jpg.rf.6582c062a1be10686d21df2e1dca5973.txt  \n",
            " extracting: train/labels/image_141_jpg.rf.3104bc4cc5f81009668e8fbf05d4558b.txt  \n",
            " extracting: train/labels/image_142_jpg.rf.8dd12a03a64d47658a94236b59a8c55b.txt  \n",
            " extracting: train/labels/image_143_jpg.rf.622dcaf34905cf6cbe40f71bb81c8afd.txt  \n",
            " extracting: train/labels/image_143_jpg.rf.cb84cdd8aaa944c2933528040b971364.txt  \n",
            " extracting: train/labels/image_145_jpg.rf.0f37a526d5aec04eea97af6f9e9b41ae.txt  \n",
            " extracting: train/labels/image_146_jpg.rf.90cff8225312b2930c8e06cecd68f3db.txt  \n",
            " extracting: train/labels/image_147_jpg.rf.11438eabfd4ea55d8986b385d524f8f5.txt  \n",
            " extracting: train/labels/image_147_jpg.rf.b5d620d6a2f8fd80127f905be10e0a11.txt  \n",
            " extracting: train/labels/image_148_jpg.rf.11bc2a091bdd3b835168c08728cc8740.txt  \n",
            " extracting: train/labels/image_148_jpg.rf.4dfacae078b2a8b9a88f2591925fcd5b.txt  \n",
            " extracting: train/labels/image_149_jpg.rf.4e6db6f8818a94d909e71cc1e3ce57e0.txt  \n",
            " extracting: train/labels/image_14_jpg.rf.f5a4fec64931efb79a9e4488ae830f2e.txt  \n",
            " extracting: train/labels/image_150_jpg.rf.4fafa758c965e00a72319c552ec079ab.txt  \n",
            " extracting: train/labels/image_151_jpg.rf.28029220a0877ed26b632053d6fdd2f1.txt  \n",
            " extracting: train/labels/image_154_jpg.rf.afe025ad96a9b7a0fa93fb5f8520b4e3.txt  \n",
            " extracting: train/labels/image_155_jpg.rf.9cecf11f002356db599e71c8e00898bc.txt  \n",
            " extracting: train/labels/image_155_jpg.rf.9ee81500e4538fd680233e0a9f97cfaf.txt  \n",
            " extracting: train/labels/image_156_jpg.rf.06ea03c315bfd99ec08f7a4be2ceb81b.txt  \n",
            " extracting: train/labels/image_156_jpg.rf.b9b400ab00d9a82d7c23a445fee512fe.txt  \n",
            " extracting: train/labels/image_157_jpg.rf.af0e1594c96e74bbf9973ac9444c2da9.txt  \n",
            " extracting: train/labels/image_158_jpg.rf.5fcaa3d8ced07b27268a452b0f2fb2ca.txt  \n",
            " extracting: train/labels/image_158_jpg.rf.66bec111d26b566518fc3261553ca908.txt  \n",
            " extracting: train/labels/image_159_jpg.rf.9f8193b12625a3552754160e4c0c4e52.txt  \n",
            " extracting: train/labels/image_15_jpg.rf.3dc42e754bcfcfe1d272bd01018aed58.txt  \n",
            " extracting: train/labels/image_15_jpg.rf.8d54c53e412ba5b08fe01cdd874adf80.txt  \n",
            " extracting: train/labels/image_160_jpg.rf.c9b39618e2fe0fdc1b916aa41c608483.txt  \n",
            " extracting: train/labels/image_161_jpg.rf.11b08ee0b8dbb14ca35c3b53db5a48af.txt  \n",
            " extracting: train/labels/image_161_jpg.rf.7da9f70e9a82802fcb3926a0745690fc.txt  \n",
            " extracting: train/labels/image_162_jpg.rf.2c43bbb54d8bb5656a1cc7d691821314.txt  \n",
            " extracting: train/labels/image_164_jpg.rf.1f137db329996976a42789c600de2ebe.txt  \n",
            " extracting: train/labels/image_164_jpg.rf.ee3bcce6ebd9432d3db6cf8b1c991d25.txt  \n",
            " extracting: train/labels/image_165_jpg.rf.3ed652f8a1fe440282916aba254409fb.txt  \n",
            " extracting: train/labels/image_165_jpg.rf.ca06e4c3a346e6c8796cea3a4f90f218.txt  \n",
            " extracting: train/labels/image_166_jpg.rf.682f6d090970c12799c6b528760f610a.txt  \n",
            " extracting: train/labels/image_167_jpg.rf.764e537a73c87da740ee980c5946580f.txt  \n",
            " extracting: train/labels/image_167_jpg.rf.b98cb01c7a57d880eba13d4e54d371de.txt  \n",
            " extracting: train/labels/image_168_jpg.rf.a8fc92204d02e6fa06b48a82dcd4e815.txt  \n",
            " extracting: train/labels/image_169_jpg.rf.7e3a6ecfeb98ee615d2fda38696493eb.txt  \n",
            " extracting: train/labels/image_16_jpg.rf.22a726f9893d31f0c8d610a5824ebf62.txt  \n",
            " extracting: train/labels/image_16_jpg.rf.e300b122a7b7938ab93a475179da0373.txt  \n",
            " extracting: train/labels/image_170_jpg.rf.f3905161db593b28197725e00b7254f3.txt  \n",
            " extracting: train/labels/image_171_jpg.rf.07068febe40edbacd2b172ad8798eb16.txt  \n",
            " extracting: train/labels/image_171_jpg.rf.d08d5747da77e5f80022ed12a68e0b6c.txt  \n",
            " extracting: train/labels/image_172_jpg.rf.d3fb90781ed254c4768ec7f58c106f2f.txt  \n",
            " extracting: train/labels/image_174_jpg.rf.29724ed5aeb28aa92e0e7ca72a1b94dc.txt  \n",
            " extracting: train/labels/image_174_jpg.rf.3b2723668b0e777d92df1d1f8f354dd0.txt  \n",
            " extracting: train/labels/image_175_jpg.rf.09cd3e2edf72de9150de7109e882fc99.txt  \n",
            " extracting: train/labels/image_176_jpg.rf.525eb9adf9bc82f0319c1a5931cf2c9c.txt  \n",
            " extracting: train/labels/image_176_jpg.rf.974f6e11caca34dd13b085a5bddec65d.txt  \n",
            " extracting: train/labels/image_178_jpg.rf.64d10b35bf6adf60abaa00d2de6615d7.txt  \n",
            " extracting: train/labels/image_178_jpg.rf.b501e0fbbdb68a7e8d4107341a5ecfff.txt  \n",
            " extracting: train/labels/image_179_jpg.rf.9746eb6d04bd4670a928e6ae163c6258.txt  \n",
            " extracting: train/labels/image_17_jpg.rf.1d82f6ce9759c08801410d4fb462d67f.txt  \n",
            " extracting: train/labels/image_180_jpg.rf.7cb9db27fedbab350d8b8d5f87f8af8b.txt  \n",
            " extracting: train/labels/image_181_jpg.rf.5a93c01df5d475a9afc5e8d981ef985c.txt  \n",
            " extracting: train/labels/image_182_jpg.rf.7f87d6b2ecba83f144d0b1c5ba06d037.txt  \n",
            " extracting: train/labels/image_183_jpg.rf.6bcd498c1639fa7bb85524fa8d177b05.txt  \n",
            " extracting: train/labels/image_184_jpg.rf.1432c5eb0e7df5e627ecd24144116a64.txt  \n",
            " extracting: train/labels/image_184_jpg.rf.58f6b6a2c3bd62aadceac6ea7ab92285.txt  \n",
            " extracting: train/labels/image_185_jpg.rf.16576a62eed0bafb3d45c3e4a85c7e94.txt  \n",
            " extracting: train/labels/image_186_jpg.rf.f7d816a74596d3cca315acce08365ef6.txt  \n",
            " extracting: train/labels/image_189_jpg.rf.0f0e87858a039d9bd8dfdc73fda18ace.txt  \n",
            " extracting: train/labels/image_189_jpg.rf.c17d06add2bc27610b6e1bf32fad23e2.txt  \n",
            " extracting: train/labels/image_18_jpg.rf.0866c620a56c6ac6ba510ac2dbb3e64b.txt  \n",
            " extracting: train/labels/image_18_jpg.rf.f60c0e74bfa60ce0805648337b69e3cc.txt  \n",
            " extracting: train/labels/image_190_jpg.rf.06c301bb76dd502f0aa210924736daad.txt  \n",
            " extracting: train/labels/image_191_jpg.rf.82ea33e3d478ec6bee40e5df91968c0c.txt  \n",
            " extracting: train/labels/image_191_jpg.rf.f7777ba2587f9ad1242f1203e5e19d19.txt  \n",
            " extracting: train/labels/image_192_jpg.rf.9be175b23a32e3934bcb2eae833d5fc5.txt  \n",
            " extracting: train/labels/image_192_jpg.rf.c05c41b5e8cb004f8fa2a1da3a67b525.txt  \n",
            " extracting: train/labels/image_194_jpg.rf.ff694ff8a611b29eca4295ed12512a12.txt  \n",
            " extracting: train/labels/image_195_jpg.rf.ce225e4af49308eeb58a00809dcc5cb8.txt  \n",
            " extracting: train/labels/image_196_jpg.rf.26fbbdc480b198d4d8a609d0f8b87aa0.txt  \n",
            " extracting: train/labels/image_196_jpg.rf.56039069781071b96b5327d0d3b99a93.txt  \n",
            " extracting: train/labels/image_197_jpg.rf.da4a7e27af84960059b7d3b3dc580061.txt  \n",
            " extracting: train/labels/image_197_jpg.rf.e8e9a56c4acdef6966a4aca49d244953.txt  \n",
            " extracting: train/labels/image_198_jpg.rf.111ba40d742eaa592244aac9bd5cc3d8.txt  \n",
            " extracting: train/labels/image_198_jpg.rf.67ead372198341bcafb580873c6dedbb.txt  \n",
            " extracting: train/labels/image_199_jpg.rf.e82e3c509207feeb9c5c31d84db7140e.txt  \n",
            " extracting: train/labels/image_19_jpg.rf.a19f238742432a7b8539c0ca7c0d6676.txt  \n",
            " extracting: train/labels/image_1_jpg.rf.f93ed5b3736ce2391e11e67cc29245b8.txt  \n",
            " extracting: train/labels/image_200_jpg.rf.7f29b18e8d52364588ebf64cf2bf419f.txt  \n",
            " extracting: train/labels/image_201_jpg.rf.6d1814986077e3c38c4e01daf973f0e7.txt  \n",
            " extracting: train/labels/image_201_jpg.rf.e0a0e0a0a31034c5bf4c04471e29f2d2.txt  \n",
            " extracting: train/labels/image_202_jpg.rf.72b963432e48de56c2582ded2e981492.txt  \n",
            " extracting: train/labels/image_202_jpg.rf.eff9827249352f6ba74dcf07dab73c6f.txt  \n",
            " extracting: train/labels/image_203_jpg.rf.3b2e7ba55bead2b53dd3bf84ea1c8c04.txt  \n",
            " extracting: train/labels/image_203_jpg.rf.cc180f2712370edc3808f5690398b9f7.txt  \n",
            " extracting: train/labels/image_204_jpg.rf.3fbe9a9132b0cf76b981e48eb4f3bed5.txt  \n",
            " extracting: train/labels/image_205_jpg.rf.ad71cd069243e71aeb6eb81d930a23c7.txt  \n",
            " extracting: train/labels/image_206_jpg.rf.3892e804a953772400f9eb7c6c68483f.txt  \n",
            " extracting: train/labels/image_206_jpg.rf.8d30c8f341acc8760f4d22e3648de6fb.txt  \n",
            " extracting: train/labels/image_207_jpg.rf.9388b4e5a8bbc8f677d6064a2c054175.txt  \n",
            " extracting: train/labels/image_209_jpg.rf.a2e01a32b6384093ec982f68a2accd17.txt  \n",
            " extracting: train/labels/image_20_jpg.rf.969dd689f695d6b8ce918ff8596b93c6.txt  \n",
            " extracting: train/labels/image_210_jpg.rf.0f92027d7577b314aea902fd2d388608.txt  \n",
            " extracting: train/labels/image_211_jpg.rf.f3d6beeecd58472899fce5eafc77e339.txt  \n",
            " extracting: train/labels/image_212_jpg.rf.1ea199dc249dc71a802c50458495a6ca.txt  \n",
            " extracting: train/labels/image_212_jpg.rf.89b2005401b4ba0c31ba2dc8d299ea77.txt  \n",
            " extracting: train/labels/image_213_jpg.rf.ba258c0be2fc48a7c8ebe31b72b2bde0.txt  \n",
            " extracting: train/labels/image_214_jpg.rf.b60ddddaac1e1af148994816385d3bc7.txt  \n",
            " extracting: train/labels/image_216_jpg.rf.2a21da5894ac47ef3a962b83e4506d4a.txt  \n",
            " extracting: train/labels/image_216_jpg.rf.95bc86c8638ecbcc2308be2bc943ee3a.txt  \n",
            " extracting: train/labels/image_217_jpg.rf.0cb34b8c01ff67d960f357eff97bbe42.txt  \n",
            " extracting: train/labels/image_219_jpg.rf.9dcebde8629718a758f5653cf06b67b3.txt  \n",
            " extracting: train/labels/image_21_jpg.rf.b1162366540b1b50a413d59b5e40f95c.txt  \n",
            " extracting: train/labels/image_220_jpg.rf.d50c5de1d6fd0f8b5fba662bf61ce9e0.txt  \n",
            " extracting: train/labels/image_222_jpg.rf.1ff37040f909ebfc32783281467a8da0.txt  \n",
            " extracting: train/labels/image_222_jpg.rf.e0a71fd6e701eb98498594e119900732.txt  \n",
            " extracting: train/labels/image_223_jpg.rf.1069cea05b28f949b23e433635653160.txt  \n",
            " extracting: train/labels/image_224_jpg.rf.4d7ec843aa2b9acbc194e2fb8db58bbf.txt  \n",
            " extracting: train/labels/image_224_jpg.rf.630546b7714c81bf6c7ceffcec643ab8.txt  \n",
            " extracting: train/labels/image_225_jpg.rf.5e9980f798d9c81a393302661922b509.txt  \n",
            " extracting: train/labels/image_227_jpg.rf.17eb361cccf989b4510df150dab30e01.txt  \n",
            " extracting: train/labels/image_227_jpg.rf.61398359473a8c0ce55cef4445053935.txt  \n",
            " extracting: train/labels/image_228_jpg.rf.74ac968952249797723f236891f176e8.txt  \n",
            " extracting: train/labels/image_228_jpg.rf.bed68c06679a1fa02a8ac33bc87df6fa.txt  \n",
            " extracting: train/labels/image_229_jpg.rf.a2c41ae6a7ad94c6af4c7689ea64ef86.txt  \n",
            " extracting: train/labels/image_229_jpg.rf.b39813bba49fa6d016761ea2db2379b6.txt  \n",
            " extracting: train/labels/image_231_jpg.rf.96428baff0eff1b6c892ca059540372c.txt  \n",
            " extracting: train/labels/image_233_jpg.rf.36a1855c4ccb227c2bb0ecbd6dd1bbfd.txt  \n",
            " extracting: train/labels/image_234_jpg.rf.0c651b2c9d271a2d0b542dbe9a60369b.txt  \n",
            " extracting: train/labels/image_235_jpg.rf.032c6e01f51e982513e04b916c52ed22.txt  \n",
            " extracting: train/labels/image_236_jpg.rf.05ff927a4e7e2aab2c7edf3d129d5368.txt  \n",
            " extracting: train/labels/image_237_jpg.rf.5829a067b23f46768012d83fb8329b5a.txt  \n",
            " extracting: train/labels/image_238_jpg.rf.2396f45c559f76d228fdcc091067f947.txt  \n",
            " extracting: train/labels/image_239_jpg.rf.d2e7d92f275cf7fab019f0772b8267c9.txt  \n",
            " extracting: train/labels/image_23_jpg.rf.f234610a11daca7e20ed0916d5c89b68.txt  \n",
            " extracting: train/labels/image_240_jpg.rf.4463494a33d728576c89691022f08476.txt  \n",
            " extracting: train/labels/image_240_jpg.rf.7dd311e8c5bb70d84962f3cfa263ae64.txt  \n",
            " extracting: train/labels/image_242_jpg.rf.92341c074c3476e12cfc7f0bbaecb3bc.txt  \n",
            " extracting: train/labels/image_242_jpg.rf.e355d1ec36139486e543d8c9fe918a52.txt  \n",
            " extracting: train/labels/image_243_jpg.rf.7bd80ca4c5bf0e3fa29342334e545e93.txt  \n",
            " extracting: train/labels/image_244_jpg.rf.c0ccb7338476509b6c0242f633900dc7.txt  \n",
            " extracting: train/labels/image_246_jpg.rf.532984071fa24a3fbfd9f2964f5291e0.txt  \n",
            " extracting: train/labels/image_246_jpg.rf.dd985c64599e69d9d9b1b076ce304947.txt  \n",
            " extracting: train/labels/image_247_jpg.rf.098e5eb15e959a7fbfa5e0e9bbfb60ec.txt  \n",
            " extracting: train/labels/image_247_jpg.rf.95ce1104eeabe7a8bbdc3443a8145653.txt  \n",
            " extracting: train/labels/image_248_jpg.rf.72254d44cee2e5439aa97e5ad1d2b76d.txt  \n",
            " extracting: train/labels/image_248_jpg.rf.86de9b935376f4fb00e0352deeb7dabb.txt  \n",
            " extracting: train/labels/image_249_jpg.rf.f2923df7d14db539007de520039bfd66.txt  \n",
            " extracting: train/labels/image_250_jpg.rf.6b1cbff377dcda7b9ad058a9aefa3bc1.txt  \n",
            " extracting: train/labels/image_250_jpg.rf.c3213af0a6dc7ffc10142c25a062e5dd.txt  \n",
            " extracting: train/labels/image_251_jpg.rf.044e3038df8e7c6022219262409d599b.txt  \n",
            " extracting: train/labels/image_251_jpg.rf.2055f764fefaff54d4efcc05772707fb.txt  \n",
            " extracting: train/labels/image_253_jpg.rf.d4979ae95ca9174942c8817e16064412.txt  \n",
            " extracting: train/labels/image_254_jpg.rf.c246e0e38173ee8385eae668026f1388.txt  \n",
            " extracting: train/labels/image_255_jpg.rf.63afc3ac336def72eb903595c0a74db5.txt  \n",
            " extracting: train/labels/image_256_jpg.rf.30db0a8d54eac9734a6511a7ff149f26.txt  \n",
            " extracting: train/labels/image_257_jpg.rf.5b4a28dfb2849de086b04de343fe40f4.txt  \n",
            " extracting: train/labels/image_258_jpg.rf.ea9782a405491190766441cd6879e210.txt  \n",
            " extracting: train/labels/image_25_jpg.rf.60ad187a0d127dc843afcba1314b43cc.txt  \n",
            " extracting: train/labels/image_25_jpg.rf.d7975539a1f52684faf54012f9379547.txt  \n",
            " extracting: train/labels/image_260_jpg.rf.68b8142075b66ac75b017479fe882182.txt  \n",
            " extracting: train/labels/image_261_jpg.rf.a57aa08f6c3acb0e8b1c028d4d7df931.txt  \n",
            " extracting: train/labels/image_261_jpg.rf.dac2849e1345e57b2695d7f6f22b3b79.txt  \n",
            " extracting: train/labels/image_262_jpg.rf.85e3e87dc88a8b1defaf4eb3a9fe5b77.txt  \n",
            " extracting: train/labels/image_262_jpg.rf.b18b4e590441159d978b5af26ddef03f.txt  \n",
            " extracting: train/labels/image_263_jpg.rf.f76c5925b7128527e5821603ddfd3259.txt  \n",
            " extracting: train/labels/image_264_jpg.rf.2297cef249833d4fa97ac7edb40e8645.txt  \n",
            " extracting: train/labels/image_264_jpg.rf.4c6c830d3190877b231cb443a83f3c7a.txt  \n",
            " extracting: train/labels/image_265_jpg.rf.90d49488a6970afddadd930fdd95bbda.txt  \n",
            " extracting: train/labels/image_265_jpg.rf.bb93654fa344c4c722f3e110dc175b85.txt  \n",
            " extracting: train/labels/image_266_jpg.rf.0dea6e23e94398f7974ef5a66eefde72.txt  \n",
            " extracting: train/labels/image_266_jpg.rf.d7ebd1ea12ec5ed229a07e6c32a0fa30.txt  \n",
            " extracting: train/labels/image_268_jpg.rf.9d188facbcbda61864b37d80effbd856.txt  \n",
            " extracting: train/labels/image_269_jpg.rf.a2b2933ea4e4f58e390891db936238b8.txt  \n",
            " extracting: train/labels/image_26_jpg.rf.3971f52fe5fab71d8b51b9d084ad3690.txt  \n",
            " extracting: train/labels/image_26_jpg.rf.41d1aa9d8b9f5b3c95465b0f724faa8c.txt  \n",
            " extracting: train/labels/image_270_jpg.rf.65677ec16693028b0c06f50a609115aa.txt  \n",
            " extracting: train/labels/image_272_jpg.rf.af4a25462501fdc28fc420094b747072.txt  \n",
            " extracting: train/labels/image_272_jpg.rf.d4126817ad9d87eb76cd0e5a0ffdd5a9.txt  \n",
            " extracting: train/labels/image_273_jpg.rf.cee2cf62bb3a4aa03947ed0a7058c06a.txt  \n",
            " extracting: train/labels/image_274_jpg.rf.74b3dc5bd24e92dcdaa4f4a03f983466.txt  \n",
            " extracting: train/labels/image_275_jpg.rf.c463883ce6514ad81b031d7a3e4f21f5.txt  \n",
            " extracting: train/labels/image_276_jpg.rf.d5a2bc06e67cc5ff02554d590aa9894f.txt  \n",
            " extracting: train/labels/image_277_jpg.rf.04c8c0065e8a77565b1a3190e38817fd.txt  \n",
            " extracting: train/labels/image_277_jpg.rf.5a9983b0c06fa9096a25a9d17a5b1b8e.txt  \n",
            " extracting: train/labels/image_278_jpg.rf.54c59cb2c2d252b617f9e785186b3a16.txt  \n",
            " extracting: train/labels/image_278_jpg.rf.b643be323fc98f8e4ec60a68f69a0289.txt  \n",
            " extracting: train/labels/image_279_jpg.rf.6187b4198e3d49352fbad590b81e7e25.txt  \n",
            " extracting: train/labels/image_279_jpg.rf.d916048660ba299211436025f92e0c23.txt  \n",
            " extracting: train/labels/image_27_jpg.rf.29e5c81e82e74d6c9b9f71e692490e19.txt  \n",
            " extracting: train/labels/image_27_jpg.rf.c6248b34c1f8c0efa39280d4518fd198.txt  \n",
            " extracting: train/labels/image_280_jpg.rf.fcc801e27c3fc2574bdfd1dd0236bb0c.txt  \n",
            " extracting: train/labels/image_281_jpg.rf.b6272049112f700f0c9e6cf0ccb9ca15.txt  \n",
            " extracting: train/labels/image_281_jpg.rf.e90cfa9f08d6e51554c5c793b82925c1.txt  \n",
            " extracting: train/labels/image_284_jpg.rf.24f153c7c0ab2c36a48ce1f2dab73c84.txt  \n",
            " extracting: train/labels/image_284_jpg.rf.4a912b38fb7e6892b68d3973c0b5b381.txt  \n",
            " extracting: train/labels/image_286_jpg.rf.196458b53297b2dc2a29d542734a2692.txt  \n",
            " extracting: train/labels/image_287_jpg.rf.7c0cf2469e833d9c5ec1016d9c21f5eb.txt  \n",
            " extracting: train/labels/image_288_jpg.rf.c3248cec91d77ab109c5e18176438a8a.txt  \n",
            " extracting: train/labels/image_289_jpg.rf.b040b33c25a2d35121a8009e831c82dc.txt  \n",
            " extracting: train/labels/image_289_jpg.rf.e82856d1de7d68d275aacb4f75779b20.txt  \n",
            " extracting: train/labels/image_28_jpg.rf.1b26f5481c67c6ff814abd29676250ef.txt  \n",
            " extracting: train/labels/image_28_jpg.rf.f886dadfb9c0b797161ccae33514e5e1.txt  \n",
            " extracting: train/labels/image_290_jpg.rf.3ede9be8435c65566483d077d8159aff.txt  \n",
            " extracting: train/labels/image_291_jpg.rf.6e4b20d6358dfee5f160a1c1bfca5ad9.txt  \n",
            " extracting: train/labels/image_291_jpg.rf.e8053b192765b64de4b76d0a9bb50037.txt  \n",
            " extracting: train/labels/image_292_jpg.rf.7df814d998850187d72141410b7873f1.txt  \n",
            " extracting: train/labels/image_293_jpg.rf.421bdb6a250309c926e24f1cb8f35e56.txt  \n",
            " extracting: train/labels/image_295_jpg.rf.86e125206f9c85353e00a0788339a39d.txt  \n",
            " extracting: train/labels/image_296_jpg.rf.356c85aacc16fc90289338fb68a9f2bd.txt  \n",
            " extracting: train/labels/image_297_jpg.rf.63537ddb4882a03a07b122a77f14b0ae.txt  \n",
            " extracting: train/labels/image_297_jpg.rf.b58d263ab278ec07f0457977778a9f3f.txt  \n",
            " extracting: train/labels/image_298_jpg.rf.a42f7a5999367365088e4a328b153a67.txt  \n",
            " extracting: train/labels/image_299_jpg.rf.85a375d158f646d88348f4fc430f2608.txt  \n",
            " extracting: train/labels/image_29_jpg.rf.b29c799a6d93a39bbad406275630fc19.txt  \n",
            " extracting: train/labels/image_2_jpg.rf.698efb7cea745efeecba33ad8c87f789.txt  \n",
            " extracting: train/labels/image_2_jpg.rf.a7afe7a78ac2030968d243d3da7e75b6.txt  \n",
            " extracting: train/labels/image_300_jpg.rf.4241ccd1e5c185c236a75a9516acbaa5.txt  \n",
            " extracting: train/labels/image_300_jpg.rf.6b9ab53ac5f89b8c0dbee9e4d151a300.txt  \n",
            " extracting: train/labels/image_301_jpg.rf.962df41f39a06f1ff00cebb223fa01ef.txt  \n",
            " extracting: train/labels/image_301_jpg.rf.d08528efef3420534ca409a723e8565e.txt  \n",
            " extracting: train/labels/image_302_jpg.rf.68da4eb8e74cb53ef6579e1f279c9143.txt  \n",
            " extracting: train/labels/image_304_jpg.rf.14749a65e0f87c8b81c58526b0727161.txt  \n",
            " extracting: train/labels/image_304_jpg.rf.e0bdb002a3e5881c2911fdb7b2ae403d.txt  \n",
            " extracting: train/labels/image_305_jpg.rf.b38cf6ba93ff691a1988b5301771e885.txt  \n",
            " extracting: train/labels/image_306_jpg.rf.ca7b270f51e5ee542924fec93460ddce.txt  \n",
            " extracting: train/labels/image_308_jpg.rf.7f02d792257f4db3b51e007b08af59a2.txt  \n",
            " extracting: train/labels/image_309_jpg.rf.76765047bbf312a23d3fd0ca321eb8cd.txt  \n",
            " extracting: train/labels/image_309_jpg.rf.dabccfe2f2c000d3b6fef7a09dbf6ba9.txt  \n",
            " extracting: train/labels/image_30_jpg.rf.c08a419e86c8a32baffa96efca1dc1a4.txt  \n",
            " extracting: train/labels/image_311_jpg.rf.8d8917ed10ee041607f2988505f059ca.txt  \n",
            " extracting: train/labels/image_312_jpg.rf.41b0859a2c24370a8fa3fbe531ea71c8.txt  \n",
            " extracting: train/labels/image_313_jpg.rf.0fbafac479f409bff87e4a24395a7f9b.txt  \n",
            " extracting: train/labels/image_313_jpg.rf.2e02c6c8a343194f2300a40129303495.txt  \n",
            " extracting: train/labels/image_314_jpg.rf.aaff2fe048c001a59e9a97207a386bca.txt  \n",
            " extracting: train/labels/image_314_jpg.rf.b2f1744b4e2db3801e91c11a0308ac5d.txt  \n",
            " extracting: train/labels/image_315_jpg.rf.c21d58014d419b79f28d030807f12dbd.txt  \n",
            " extracting: train/labels/image_315_jpg.rf.cd06ac188ab0054af0de65cc499b1176.txt  \n",
            " extracting: train/labels/image_316_jpg.rf.3a0cacbd89367df44913ce5342b7d869.txt  \n",
            " extracting: train/labels/image_316_jpg.rf.b83fe3033a1b58bc2b232587bffcf731.txt  \n",
            " extracting: train/labels/image_317_jpg.rf.b60709ecfaf03cac25dc902c73bcbfcd.txt  \n",
            " extracting: train/labels/image_318_jpg.rf.67103df5e5569f85283916fbae4885fa.txt  \n",
            " extracting: train/labels/image_318_jpg.rf.c24c445cb9bc38049f6fa87b4fa85354.txt  \n",
            " extracting: train/labels/image_319_jpg.rf.49018e6302da7324c00f53b763e66d9c.txt  \n",
            " extracting: train/labels/image_319_jpg.rf.4bbc3947a89d545015c46f8c68745db8.txt  \n",
            " extracting: train/labels/image_31_jpg.rf.415199ecd91cb9b37de4227fef6ec3c3.txt  \n",
            " extracting: train/labels/image_31_jpg.rf.9bc31a205f0d69129eb2ff54d44d80a0.txt  \n",
            " extracting: train/labels/image_321_jpg.rf.244e22c0949e85937efa14d9d4700b67.txt  \n",
            " extracting: train/labels/image_323_jpg.rf.262626f0efa424e2e445de241d9ab0b2.txt  \n",
            " extracting: train/labels/image_323_jpg.rf.b78209f1eceb60112e2b02871208c08a.txt  \n",
            " extracting: train/labels/image_324_jpg.rf.2f41df632e4518d9f6455a3c016683d6.txt  \n",
            " extracting: train/labels/image_325_jpg.rf.347fcefa0d3382ef5367ff27ac35b39e.txt  \n",
            " extracting: train/labels/image_326_jpg.rf.df81dc82f4bb54397ce6a97d0ba4e18e.txt  \n",
            " extracting: train/labels/image_327_jpg.rf.b1959cbfe042488c79e90289dd108b16.txt  \n",
            " extracting: train/labels/image_328_jpg.rf.1eafa048a9acf3757d6b2c645ae1af03.txt  \n",
            " extracting: train/labels/image_328_jpg.rf.603f4a89d01ac311f9d696bc1ac25986.txt  \n",
            " extracting: train/labels/image_329_jpg.rf.002c682e6246049dcee132f466917c59.txt  \n",
            " extracting: train/labels/image_329_jpg.rf.620361b58ef3c40be11cfb9e36c4954d.txt  \n",
            " extracting: train/labels/image_32_jpg.rf.25e2855d0869bd1fcc45ce999ad372d5.txt  \n",
            " extracting: train/labels/image_32_jpg.rf.c3ae19ac51238401f9471efd674ad271.txt  \n",
            " extracting: train/labels/image_330_jpg.rf.6729df4f27ee734d994705bc5ce18ae7.txt  \n",
            " extracting: train/labels/image_332_jpg.rf.80d23ebd98c6c97af301a5d3979babf5.txt  \n",
            " extracting: train/labels/image_334_jpg.rf.bf0c95e31d3f704d6bc1d9551f873ddc.txt  \n",
            " extracting: train/labels/image_335_jpg.rf.22f8f297db519fa09e1eb57964d54439.txt  \n",
            " extracting: train/labels/image_336_jpg.rf.334273f16fa574fd4e7cd70c68d3198a.txt  \n",
            " extracting: train/labels/image_336_jpg.rf.82c78566ae6ebfc0bc29f373a30fc577.txt  \n",
            " extracting: train/labels/image_337_jpg.rf.f25a0f4bf0fc71d2b2fde8f85e5051eb.txt  \n",
            " extracting: train/labels/image_338_jpg.rf.74f479d453ad0b65bbe3e9ff2c0f0e72.txt  \n",
            " extracting: train/labels/image_339_jpg.rf.b9c811644641509566581c5643994422.txt  \n",
            " extracting: train/labels/image_33_jpg.rf.122008911f224ee4242c46e9b217913d.txt  \n",
            " extracting: train/labels/image_33_jpg.rf.a0135812a776297b8248351d7d066aaf.txt  \n",
            " extracting: train/labels/image_340_jpg.rf.08f3e8fcef358c19b9a777d60236a4eb.txt  \n",
            " extracting: train/labels/image_341_jpg.rf.bedcf14e092d8f08183dc22b310c05bf.txt  \n",
            " extracting: train/labels/image_341_jpg.rf.de28ab22e9261d3cf87e29d10b6536d8.txt  \n",
            " extracting: train/labels/image_342_jpg.rf.b39b283d2619d92c89566b1175d42050.txt  \n",
            " extracting: train/labels/image_343_jpg.rf.8dba5346439cc5bee85805fdbf5b45c4.txt  \n",
            " extracting: train/labels/image_344_jpg.rf.057adc56c60a473864e6976694961e40.txt  \n",
            " extracting: train/labels/image_344_jpg.rf.edb6a6687f702b3232578d8c270a8790.txt  \n",
            " extracting: train/labels/image_345_jpg.rf.ff4982c557f95bdb22cfbdc87bbc20fb.txt  \n",
            " extracting: train/labels/image_346_jpg.rf.9de5e73f262c1a9b7ca3beb643781165.txt  \n",
            " extracting: train/labels/image_348_jpg.rf.260d638436667fa979ddebd78ebcd159.txt  \n",
            " extracting: train/labels/image_348_jpg.rf.e423ee77cc9f76e11e7229ec71084b98.txt  \n",
            " extracting: train/labels/image_349_jpg.rf.80b88efd5311763a81c23d6962bd4d4b.txt  \n",
            " extracting: train/labels/image_34_jpg.rf.4e3c45c2953155930de81c7779e0a870.txt  \n",
            " extracting: train/labels/image_34_jpg.rf.fad5cec6e6319270cac9afea030ef81b.txt  \n",
            " extracting: train/labels/image_351_jpg.rf.765dab217f9ca2b03b3b22c8a9673016.txt  \n",
            " extracting: train/labels/image_351_jpg.rf.a56424e25a1e9952d8121bd5223b4336.txt  \n",
            " extracting: train/labels/image_352_jpg.rf.80e151b3f3872c717b499dfc0cceca8c.txt  \n",
            " extracting: train/labels/image_352_jpg.rf.b7d46390f1dd6380e6683bde2d33ef12.txt  \n",
            " extracting: train/labels/image_353_jpg.rf.5d66953505033b5b2bc42e2c7a4d4560.txt  \n",
            " extracting: train/labels/image_354_jpg.rf.97d789bd6e3eb53f49d7f3c605bc426d.txt  \n",
            " extracting: train/labels/image_355_jpg.rf.3d51532676df37f2e604004d4695bf7e.txt  \n",
            " extracting: train/labels/image_356_jpg.rf.3f52a43e2e7363e93dcb8f0838ed7920.txt  \n",
            " extracting: train/labels/image_357_jpg.rf.b30c3500fb6b6836ff947fbbdf51e0f3.txt  \n",
            " extracting: train/labels/image_358_jpg.rf.9eefbbd90cca0d6e3ca065f8c40ac44d.txt  \n",
            " extracting: train/labels/image_358_jpg.rf.de6d3d86d89ad087a4561bffe1f6fa70.txt  \n",
            " extracting: train/labels/image_359_jpg.rf.74a3b59852118b66e91ffdac754bc0a4.txt  \n",
            " extracting: train/labels/image_35_jpg.rf.6ee23a965db1dd646e909fa60dd90a50.txt  \n",
            " extracting: train/labels/image_360_jpg.rf.1fe3ed24b9fab445b0ffe6574a132b85.txt  \n",
            " extracting: train/labels/image_360_jpg.rf.65c0d79d6e77bc48256ec1340cc6002f.txt  \n",
            " extracting: train/labels/image_362_jpg.rf.67f21f1a8d7a31a33b5659fe45a3630d.txt  \n",
            " extracting: train/labels/image_362_jpg.rf.738cf38e4222fda9ac5ee9a29a3e0d78.txt  \n",
            " extracting: train/labels/image_363_jpg.rf.6f5260edd4eb5fe5f9af80e42c87875c.txt  \n",
            " extracting: train/labels/image_364_jpg.rf.2c7ae354f2332bbb541b01b576bf65f4.txt  \n",
            " extracting: train/labels/image_365_jpg.rf.7043f79e2197f0dc2650c8f2ac55ff06.txt  \n",
            " extracting: train/labels/image_366_jpg.rf.bc8f06171d074c5c28a3f77160c74c94.txt  \n",
            " extracting: train/labels/image_368_jpg.rf.36df327aa3bb14f44cbd831c70a4dea8.txt  \n",
            " extracting: train/labels/image_369_jpg.rf.6d1d6835be9c24dbbf47d761aceb6f44.txt  \n",
            " extracting: train/labels/image_369_jpg.rf.d43b8746e397efd230e01d6192e68d97.txt  \n",
            " extracting: train/labels/image_36_jpg.rf.4d714799115525ec4698c5552302e90a.txt  \n",
            " extracting: train/labels/image_370_jpg.rf.1ddbf3844ebbba2db20464944d779f8d.txt  \n",
            " extracting: train/labels/image_370_jpg.rf.ac059f582662406a4b4dd63c7f0b31b6.txt  \n",
            " extracting: train/labels/image_371_jpg.rf.b882fef92f498f5927536e66a82d54b1.txt  \n",
            " extracting: train/labels/image_372_jpg.rf.f5b26279a25c1d6690d4abf7efa7b067.txt  \n",
            " extracting: train/labels/image_373_jpg.rf.62040169259aa245a3d02e167d14a892.txt  \n",
            " extracting: train/labels/image_373_jpg.rf.fe66182079bcaed564ec6e8d47633263.txt  \n",
            " extracting: train/labels/image_376_jpg.rf.71d9b60f51a1c974b6c41f03b8c39486.txt  \n",
            " extracting: train/labels/image_377_jpg.rf.709c7669c7667a2b22a3c5e89581fa1d.txt  \n",
            " extracting: train/labels/image_377_jpg.rf.82965cc07d93536ad9f5be6c2380d327.txt  \n",
            " extracting: train/labels/image_378_jpg.rf.6ddd444bd4669878b26c768625a9e294.txt  \n",
            " extracting: train/labels/image_378_jpg.rf.c074233ca267de99d63d7d2313bd5220.txt  \n",
            " extracting: train/labels/image_379_jpg.rf.04fd45d6bb50603dec361c18e7ec30dc.txt  \n",
            " extracting: train/labels/image_379_jpg.rf.a72543103bde1c2e600e5e34fb2fda8e.txt  \n",
            " extracting: train/labels/image_37_jpg.rf.cfaea6bb94463dbd55b31f699f1b7bd1.txt  \n",
            " extracting: train/labels/image_380_jpg.rf.48de4b4f7ea4becb02436705754361dc.txt  \n",
            " extracting: train/labels/image_382_jpg.rf.4178d618f499f0c4bdf85ccaa816c7f1.txt  \n",
            " extracting: train/labels/image_383_jpg.rf.330117604a7cd0bf1714bb792c249fe4.txt  \n",
            " extracting: train/labels/image_384_jpg.rf.345d1a53984da503f45f35ab86ba824d.txt  \n",
            " extracting: train/labels/image_384_jpg.rf.ab89b1974b0000c96c34fb23a9655e66.txt  \n",
            " extracting: train/labels/image_385_jpg.rf.d4b070706ae3f4daea155b93c88b864a.txt  \n",
            " extracting: train/labels/image_386_jpg.rf.028376aed7cfd1394d5150865222ab6a.txt  \n",
            " extracting: train/labels/image_386_jpg.rf.65682e6a115f6902bec8cd4a5103d359.txt  \n",
            " extracting: train/labels/image_387_jpg.rf.3e2a0fab570dcc3af6da70aae1a74958.txt  \n",
            " extracting: train/labels/image_388_jpg.rf.aed7c781f2d5ad2d27c27450ae7ea363.txt  \n",
            " extracting: train/labels/image_388_jpg.rf.ef85388872aea2da58cbc5565d24d1bb.txt  \n",
            " extracting: train/labels/image_389_jpg.rf.0dee2276bdeb99e3f9f93366a4057635.txt  \n",
            " extracting: train/labels/image_389_jpg.rf.d48934f20e652b772e15a2d152db6494.txt  \n",
            " extracting: train/labels/image_38_jpg.rf.ee23b18ca360a4ca6906866551dc23cd.txt  \n",
            " extracting: train/labels/image_390_jpg.rf.0c0a19d7868b15c0fbd66bc4b4ec4417.txt  \n",
            " extracting: train/labels/image_390_jpg.rf.331a6e799f56ffc173a6e0f6e21e8e62.txt  \n",
            " extracting: train/labels/image_391_jpg.rf.28e3fab14dbd2b840a7fe55512f8c5ca.txt  \n",
            " extracting: train/labels/image_391_jpg.rf.5f65d32b34adef1660141277b521104f.txt  \n",
            " extracting: train/labels/image_392_jpg.rf.5325e24971d02f7a5962db0ff2cc2675.txt  \n",
            " extracting: train/labels/image_393_jpg.rf.482882561a8685daedef963ba600f087.txt  \n",
            " extracting: train/labels/image_393_jpg.rf.6ddf737ad87a2e1c34f3964a157f4042.txt  \n",
            " extracting: train/labels/image_394_jpg.rf.4883e2d6cc5aa4bb50b7b2afc1820fbd.txt  \n",
            " extracting: train/labels/image_394_jpg.rf.5638ddb6e1db7ba39ee1be892464e2b1.txt  \n",
            " extracting: train/labels/image_395_jpg.rf.6c9ece7be7b08b7da271d52115cbc268.txt  \n",
            " extracting: train/labels/image_395_jpg.rf.ed0668d9711530762bddd654ed6ba910.txt  \n",
            " extracting: train/labels/image_396_jpg.rf.01565eeab7fbeb7fe02335ce714d31fb.txt  \n",
            " extracting: train/labels/image_396_jpg.rf.40302bf99e5bb58d2f017434df3bcb9b.txt  \n",
            " extracting: train/labels/image_397_jpg.rf.7941f56a79d74d23f9ac4ca4fe2d45e1.txt  \n",
            " extracting: train/labels/image_398_jpg.rf.ee8bd95ec57f1e7dbd9a969b7041f1de.txt  \n",
            " extracting: train/labels/image_3_jpg.rf.7efbf96cbdf16f95a02886f0a2b6696e.txt  \n",
            " extracting: train/labels/image_400_jpg.rf.62cc99dad5482b031a20b210aabe61d0.txt  \n",
            " extracting: train/labels/image_400_jpg.rf.ee2827876081a863a15bf98636072639.txt  \n",
            " extracting: train/labels/image_401_jpg.rf.a88d8e18fdbf3c794c3e3356b68db286.txt  \n",
            " extracting: train/labels/image_401_jpg.rf.bf72bbc20207788fa1406120f1101cba.txt  \n",
            " extracting: train/labels/image_403_jpg.rf.8a9733d947b5e7f58bff78f109f145cd.txt  \n",
            " extracting: train/labels/image_403_jpg.rf.cd9a726c4bb6cf02f6f2363b572a2e6a.txt  \n",
            " extracting: train/labels/image_404_jpg.rf.01681487c94ead1382842f4a72edec0a.txt  \n",
            " extracting: train/labels/image_405_jpg.rf.7059308ff2ed5a13ca8ca48179e0cc9a.txt  \n",
            " extracting: train/labels/image_405_jpg.rf.8bd9ac33796c6efe78d22be5035c2bde.txt  \n",
            " extracting: train/labels/image_406_jpg.rf.891f095c3714812a12017070db995604.txt  \n",
            " extracting: train/labels/image_407_jpg.rf.0c92465c127e3469597b6bcbb3a763a4.txt  \n",
            " extracting: train/labels/image_408_jpg.rf.6904f3420bc1a4895858e002db4c59cd.txt  \n",
            " extracting: train/labels/image_408_jpg.rf.c0a7a287451af23b89a0d5242272efb4.txt  \n",
            " extracting: train/labels/image_40_jpg.rf.77fa7acde0f80814488fb151903b7f99.txt  \n",
            " extracting: train/labels/image_410_jpg.rf.1b324f4949394e63294bf8368f283ae5.txt  \n",
            " extracting: train/labels/image_411_jpg.rf.4215642c610d9118ab09de62eade8faa.txt  \n",
            " extracting: train/labels/image_411_jpg.rf.72a3aabd370343c935d4170fda8816f1.txt  \n",
            " extracting: train/labels/image_412_jpg.rf.6b855f91b30ae6f85e9377d9e80161f4.txt  \n",
            " extracting: train/labels/image_412_jpg.rf.e5e6a86aaebf37e64e78e6bded333761.txt  \n",
            " extracting: train/labels/image_413_jpg.rf.445db6561e0e1b294c0cf918b2e6290c.txt  \n",
            " extracting: train/labels/image_414_jpg.rf.a0694c341e76bdfc3f073ca892c848f8.txt  \n",
            " extracting: train/labels/image_414_jpg.rf.b677d4d60d964523f7d564498a0ece90.txt  \n",
            " extracting: train/labels/image_416_jpg.rf.36e571bce25ece3a7cae9218dc05e134.txt  \n",
            " extracting: train/labels/image_417_jpg.rf.6292c2cbf7d6abbd68c52e16707adf5e.txt  \n",
            " extracting: train/labels/image_418_jpg.rf.7f98fd21b18f3f2918a4325cd678871b.txt  \n",
            " extracting: train/labels/image_419_jpg.rf.4923804ce6f4a3f42576788747152c3b.txt  \n",
            " extracting: train/labels/image_419_jpg.rf.e0f7893908c2604ef73444ffde47dca4.txt  \n",
            " extracting: train/labels/image_420_jpg.rf.55272b66a437ac8ebbbd0a25f548f57f.txt  \n",
            " extracting: train/labels/image_422_jpg.rf.87f175d6780638c0d9ebf8009f6c8141.txt  \n",
            " extracting: train/labels/image_422_jpg.rf.970d879f80f337fb3379ef3eed039bfb.txt  \n",
            " extracting: train/labels/image_424_jpg.rf.25dde2d154e3bab70380b2be99fed3bc.txt  \n",
            " extracting: train/labels/image_424_jpg.rf.de204bd5c924df594b2d9499fc2fc689.txt  \n",
            " extracting: train/labels/image_425_jpg.rf.5cbea7141d722a2aa4645aee091575d1.txt  \n",
            " extracting: train/labels/image_426_jpg.rf.a44c80823657919627822a85f725c507.txt  \n",
            " extracting: train/labels/image_426_jpg.rf.d9b2bb650d8eaeb09e1550859adc800c.txt  \n",
            " extracting: train/labels/image_427_jpg.rf.bb13f995ed8ec8585951d20a57997cee.txt  \n",
            " extracting: train/labels/image_427_jpg.rf.f97a1c2d43907206fb953c62bb973958.txt  \n",
            " extracting: train/labels/image_428_jpg.rf.c7f1f62a98dbd0dcb817f9ccbe785a33.txt  \n",
            " extracting: train/labels/image_429_jpg.rf.8a54e165903438eca810f7267ee58928.txt  \n",
            " extracting: train/labels/image_42_jpg.rf.18cb2ca176cd96389df695501d9e7335.txt  \n",
            " extracting: train/labels/image_431_jpg.rf.75705c4cfdedecfc99459d23e9dbd3a3.txt  \n",
            " extracting: train/labels/image_431_jpg.rf.a965babdfb476988ab59bb9122e0928c.txt  \n",
            " extracting: train/labels/image_432_jpg.rf.13f095441674fc8312e3991be58f3299.txt  \n",
            " extracting: train/labels/image_432_jpg.rf.6adc8f09c653d09c0cd39c300560d5bb.txt  \n",
            " extracting: train/labels/image_433_jpg.rf.21c0a52fbf0c6318ad05132860482e16.txt  \n",
            " extracting: train/labels/image_433_jpg.rf.b72f88e068db0489189164b8fef319ac.txt  \n",
            " extracting: train/labels/image_436_jpg.rf.05e956f1fa2f4293dcc55ea72217b776.txt  \n",
            " extracting: train/labels/image_436_jpg.rf.a46cfe6e259f910ba8833b5538a65303.txt  \n",
            " extracting: train/labels/image_437_jpg.rf.f332dc9237552de4bb793983de0d7565.txt  \n",
            " extracting: train/labels/image_438_jpg.rf.73dec2fb674b83642462988598b89b77.txt  \n",
            " extracting: train/labels/image_439_jpg.rf.1ba0bb87553455a3272f31c38eab18cf.txt  \n",
            " extracting: train/labels/image_439_jpg.rf.cce5dc47cab9c67b250e18197481cd57.txt  \n",
            " extracting: train/labels/image_441_jpg.rf.0ca69f260b1a3e32ef8cff44b3f70408.txt  \n",
            " extracting: train/labels/image_441_jpg.rf.9f3348717230a9fa6f59c5049ced6dd4.txt  \n",
            " extracting: train/labels/image_442_jpg.rf.82ea4dbc8b4e5c9e50d306caf322c5cd.txt  \n",
            " extracting: train/labels/image_443_jpg.rf.854e49d41ca8cbc99c3d8091f0b7090a.txt  \n",
            " extracting: train/labels/image_444_jpg.rf.5ee2f8666623fca1d055aab2caaec71b.txt  \n",
            " extracting: train/labels/image_445_jpg.rf.2ee97cb6ace6b8da67dbbee2282f6f2e.txt  \n",
            " extracting: train/labels/image_446_jpg.rf.0339e91d94913be034dbcdc21fea5838.txt  \n",
            " extracting: train/labels/image_446_jpg.rf.72ec65c04c28155e5deffedfc7a3544e.txt  \n",
            " extracting: train/labels/image_447_jpg.rf.ccd98e6bffb23274bfc9ff33265c7968.txt  \n",
            " extracting: train/labels/image_448_jpg.rf.cc257c034e377f19fa7038bca178c172.txt  \n",
            " extracting: train/labels/image_44_jpg.rf.05b33ffc4fdab17252c2ee6dea32e315.txt  \n",
            " extracting: train/labels/image_44_jpg.rf.806d3f430927eee3b96cd972fe544f7e.txt  \n",
            " extracting: train/labels/image_450_jpg.rf.76c9f31864c1f1856cb22f15e35d0bdb.txt  \n",
            " extracting: train/labels/image_451_jpg.rf.0179fbfebed7a8a216932e88e10b9336.txt  \n",
            " extracting: train/labels/image_451_jpg.rf.680b06652146e02ea9293e72b1aedf2a.txt  \n",
            " extracting: train/labels/image_452_jpg.rf.2a57dc3a545a48d2b84a6479111993bb.txt  \n",
            " extracting: train/labels/image_454_jpg.rf.aae8f0874e9adf1d113a3911b2d2a2a9.txt  \n",
            " extracting: train/labels/image_455_jpg.rf.243bf805ffcad84f43c879018a1a4a82.txt  \n",
            " extracting: train/labels/image_456_jpg.rf.347ca06a377b23c95b1f54138c7e15f2.txt  \n",
            " extracting: train/labels/image_457_jpg.rf.3cd0f4d09b0f286c9c846e3df6e1dea8.txt  \n",
            " extracting: train/labels/image_458_jpg.rf.54f9712e904c8c935ea0991cc26f3c4e.txt  \n",
            " extracting: train/labels/image_458_jpg.rf.5f32dd1ff6de1d1dce5a0afca2bf5fcf.txt  \n",
            " extracting: train/labels/image_459_jpg.rf.ada20ef56097d41fc5812c176371c652.txt  \n",
            " extracting: train/labels/image_45_jpg.rf.9ad6bf39dd7e594056e1fb6863899914.txt  \n",
            " extracting: train/labels/image_45_jpg.rf.a76947139a16e9f1a1eb586e5868376f.txt  \n",
            " extracting: train/labels/image_460_jpg.rf.95a94d6042780854291682f75bd48007.txt  \n",
            " extracting: train/labels/image_462_jpg.rf.96126fbd17d38c6cd3a84577f4415bf7.txt  \n",
            " extracting: train/labels/image_462_jpg.rf.9b6e5df87d755cafd0470494e118ebfe.txt  \n",
            " extracting: train/labels/image_463_jpg.rf.bb36ce35eaf8d46af717112ed555ea8d.txt  \n",
            " extracting: train/labels/image_464_jpg.rf.6d714233befb051abff2ed401fcd69e8.txt  \n",
            " extracting: train/labels/image_465_jpg.rf.0788dd156e3c5890d98f50459c01791c.txt  \n",
            " extracting: train/labels/image_466_jpg.rf.42a8bc1f26a72faa8a7935798aa2c3cf.txt  \n",
            " extracting: train/labels/image_466_jpg.rf.8e0a3189aeeb1fcbbb848f3564a5ac96.txt  \n",
            " extracting: train/labels/image_467_jpg.rf.e75a658c389c7bcebb60503bec54e36d.txt  \n",
            " extracting: train/labels/image_467_jpg.rf.fe345a73bb46205c35d44c5d4f6d5ab9.txt  \n",
            " extracting: train/labels/image_468_jpg.rf.d36cfdb06a6fec84e56462f6f2967e83.txt  \n",
            " extracting: train/labels/image_469_jpg.rf.1332bcb311f86abc5cb5d1084d327980.txt  \n",
            " extracting: train/labels/image_470_jpg.rf.65734df7acfa5531e07e97163f2f1352.txt  \n",
            " extracting: train/labels/image_472_jpg.rf.59ad34f38d91b12caa2d895ae5823203.txt  \n",
            " extracting: train/labels/image_472_jpg.rf.9542b2900fbf93326ead6dc75fc5efaa.txt  \n",
            " extracting: train/labels/image_473_jpg.rf.02167284604c13d04d873dbc3505d048.txt  \n",
            " extracting: train/labels/image_474_jpg.rf.aa96a44c762ce69c1dcb348e331494c7.txt  \n",
            " extracting: train/labels/image_475_jpg.rf.fe532ea2bf982004a1f10511b27e054d.txt  \n",
            " extracting: train/labels/image_476_jpg.rf.efd28ec756a6e5d0dc3a4b9d12f20158.txt  \n",
            " extracting: train/labels/image_477_jpg.rf.eb0a7a9cceb4733df3cd58e65609a394.txt  \n",
            " extracting: train/labels/image_478_jpg.rf.8a54716fb69713dd594108dcce08a729.txt  \n",
            " extracting: train/labels/image_478_jpg.rf.b21c35e7316fa6d292d79c0760de00e7.txt  \n",
            " extracting: train/labels/image_479_jpg.rf.a670d4c5a316a50c11fb3e4214aafe9e.txt  \n",
            " extracting: train/labels/image_47_jpg.rf.b47b2eefbac9c07ca651d87a3b139978.txt  \n",
            " extracting: train/labels/image_480_jpg.rf.222c471ed49c71eca60352a0868b2469.txt  \n",
            " extracting: train/labels/image_480_jpg.rf.b5d59b89354f87e6817f040029a860f2.txt  \n",
            " extracting: train/labels/image_481_jpg.rf.b185b406e6e17cc058c9d0928194c0cf.txt  \n",
            " extracting: train/labels/image_481_jpg.rf.d76d771c7e09b885607b5e7735027ee3.txt  \n",
            " extracting: train/labels/image_483_jpg.rf.2f77360d0537da20cac10dcb5e56f2f6.txt  \n",
            " extracting: train/labels/image_484_jpg.rf.1ff4723d9b56048e70520081d7266263.txt  \n",
            " extracting: train/labels/image_485_jpg.rf.af2ccb72c683e957b9f85d48066a5986.txt  \n",
            " extracting: train/labels/image_486_jpg.rf.0a6053060dfe615046481bb9159c31b9.txt  \n",
            " extracting: train/labels/image_487_jpg.rf.b9a5c1ac0a429ef3427fac7d6e2b1777.txt  \n",
            " extracting: train/labels/image_488_jpg.rf.76e693f52ecb5c7c6b7eb9083d97d73f.txt  \n",
            " extracting: train/labels/image_488_jpg.rf.7bbeef327bd69962eb3b8f167eaf8252.txt  \n",
            " extracting: train/labels/image_489_jpg.rf.3fc2e61ee594c2aa1a51781e44f7df58.txt  \n",
            " extracting: train/labels/image_48_jpg.rf.a05b85bc1cc1881a0d12ef08b9aa8762.txt  \n",
            " extracting: train/labels/image_490_jpg.rf.eb155e58ae7ffee6550e46d6fcc185e3.txt  \n",
            " extracting: train/labels/image_491_jpg.rf.239cc4f4e9c8431c88586659fe72d56e.txt  \n",
            " extracting: train/labels/image_492_jpg.rf.3d4054447770943fece3ea5c5737abd1.txt  \n",
            " extracting: train/labels/image_492_jpg.rf.837476146cc958f5d771ab293543200c.txt  \n",
            " extracting: train/labels/image_493_jpg.rf.d6e7235098580416060d14ebdf9d0d89.txt  \n",
            " extracting: train/labels/image_493_jpg.rf.e5427b8a04d413c3dcd57381d83d134b.txt  \n",
            " extracting: train/labels/image_494_jpg.rf.ce4e2cbd2ac9f8a427bd5504c2c1cfdb.txt  \n",
            " extracting: train/labels/image_495_jpg.rf.b6aac49fd9f57c487a1e79092cf41c07.txt  \n",
            " extracting: train/labels/image_495_jpg.rf.c4dc2b381db6615b25f1327e0d27e871.txt  \n",
            " extracting: train/labels/image_496_jpg.rf.33512cc199dfb3a3de0bc8a3cf263dd3.txt  \n",
            " extracting: train/labels/image_497_jpg.rf.66bac464b10b76228f14c05f332cf275.txt  \n",
            " extracting: train/labels/image_498_jpg.rf.fbe4b559b3b67cb87f72876f13427efe.txt  \n",
            " extracting: train/labels/image_499_jpg.rf.c7d19a163c6370d4566d4b32d44bc270.txt  \n",
            " extracting: train/labels/image_49_jpg.rf.44dde904eb4188efa77f6014fa6f2853.txt  \n",
            " extracting: train/labels/image_4_jpg.rf.74816d0bdba22c5e6d690b16fc931162.txt  \n",
            " extracting: train/labels/image_4_jpg.rf.8aa6c1397845762852986f91fa482496.txt  \n",
            " extracting: train/labels/image_501_jpg.rf.0c9242dfff1cba9f35b8052687a6a25a.txt  \n",
            " extracting: train/labels/image_501_jpg.rf.6d1f86dd9ebc111f6c25384e01f9ff9c.txt  \n",
            " extracting: train/labels/image_502_jpg.rf.00dff2a7c1ad4c4d15c134c989d3c6dd.txt  \n",
            " extracting: train/labels/image_503_jpg.rf.e21b8248d78065183a5edae2379297af.txt  \n",
            " extracting: train/labels/image_504_jpg.rf.6609b528b367a9f4bd9ad8b8b6d82fe1.txt  \n",
            " extracting: train/labels/image_505_jpg.rf.f394495648d57e37f741bcedfea85bb4.txt  \n",
            " extracting: train/labels/image_506_jpg.rf.7b6c4813a794a63174bb246637917407.txt  \n",
            " extracting: train/labels/image_506_jpg.rf.b3a911d0e0b4b8ffd3c9c5c7590224a3.txt  \n",
            " extracting: train/labels/image_507_jpg.rf.1d5264e558e626e1ba7c28ec848e09df.txt  \n",
            " extracting: train/labels/image_507_jpg.rf.d23b87097e5eb7d8cdd6454721eeb625.txt  \n",
            " extracting: train/labels/image_508_jpg.rf.1782d3570cd6db68ba855c619543fb8f.txt  \n",
            " extracting: train/labels/image_508_jpg.rf.ddc2503d4691e5e220645f0b7e09f139.txt  \n",
            " extracting: train/labels/image_509_jpg.rf.ad94b98416ec5ec962a06b3a6e483c01.txt  \n",
            " extracting: train/labels/image_50_jpg.rf.742de0de6136b96332c53bf11ff7c769.txt  \n",
            " extracting: train/labels/image_50_jpg.rf.c9e77ebadb6ee99607240a7deb53c31d.txt  \n",
            " extracting: train/labels/image_510_jpg.rf.45e97acfef83ef6d14ca10d81e15be6a.txt  \n",
            " extracting: train/labels/image_510_jpg.rf.981ab25d5ab44782075640639fc1aef3.txt  \n",
            " extracting: train/labels/image_511_jpg.rf.3920b21afc8ef55c402ce8c3eef0a4db.txt  \n",
            " extracting: train/labels/image_511_jpg.rf.5adc0b649f25652b50f7c6afe09a0ee2.txt  \n",
            " extracting: train/labels/image_512_jpg.rf.a0e7f8dd8fe21b2df43b51014da0c69f.txt  \n",
            " extracting: train/labels/image_514_jpg.rf.ebaf8b57f8e995ebd88601256c75234c.txt  \n",
            " extracting: train/labels/image_515_jpg.rf.8581e6237783ae279baf6478618a3189.txt  \n",
            " extracting: train/labels/image_515_jpg.rf.8b4ace3a808da70d12807f500e637a31.txt  \n",
            " extracting: train/labels/image_516_jpg.rf.3b30b1c81962ba5669c1d643bd0f79fc.txt  \n",
            " extracting: train/labels/image_516_jpg.rf.457fc3fadf7c493bfb4c0da7009aaf3e.txt  \n",
            " extracting: train/labels/image_517_jpg.rf.4431104afe6619f257c9f272410355c0.txt  \n",
            " extracting: train/labels/image_518_jpg.rf.2abded0db65da9fe9f20daa4bf213537.txt  \n",
            " extracting: train/labels/image_519_jpg.rf.39c0d186aba4391ddc8da36724e5ceb5.txt  \n",
            " extracting: train/labels/image_519_jpg.rf.d671e5f7ad5d1225cddc16e28efaa555.txt  \n",
            " extracting: train/labels/image_51_jpg.rf.5940613ce28c7f00ceacf08c13b49823.txt  \n",
            " extracting: train/labels/image_51_jpg.rf.9c835b5f2261cf9df40e8939a5ec32f8.txt  \n",
            " extracting: train/labels/image_520_jpg.rf.95895ebfba7d7f2c7843959eed95699d.txt  \n",
            " extracting: train/labels/image_520_jpg.rf.b90ce946c62c60d675a3e4430e9e481b.txt  \n",
            " extracting: train/labels/image_521_jpg.rf.5cd0c260b915deabed99a35fd203ded2.txt  \n",
            " extracting: train/labels/image_521_jpg.rf.bd06aa962f16d7de0c6ffeb21bd8c4ff.txt  \n",
            " extracting: train/labels/image_522_jpg.rf.919842a1c8d199e24efc475b985fdbae.txt  \n",
            " extracting: train/labels/image_523_jpg.rf.8323d4e3ec73a5db953f0ca29389907e.txt  \n",
            " extracting: train/labels/image_524_jpg.rf.c2c31cc952b8add72d7aedb3b4993607.txt  \n",
            " extracting: train/labels/image_525_jpg.rf.7dc50924499e0d55c6fc1a1bebfd1052.txt  \n",
            " extracting: train/labels/image_525_jpg.rf.a85be8dec946e7572bb705bfc313c9f8.txt  \n",
            " extracting: train/labels/image_526_jpg.rf.06df234e1c971ae688661a54138aaef4.txt  \n",
            " extracting: train/labels/image_527_jpg.rf.a4c64abe193f69f7e1f6539a7311d76a.txt  \n",
            " extracting: train/labels/image_527_jpg.rf.f36fa0ae2a5ef6b2aaa99979a979e349.txt  \n",
            " extracting: train/labels/image_528_jpg.rf.67e0c654107609dbbaf3a25bd6c9e92c.txt  \n",
            " extracting: train/labels/image_529_jpg.rf.c7b42e098fdef69be36a3b22bb7b4f57.txt  \n",
            " extracting: train/labels/image_529_jpg.rf.ea520c754c32db3ed0a1b64e824608e8.txt  \n",
            " extracting: train/labels/image_52_jpg.rf.bc9799128c0647194d2513ac2a602de1.txt  \n",
            " extracting: train/labels/image_52_jpg.rf.d210dcbed9c22c98ba72f259e8322b9d.txt  \n",
            " extracting: train/labels/image_530_jpg.rf.714cc60342926b347457eeb7a38f310a.txt  \n",
            " extracting: train/labels/image_530_jpg.rf.7aa50f4296bd2db446f2744debe1c7e7.txt  \n",
            " extracting: train/labels/image_531_jpg.rf.e1b90b1dfea19570e65c023302ee8990.txt  \n",
            " extracting: train/labels/image_532_jpg.rf.3119932332a6ae84e6fa9ad5f5ad8d43.txt  \n",
            " extracting: train/labels/image_533_jpg.rf.6de0286f5e6d49e43b0c334cabeb7115.txt  \n",
            " extracting: train/labels/image_534_jpg.rf.58f024c89df6fcee48d2811009752e5a.txt  \n",
            " extracting: train/labels/image_534_jpg.rf.be631d982a072c9c721bebf44052f5dc.txt  \n",
            " extracting: train/labels/image_535_jpg.rf.2696b496ea20fbe26382f69436080eed.txt  \n",
            " extracting: train/labels/image_535_jpg.rf.f37180ae28b29bc0da59bb3d17a37e0c.txt  \n",
            " extracting: train/labels/image_536_jpg.rf.8f4e180fff66872e41bf193c1b176d99.txt  \n",
            " extracting: train/labels/image_537_jpg.rf.932ef5d74234d238fc8a84873caa4b02.txt  \n",
            " extracting: train/labels/image_537_jpg.rf.a4a001b9fb1f623eb3a27e596ba21696.txt  \n",
            " extracting: train/labels/image_538_jpg.rf.0c1fa8e4d1db275ce68f13f6bb990524.txt  \n",
            " extracting: train/labels/image_539_jpg.rf.bd44277a7429c57d06a7281bdfdb5761.txt  \n",
            " extracting: train/labels/image_540_jpg.rf.836b5499965e96d05013fd8bd3477e71.txt  \n",
            " extracting: train/labels/image_540_jpg.rf.f721a6082b5a20062d666c2e20f4de02.txt  \n",
            " extracting: train/labels/image_542_jpg.rf.369a3589cbc513b127a1ce53aa64e3fd.txt  \n",
            " extracting: train/labels/image_543_jpg.rf.d2ab678ecb878d8161046da629942644.txt  \n",
            " extracting: train/labels/image_543_jpg.rf.dc862c3a017a4dfd0de9c2b53adbe4aa.txt  \n",
            " extracting: train/labels/image_544_jpg.rf.8dbb5116dcf8f6c63a29b9a23453a42c.txt  \n",
            " extracting: train/labels/image_545_jpg.rf.96ec0242dca83bfdad486e354846cec7.txt  \n",
            " extracting: train/labels/image_547_jpg.rf.02bebdea6916b88d4d3d32a472d01b36.txt  \n",
            " extracting: train/labels/image_547_jpg.rf.6190158faf4364bffc79638363d4fdf6.txt  \n",
            " extracting: train/labels/image_548_jpg.rf.7829e8f89d06826d142b038a2b23c000.txt  \n",
            " extracting: train/labels/image_549_jpg.rf.8be469aff4967c57ca4941efd75d6353.txt  \n",
            " extracting: train/labels/image_54_jpg.rf.27282590839538bda5044d56f7bc4b6c.txt  \n",
            " extracting: train/labels/image_550_jpg.rf.2500fbccae06909cd0dccb1ae985f816.txt  \n",
            " extracting: train/labels/image_550_jpg.rf.7ef2050bb823e0339194253f690e2e3c.txt  \n",
            " extracting: train/labels/image_551_jpg.rf.0a42509ab7f1030aee1d835b53961b35.txt  \n",
            " extracting: train/labels/image_551_jpg.rf.6c3cef5cf1090a52f192733d483544dd.txt  \n",
            " extracting: train/labels/image_552_jpg.rf.7126523c7dbf30322120ea2c9dbaaa1c.txt  \n",
            " extracting: train/labels/image_552_jpg.rf.e05bbe6b99fb7c6ed450a5863696aea7.txt  \n",
            " extracting: train/labels/image_553_jpg.rf.7e2d216b0ad2a353e62fb8ce0e038e18.txt  \n",
            " extracting: train/labels/image_553_jpg.rf.8ff5b3d467481db4c34c83e6f9b35d25.txt  \n",
            " extracting: train/labels/image_554_jpg.rf.7f23f3fae3854c066486418baebbdb10.txt  \n",
            " extracting: train/labels/image_554_jpg.rf.c7dad833bfadfa8f96a1d93f41260b83.txt  \n",
            " extracting: train/labels/image_555_jpg.rf.102ca805355b47dc3c56f3eacefa522b.txt  \n",
            " extracting: train/labels/image_555_jpg.rf.50ebd1750ed68e2598f652ce6cf072f1.txt  \n",
            " extracting: train/labels/image_557_jpg.rf.5542fd61456d496f53f62c4152189785.txt  \n",
            " extracting: train/labels/image_558_jpg.rf.565303835421f0491f12e04e08cb202d.txt  \n",
            " extracting: train/labels/image_559_jpg.rf.05eb17bad0945c442c39bd9ab7253465.txt  \n",
            " extracting: train/labels/image_559_jpg.rf.42fc0eff062a157096ca5af7fbbe3d7c.txt  \n",
            " extracting: train/labels/image_55_jpg.rf.d9f8496257377ec1c3b09fb9204f2db3.txt  \n",
            " extracting: train/labels/image_561_jpg.rf.512e37ed035244a6d21c4221959cd79d.txt  \n",
            " extracting: train/labels/image_563_jpg.rf.71b1344260b02de4bfd174ec753d864c.txt  \n",
            " extracting: train/labels/image_564_jpg.rf.58b3734c7672d6109aeab99c0023f09b.txt  \n",
            " extracting: train/labels/image_564_jpg.rf.a7045c9a47784063d3be1f34bd7586be.txt  \n",
            " extracting: train/labels/image_566_jpg.rf.90a8df15cf46cacb72635727bbbe0a85.txt  \n",
            " extracting: train/labels/image_567_jpg.rf.3cd9a888127a544056fad8104c5ae330.txt  \n",
            " extracting: train/labels/image_567_jpg.rf.7abafbd810715d44ecb293f148d70f74.txt  \n",
            " extracting: train/labels/image_569_jpg.rf.221c23e3b42f4ad2d0360370812b3c88.txt  \n",
            " extracting: train/labels/image_56_jpg.rf.7b3bb5e4e9d7ce0b33eff1afb8ee4071.txt  \n",
            " extracting: train/labels/image_56_jpg.rf.fd9d0b3c493341747b20bccebad93603.txt  \n",
            " extracting: train/labels/image_570_jpg.rf.7117bd08b32aa894b435352c09144dd9.txt  \n",
            " extracting: train/labels/image_570_jpg.rf.f14f005c05f314f76aa942e74dcea6e5.txt  \n",
            " extracting: train/labels/image_573_jpg.rf.8e498a3387ff26fc621aa93d59991590.txt  \n",
            " extracting: train/labels/image_575_jpg.rf.4d1770a95592f6f48bb4889bcc164679.txt  \n",
            " extracting: train/labels/image_575_jpg.rf.9dcb1d530d1483b17303fc468e8ea198.txt  \n",
            " extracting: train/labels/image_576_jpg.rf.384e127a2eec92c522d06d8ad76ab7cf.txt  \n",
            " extracting: train/labels/image_576_jpg.rf.a4fbc3646368029753418cb560c7c8fd.txt  \n",
            " extracting: train/labels/image_577_jpg.rf.8b8c98f613bd2c761a125ac1f5f9c627.txt  \n",
            " extracting: train/labels/image_578_jpg.rf.64f9ac976405b0a3d54915a257d0120f.txt  \n",
            " extracting: train/labels/image_579_jpg.rf.37bd1fe09550d53784802afefed90418.txt  \n",
            " extracting: train/labels/image_57_jpg.rf.9ed72d730f3262ac8b1304795d00e9f8.txt  \n",
            " extracting: train/labels/image_580_jpg.rf.9f033de1c23ce52089d0f25179610e9a.txt  \n",
            " extracting: train/labels/image_580_jpg.rf.b862eb6b8e5445d6e56468097abee9e9.txt  \n",
            " extracting: train/labels/image_581_jpg.rf.025c827854e7569de2eb9b8cf71959d0.txt  \n",
            " extracting: train/labels/image_582_jpg.rf.1704826c257f6c0a2523714f44490526.txt  \n",
            " extracting: train/labels/image_582_jpg.rf.b36c07536a006bffc70c4f71cd1a9e3a.txt  \n",
            " extracting: train/labels/image_583_jpg.rf.15c580fcd43eb7abf81fa4a0d3310436.txt  \n",
            " extracting: train/labels/image_583_jpg.rf.98090e9b8211c4b71c3fbee3b298935e.txt  \n",
            " extracting: train/labels/image_584_jpg.rf.059813e6e001389af17a681251655542.txt  \n",
            " extracting: train/labels/image_584_jpg.rf.b0de222d1e080be4178710376300feeb.txt  \n",
            " extracting: train/labels/image_585_jpg.rf.2c75f09ba831e321ebffc6e9a1b7e1a0.txt  \n",
            " extracting: train/labels/image_585_jpg.rf.82a9160b5c3ac31c9992c339e74cd1e4.txt  \n",
            " extracting: train/labels/image_586_jpg.rf.94f6191983ac119a9e89bc7c2eb57007.txt  \n",
            " extracting: train/labels/image_586_jpg.rf.ec3c6c9a5679a55b10c0b39c4ffe0849.txt  \n",
            " extracting: train/labels/image_587_jpg.rf.3c5a4f8d435b54a7b02d00389e70a6ae.txt  \n",
            " extracting: train/labels/image_587_jpg.rf.7d6393c8c03bf1bb467290d8d0d5a62b.txt  \n",
            " extracting: train/labels/image_588_jpg.rf.528ae005955d4bff6e98b9eeec71d84e.txt  \n",
            " extracting: train/labels/image_589_jpg.rf.0c6818c8fd6cf2b3e6cc7b9fb26a0b95.txt  \n",
            " extracting: train/labels/image_589_jpg.rf.424b6ea04dbaefeef15d58912d868aaf.txt  \n",
            " extracting: train/labels/image_58_jpg.rf.9cd468315ed6f091a5fe95a9502b6f2e.txt  \n",
            " extracting: train/labels/image_591_jpg.rf.23bffe0cf0693bedcc40dbf096635d0e.txt  \n",
            " extracting: train/labels/image_591_jpg.rf.6ac1c7c3b8390f0ba86d547d1e2dac99.txt  \n",
            " extracting: train/labels/image_592_jpg.rf.2eef1e1e4f3299aab94a2fff1f87425b.txt  \n",
            " extracting: train/labels/image_593_jpg.rf.0551cb1a052cdc35e3be826c1d2d893c.txt  \n",
            " extracting: train/labels/image_593_jpg.rf.e865e11cf82ed1f21dbcfa475cf97a49.txt  \n",
            " extracting: train/labels/image_594_jpg.rf.1c1f4a08ddf1c45f98ff95d04ffc573a.txt  \n",
            " extracting: train/labels/image_594_jpg.rf.2ecbaf64e457dbeca921fe14ea8a57ac.txt  \n",
            " extracting: train/labels/image_595_jpg.rf.4ba3499b5506506c1dc7d12e88c5604b.txt  \n",
            " extracting: train/labels/image_596_jpg.rf.b51b71463e4d03bb0ab15da1709e569c.txt  \n",
            " extracting: train/labels/image_597_jpg.rf.712743d850d571f6111d07a2d48bce71.txt  \n",
            " extracting: train/labels/image_598_jpg.rf.2032c18f6de414e07b8eb6547e4104aa.txt  \n",
            " extracting: train/labels/image_598_jpg.rf.dd8fc3a5ce7f61ed4e01da1a2af8bfb6.txt  \n",
            " extracting: train/labels/image_599_jpg.rf.176ab0466a16e2a556f887edefe7a8f9.txt  \n",
            " extracting: train/labels/image_599_jpg.rf.d110aecb6bb77357846a16a11bfc2c99.txt  \n",
            " extracting: train/labels/image_5_jpg.rf.dae463f815011ecc896cccf90cc8c152.txt  \n",
            " extracting: train/labels/image_600_jpg.rf.34da27761ba6d05873670bcac115290a.txt  \n",
            " extracting: train/labels/image_600_jpg.rf.fb857b36e4925deb794c9583fb4f129f.txt  \n",
            " extracting: train/labels/image_601_jpg.rf.48fd2565e6c41a6d0914da64298bce73.txt  \n",
            " extracting: train/labels/image_601_jpg.rf.5d5579aeca956234bb60ce31a9a3c369.txt  \n",
            " extracting: train/labels/image_602_jpg.rf.5e67adc4654280a5fde27a7d717578d7.txt  \n",
            " extracting: train/labels/image_602_jpg.rf.9882432e540ebcdb09303efe1204ad0a.txt  \n",
            " extracting: train/labels/image_603_jpg.rf.47780dad77ead6105f8baf45e37b0189.txt  \n",
            " extracting: train/labels/image_604_jpg.rf.89c6ea177b45bf907b30db4cd23d6b8c.txt  \n",
            " extracting: train/labels/image_605_jpg.rf.7a19334fffd0d806809ed1b71dc5a41a.txt  \n",
            " extracting: train/labels/image_605_jpg.rf.fdad23f062fc31a9d2945dfd4b6909b8.txt  \n",
            " extracting: train/labels/image_606_jpg.rf.1806b6156c456cf7098dc71792e03355.txt  \n",
            " extracting: train/labels/image_606_jpg.rf.9a80a3c31e6e31687e832b42fdb76edc.txt  \n",
            " extracting: train/labels/image_607_jpg.rf.fd4451e1d0f1e9371ba809c5530da820.txt  \n",
            " extracting: train/labels/image_608_jpg.rf.415638af7f88b2535d6d2bde192adc6a.txt  \n",
            " extracting: train/labels/image_608_jpg.rf.65b4816701bc26564f9f13930ed435aa.txt  \n",
            " extracting: train/labels/image_609_jpg.rf.88636edb71768d5cb792f2fab12c7bea.txt  \n",
            " extracting: train/labels/image_60_jpg.rf.b583933ea257ff2005a2c6689f6d0668.txt  \n",
            " extracting: train/labels/image_610_jpg.rf.dd9982dfe57283482844ea9f50933dcf.txt  \n",
            " extracting: train/labels/image_611_jpg.rf.32830122c271d69d890ca9962f2ee8e8.txt  \n",
            " extracting: train/labels/image_613_jpg.rf.f49747e57b4b4f1b4eda49d9233d4852.txt  \n",
            " extracting: train/labels/image_614_jpg.rf.17356121e1d11e0b2d9e7a250b7dcb93.txt  \n",
            " extracting: train/labels/image_614_jpg.rf.c4f4358c1b812568e09068009d7f7abf.txt  \n",
            " extracting: train/labels/image_615_jpg.rf.493b1db19a9be2f1b9f6f1e6132c89b1.txt  \n",
            " extracting: train/labels/image_615_jpg.rf.bdcd9eef497c174e89c39fc33f7e3528.txt  \n",
            " extracting: train/labels/image_616_jpg.rf.ee209a61a84f952cd54368609e894503.txt  \n",
            " extracting: train/labels/image_617_jpg.rf.8c32f69b9b705f8da7aa45a4fcb25604.txt  \n",
            " extracting: train/labels/image_617_jpg.rf.d866cad04c46f4870a9dbf6ea8d306bc.txt  \n",
            " extracting: train/labels/image_618_jpg.rf.c0ac49ac615893032e4680bbb9d878ca.txt  \n",
            " extracting: train/labels/image_618_jpg.rf.fa64af05445c95e9cccf0600620860f5.txt  \n",
            " extracting: train/labels/image_61_jpg.rf.4fc92c1067a379cf5749351e474577bf.txt  \n",
            " extracting: train/labels/image_620_jpg.rf.22e8c2fa0e5dcbfb24574e744b8eccb8.txt  \n",
            " extracting: train/labels/image_621_jpg.rf.c1fe7b024ecd3cb2d1c71868bc96f452.txt  \n",
            " extracting: train/labels/image_622_jpg.rf.4fbad758f1188b23c1346ec36e2082be.txt  \n",
            " extracting: train/labels/image_623_jpg.rf.a9b261af907d0ee22204707afbc9dbb6.txt  \n",
            " extracting: train/labels/image_624_jpg.rf.24d46ae2fa97413bada7f3b94555dde9.txt  \n",
            " extracting: train/labels/image_626_jpg.rf.65aba8e1fb9843e9985b9fe2bd438e16.txt  \n",
            " extracting: train/labels/image_626_jpg.rf.e658900c108c347fcb3b7b7fa0b06ea4.txt  \n",
            " extracting: train/labels/image_627_jpg.rf.d75d0d14d72d0a67edc332e0a6b5507c.txt  \n",
            " extracting: train/labels/image_627_jpg.rf.eca0b99627b51f6761bff638c4434c0e.txt  \n",
            " extracting: train/labels/image_628_jpg.rf.5ab6d69e5921724e60f9f6c0214650a3.txt  \n",
            " extracting: train/labels/image_628_jpg.rf.c451055a5442305b83eb7a3129744cf5.txt  \n",
            " extracting: train/labels/image_629_jpg.rf.2a7ba4840846451d9b698284951efe6e.txt  \n",
            " extracting: train/labels/image_62_jpg.rf.5e2ee58f5c8171ca9f4e01f65c1e57e1.txt  \n",
            " extracting: train/labels/image_630_jpg.rf.2bcb3040a88bfa7b516c98cf8a08d9c4.txt  \n",
            " extracting: train/labels/image_632_jpg.rf.1e0e50d4761c68529b4b73de63755e51.txt  \n",
            " extracting: train/labels/image_632_jpg.rf.45b0feec5261332a13ad840cab7d63be.txt  \n",
            " extracting: train/labels/image_634_jpg.rf.82f85a0cf4332a08301202c3fceb1ab7.txt  \n",
            " extracting: train/labels/image_635_jpg.rf.b8556a6ea0e4ccdf7027faabd7953320.txt  \n",
            " extracting: train/labels/image_635_jpg.rf.c467091462c7f36500a3b57d93a933c9.txt  \n",
            " extracting: train/labels/image_637_jpg.rf.08c24dc6087c174656bff9db6d7c1ed9.txt  \n",
            " extracting: train/labels/image_637_jpg.rf.413cc7e6a649a576390717099f1d2b9f.txt  \n",
            " extracting: train/labels/image_638_jpg.rf.a94184e7463c4c46be254b3cd5cf71ee.txt  \n",
            " extracting: train/labels/image_639_jpg.rf.222742ebec08d8496f1763eaae93de65.txt  \n",
            " extracting: train/labels/image_639_jpg.rf.44a045088fb70492bb1ffef4b1a771c9.txt  \n",
            " extracting: train/labels/image_63_jpg.rf.5e7c177137449a915396d123cba3ae77.txt  \n",
            " extracting: train/labels/image_63_jpg.rf.f3f64d79e996bd19c45540960f895d90.txt  \n",
            " extracting: train/labels/image_640_jpg.rf.23c39ee5bcdc0bff40f2ddc6f794785c.txt  \n",
            " extracting: train/labels/image_640_jpg.rf.f8ea007fa2291c3a17754050af82511f.txt  \n",
            " extracting: train/labels/image_643_jpg.rf.75192b04a7f5a9db0dc1c97d8796fcc4.txt  \n",
            " extracting: train/labels/image_644_jpg.rf.2def87030f9f9d63723c60b4e38cb76c.txt  \n",
            " extracting: train/labels/image_646_jpg.rf.b1f5822d87fad877b791a30f17cdaeef.txt  \n",
            " extracting: train/labels/image_647_jpg.rf.c1d0aab51c6c2d5ce40e6459f9cd3319.txt  \n",
            " extracting: train/labels/image_648_jpg.rf.aeb9c5d120278cf8c790b707a28b815b.txt  \n",
            " extracting: train/labels/image_64_jpg.rf.b6ff56d366cd1506d34f07937707f16d.txt  \n",
            " extracting: train/labels/image_651_jpg.rf.16aae4e1945e30f4009dfac8b81d9dc6.txt  \n",
            " extracting: train/labels/image_651_jpg.rf.81efb82522be751990efa14492df12ed.txt  \n",
            " extracting: train/labels/image_652_jpg.rf.454277869fde2e3f668c1f756fd279b5.txt  \n",
            " extracting: train/labels/image_656_jpg.rf.41c3ebc78bdef5a2bf154f367c8d4c9c.txt  \n",
            " extracting: train/labels/image_656_jpg.rf.77455332d11d30c1398fd1b20a56a663.txt  \n",
            " extracting: train/labels/image_657_jpg.rf.4ead88977c4f131d36efdb950a88d3c5.txt  \n",
            " extracting: train/labels/image_658_jpg.rf.51fd9bec3a44c7c299b2e22695b05090.txt  \n",
            " extracting: train/labels/image_658_jpg.rf.ff3a47d7e5aaa86d2f06ff1a82b90c61.txt  \n",
            " extracting: train/labels/image_659_jpg.rf.269b98ba0f24351886a5899226b13485.txt  \n",
            " extracting: train/labels/image_659_jpg.rf.dc98158ccc9e1dac88c08680589e9475.txt  \n",
            " extracting: train/labels/image_65_jpg.rf.d0577a8b7a494daa42a93e680147a350.txt  \n",
            " extracting: train/labels/image_65_jpg.rf.eb3ccba46276993600d7032e2814ee2f.txt  \n",
            " extracting: train/labels/image_660_jpg.rf.12950dfffeade99ea6b3b4f12e6bf5f0.txt  \n",
            " extracting: train/labels/image_661_jpg.rf.312656e7221284307b32f1788fdb5bbe.txt  \n",
            " extracting: train/labels/image_661_jpg.rf.9dfb4653f1c48a928940f1c0ebe8b632.txt  \n",
            " extracting: train/labels/image_662_jpg.rf.13e16f52669de1f2d733d9d5525045a8.txt  \n",
            " extracting: train/labels/image_662_jpg.rf.7c08888ae6a2f19a171247483084fe59.txt  \n",
            " extracting: train/labels/image_663_jpg.rf.b082b88afbdf1fbf0fd7191d2144ad87.txt  \n",
            " extracting: train/labels/image_664_jpg.rf.a77d600f084f28c5697dfe517bcd8eeb.txt  \n",
            " extracting: train/labels/image_665_jpg.rf.289e138b18b71cb2614e31b494fecec2.txt  \n",
            " extracting: train/labels/image_666_jpg.rf.8450c44bce10820b2805d9df865efb8a.txt  \n",
            " extracting: train/labels/image_666_jpg.rf.8e31f2f9fdb2889d5e60b9305762ff51.txt  \n",
            " extracting: train/labels/image_667_jpg.rf.61cd41cc8f78dc70dcb5f07cd046936a.txt  \n",
            " extracting: train/labels/image_668_jpg.rf.bc08fa62abe542533da8aed6624716c2.txt  \n",
            " extracting: train/labels/image_669_jpg.rf.1783dce302142a90432eb635048f1803.txt  \n",
            " extracting: train/labels/image_669_jpg.rf.9b702cd5bfe0416c901252ab80ccc78a.txt  \n",
            " extracting: train/labels/image_66_jpg.rf.a3a48fbfde777ac63ef8a0c01252f4e1.txt  \n",
            " extracting: train/labels/image_671_jpg.rf.7d062a765319f72e48a102ed9d9fd4bf.txt  \n",
            " extracting: train/labels/image_672_jpg.rf.0f635691e95b68020379d024cd535b6b.txt  \n",
            " extracting: train/labels/image_672_jpg.rf.4a296366dc140ac812d1825cfe824790.txt  \n",
            " extracting: train/labels/image_674_jpg.rf.44c687464a3bf3b9b0fe41f49abaf0df.txt  \n",
            " extracting: train/labels/image_674_jpg.rf.87249926648d4ed1197a1d17e8d6bbdf.txt  \n",
            " extracting: train/labels/image_675_jpg.rf.14454aef036fd6e894c62e86c16a2a6d.txt  \n",
            " extracting: train/labels/image_675_jpg.rf.5c9d517b009ea9e21b484694bb7b636e.txt  \n",
            " extracting: train/labels/image_676_jpg.rf.1a26522215eb60b5d589ed58c13c93dd.txt  \n",
            " extracting: train/labels/image_676_jpg.rf.872262e0ffc01e3418444d8b1611f270.txt  \n",
            " extracting: train/labels/image_677_jpg.rf.03c0c7d086f7dc5eec0a789dc9c6b4c3.txt  \n",
            " extracting: train/labels/image_677_jpg.rf.e9543db1f522bbf60b7905939b5dc522.txt  \n",
            " extracting: train/labels/image_678_jpg.rf.bfcf6866af494677ae4cbd85115bba84.txt  \n",
            " extracting: train/labels/image_679_jpg.rf.41787083cad4d6d46e72c50acaf1b44d.txt  \n",
            " extracting: train/labels/image_67_jpg.rf.77378059de46b46dfc1e144b3a23d588.txt  \n",
            " extracting: train/labels/image_680_jpg.rf.1b9f8f123d51e352e5531520a837df08.txt  \n",
            " extracting: train/labels/image_680_jpg.rf.c09511078f679fe2281cde4547f3c239.txt  \n",
            " extracting: train/labels/image_681_jpg.rf.9f4cdbe7bbf3227df5e76fb7fe0a06e1.txt  \n",
            " extracting: train/labels/image_681_jpg.rf.b9717381542db972e56a8f06ec9f2d42.txt  \n",
            " extracting: train/labels/image_682_jpg.rf.b3b9dc3b1f211b8475ce3525d9a6c422.txt  \n",
            " extracting: train/labels/image_683_jpg.rf.185974777b9f550bfe4b5fec71a4444a.txt  \n",
            " extracting: train/labels/image_684_jpg.rf.737c36fc3fcd26f50d8e48145d27fae2.txt  \n",
            " extracting: train/labels/image_684_jpg.rf.795877cc4d156c11ca843d9a0beef8eb.txt  \n",
            " extracting: train/labels/image_685_jpg.rf.85325a17c84da619fd45d623570f52a4.txt  \n",
            " extracting: train/labels/image_686_jpg.rf.41e50ef65626f52df950b00137180d29.txt  \n",
            " extracting: train/labels/image_687_jpg.rf.b64856b6a2c642ab4aed885d5f441b6c.txt  \n",
            " extracting: train/labels/image_688_jpg.rf.3118710408d475636940a682bc2348c1.txt  \n",
            " extracting: train/labels/image_688_jpg.rf.e4a588800205b8554294e431a7c4754f.txt  \n",
            " extracting: train/labels/image_689_jpg.rf.d137c0e1bdfae030f32bacb06f8758b2.txt  \n",
            " extracting: train/labels/image_689_jpg.rf.f7171dd94f05a67acd48a4ca16ba0a75.txt  \n",
            " extracting: train/labels/image_68_jpg.rf.5d95098392709c057a251e06e256581b.txt  \n",
            " extracting: train/labels/image_68_jpg.rf.a6f97ef4e6d81e8c14ff81ccaa067285.txt  \n",
            " extracting: train/labels/image_690_jpg.rf.5b90cfbf6c13cbd2da6e48a0773b588b.txt  \n",
            " extracting: train/labels/image_690_jpg.rf.8af3aaa4a91623ba385395607558ee3b.txt  \n",
            " extracting: train/labels/image_691_jpg.rf.3cbf2d4367a4caaea6e30eb79b0ef04f.txt  \n",
            " extracting: train/labels/image_691_jpg.rf.68e79daf4423d100a2a80539f3dad2e7.txt  \n",
            " extracting: train/labels/image_692_jpg.rf.c67a6d61e28caf0aa9b1029495d48b5a.txt  \n",
            " extracting: train/labels/image_692_jpg.rf.ca6fb322ff737b415a6866efec808a1b.txt  \n",
            " extracting: train/labels/image_693_jpg.rf.098133cabe56a4992b63a4eace03755a.txt  \n",
            " extracting: train/labels/image_693_jpg.rf.6729fd2126273caab9a579b19165338c.txt  \n",
            " extracting: train/labels/image_694_jpg.rf.33c753e14c831dfadc45e6f7df7a2e4b.txt  \n",
            " extracting: train/labels/image_694_jpg.rf.a7405fdd766f5c4cd22f98045b645b34.txt  \n",
            " extracting: train/labels/image_6_jpg.rf.39c8963b188558a8861d02b7042aa1be.txt  \n",
            " extracting: train/labels/image_6_jpg.rf.d01bacd116921589acd4484c264fafd7.txt  \n",
            " extracting: train/labels/image_700_jpg.rf.6541ab2981264f9319314ec0c65d69fe.txt  \n",
            " extracting: train/labels/image_701_jpg.rf.bc92a026296a8499d25c26a09e0f5662.txt  \n",
            " extracting: train/labels/image_701_jpg.rf.f9136cd2790ced76201e11a4c0fd28f0.txt  \n",
            " extracting: train/labels/image_702_jpg.rf.37b724a6935ede8f1d7c80fd236f9fc2.txt  \n",
            " extracting: train/labels/image_703_jpg.rf.a9e1b9d14dd5d36a60c9f8a8d89bdacb.txt  \n",
            " extracting: train/labels/image_703_jpg.rf.b5fee70957a049bd8b4d7806e24bd4f2.txt  \n",
            " extracting: train/labels/image_705_jpg.rf.6f6d18d24edd30c8e64a67f64e23f891.txt  \n",
            " extracting: train/labels/image_705_jpg.rf.f65a029680d9809bba9d4a541a61421d.txt  \n",
            " extracting: train/labels/image_706_jpg.rf.f7d5bf19b94b2fef47c14c8597b167e9.txt  \n",
            " extracting: train/labels/image_707_jpg.rf.0dc625786dab5c42b9c5a15c301d3785.txt  \n",
            " extracting: train/labels/image_708_jpg.rf.1a188cb713122b6c94123fb8637c6512.txt  \n",
            " extracting: train/labels/image_708_jpg.rf.4e62233a596bbe73143ec293cc3e109c.txt  \n",
            " extracting: train/labels/image_709_jpg.rf.326e4a6d0d91c5940b163c9c9ac7ffe9.txt  \n",
            " extracting: train/labels/image_70_jpg.rf.fcb13672fbc687232e88b778ee0b34ac.txt  \n",
            " extracting: train/labels/image_711_jpg.rf.e253eca05db484474a7d64746d857810.txt  \n",
            " extracting: train/labels/image_712_jpg.rf.b2a17f0479f807aea8ea34990c888872.txt  \n",
            " extracting: train/labels/image_712_jpg.rf.ed86c813ed0d36c2a7a3d9d5159dd86e.txt  \n",
            " extracting: train/labels/image_714_jpg.rf.1136fae8e3ecfb35a901f3b602cecdce.txt  \n",
            " extracting: train/labels/image_714_jpg.rf.54ad108b38b0c21edbfe3c2cfc36dbef.txt  \n",
            " extracting: train/labels/image_715_jpg.rf.14be28b3994f1ac226d99c335f16c9e6.txt  \n",
            " extracting: train/labels/image_715_jpg.rf.3606a75ec400c2dbb2dafe53c816a5aa.txt  \n",
            " extracting: train/labels/image_716_jpg.rf.20a7586b5fe4413f7efdb244546a7207.txt  \n",
            " extracting: train/labels/image_717_jpg.rf.7013f3b625b78f203f7a95d5f96b15e5.txt  \n",
            " extracting: train/labels/image_718_jpg.rf.687533d55ccfd56a1a0ed50bbd2d470c.txt  \n",
            " extracting: train/labels/image_719_jpg.rf.28d13982937a03c88ebba4f35a7359d8.txt  \n",
            " extracting: train/labels/image_719_jpg.rf.363a52ad8f767727d5d59793a5d5716e.txt  \n",
            " extracting: train/labels/image_720_jpg.rf.c2a0efab528f63d455dac2941fbd2ec4.txt  \n",
            " extracting: train/labels/image_722_jpg.rf.0a9cf7fc008aaffb7fcf6235d8ab856c.txt  \n",
            " extracting: train/labels/image_722_jpg.rf.d5886e694efc91a8c0d13f9e50cf7e32.txt  \n",
            " extracting: train/labels/image_723_jpg.rf.a1d6e1dc773038a418fd62438f4af291.txt  \n",
            " extracting: train/labels/image_723_jpg.rf.e4715e71b199750b851df87ee4d1747c.txt  \n",
            " extracting: train/labels/image_725_jpg.rf.52dcf29a9f623d996a2b8ec3b72bb49f.txt  \n",
            " extracting: train/labels/image_725_jpg.rf.7c344750636c11de14c3dfd1399f8503.txt  \n",
            " extracting: train/labels/image_726_jpg.rf.662edc67424b0123a90ead468232e027.txt  \n",
            " extracting: train/labels/image_726_jpg.rf.e87ec03e10ff1da7cca39c967e58040a.txt  \n",
            " extracting: train/labels/image_727_jpg.rf.1ab3460f403256904d0d7683fce65e41.txt  \n",
            " extracting: train/labels/image_727_jpg.rf.4f087421f3487fd0f85dbf31f1291441.txt  \n",
            " extracting: train/labels/image_728_jpg.rf.8eefb018f4de0a583ec8b4392d94190d.txt  \n",
            " extracting: train/labels/image_729_jpg.rf.1f990c9b59aa909632423f452c5a0fbc.txt  \n",
            " extracting: train/labels/image_72_jpg.rf.5da7f37f0de933ad806049cef54c056a.txt  \n",
            " extracting: train/labels/image_730_jpg.rf.1ac47999406a2ac4551f8df258672283.txt  \n",
            " extracting: train/labels/image_730_jpg.rf.e8dee6e68eda94f02b5f68b1728975fc.txt  \n",
            " extracting: train/labels/image_731_jpg.rf.438f41ecd89e5dd2e03a4699b6b1c348.txt  \n",
            " extracting: train/labels/image_732_jpg.rf.791463a09138ae04061c3d8d44ef4e6d.txt  \n",
            " extracting: train/labels/image_732_jpg.rf.cc2545f7f828bb1f322f89a904302eed.txt  \n",
            " extracting: train/labels/image_733_jpg.rf.87555f87fee6247a43467a4e1f105dc5.txt  \n",
            " extracting: train/labels/image_734_jpg.rf.5036a06ccff17564f9cb4fd52186514d.txt  \n",
            " extracting: train/labels/image_734_jpg.rf.8f0deb10c5b6a4ed73be099c48e1fb3a.txt  \n",
            " extracting: train/labels/image_735_jpg.rf.b0131c9f977ce4c93d8e4e6782312ac4.txt  \n",
            " extracting: train/labels/image_736_jpg.rf.0e698ee9d103ebbefd0406d91ba43d92.txt  \n",
            " extracting: train/labels/image_736_jpg.rf.cec104a3579de9920d7a561b512ef994.txt  \n",
            " extracting: train/labels/image_737_jpg.rf.53fc519bc8cfb4c4e793451e15909c23.txt  \n",
            " extracting: train/labels/image_738_jpg.rf.7ad8eb890ec2bc1e0e3b3dac342eff2b.txt  \n",
            " extracting: train/labels/image_738_jpg.rf.d7280c8955c38ce5d518212bd6b65b37.txt  \n",
            " extracting: train/labels/image_739_jpg.rf.1ea67506b35c6de26784e8e6674a1a9a.txt  \n",
            " extracting: train/labels/image_739_jpg.rf.a200bd73cee57187f604f96a07fe67c8.txt  \n",
            " extracting: train/labels/image_73_jpg.rf.8c053c3f12914b7f9159c038b5f83e27.txt  \n",
            " extracting: train/labels/image_740_jpg.rf.357fdbd97fae8eb7d73944bad65aa1c1.txt  \n",
            " extracting: train/labels/image_741_jpg.rf.79b9ec1220a76c95a2a071ad91d74f39.txt  \n",
            " extracting: train/labels/image_742_jpg.rf.49e84afeb94dc6ee0b75a2f72cead7b0.txt  \n",
            " extracting: train/labels/image_742_jpg.rf.a737a539880b0bba3ed1bd725ba0a45c.txt  \n",
            " extracting: train/labels/image_743_jpg.rf.934e041958361715c8770cd7a96280f7.txt  \n",
            " extracting: train/labels/image_743_jpg.rf.df5634a4482bb7e6f9aa56e9d879d84d.txt  \n",
            " extracting: train/labels/image_744_jpg.rf.4f7d11a7589d630e1882c07c20bf3106.txt  \n",
            " extracting: train/labels/image_744_jpg.rf.6bdb760c18853e85a9e28855d64d0d0c.txt  \n",
            " extracting: train/labels/image_745_jpg.rf.d0c01f41a754ae1d53a5a4cd773e8307.txt  \n",
            " extracting: train/labels/image_746_jpg.rf.09becc67bd36a5e6f4f3c198e0cb5803.txt  \n",
            " extracting: train/labels/image_746_jpg.rf.40720932ccdfa4c58fde325b322c6c0c.txt  \n",
            " extracting: train/labels/image_747_jpg.rf.3abb1bb7d0ffd154af5cac9b457178fd.txt  \n",
            " extracting: train/labels/image_747_jpg.rf.60f7b53fff85507562115d2dfbe73be8.txt  \n",
            " extracting: train/labels/image_748_jpg.rf.36a6e89acc07a2d0c0d162a2394e964c.txt  \n",
            " extracting: train/labels/image_748_jpg.rf.cdc366752c9b23561d1cb186766079e7.txt  \n",
            " extracting: train/labels/image_749_jpg.rf.440c920908224f15e55e9ba45521e4dc.txt  \n",
            " extracting: train/labels/image_749_jpg.rf.8dc65306479f951dc976a1307e8ba406.txt  \n",
            " extracting: train/labels/image_750_jpg.rf.ce86779b0bd58b8880f378d44a8abb63.txt  \n",
            " extracting: train/labels/image_751_jpg.rf.41a4691005b0dd2771814085dcad1c8f.txt  \n",
            " extracting: train/labels/image_752_jpg.rf.5868f4f57f619b2c58b881dc1d553833.txt  \n",
            " extracting: train/labels/image_753_jpg.rf.d17ef7445087ee43f24a488002d7c43e.txt  \n",
            " extracting: train/labels/image_754_jpg.rf.26a0e431e75ec28c63e4879894b60704.txt  \n",
            " extracting: train/labels/image_754_jpg.rf.c7354ded71fea6c8ebae8da434f49132.txt  \n",
            " extracting: train/labels/image_755_jpg.rf.da902a744e253ccf549eb2fe2f845498.txt  \n",
            " extracting: train/labels/image_755_jpg.rf.f2c6242ec348e3b14fdf4f5ff86aee30.txt  \n",
            " extracting: train/labels/image_756_jpg.rf.2cb05cdf6f11b3ca22052b182844ddc3.txt  \n",
            " extracting: train/labels/image_756_jpg.rf.c667a73c59dbbdde53f8b5bc5ae6ef08.txt  \n",
            " extracting: train/labels/image_757_jpg.rf.a61d6fcb975caebfeb289ee9fd70c492.txt  \n",
            " extracting: train/labels/image_757_jpg.rf.e1f6bdb3d756988e937becbb83a8962d.txt  \n",
            " extracting: train/labels/image_758_jpg.rf.8a77811151af9569c5e9eb5eb7d1948b.txt  \n",
            " extracting: train/labels/image_759_jpg.rf.247570cc55e7d620552729e9224a5e16.txt  \n",
            " extracting: train/labels/image_759_jpg.rf.f09cc0314913b2de897561d5778e121d.txt  \n",
            " extracting: train/labels/image_760_jpg.rf.9d24057d5472b1a1e973f44250cf8921.txt  \n",
            " extracting: train/labels/image_760_jpg.rf.a60c77e1b6e9315d9662451d82488100.txt  \n",
            " extracting: train/labels/image_761_jpg.rf.1ef1df2a92379f8d22555e14bc70f2bc.txt  \n",
            " extracting: train/labels/image_761_jpg.rf.7edeed7f87dca2d777df048d9764d629.txt  \n",
            " extracting: train/labels/image_762_jpg.rf.0d0b86dd7fff639574165fc038439b50.txt  \n",
            " extracting: train/labels/image_763_jpg.rf.9dccfc81b620be7fa96450008a8d4f21.txt  \n",
            " extracting: train/labels/image_764_jpg.rf.42b15c5a581cb1a265af2548490325a2.txt  \n",
            " extracting: train/labels/image_765_jpg.rf.9a049e203bf50d4c30cfd5244d0a1788.txt  \n",
            " extracting: train/labels/image_766_jpg.rf.a3f6d5e60bf002bacd1560717e27ba4b.txt  \n",
            " extracting: train/labels/image_766_jpg.rf.bbfb32216f1f19c91f1f3d737f77a774.txt  \n",
            " extracting: train/labels/image_767_jpg.rf.3392c2fda8d042ded6fff9b31a8c7d11.txt  \n",
            " extracting: train/labels/image_767_jpg.rf.ad6cfae557db7a14bb3a7d4dce71e356.txt  \n",
            " extracting: train/labels/image_768_jpg.rf.4818b4233d9d8240dc839b65bf4aeb5b.txt  \n",
            " extracting: train/labels/image_769_jpg.rf.31d50e6e9a3331055e0c333dbc4be73d.txt  \n",
            " extracting: train/labels/image_76_jpg.rf.82f461cfab117c6223260a7cc18d4262.txt  \n",
            " extracting: train/labels/image_771_jpg.rf.13533eb15dd2d70906817f72e18da562.txt  \n",
            " extracting: train/labels/image_771_jpg.rf.de36df83cdf6981d20370f9fbf242422.txt  \n",
            " extracting: train/labels/image_772_jpg.rf.89fa5ac324f6fbb7f01cc6d72017a800.txt  \n",
            " extracting: train/labels/image_772_jpg.rf.9bcda78e2577b170690d8ed65b2426c9.txt  \n",
            " extracting: train/labels/image_773_jpg.rf.9946ed2eaf88fc888381d650156a1ec6.txt  \n",
            " extracting: train/labels/image_775_jpg.rf.064e9497b046ae03f9662a53a9d3d73d.txt  \n",
            " extracting: train/labels/image_775_jpg.rf.fddb9f273fc91c62c7bd7e579d621510.txt  \n",
            " extracting: train/labels/image_776_jpg.rf.07a11a1179247078bb82610c17099701.txt  \n",
            " extracting: train/labels/image_776_jpg.rf.e1762685f71006e790b98dfc9a1c9344.txt  \n",
            " extracting: train/labels/image_777_jpg.rf.7f16dd53e582da1bbf7d31f862d8ec2b.txt  \n",
            " extracting: train/labels/image_777_jpg.rf.c94bedc3db50646997a24d8ca22eb4ab.txt  \n",
            " extracting: train/labels/image_778_jpg.rf.2891c365eddb43b7122e02a5feedfdb5.txt  \n",
            " extracting: train/labels/image_778_jpg.rf.8f423d672ed092ab161356777a0c61f1.txt  \n",
            " extracting: train/labels/image_779_jpg.rf.07d0254a736b7bbd7d14400fb36ebb47.txt  \n",
            " extracting: train/labels/image_779_jpg.rf.415bc6bb1ac907d43f7014240e4b96c3.txt  \n",
            " extracting: train/labels/image_77_jpg.rf.51434167e35a4d86565beebacbf0a2ba.txt  \n",
            " extracting: train/labels/image_780_jpg.rf.11e1bca209b96a8c2d87a745f0b5bae9.txt  \n",
            " extracting: train/labels/image_782_jpg.rf.2ba53e5056387348f77cf061a8b21c14.txt  \n",
            " extracting: train/labels/image_783_jpg.rf.6c1f07f489a1b39b8aaede7be7532b46.txt  \n",
            " extracting: train/labels/image_784_jpg.rf.287196d2a299764b89b9e505470071da.txt  \n",
            " extracting: train/labels/image_784_jpg.rf.ca83384c9fa77474102f22ea2e803817.txt  \n",
            " extracting: train/labels/image_785_jpg.rf.0fd1d64912e992091270426fb4d77aa4.txt  \n",
            " extracting: train/labels/image_786_jpg.rf.20b549d7360656bd815e7fd1be1b7a1a.txt  \n",
            " extracting: train/labels/image_787_jpg.rf.6b5e8baaad25ea0263cc3a5caf85f6bb.txt  \n",
            " extracting: train/labels/image_787_jpg.rf.9f713335ce237abce91d1cc5ee0ee4f0.txt  \n",
            " extracting: train/labels/image_788_jpg.rf.eb06a6242005187b7fd3327426ec3e25.txt  \n",
            " extracting: train/labels/image_788_jpg.rf.fb15072a4b096c16cfd82e22f1ac1485.txt  \n",
            " extracting: train/labels/image_789_jpg.rf.b1e340a164cec45965f58f6cc43de548.txt  \n",
            " extracting: train/labels/image_789_jpg.rf.eefb5bea201dd5be13b41d722b99056f.txt  \n",
            " extracting: train/labels/image_78_jpg.rf.aab9a4d2d22248a1fc924598aecdc1fb.txt  \n",
            " extracting: train/labels/image_78_jpg.rf.cd18f46fb89851fece5b9a4fae1bc59a.txt  \n",
            " extracting: train/labels/image_790_jpg.rf.4ef3e0aef55cdc260b4af4a24b2247a9.txt  \n",
            " extracting: train/labels/image_791_jpg.rf.7387abe38e0f8e7a8518aa5392a20e70.txt  \n",
            " extracting: train/labels/image_792_jpg.rf.d826c405e1075ea4f0780e474c7fb007.txt  \n",
            " extracting: train/labels/image_794_jpg.rf.08976ab4953ff981e2479561623a29cb.txt  \n",
            " extracting: train/labels/image_794_jpg.rf.4d8d1e3033e34db81bb493871af00086.txt  \n",
            " extracting: train/labels/image_795_jpg.rf.3b1c9295a562a57594feb7459a0cc647.txt  \n",
            " extracting: train/labels/image_796_jpg.rf.c97db0d70b427662292a537667cd02a6.txt  \n",
            " extracting: train/labels/image_796_jpg.rf.e8e9805b3160b5aa826ff1e0e654677c.txt  \n",
            " extracting: train/labels/image_797_jpg.rf.678176581bc25fcc8de6e57d0426b32e.txt  \n",
            " extracting: train/labels/image_797_jpg.rf.c8b2255e3fd7cd0471d134501ea6338d.txt  \n",
            " extracting: train/labels/image_798_jpg.rf.b2dd27ee856efa4b0bd417c718b57676.txt  \n",
            " extracting: train/labels/image_799_jpg.rf.0e11046bf3a1eff4b0312426389d2f14.txt  \n",
            " extracting: train/labels/image_799_jpg.rf.525cafbc8a5a955bc485f509a3936726.txt  \n",
            " extracting: train/labels/image_79_jpg.rf.0072f65247f764f76931d97bf5ce1e62.txt  \n",
            " extracting: train/labels/image_79_jpg.rf.bdb627ea556cbcc7376c787088c72a2f.txt  \n",
            " extracting: train/labels/image_7_jpg.rf.3910e820d8902add3af048d8984cef1d.txt  \n",
            " extracting: train/labels/image_7_jpg.rf.980614f6d1d7a7d1203f755309d6ea44.txt  \n",
            " extracting: train/labels/image_800_jpg.rf.387e0e5f9a0aa6856ba5dd1e63afe309.txt  \n",
            " extracting: train/labels/image_800_jpg.rf.b4cbb343a11a0900c2c90ce5eec8db5d.txt  \n",
            " extracting: train/labels/image_801_jpg.rf.0466bfcf25204a95fec8ce4edf7bcbb2.txt  \n",
            " extracting: train/labels/image_801_jpg.rf.32f06c365d777f058d391a5d2a315a45.txt  \n",
            " extracting: train/labels/image_802_jpg.rf.69c2138dcdc19c502d7624cdd8e3ae7e.txt  \n",
            " extracting: train/labels/image_803_jpg.rf.2655ad0cef7012c04a74bef7d9739784.txt  \n",
            " extracting: train/labels/image_803_jpg.rf.8503c3bd3ea9e6d21b0ae59a328e0f93.txt  \n",
            " extracting: train/labels/image_804_jpg.rf.e565fb5536cc58b795639aeeabf0b118.txt  \n",
            " extracting: train/labels/image_805_jpg.rf.b6178848515ce3cd26de23e262e0e969.txt  \n",
            " extracting: train/labels/image_806_jpg.rf.90e5d37d7a9b464130e85c6f6463a2fe.txt  \n",
            " extracting: train/labels/image_807_jpg.rf.c4cb4901fcbf155d87df3bc2f03a203b.txt  \n",
            " extracting: train/labels/image_808_jpg.rf.33ba2b86283b7f0a012a27bd7c64a5eb.txt  \n",
            " extracting: train/labels/image_809_jpg.rf.f2e710b835c808c0d900e6e108974d74.txt  \n",
            " extracting: train/labels/image_80_jpg.rf.afcc829f8c86199d513e06348e5efbbb.txt  \n",
            " extracting: train/labels/image_810_jpg.rf.5c76963a4f7aeb972cf2563c5ec92643.txt  \n",
            " extracting: train/labels/image_810_jpg.rf.f9d4a8ded61bc480b99fd52e7ea65c60.txt  \n",
            " extracting: train/labels/image_811_jpg.rf.c539b17d5e6a9fe1fbb240251d572f3f.txt  \n",
            " extracting: train/labels/image_812_jpg.rf.5934971b863a58ed2c4fb273d9fc5f2d.txt  \n",
            " extracting: train/labels/image_813_jpg.rf.f8f852668fe3d667fd9e4c1e1f2626bd.txt  \n",
            " extracting: train/labels/image_814_jpg.rf.1508bb70656bf32c7d570c63c2b189a0.txt  \n",
            " extracting: train/labels/image_814_jpg.rf.5010ef7d6ac4f58af1c2b394e082695a.txt  \n",
            " extracting: train/labels/image_815_jpg.rf.bdf733b6883b9a0328b2d5fcc36380fb.txt  \n",
            " extracting: train/labels/image_815_jpg.rf.fa34496c4baab616d7aa900a2bf95cc9.txt  \n",
            " extracting: train/labels/image_816_jpg.rf.9a0d03983e5a24fb5da9f09fc97d9558.txt  \n",
            " extracting: train/labels/image_817_jpg.rf.29060097acaaed258579f493fd974070.txt  \n",
            " extracting: train/labels/image_817_jpg.rf.6b67f351e2ef3630daed5f75ea01f484.txt  \n",
            " extracting: train/labels/image_818_jpg.rf.01e99cecba836a4f7947ccda3a46536d.txt  \n",
            " extracting: train/labels/image_818_jpg.rf.a32d0f9291c6b2d538d6024e5a6a5057.txt  \n",
            " extracting: train/labels/image_819_jpg.rf.1b745fed78ee0c7043f8e85642116cd0.txt  \n",
            " extracting: train/labels/image_81_jpg.rf.1019801e52145438c0f7d6e9aa31bd96.txt  \n",
            " extracting: train/labels/image_81_jpg.rf.8874c2e60b7403bebb484d1aa4f72b0e.txt  \n",
            " extracting: train/labels/image_820_jpg.rf.06e7f719f0469e8fabb39e19f582bb39.txt  \n",
            " extracting: train/labels/image_821_jpg.rf.23afc4423e733da396939d246a613c1a.txt  \n",
            " extracting: train/labels/image_822_jpg.rf.1a4331b9b718ebcc9456092f1dfe4371.txt  \n",
            " extracting: train/labels/image_822_jpg.rf.c4c24368040022cc62a758e97a2564f9.txt  \n",
            " extracting: train/labels/image_824_jpg.rf.4cd2ea98f6475c77c44d5c68a30b3f86.txt  \n",
            " extracting: train/labels/image_825_jpg.rf.52c91b68069410c879c64cb9073e2d04.txt  \n",
            " extracting: train/labels/image_825_jpg.rf.ac0e46ce5dbcc124a83f0b7b04141759.txt  \n",
            " extracting: train/labels/image_827_jpg.rf.667e501ffa916eb0a14913b0ac2f044e.txt  \n",
            " extracting: train/labels/image_827_jpg.rf.76af73c284b53bf16453f93d54aa7a9c.txt  \n",
            " extracting: train/labels/image_829_jpg.rf.083d13f0b940b2da7b504898c3f7f66d.txt  \n",
            " extracting: train/labels/image_829_jpg.rf.0d6922fa4c4a57145e97a849fa579c8d.txt  \n",
            " extracting: train/labels/image_82_jpg.rf.07edcb40907ce65a2480546ddf6f04f9.txt  \n",
            " extracting: train/labels/image_82_jpg.rf.6e976ddcc8a514ff56c7a421fe2ada24.txt  \n",
            " extracting: train/labels/image_830_jpg.rf.f843a8349ec8437846bb1e9c3a6db818.txt  \n",
            " extracting: train/labels/image_831_jpg.rf.e764219eeab9f33ef3778e32c635ce00.txt  \n",
            " extracting: train/labels/image_831_jpg.rf.f2ad22ab38b0f475fb6f7ffc1cd9ac9f.txt  \n",
            " extracting: train/labels/image_833_jpg.rf.78926c030b197088882ef44ebe7d8c99.txt  \n",
            " extracting: train/labels/image_833_jpg.rf.db9fd224670b7d9976f3fefc86538f3d.txt  \n",
            " extracting: train/labels/image_834_jpg.rf.b967aa9d8f052c22c857a56829b9f466.txt  \n",
            " extracting: train/labels/image_835_jpg.rf.de025296f8ca22deebbfcd36af202a9d.txt  \n",
            " extracting: train/labels/image_836_jpg.rf.f46f744672bb686e45a8c3d28e30a26a.txt  \n",
            " extracting: train/labels/image_837_jpg.rf.70337ad6860a1b9f8f70009f1bd05785.txt  \n",
            " extracting: train/labels/image_838_jpg.rf.587b01ca9305757883f2f38c0325dd80.txt  \n",
            " extracting: train/labels/image_838_jpg.rf.ef281b9700460b802cb756c0903a09f4.txt  \n",
            " extracting: train/labels/image_839_jpg.rf.3260171379a4701188748b5aa8572516.txt  \n",
            " extracting: train/labels/image_83_jpg.rf.65cf2b0bed1f031bd8194ca13fb5caae.txt  \n",
            " extracting: train/labels/image_83_jpg.rf.8e7bec7fd216768f148ac1f8ebcf2ecf.txt  \n",
            " extracting: train/labels/image_840_jpg.rf.e9e952addcf155352520c96341b0a52a.txt  \n",
            " extracting: train/labels/image_841_jpg.rf.30150eb5ff0cecb8c7df1c8d8c3b2ef1.txt  \n",
            " extracting: train/labels/image_842_jpg.rf.408fbabf8190ae545c971e5fcf0b35e1.txt  \n",
            " extracting: train/labels/image_842_jpg.rf.8883ea8b5f356b4cc0a8bc84571b3ad1.txt  \n",
            " extracting: train/labels/image_843_jpg.rf.9ec837089ecdd516e9f49fc194f2f5d7.txt  \n",
            " extracting: train/labels/image_844_jpg.rf.f3ad0481613c5ee80a12d7e1ed2d9038.txt  \n",
            " extracting: train/labels/image_846_jpg.rf.00e8f03ec0d055e6dc1ff5811d7b11a0.txt  \n",
            " extracting: train/labels/image_848_jpg.rf.e6b7466b725804d6f03c9be960c7b488.txt  \n",
            " extracting: train/labels/image_849_jpg.rf.1f297e87437cd03b26cfc25fcc0fbb86.txt  \n",
            " extracting: train/labels/image_849_jpg.rf.fd2baf1009b977ab100ae44c5ea42164.txt  \n",
            " extracting: train/labels/image_84_jpg.rf.131a9492b7d6c2858304a590a44c0cc1.txt  \n",
            " extracting: train/labels/image_84_jpg.rf.d2ec7d7dd1884770a7e44bf9ea96cb07.txt  \n",
            " extracting: train/labels/image_850_jpg.rf.a8f507ab4d26b530519d96dd493f06bb.txt  \n",
            " extracting: train/labels/image_851_jpg.rf.2766f37e1f8a241267f4ce3ec69e3b7f.txt  \n",
            " extracting: train/labels/image_851_jpg.rf.2f71bd3a64d95e3dd411a0cf9583b4b3.txt  \n",
            " extracting: train/labels/image_852_jpg.rf.f0ba2e5444b8114d945bf282d1ac5e81.txt  \n",
            " extracting: train/labels/image_853_jpg.rf.91933d5e2c3a838655da4a8f3ec68e3f.txt  \n",
            " extracting: train/labels/image_854_jpg.rf.5fba92e493434982cc61d20f86a6b9aa.txt  \n",
            " extracting: train/labels/image_854_jpg.rf.8897c702d23e9937ccc0575ce619be05.txt  \n",
            " extracting: train/labels/image_855_jpg.rf.37a982b887c8b98c02554b8eefe29764.txt  \n",
            " extracting: train/labels/image_855_jpg.rf.486630428617c6aa4824ff76ea8a815e.txt  \n",
            " extracting: train/labels/image_856_jpg.rf.f47c64261cd8d683d3e02fe04d3f367b.txt  \n",
            " extracting: train/labels/image_857_jpg.rf.80794aabbdbad65c89f808daa155a371.txt  \n",
            " extracting: train/labels/image_858_jpg.rf.026108d1a7515a4c4a1a53779146171e.txt  \n",
            " extracting: train/labels/image_858_jpg.rf.2898e2cd9f872f372b74e2d93ec9459e.txt  \n",
            " extracting: train/labels/image_859_jpg.rf.2549d492b5f16399da42b02967c73069.txt  \n",
            " extracting: train/labels/image_85_jpg.rf.abcca442404f70d2a913f4a68b05bf79.txt  \n",
            " extracting: train/labels/image_860_jpg.rf.0e3489475a85fafa6d7ed9778e36d06f.txt  \n",
            " extracting: train/labels/image_860_jpg.rf.10f7d97f34fedc6c7e86966b808d4505.txt  \n",
            " extracting: train/labels/image_861_jpg.rf.e7222955a8e597d84694af46268a476c.txt  \n",
            " extracting: train/labels/image_862_jpg.rf.24cd5b96123a7d792e5ea556187cdcd2.txt  \n",
            " extracting: train/labels/image_862_jpg.rf.2ead63919ffe3590b3cd8e145a96283e.txt  \n",
            " extracting: train/labels/image_863_jpg.rf.ceac9302e87c0d3b7b3f79d2fd0a9360.txt  \n",
            " extracting: train/labels/image_864_jpg.rf.28cc6b0dbeb671e372c575e1a291182b.txt  \n",
            " extracting: train/labels/image_865_jpg.rf.128a2c7ab0519bf4554c3f9c6e35df2d.txt  \n",
            " extracting: train/labels/image_866_jpg.rf.24bf297c7be259dafeeca4a32f4427d4.txt  \n",
            " extracting: train/labels/image_867_jpg.rf.84cda576a135ed267668872ecb1e05d6.txt  \n",
            " extracting: train/labels/image_868_jpg.rf.63968b006cf4473921d6cd56eaffb83d.txt  \n",
            " extracting: train/labels/image_869_jpg.rf.807748c54d4e12e084fba4c45a4bf5ec.txt  \n",
            " extracting: train/labels/image_870_jpg.rf.1bda2ed1f267928eb1ddfe0194c7c99d.txt  \n",
            " extracting: train/labels/image_870_jpg.rf.7bf2882b2a7f62993bb44c89e3550447.txt  \n",
            " extracting: train/labels/image_871_jpg.rf.c8a622196dedeaeda97d4fac7e899bd7.txt  \n",
            " extracting: train/labels/image_872_jpg.rf.3f2d17e2baa444b71796df43aa30973d.txt  \n",
            " extracting: train/labels/image_872_jpg.rf.f8f97cfd7976568f2ea62d121216b192.txt  \n",
            " extracting: train/labels/image_873_jpg.rf.441016f38870e5b7fb4f8a2bc4b7eecc.txt  \n",
            " extracting: train/labels/image_874_jpg.rf.0d42f6b941169fdaa20384f2e2463070.txt  \n",
            " extracting: train/labels/image_874_jpg.rf.36afc7c18148d1aeff3ed195ba993381.txt  \n",
            " extracting: train/labels/image_875_jpg.rf.28e6e3f17145847cbcf99dc866e5391b.txt  \n",
            " extracting: train/labels/image_875_jpg.rf.d478b2181644ef4ad6d3df5a12f3147b.txt  \n",
            " extracting: train/labels/image_876_jpg.rf.02fe9c0b8cb77b73356ef6e2192185d1.txt  \n",
            " extracting: train/labels/image_876_jpg.rf.1ff0013c7dfa22c2f2d4ef75424cdd91.txt  \n",
            " extracting: train/labels/image_878_jpg.rf.1cbe2d1bec00996403be769780381e51.txt  \n",
            " extracting: train/labels/image_878_jpg.rf.88046d950cf0a884df30ca15f12839fa.txt  \n",
            " extracting: train/labels/image_879_jpg.rf.a9b80325333382356365579796086172.txt  \n",
            " extracting: train/labels/image_879_jpg.rf.c95bfb9068eb847c7f4c44582b53c766.txt  \n",
            " extracting: train/labels/image_87_jpg.rf.1a8f811043e08e4b94b2b1da614c26c8.txt  \n",
            " extracting: train/labels/image_880_jpg.rf.0bebdd13d6e13fa137cc31e543d352b0.txt  \n",
            " extracting: train/labels/image_880_jpg.rf.3c0206de82d210870c23a109b197717a.txt  \n",
            " extracting: train/labels/image_881_jpg.rf.1f9f219e5d18f3f443ef073901eca21f.txt  \n",
            " extracting: train/labels/image_882_jpg.rf.5d928b3e8418473f7231b0451903f08f.txt  \n",
            " extracting: train/labels/image_882_jpg.rf.ca94314e6834e432f19a145ae47b4ff5.txt  \n",
            " extracting: train/labels/image_883_jpg.rf.23111ab7709e0471ee8cb4f4d57318c7.txt  \n",
            " extracting: train/labels/image_883_jpg.rf.f560296528ce02851af966eda055c1b4.txt  \n",
            " extracting: train/labels/image_884_jpg.rf.c86d17a89ca66678cbce9f915e6f11b1.txt  \n",
            " extracting: train/labels/image_884_jpg.rf.cca2ee8250114cf475483c841b6661f0.txt  \n",
            " extracting: train/labels/image_886_jpg.rf.7f153bf95a99e58632f619c36c0b1670.txt  \n",
            " extracting: train/labels/image_886_jpg.rf.bcc79b28f1f8ffebe6a0d9d3789c852f.txt  \n",
            " extracting: train/labels/image_887_jpg.rf.65855810ffebff556f7bb55be84b9d38.txt  \n",
            " extracting: train/labels/image_889_jpg.rf.c8395d81efa42238a2a68f1ec2cc0a7b.txt  \n",
            " extracting: train/labels/image_88_jpg.rf.30bfb42d79b801fae8520d0c414bef7b.txt  \n",
            " extracting: train/labels/image_88_jpg.rf.b3901a704c6356ca244be517061f50ac.txt  \n",
            " extracting: train/labels/image_890_jpg.rf.563e3ec1531bf373f934a6f628c705a9.txt  \n",
            " extracting: train/labels/image_891_jpg.rf.d5f7eb7a1013600c5ea28a56a18a802e.txt  \n",
            " extracting: train/labels/image_891_jpg.rf.f6abb0106f62849e03abd9c6bee787ef.txt  \n",
            " extracting: train/labels/image_892_jpg.rf.51ef62466d37be4dbfb992f728f18a0c.txt  \n",
            " extracting: train/labels/image_892_jpg.rf.cb7996aaa7a185c2589816e080874360.txt  \n",
            " extracting: train/labels/image_893_jpg.rf.aca3432dc8c6a3ee811cdc490f7ea568.txt  \n",
            " extracting: train/labels/image_894_jpg.rf.3b7786728e0d5c5aa59cde72e3064e49.txt  \n",
            " extracting: train/labels/image_894_jpg.rf.baa85d459a612fec7c643696fcd998d4.txt  \n",
            " extracting: train/labels/image_895_jpg.rf.4973c9696c68128fcd3ac128f7a466a2.txt  \n",
            " extracting: train/labels/image_896_jpg.rf.5b124449ac5bcd0f0d2e70ceea10896f.txt  \n",
            " extracting: train/labels/image_896_jpg.rf.a4087267b2646ef0b2fb1d61aca5e184.txt  \n",
            " extracting: train/labels/image_897_jpg.rf.9899cfdc9bae0f57a8c7b6435fbcace3.txt  \n",
            " extracting: train/labels/image_899_jpg.rf.fdc1bb338d7b0df2fa263765e569fcf0.txt  \n",
            " extracting: train/labels/image_89_jpg.rf.0391cf03c6feb3c1a0ce729156482311.txt  \n",
            " extracting: train/labels/image_8_jpg.rf.98e6d0712ff75fb805a773568f3ba5c1.txt  \n",
            " extracting: train/labels/image_900_jpg.rf.df27a6b07db0a93289e738a28c447702.txt  \n",
            " extracting: train/labels/image_901_jpg.rf.368af4017ef17ef65c5da224f2165b70.txt  \n",
            " extracting: train/labels/image_901_jpg.rf.84b25ab663e8538e43b3bb2300738525.txt  \n",
            " extracting: train/labels/image_902_jpg.rf.28b9d1269c2c11145822d77e8d69ed24.txt  \n",
            " extracting: train/labels/image_902_jpg.rf.cf885b1939ec4b0a8453bca807f69729.txt  \n",
            " extracting: train/labels/image_903_jpg.rf.0515a09a2c8c642b6415b557926a44fd.txt  \n",
            " extracting: train/labels/image_904_jpg.rf.7b7ab05594234c9035c8a5f8405b023d.txt  \n",
            " extracting: train/labels/image_904_jpg.rf.ad50959cc1d507e7da2d9956042fe3a2.txt  \n",
            " extracting: train/labels/image_905_jpg.rf.777d4ce07b98a5dc61e6d99e540c8330.txt  \n",
            " extracting: train/labels/image_906_jpg.rf.30954ac01c38a351fb66c22ae77a1c43.txt  \n",
            " extracting: train/labels/image_907_jpg.rf.32eabd651e306584165ee1a7be4e9a88.txt  \n",
            " extracting: train/labels/image_907_jpg.rf.e0802275341e7c08ed4bb2ca8319c5c8.txt  \n",
            " extracting: train/labels/image_908_jpg.rf.f081a6fbdb745711e6cfa79b65ecee9a.txt  \n",
            " extracting: train/labels/image_909_jpg.rf.50cf6bccc06165f6cbe5f2656cafb92c.txt  \n",
            " extracting: train/labels/image_909_jpg.rf.8ffa31328767e4e8d19449443253d156.txt  \n",
            " extracting: train/labels/image_90_jpg.rf.3abe0d6fa93c5edeb8203079bf2eb1aa.txt  \n",
            " extracting: train/labels/image_90_jpg.rf.4df5a0562e596fa0b08fe9888366c292.txt  \n",
            " extracting: train/labels/image_911_jpg.rf.6b30c21e94ef0d4650476f45422184f3.txt  \n",
            " extracting: train/labels/image_912_jpg.rf.04f23fe9df8d24a68563914927fe6004.txt  \n",
            " extracting: train/labels/image_912_jpg.rf.18bf111c636f6703c318154c9d532bf0.txt  \n",
            " extracting: train/labels/image_913_jpg.rf.895a3eb98f4b08cc042976ab0beaeb93.txt  \n",
            " extracting: train/labels/image_914_jpg.rf.7575cdc80bed241c0a3886aa22819214.txt  \n",
            " extracting: train/labels/image_914_jpg.rf.a778b1706a8aea66c92f80855433f22f.txt  \n",
            " extracting: train/labels/image_915_jpg.rf.05e263d1c2dcc1cfedc813968d61d628.txt  \n",
            " extracting: train/labels/image_916_jpg.rf.0ac30c7442324e125e346f5d62507509.txt  \n",
            " extracting: train/labels/image_917_jpg.rf.482ac8a4b84fc8bd64ea2c33a984f865.txt  \n",
            " extracting: train/labels/image_918_jpg.rf.8ffe16ead9e8d0963e9f216fff1ede97.txt  \n",
            " extracting: train/labels/image_918_jpg.rf.a353a4cfc00ca2bbca077183f27094c2.txt  \n",
            " extracting: train/labels/image_91_jpg.rf.d88746fc057a09590502b1af50ee677a.txt  \n",
            " extracting: train/labels/image_920_jpg.rf.c9607f88065fd135521fa797903ec9b6.txt  \n",
            " extracting: train/labels/image_920_jpg.rf.e36a63cceffe06051be77d502befc1e2.txt  \n",
            " extracting: train/labels/image_921_jpg.rf.0f3f7729632a1fd98b2bc2a169d206f3.txt  \n",
            " extracting: train/labels/image_921_jpg.rf.4e86d0ebe1b9a72349b0d17c710cbd2c.txt  \n",
            " extracting: train/labels/image_922_jpg.rf.5c96a4fec399f3e1d9284e2f49e2859a.txt  \n",
            " extracting: train/labels/image_923_jpg.rf.47c2dcdcc3a0aeb5222a53736cef8970.txt  \n",
            " extracting: train/labels/image_924_jpg.rf.ab91a9c661cc6ac8cdf80ccd05068597.txt  \n",
            " extracting: train/labels/image_925_jpg.rf.1d4cfd73be25e5d54fff334c75552d91.txt  \n",
            " extracting: train/labels/image_925_jpg.rf.94c4ee4a9712994aa9d68766245a603a.txt  \n",
            " extracting: train/labels/image_926_jpg.rf.4bba532fd2b4db17960dc04e1932447b.txt  \n",
            " extracting: train/labels/image_926_jpg.rf.89c7c55502b9c3f0a3e348fc88e86da2.txt  \n",
            " extracting: train/labels/image_927_jpg.rf.a10cec6cd583de168994d87f1d302516.txt  \n",
            " extracting: train/labels/image_928_jpg.rf.69028df3204b02bbcc2ca1c273ef5f8a.txt  \n",
            " extracting: train/labels/image_928_jpg.rf.d6acbcdb865f598eab80f04579f29d56.txt  \n",
            " extracting: train/labels/image_929_jpg.rf.747128161e093482d2d19f47e4b5bbeb.txt  \n",
            " extracting: train/labels/image_92_jpg.rf.44831a4e99db1e5074f9d5749ebb3424.txt  \n",
            " extracting: train/labels/image_930_jpg.rf.5b0d136b636aec0b16e9e744207f57fa.txt  \n",
            " extracting: train/labels/image_930_jpg.rf.a04b1ed25539c04d6dcfce5fb8021ba7.txt  \n",
            " extracting: train/labels/image_931_jpg.rf.c0e5e66769c86e6cca5a0e33f5346570.txt  \n",
            " extracting: train/labels/image_932_jpg.rf.fe5d19447b1ca7ec18e1715cd4d9e5e9.txt  \n",
            " extracting: train/labels/image_933_jpg.rf.9d0ce47c670b2801605e01370405d4bf.txt  \n",
            " extracting: train/labels/image_934_jpg.rf.f7a376a0c17503502e9f8d5bfc8fceb8.txt  \n",
            " extracting: train/labels/image_935_jpg.rf.24efc4de12dc7bc76e4372a253c324e0.txt  \n",
            " extracting: train/labels/image_936_jpg.rf.8d4ce603e908fcedd21d07aaebe4e938.txt  \n",
            " extracting: train/labels/image_937_jpg.rf.52753b300edb5153817fcbbee7002229.txt  \n",
            " extracting: train/labels/image_939_jpg.rf.a76e871b4882e601ef7ffd1cf0c25311.txt  \n",
            " extracting: train/labels/image_93_jpg.rf.d34b19da0dc4087cc5c53c6bf6ec67b4.txt  \n",
            " extracting: train/labels/image_940_jpg.rf.4aa6345254273303819bb090114f2f55.txt  \n",
            " extracting: train/labels/image_941_jpg.rf.8af476be8416a32d27a9f803ad319e99.txt  \n",
            " extracting: train/labels/image_941_jpg.rf.96c369bd89fad4e8945ce80684cbb90c.txt  \n",
            " extracting: train/labels/image_942_jpg.rf.1b3104d73eccc9815cf1598427ba0ceb.txt  \n",
            " extracting: train/labels/image_942_jpg.rf.6843589433311e7e5ca0d367e42a24ec.txt  \n",
            " extracting: train/labels/image_943_jpg.rf.9a2c099b98a744f6d34b0131fab92317.txt  \n",
            " extracting: train/labels/image_943_jpg.rf.e22b6c817ceb2293ef0c00c7df4c360a.txt  \n",
            " extracting: train/labels/image_944_jpg.rf.d87fe0d42490af1d5ba1163e276c4941.txt  \n",
            " extracting: train/labels/image_945_jpg.rf.2ce6b1c4d173504c93c85935aaa44578.txt  \n",
            " extracting: train/labels/image_946_jpg.rf.a1e8160e64bb7024d4ece12861e1e85f.txt  \n",
            " extracting: train/labels/image_947_jpg.rf.4622929c96c5a65029f3e4e5cf166bfe.txt  \n",
            " extracting: train/labels/image_947_jpg.rf.fe2e87127b1c9b82ec2ccb18aca51066.txt  \n",
            " extracting: train/labels/image_948_jpg.rf.723e6086bcc64d2ba8a66f93f0121c68.txt  \n",
            " extracting: train/labels/image_94_jpg.rf.56edc00570cdd6ad04d2831491f06170.txt  \n",
            " extracting: train/labels/image_94_jpg.rf.cb4311c5343937e57eb05df5ff9297ac.txt  \n",
            " extracting: train/labels/image_951_jpg.rf.22cfa1bf37c08d1b11a1c72f7bf40951.txt  \n",
            " extracting: train/labels/image_952_jpg.rf.44ac00a227d29e24694195bb7f549406.txt  \n",
            " extracting: train/labels/image_953_jpg.rf.72da8d2372ab7490950a55243d63bdb0.txt  \n",
            " extracting: train/labels/image_954_jpg.rf.11a754d9f05143b207ff772709939557.txt  \n",
            " extracting: train/labels/image_954_jpg.rf.404cf985bc80db4741c8823c6fde99d3.txt  \n",
            " extracting: train/labels/image_955_jpg.rf.7bd33f0416620a2339d52932b9766fc5.txt  \n",
            " extracting: train/labels/image_956_jpg.rf.377e99ec07f96bec39d92a6cafbebea5.txt  \n",
            " extracting: train/labels/image_957_jpg.rf.2b365150eebc36739eed15f766720858.txt  \n",
            " extracting: train/labels/image_957_jpg.rf.f53ff3f99322955ae2f7ec9ea4da1635.txt  \n",
            " extracting: train/labels/image_958_jpg.rf.48e762aa7ba93e03bacc5b8ce9f9a9fa.txt  \n",
            " extracting: train/labels/image_959_jpg.rf.4819cbfa0e30a139267bc1ce6984b2f7.txt  \n",
            " extracting: train/labels/image_95_jpg.rf.cef321b40656eb41d542deb22f6a57c4.txt  \n",
            " extracting: train/labels/image_960_jpg.rf.8975492ef4e17bb04753bf51a42baade.txt  \n",
            " extracting: train/labels/image_960_jpg.rf.976b1ac13dde3613c0f833a34d378867.txt  \n",
            " extracting: train/labels/image_961_jpg.rf.e43b8eaf64ff117711c27094f05da8cb.txt  \n",
            " extracting: train/labels/image_962_jpg.rf.84cca6a99c0ed3dc45995151e37f1b45.txt  \n",
            " extracting: train/labels/image_962_jpg.rf.fd26c3155b53eab1b384813a76db7a25.txt  \n",
            " extracting: train/labels/image_963_jpg.rf.3336748ccbf0cb8f8372499e99d9581f.txt  \n",
            " extracting: train/labels/image_964_jpg.rf.2285f7d1a0ad06f14c03baa1a56b64f8.txt  \n",
            " extracting: train/labels/image_964_jpg.rf.c0ba69da4800063193b06472ea004651.txt  \n",
            " extracting: train/labels/image_965_jpg.rf.133b660980475ee8afebcb6316f23ee5.txt  \n",
            " extracting: train/labels/image_967_jpg.rf.c75d0842a72566a621f125e4e4696aee.txt  \n",
            " extracting: train/labels/image_968_jpg.rf.01582d55a49cc3f5ed12ce2ef56c8b0b.txt  \n",
            " extracting: train/labels/image_968_jpg.rf.c9710ced783713b01faa243a5c6ca378.txt  \n",
            " extracting: train/labels/image_969_jpg.rf.ca765480833c6c375ecbae99abd38260.txt  \n",
            " extracting: train/labels/image_96_jpg.rf.1eb820f43ad68da4212e64e80fe5f663.txt  \n",
            " extracting: train/labels/image_96_jpg.rf.2afc44f1dbb60ab4d40f0304beb36d05.txt  \n",
            " extracting: train/labels/image_970_jpg.rf.1e371385164f6572ca624185efe698da.txt  \n",
            " extracting: train/labels/image_971_jpg.rf.163ebf25d329933a9147d2ce98551c9b.txt  \n",
            " extracting: train/labels/image_971_jpg.rf.fc9dca04c62392f5b1f575c822f94f08.txt  \n",
            " extracting: train/labels/image_972_jpg.rf.63d710f85bd09e395e2f5660a6d312b3.txt  \n",
            " extracting: train/labels/image_973_jpg.rf.a975edfceaedf5428185f8b05aafba7f.txt  \n",
            " extracting: train/labels/image_974_jpg.rf.1d5c99ab291002df4bec8aa8f8e6027a.txt  \n",
            " extracting: train/labels/image_975_jpg.rf.02e9f55398bf771fa14bb73b9d7c1cde.txt  \n",
            " extracting: train/labels/image_976_jpg.rf.7e9ff44df43be500cd296fc052ecbd1f.txt  \n",
            " extracting: train/labels/image_976_jpg.rf.e6ccb4c4ef8c4180aabe27507f57aae6.txt  \n",
            " extracting: train/labels/image_977_jpg.rf.6b2555f9ffeae0fe13ff9cfdee287bbf.txt  \n",
            " extracting: train/labels/image_978_jpg.rf.10c5b72270182f74bb1ebe182890a178.txt  \n",
            " extracting: train/labels/image_978_jpg.rf.e2e7f44660b32498edbc0a24f233f5a6.txt  \n",
            " extracting: train/labels/image_979_jpg.rf.5ec42a2b3646cf7cff0b2bee2e338ba7.txt  \n",
            " extracting: train/labels/image_97_jpg.rf.5024b695bc7c6f656877c5d09027457d.txt  \n",
            " extracting: train/labels/image_980_jpg.rf.0812634aa46f131cdc96bdfb651f3e0e.txt  \n",
            " extracting: train/labels/image_980_jpg.rf.3331978823ef152a0106df332b6bf6c5.txt  \n",
            " extracting: train/labels/image_981_jpg.rf.36f73c8a4ea5e15e65cebfd90fc51b19.txt  \n",
            " extracting: train/labels/image_981_jpg.rf.73afc39fa123cdf6988e89733c93857b.txt  \n",
            " extracting: train/labels/image_982_jpg.rf.9512d99e46aaffd07c28f4c05d8d0999.txt  \n",
            " extracting: train/labels/image_982_jpg.rf.a5fdaea5aecadf6d797f530cac8a96e1.txt  \n",
            " extracting: train/labels/image_983_jpg.rf.3bd8add712ddbd532228e962b2514b7f.txt  \n",
            " extracting: train/labels/image_983_jpg.rf.b7953919d868a460bee667a251fcc731.txt  \n",
            " extracting: train/labels/image_984_jpg.rf.6ceef9416f75d1d8c34dc65f13e48925.txt  \n",
            " extracting: train/labels/image_984_jpg.rf.6e93792bffb92a1f8f46fae22550d0b9.txt  \n",
            " extracting: train/labels/image_985_jpg.rf.07a535038ddc4c432f2cd547a32df00c.txt  \n",
            " extracting: train/labels/image_985_jpg.rf.6bd97c959e1854f4206474457eca3158.txt  \n",
            " extracting: train/labels/image_988_jpg.rf.1f4a950c0704a34622a45f9297052c3c.txt  \n",
            " extracting: train/labels/image_989_jpg.rf.072ca5b7e2b74b067a29900e7d601838.txt  \n",
            " extracting: train/labels/image_98_jpg.rf.61d2a1a16c68c5a57dc04d65e58e0ffa.txt  \n",
            " extracting: train/labels/image_98_jpg.rf.82b0a2e6c01e4da1493204622bfb7034.txt  \n",
            " extracting: train/labels/image_990_jpg.rf.96a7993a7d99dfd4f35f47cea72de2e1.txt  \n",
            " extracting: train/labels/image_991_jpg.rf.f566b2bd411e9848ec2f6197d811488e.txt  \n",
            " extracting: train/labels/image_992_jpg.rf.139585bc0b1956461be97c524cd86a27.txt  \n",
            " extracting: train/labels/image_992_jpg.rf.466501dce30328605a7c61effa39e1c4.txt  \n",
            " extracting: train/labels/image_993_jpg.rf.770d6800123a8e3bf18fdb3b0681ca47.txt  \n",
            " extracting: train/labels/image_994_jpg.rf.f704299e16a8c65cfc0badf0286f0036.txt  \n",
            " extracting: train/labels/image_995_jpg.rf.b082f813d170dcb76b99498c6ae0ff86.txt  \n",
            " extracting: train/labels/image_995_jpg.rf.f6f4c9bdd01de6a62c8fa703aa0ea40f.txt  \n",
            " extracting: train/labels/image_996_jpg.rf.502f385a0df081ebcfc8c8140aa6002b.txt  \n",
            " extracting: train/labels/image_996_jpg.rf.c72244f0472f617377f431711d438bb2.txt  \n",
            " extracting: train/labels/image_997_jpg.rf.19a54044f58a05aca108443193b060ea.txt  \n",
            " extracting: train/labels/image_997_jpg.rf.59a53c6d00e2791911165e60fcd5bcde.txt  \n",
            " extracting: train/labels/image_998_jpg.rf.976775ec948fe0a578b19b5ccb89960f.txt  \n",
            " extracting: train/labels/image_99_jpg.rf.d4a789b2d664a311e88135608d1927b9.txt  \n",
            " extracting: train/labels/image_9_jpg.rf.98ab06c65576ae8f86e8c5c5909e0e4e.txt  \n",
            " extracting: train/labels/image_9_jpg.rf.e2018b9a678c833db9642dec54bd582a.txt  \n",
            " extracting: train/labels/images-1-_jpg.rf.2454440559a1c647e605bd802514f4d3.txt  \n",
            " extracting: train/labels/images-2-_jpg.rf.1fb07eca3d3a9696359a5a03225a61e4.txt  \n",
            " extracting: train/labels/images-2-_jpg.rf.a90fff6582281d8614a45a28e3e19532.txt  \n",
            " extracting: train/labels/images-2-_jpg.rf.dde0837e34e2ac6d612f6a58c39f8d26.txt  \n",
            " extracting: train/labels/images-3-_jpg.rf.59e12f7866a2179a350444efd95b7ab9.txt  \n",
            " extracting: train/labels/images-4-_jpg.rf.e866153048165efa487fdb3f5e93980a.txt  \n",
            " extracting: train/labels/images2960653_mature_man_walking_park_outdoors_beig_jpg.rf.786c512f50c0e6470ccae8f27430ec9e.txt  \n",
            " extracting: train/labels/images_jpg.rf.1bfb3002912e459b1c50fe0323bfe16f.txt  \n",
            " extracting: train/labels/images_jpg.rf.66b00dc02c898d69cc32fa0834066355.txt  \n",
            " extracting: train/labels/images_jpg.rf.66b0b1f296e1d6064b9dfec51e5c2d89.txt  \n",
            " extracting: train/labels/istockphoto-1036872646-1024x1024_jpg.rf.132d4e5146efdd51918921f03571f047.txt  \n",
            " extracting: train/labels/istockphoto-1048316430-170667a_jpg.rf.00f29e8ee9097bf0c6082b2322ef6f6f.txt  \n",
            " extracting: train/labels/istockphoto-1048316430-170667a_jpg.rf.1d4e3518a544fc8faaf1b7679bfc8dac.txt  \n",
            " extracting: train/labels/istockphoto-1172486872-612x612_jpg.rf.f74d4961b5f9c5628dfe34fbff3141b4.txt  \n",
            " extracting: train/labels/istockphoto-1184388353-612x612_jpg.rf.85c3cdf7bdd92bb8a5a8d265545ae6b8.txt  \n",
            " extracting: train/labels/istockphoto-180500360-612x612-1-_jpg.rf.bc6053eb0ced25d9d990f7caab17b394.txt  \n",
            " extracting: train/labels/istockphoto-180652355-612x612_jpg.rf.15848f4d5bda8e3daf9ae84274ce5f19.txt  \n",
            " extracting: train/labels/istockphoto-180652355-612x612_jpg.rf.ad8665269989eb89b18242104a17adad.txt  \n",
            " extracting: train/labels/istockphoto-183066963-1024x1024_jpg.rf.be3967c73caf2752a89a6b62606bb75e.txt  \n",
            " extracting: train/labels/istockphoto-184833050-612x612_jpg.rf.2bf63fa7ade994f81c0fbe1ad311108c.txt  \n",
            " extracting: train/labels/istockphoto-486289973-612x612_jpg.rf.a712e233bff5d17e303087cda6de3e81.txt  \n",
            " extracting: train/labels/kisspng-person-walking-silhouette-clip-art-person-cut-out-5aaaf5801c85c9-2139787115211534081168_jpg.rf.39f8af9473b4751dd27b52b76916e3a0.txt  \n",
            " extracting: train/labels/kleptomania-concept-a-man-in-the-grocery-store-stealing-food-and-put-it-in-the-pocket-2B03KPY_jpg.rf.f5fa4e800f8e956bd2a1e54b2d78fafd.txt  \n",
            " extracting: train/labels/kleptomania-concept-a-man-in-the-grocery-store-stealing-food-and-put-it-in-the-pocket-2B03NHM_jpg.rf.83858967f439d09a63af664a3dc8d1a3.txt  \n",
            " extracting: train/labels/kleptomania-concept-a-man-in-the-grocery-store-stealing-food-and-put-it-in-the-pocket-2B03RAJ_jpg.rf.82e6d7999109000c7a90c16a2c9bcfbf.txt  \n",
            " extracting: train/labels/lifestyle-fashion-people-concept-full-body-young-woman-mo-model-posing-studio-92157599_jpg.rf.8256ed0bfd1af7487ab6d767f168ef94.txt  \n",
            " extracting: train/labels/man-as-a-shoplifter-in-the-supermarket-puts-food-in-his-jacket-pocket-WXWTWP_jpg.rf.188d39e239dc11dcef4c83ede00b2223.txt  \n",
            " extracting: train/labels/men_pavement_people_street_walk_walking_women-1491825_jpg.rf.88f8cd6bbf92f4451077748ec2876a45.txt  \n",
            " extracting: train/labels/midsection-man-hiding-jeans-jacket-600w-370067363_jpg.rf.98b0816bc0e6c1d04d7ee63719aa22dd.txt  \n",
            " extracting: train/labels/midsection-of-woman-stealing-capsule-packet-at-supermarket-KAKMJ5_jpg.rf.8b92dc7b34f37a658b7ebe650800c324.txt  \n",
            " extracting: train/labels/midsection-of-woman-stealing-lipstick-at-supermarket-KAKMHR_jpg.rf.ed1c79306d56f02bd873fa86eccf33cb.txt  \n",
            " extracting: train/labels/midsection-woman-stealing-capsule-packet-600w-360072032_jpg.rf.37394d046fd7d1092f4c4588520917dc.txt  \n",
            " extracting: train/labels/photo-1519255122284-c3acd66be602_jpg.rf.161f26049fb48be6f460485b71b7c430.txt  \n",
            " extracting: train/labels/picture25-07283931_jpg.rf.296179e0af753b9d3aecbd90e40ebfb5.txt  \n",
            " extracting: train/labels/retail-shoplifting-man-stealing-in-supermarket-theft-at-shop-2HGBJJP-1-_jpg.rf.efaff746b32e19e3f7d374ae16e29257.txt  \n",
            " extracting: train/labels/retail-shoplifting-woman-stealing-in-supermarket-theft-at-shop-2FN41H1_jpg.rf.91c87169648128e000e4ec559409121d.txt  \n",
            " extracting: train/labels/retail-shoplifting-woman-stealing-in-supermarket-theft-at-shop-2FRR62X_jpg.rf.debe887bdd8375f2c3742268ef8b0af3.txt  \n",
            " extracting: train/labels/shoplifter-stealing-bar-of-chocolate-in-a-supermarket-EDX75G_jpg.rf.1d2290fb6dd843d857e00f68d498b879.txt  \n",
            " extracting: train/labels/shoplifting-2ACACYC_jpg.rf.35da4dc275ffa8c517d122baee396bbb.txt  \n",
            " extracting: train/labels/stock-photo-a-female-in-the-act-of-shoplifting-or-stealing-puts-an-item-under-her-clothes-40679440_jpg.rf.1a851b41061f275553b156cb1ced0cce.txt  \n",
            " extracting: train/labels/stock-photo-a-man-and-woman-standing-together-talking-on-white-background-6980614_jpg.rf.e4f8cf3111ae117341c1d49811fb9a49.txt  \n",
            " extracting: train/labels/stock-photo-closeup-of-young-woman-is-stealing-red-jeans-in-store-shop-boutique-at-shopping-center-girl-is-1760790494_jpg.rf.c81ba831f3f93e70cf413a263742c0dc.txt  \n",
            " extracting: train/labels/stock-photo-closeup-of-young-woman-is-stealing-red-shoes-in-store-shop-boutique-at-shopping-center-girl-1760790476_jpg.rf.24aedcb081c2556ad8e78f3f9d4755d4.txt  \n",
            " extracting: train/labels/stock-photo-jeans-being-stolen-by-a-shoplifter-in-a-shop-169978247_jpg.rf.3c8ac655aaf6eb8d993efb570b6fb908.txt  \n",
            " extracting: train/labels/stock-photo-sneaky-shoplifting-cropped-shot-of-a-young-woman-slipping-stolen-goods-into-her-handbag-2146710091_jpg.rf.821aae786c9f6f7eba0aa17972664f00.txt  \n",
            " extracting: train/labels/stock-photo-woman-stealing-clothes-from-store-341522657_jpg.rf.7e7e8f1187fc53472c7a41e3488a4d3b.txt  \n",
            " extracting: train/labels/stock-photo-young-man-trying-to-steal-book-from-the-library-kleptomania-1306971037_jpg.rf.70db834974928d1cbb7b1adaf054eae9.txt  \n",
            " extracting: train/labels/stock-photo-young-woman-is-stealing-goods-in-a-shop-320228909_jpg.rf.0ab421b0464eb1beaac12fb4cd1a37ed.txt  \n",
            " extracting: train/labels/stock-photo-young-woman-is-stealing-goods-in-a-shop-321588290_jpg.rf.4d18df92d5806b925e2588d13d664d6e.txt  \n",
            " extracting: train/labels/stock-vector-pop-art-beautiful-woman-stealing-food-in-supermarket-shoplifting-kleptomania-concept-vector-765022036_jpg.rf.f1fad994c59ed50a23eea78da723ea5b.txt  \n",
            " extracting: train/labels/teenage-girl-shoplifting-in-department-store-model-re-enactment-bob-daemmrich-2AT9925_jpg.rf.dad28b30ea33a8cbe85ce415bb8bc1d1.txt  \n",
            " extracting: train/labels/teenage-girl-shoplifting-in-department-store-model-re-enactment-bob-daemmrich-2AT9927_jpg.rf.fbc68cb741e2dbd4c23fad04f81f16e7.txt  \n",
            " extracting: train/labels/teenage-girl-shoplifting-in-department-store-model-re-enactment-bob-daemmrich-2B7W4RX_jpg.rf.afe75dac88a2cb1f22ab2daf2dcecf29.txt  \n",
            " extracting: train/labels/teenage-girls-shoplifting-clothes-BN987N_jpg.rf.597b51d0348a1afe1ab6bc323287f215.txt  \n",
            " extracting: train/labels/ttxvn_london_covid19_jpg.rf.f111450347652e732cd1aa1fb5824585.txt  \n",
            " extracting: train/labels/two-men-gesturing-high-five-full-length-profile-shot-isolated-white-background-156693614_jpg.rf.399a4546c1103858223b7986b81224f5.txt  \n",
            " extracting: train/labels/two-men-gesturing-high-five-full-length-profile-shot-isolated-white-background-156693614_jpg.rf.b6ae75cfa0c7eea9e3c32ef6195cf332.txt  \n",
            " extracting: train/labels/unnamed_jpg.rf.20980e028af6f586b5669f5c6c848756.txt  \n",
            " extracting: train/labels/v1_15_jpg.rf.186180021b17115123b2ce00d8dccaf6.txt  \n",
            " extracting: train/labels/v1_15_jpg.rf.6d11fc5f190a370d6b27720d43ff4455.txt  \n",
            " extracting: train/labels/v1_16_jpg.rf.bcd34fa6e87d70dd1653dcce2cafc345.txt  \n",
            " extracting: train/labels/v1_29_jpg.rf.b625955144e020f14b6640ae24831aac.txt  \n",
            " extracting: train/labels/v1_35_jpg.rf.4e7997e9f472c01d4928d15d7b3b63ff.txt  \n",
            " extracting: train/labels/v1_35_jpg.rf.bd3c2d99e62c0a4b8fbc07c68c663bb6.txt  \n",
            " extracting: train/labels/v1_44_jpg.rf.a1a20033687792512f990abdeff5fb37.txt  \n",
            " extracting: train/labels/v1_44_jpg.rf.de9bbffa4f5f5e5de8ec5744465ce17c.txt  \n",
            " extracting: train/labels/v1_4_jpg.rf.23de3ffcaa8bab7b56c234eef7a825a5.txt  \n",
            " extracting: train/labels/v1_4_jpg.rf.7c2079a4d33ad497cf3a8c93b93b9baf.txt  \n",
            " extracting: train/labels/v1_51_jpg.rf.085cc90dcd724cf17795d587d4894822.txt  \n",
            " extracting: train/labels/v1_51_jpg.rf.447e4dfbda841a53ffa0b148f96de25f.txt  \n",
            " extracting: train/labels/v1_61_jpg.rf.3e3c1dca77c3f4a78da95c071ccf055e.txt  \n",
            " extracting: train/labels/v1_61_jpg.rf.59541f3b56bbb507df4b5bf402227d62.txt  \n",
            " extracting: train/labels/v1_62_jpg.rf.ed8c8e9258f76b32d7756a493c577ba2.txt  \n",
            " extracting: train/labels/v1_65_jpg.rf.86b8153ae484f57518fa51395aa47e30.txt  \n",
            " extracting: train/labels/v1_65_jpg.rf.906f733d40aaad502f16f9abc58fc1fb.txt  \n",
            " extracting: train/labels/v1_69_jpg.rf.94a6aa1ee71a8b5c16c4d00703c0aebc.txt  \n",
            " extracting: train/labels/v1_69_jpg.rf.997a6fb7e2a1a44fa2b209ef76ba13fa.txt  \n",
            " extracting: train/labels/v1_7_jpg.rf.750258248acc33137ebb934e6af0fa6c.txt  \n",
            " extracting: train/labels/v1_7_jpg.rf.f40559ac060a0a52f854774390c507a2.txt  \n",
            " extracting: train/labels/v1_9_jpg.rf.4095076b7f37a6c768b5df454a7292e1.txt  \n",
            " extracting: train/labels/v1_9_jpg.rf.e9e37eb9195cb6e0ff902916042bc916.txt  \n",
            " extracting: train/labels/v2_15_jpg.rf.116cefe01e2a28cca09d606c3668d078.txt  \n",
            " extracting: train/labels/v2_15_jpg.rf.49c418fb146afe6ec7f4c36714db6843.txt  \n",
            " extracting: train/labels/v2_23_jpg.rf.1086ad9bba09b9e6032060a9998cca9f.txt  \n",
            " extracting: train/labels/v2_23_jpg.rf.7dba97441c8e8ddee5d4bad9a0050d4c.txt  \n",
            " extracting: train/labels/v2_26_jpg.rf.2d4df91c1e6102964566b32fa7c68539.txt  \n",
            " extracting: train/labels/v2_30_jpg.rf.c6b4916b1124a54d89528df868eeed06.txt  \n",
            " extracting: train/labels/v2_31_jpg.rf.87842cf09efb2a08925f1ef03167028d.txt  \n",
            " extracting: train/labels/v2_31_jpg.rf.ae2c1953e1a70de4c40cd4443f4df757.txt  \n",
            " extracting: train/labels/v2_32_jpg.rf.d5e91f27bee75ca878ee10a6f043b4d0.txt  \n",
            " extracting: train/labels/v2_33_jpg.rf.d325c9e52021dbeb6c8b01067887c0a4.txt  \n",
            " extracting: train/labels/v2_34_jpg.rf.8a3f30ea3013b43ee76d332f126de2c1.txt  \n",
            " extracting: train/labels/v2_35_jpg.rf.3583f1557988a4e9737d2091128f7e10.txt  \n",
            " extracting: train/labels/v2_35_jpg.rf.35ce6febac90d7a2c7af436acb33c485.txt  \n",
            " extracting: train/labels/v2_36_jpg.rf.44a2f43726c088696b71ad267f74de1e.txt  \n",
            " extracting: train/labels/v2_36_jpg.rf.57a963c37ba2e0e13a136609233939cb.txt  \n",
            " extracting: train/labels/v2_37_jpg.rf.77144106833e68a23da39db54224c309.txt  \n",
            " extracting: train/labels/v2_39_jpg.rf.00e3ecc87d7a0fadcf2eff4daff68a4b.txt  \n",
            " extracting: train/labels/v2_39_jpg.rf.e1f43eca67c1412a3b16c0ccd40d9753.txt  \n",
            " extracting: train/labels/v2_3_jpg.rf.30580518a49c7ac46b2c2b796124e70d.txt  \n",
            " extracting: train/labels/v2_3_jpg.rf.6ce4478601bf040839fe0843b77fea64.txt  \n",
            " extracting: train/labels/v2_40_jpg.rf.a4b09449acd2b839fc8702fe2a6e1cc6.txt  \n",
            " extracting: train/labels/v2_41_jpg.rf.c217542af46d504654fb553010bee814.txt  \n",
            " extracting: train/labels/v2_42_jpg.rf.8eb508e509b8e485deb4b508eb542bb3.txt  \n",
            " extracting: train/labels/v2_43_jpg.rf.07a5602f00e20c3bc4c0dfa2ac3a8063.txt  \n",
            " extracting: train/labels/v2_44_jpg.rf.7c4a562413e404ab8f0507449d1c7fe5.txt  \n",
            " extracting: train/labels/v2_46_jpg.rf.495f103e6f3f42e7c569445ae5160648.txt  \n",
            " extracting: train/labels/v2_61_jpg.rf.f9e423f4d9fce37b214ea38af026e241.txt  \n",
            " extracting: train/labels/video1_000_jpg.rf.634390cf855f161bbd021c44c9743680.txt  \n",
            " extracting: train/labels/video1_001_jpg.rf.6138c70546b98b4470e8bb0f893ab4b2.txt  \n",
            " extracting: train/labels/video1_003_jpg.rf.07abee424efd2693de6ef2ea0f52480f.txt  \n",
            " extracting: train/labels/video1_004_jpg.rf.e2b056873d958554eaa05dde2ab46e68.txt  \n",
            " extracting: train/labels/video1_005_jpg.rf.79a414c5dde6d9233f1d3e4c2d15d68d.txt  \n",
            " extracting: train/labels/video1_006_jpg.rf.e71cc0f3fc4af39d14369bbdfe256af4.txt  \n",
            " extracting: train/labels/video1_008_jpg.rf.cad5f42e4b453ec86d9963503a227639.txt  \n",
            " extracting: train/labels/video1_009_jpg.rf.842da4dc230751f349390a737321c684.txt  \n",
            " extracting: train/labels/video1_011_jpg.rf.8d238b6f813f5c4069529b503ce1f43a.txt  \n",
            " extracting: train/labels/video1_013_jpg.rf.f43d26d8c21ad16b9acb06ef7bdb20f4.txt  \n",
            " extracting: train/labels/video1_014_jpg.rf.506a8c051e81a74dca62c32f9a425472.txt  \n",
            " extracting: train/labels/video1_016_jpg.rf.6c058bfa58c4ca49fea5850a587eeb1d.txt  \n",
            " extracting: train/labels/video1_017_jpg.rf.437a4bfb364ca424bf45d40dca2919a6.txt  \n",
            " extracting: train/labels/video1_018_jpg.rf.c3bb5a5476760936825a6a51efbdd37b.txt  \n",
            " extracting: train/labels/video1_019_jpg.rf.76b76d830e0c9f1ea3ab4086f20acd23.txt  \n",
            " extracting: train/labels/video1_020_jpg.rf.3f343885cd9b37e08f7d82b8df3f6395.txt  \n",
            " extracting: train/labels/video1_021_jpg.rf.4d8f6e2908e170c9b4acb404f53c0c76.txt  \n",
            " extracting: train/labels/video1_023_jpg.rf.9e3d0ea9888be841eea9f137a493dcf0.txt  \n",
            " extracting: train/labels/video1_025_jpg.rf.c199fa8dc98e181811fd3bff2fb3006e.txt  \n",
            " extracting: train/labels/video1_026_jpg.rf.1a443aa8c4acff161cc1a8118a8f75af.txt  \n",
            " extracting: train/labels/video1_027_jpg.rf.5b5cd730d1202bff8e321269a28cf4a0.txt  \n",
            " extracting: train/labels/video1_028_jpg.rf.fb6801147b859b12e01958f7ad16335d.txt  \n",
            " extracting: train/labels/video1_033_jpg.rf.3c28e2cb5fcc1d614cc6a294f4468a14.txt  \n",
            " extracting: train/labels/video1_036_jpg.rf.dbbd0bfaecacad6b492452d1b471982f.txt  \n",
            " extracting: train/labels/video1_038_jpg.rf.d0ede84aa64eeba424fca2f2a37a1335.txt  \n",
            " extracting: train/labels/video1_044_jpg.rf.a2e12e9f2a8789b71fb2ad93280aaaa1.txt  \n",
            " extracting: train/labels/video1_046_jpg.rf.f256f3e48cd154a4480bb77bb993d26c.txt  \n",
            " extracting: train/labels/video1_047_jpg.rf.175b196bb9b2c6a6cf42db8d897e8e9d.txt  \n",
            " extracting: train/labels/video1_049_jpg.rf.31797b774821182ffbcacef871a7b5fc.txt  \n",
            " extracting: train/labels/video1_050_jpg.rf.5aa1c041fb66dbe4697bca70ba84aaca.txt  \n",
            " extracting: train/labels/video1_053_jpg.rf.7a001a77878c173b0192154545ebb0e8.txt  \n",
            " extracting: train/labels/video1_054_jpg.rf.0b46f3b055b98997283bd4da58577c26.txt  \n",
            " extracting: train/labels/video1_055_jpg.rf.a4cf4d53c18ccc4a4023e35c2786a082.txt  \n",
            " extracting: train/labels/video1_056_jpg.rf.eb4be4ae2907247711e7edd6c5968873.txt  \n",
            " extracting: train/labels/video1_057_jpg.rf.b55042c362db82d69e12da7f770668b4.txt  \n",
            " extracting: train/labels/video1_058_jpg.rf.25f3f7565946f0c4f0f921a22d67aa7e.txt  \n",
            " extracting: train/labels/video1_060_jpg.rf.c71373b7d44539e6a2714be0e1d9197e.txt  \n",
            " extracting: train/labels/video1_062_jpg.rf.67b6d316ec30b094097fe16118c6e3c9.txt  \n",
            " extracting: train/labels/video1_063_jpg.rf.6d3f2cdb8cf4ec8e8f3f0815ce4ea7d5.txt  \n",
            " extracting: train/labels/video1_064_jpg.rf.4af62e18c743f5ad2161d8400c6156ba.txt  \n",
            " extracting: train/labels/video1_066_jpg.rf.7aac10504d70447f5d58a01534a3f1eb.txt  \n",
            " extracting: train/labels/video1_067_jpg.rf.6dfa180cad46e96b5ec7174d722351b1.txt  \n",
            " extracting: train/labels/video1_068_jpg.rf.6b903c2c98de359739fd57c08afa2111.txt  \n",
            " extracting: train/labels/video1_071_jpg.rf.3ab37485b12ef30afed7cf59b6085502.txt  \n",
            " extracting: train/labels/video1_072_jpg.rf.08fdefc62e8510a206836614c5e3285c.txt  \n",
            " extracting: train/labels/video1_074_jpg.rf.df5dc1f041683851bc5761c48f351e06.txt  \n",
            " extracting: train/labels/video1_075_jpg.rf.899a476b17f3c1e664b293264c731e62.txt  \n",
            " extracting: train/labels/video1_076_jpg.rf.c353a9e126a89e710e55e3f4776b2604.txt  \n",
            " extracting: train/labels/video1_077_jpg.rf.ae5a41439ffd27d5eb8588bc37d816f3.txt  \n",
            " extracting: train/labels/video1_078_jpg.rf.e3d09eca4b0160104bb1e509852e78ce.txt  \n",
            " extracting: train/labels/video1_079_jpg.rf.15b29a29f5d77e18ab0e03af00a6d323.txt  \n",
            " extracting: train/labels/video1_080_jpg.rf.d7f236076aca1b7657da0d4cb7a8be51.txt  \n",
            " extracting: train/labels/video1_081_jpg.rf.f666ed04a2e3fce3edd9e23afcb4ebaf.txt  \n",
            " extracting: train/labels/video1_082_jpg.rf.8461ce5fcbe27cfee2b901ebc47e9656.txt  \n",
            " extracting: train/labels/video1_083_jpg.rf.18aa6ef267a4ad3f3f5b14997b3850a1.txt  \n",
            " extracting: train/labels/video1_084_jpg.rf.c4881efccdf0be8e3070193c0e4a2f10.txt  \n",
            " extracting: train/labels/video1_085_jpg.rf.cbbf03513923e3f3bdac1829772d5104.txt  \n",
            " extracting: train/labels/video1_086_jpg.rf.3e827b2b896561aed2ef4f18d0aff88f.txt  \n",
            " extracting: train/labels/video1_088_jpg.rf.5f90576a7bab6e3bb10cf4c865d8c283.txt  \n",
            " extracting: train/labels/video1_089_jpg.rf.188b223af0af895988c18d79cbdfa4c0.txt  \n",
            " extracting: train/labels/video1_090_jpg.rf.85bd24c56f5603d0ddccaf3e8f9abdae.txt  \n",
            " extracting: train/labels/video1_091_jpg.rf.133de7cfb7bbd150349cb2b73c0d7b49.txt  \n",
            " extracting: train/labels/video1_094_jpg.rf.701898d693dffbf53d794bbd6a09c802.txt  \n",
            " extracting: train/labels/video1_095_jpg.rf.7df981c1a422f57394d2430ad5b48786.txt  \n",
            " extracting: train/labels/video1_098_jpg.rf.385890e940ab47484211f71e0ec88a88.txt  \n",
            " extracting: train/labels/video1_099_jpg.rf.6d7765057023313645cf75585a96c38f.txt  \n",
            " extracting: train/labels/video1_100_jpg.rf.edd2512f75ab892378448fb8eb83d8bd.txt  \n",
            " extracting: train/labels/video1_101_jpg.rf.10b8878fd5199b05045a6c33b8929d10.txt  \n",
            " extracting: train/labels/video2_001_jpg.rf.f367e3ae6d52ba1acf73260af65c8b4f.txt  \n",
            " extracting: train/labels/video2_002_jpg.rf.d5c45d58856662eb68a8b1e920fb6a61.txt  \n",
            " extracting: train/labels/video2_003_jpg.rf.77877d19d8ed0482b4013a1915872037.txt  \n",
            " extracting: train/labels/video2_004_jpg.rf.15856c42a1a39dd43a5183976205a05e.txt  \n",
            " extracting: train/labels/video2_005_jpg.rf.bc8225c13121f7da156661674cb86a65.txt  \n",
            " extracting: train/labels/video2_006_jpg.rf.0341ebefc2e685883be2b8e1930ebd75.txt  \n",
            " extracting: train/labels/video2_007_jpg.rf.5ae7261616ce2b1407183f714cf8a085.txt  \n",
            " extracting: train/labels/video2_008_jpg.rf.023b2f59b61f67aa39baba40d9a25bd8.txt  \n",
            " extracting: train/labels/video2_009_jpg.rf.0ca3d48da971a62628ce706a13c31fa5.txt  \n",
            " extracting: train/labels/video2_010_jpg.rf.5fa4586d6c14990dcba1e0326adda210.txt  \n",
            " extracting: train/labels/video2_011_jpg.rf.482ed662cc534ba49f42ad187ef258fa.txt  \n",
            " extracting: train/labels/video2_012_jpg.rf.ec150294c870a1a049ebfdaf5818b991.txt  \n",
            " extracting: train/labels/video2_014_jpg.rf.59fa24c61da79ca4e6a5349e6adcec00.txt  \n",
            " extracting: train/labels/video2_015_jpg.rf.765ed3cdb685dee08eca88c296d80a25.txt  \n",
            " extracting: train/labels/video2_016_jpg.rf.6e91648cd773f63e8096a269400ee947.txt  \n",
            " extracting: train/labels/video2_017_jpg.rf.39b39dabaeca87dfe74c0a2deca16b7e.txt  \n",
            " extracting: train/labels/video2_018_jpg.rf.0eaacbf16df145e206c4112b76e2ee64.txt  \n",
            " extracting: train/labels/video2_019_jpg.rf.5fcebd1c4a690dd5c1622d3c12e277bd.txt  \n",
            " extracting: train/labels/video2_020_jpg.rf.64c4d44e206eaf319f8558b52da85038.txt  \n",
            " extracting: train/labels/video2_021_jpg.rf.a058155bb3d9d9b2643cb9ca0a373952.txt  \n",
            " extracting: train/labels/video2_022_jpg.rf.c80e3aff7f9b10be9a6427e9571eb6ff.txt  \n",
            " extracting: train/labels/video2_023_jpg.rf.3d4a4e568120d9b79ac0f8632406a93a.txt  \n",
            " extracting: train/labels/video2_024_jpg.rf.b3bf5e87e81b156774044ddeda5c2115.txt  \n",
            " extracting: train/labels/video2_026_jpg.rf.57f6aa3142a1a21a9ddfe90f5166776b.txt  \n",
            " extracting: train/labels/video2_027_jpg.rf.f75fc120dd155453f15c9909090bbef5.txt  \n",
            " extracting: train/labels/video2_028_jpg.rf.7d88c4eb1deb1d60f8101451ac1eca0c.txt  \n",
            " extracting: train/labels/video2_030_jpg.rf.aa64415218d8c80babd620d4a31db599.txt  \n",
            " extracting: train/labels/video2_031_jpg.rf.9fef2b775ece95ee3acf17212268e1e4.txt  \n",
            " extracting: train/labels/video2_032_jpg.rf.1c825e3c9d079ec4f48f5512f6b88245.txt  \n",
            " extracting: train/labels/video2_033_jpg.rf.5b1e8ecbdd565793e7cba7c23682489a.txt  \n",
            " extracting: train/labels/video2_034_jpg.rf.93753f572941f3271bb94801db4ab213.txt  \n",
            " extracting: train/labels/video2_037_jpg.rf.2f9826f345e861431e5315dd0dc4d750.txt  \n",
            " extracting: train/labels/video2_038_jpg.rf.c23527c36ec8fc72157b93a981e1412b.txt  \n",
            " extracting: train/labels/video2_039_jpg.rf.defe5d16c50768fe16dc7554c6d88863.txt  \n",
            " extracting: train/labels/video2_040_jpg.rf.74a992cd0ca6c9e053e36ceec20cc763.txt  \n",
            " extracting: train/labels/video2_041_jpg.rf.3bbd613c11ce7641c9ed2e730a7baa7b.txt  \n",
            " extracting: train/labels/video2_042_jpg.rf.2e008d90084d1c7d8410dfa8f73f1b21.txt  \n",
            " extracting: train/labels/video2_043_jpg.rf.a4e230bc1380452f88f79ebbece8827b.txt  \n",
            " extracting: train/labels/video2_045_jpg.rf.98f7158fa1b20b50cbc954025184a5b5.txt  \n",
            " extracting: train/labels/video2_047_jpg.rf.8ac326e911e97682bc5096de654d9f03.txt  \n",
            " extracting: train/labels/video2_048_jpg.rf.455a5465051d0ea5f886a414da22af4d.txt  \n",
            " extracting: train/labels/video2_050_jpg.rf.7c712a24328942786f4ad33e689a5523.txt  \n",
            " extracting: train/labels/video2_051_jpg.rf.542581ab2cee455c0f4a62966fe7f2e4.txt  \n",
            " extracting: train/labels/video2_052_jpg.rf.990040d609237188b12359090ed3bd4c.txt  \n",
            " extracting: train/labels/video2_054_jpg.rf.d44770a2fd1b08b345afde99c473268a.txt  \n",
            " extracting: train/labels/video2_056_jpg.rf.8076482cb7b90dc4551bfa139edcaf66.txt  \n",
            " extracting: train/labels/video2_057_jpg.rf.67c2976a2f5ccd778dd4271f46f653b8.txt  \n",
            " extracting: train/labels/video2_059_jpg.rf.a8083bd3b5c862d8b18d253359cd54b8.txt  \n",
            " extracting: train/labels/video2_060_jpg.rf.d090a86fab1d7c9947681d4b39da417c.txt  \n",
            " extracting: train/labels/video2_061_jpg.rf.b94bc6a033023f6dea2dc7d2fd91bf2a.txt  \n",
            " extracting: train/labels/video2_062_jpg.rf.482d9f50292def1cce1b5a4bfec44264.txt  \n",
            " extracting: train/labels/video2_066_jpg.rf.fb349a851fbb1ad12831c0444f1b2852.txt  \n",
            " extracting: train/labels/video2_067_jpg.rf.6eb7cf17e49a5d1b99ee39a5ddeffd5a.txt  \n",
            " extracting: train/labels/video2_068_jpg.rf.ce9b9e1d39b99bb21440b09abe170e8b.txt  \n",
            " extracting: train/labels/video2_069_jpg.rf.e0ae67a5dbaf688bed491e67622ff31b.txt  \n",
            " extracting: train/labels/video2_070_jpg.rf.3b91ad6fa6bbfbe597892a37c1b96d6c.txt  \n",
            " extracting: train/labels/video2_072_jpg.rf.2821ea9822496590cbfca597b058c39c.txt  \n",
            " extracting: train/labels/video2_073_jpg.rf.d3a6f785a7bbdcb23c94e54479b533bb.txt  \n",
            " extracting: train/labels/video2_074_jpg.rf.121b5156ba34db4bfd42a1b84e382e23.txt  \n",
            " extracting: train/labels/video2_075_jpg.rf.198a586d1c415f68ef1d92e9f7cd7875.txt  \n",
            " extracting: train/labels/video2_076_jpg.rf.77f0d2515b487ca3185224a46846a24d.txt  \n",
            " extracting: train/labels/video2_077_jpg.rf.2aeac45cd5c67b2ee66c3f75ceb15422.txt  \n",
            " extracting: train/labels/video2_079_jpg.rf.1359a07178e3e733be283e0d59ec41b0.txt  \n",
            " extracting: train/labels/video2_081_jpg.rf.3d5474764cfc47d167a9ecfcf3e32413.txt  \n",
            " extracting: train/labels/video2_082_jpg.rf.58b6f42a48c951f12cf0ab50fb01a30c.txt  \n",
            " extracting: train/labels/video2_083_jpg.rf.427a2287430df8a695214ae83646edbd.txt  \n",
            " extracting: train/labels/video2_084_jpg.rf.e9adbc093d2046432c34fb8d9a8d4819.txt  \n",
            " extracting: train/labels/video2_085_jpg.rf.d3e3340d244fe2e5d94a96aaed929744.txt  \n",
            " extracting: train/labels/video2_087_jpg.rf.35e67633dfcd5437d5fd3010e0d784a6.txt  \n",
            " extracting: train/labels/video2_088_jpg.rf.b111eefdd2359d6196997010ba5e7837.txt  \n",
            " extracting: train/labels/video2_089_jpg.rf.ae53c9e03c0f0636fa5314b7a811dcbd.txt  \n",
            " extracting: train/labels/video2_090_jpg.rf.da3db253156a74d95d413f456bc71283.txt  \n",
            " extracting: train/labels/video2_091_jpg.rf.57b95ff2dbd360b3e000006c9cd627ae.txt  \n",
            " extracting: train/labels/video2_092_jpg.rf.afdc9b75fc6d3ea26a5a1ff9d24a8aaa.txt  \n",
            " extracting: train/labels/video2_093_jpg.rf.8ba57fc40650abd569b278cc443af8a0.txt  \n",
            " extracting: train/labels/video2_094_jpg.rf.e33b5e15b0c2cea7fe80f8eae2af1897.txt  \n",
            " extracting: train/labels/video2_095_jpg.rf.1e015e2f521c23887fd043240b9555d3.txt  \n",
            " extracting: train/labels/video2_096_jpg.rf.712266123d6487bacd2b6680acffb55d.txt  \n",
            " extracting: train/labels/video2_097_jpg.rf.157898e3449cfbee63d96a90e44a96da.txt  \n",
            " extracting: train/labels/video2_098_jpg.rf.962a0c45aec5a516c9e02cf8ec6244a3.txt  \n",
            " extracting: train/labels/video2_099_jpg.rf.8d50570f0dea13a9b0d723c902035f69.txt  \n",
            " extracting: train/labels/video2_100_jpg.rf.1e46383f5c7caa0ed077ca4c6327f563.txt  \n",
            " extracting: train/labels/video3_039_jpg.rf.ce0a286d270f88b1401abc8bfbbd91c9.txt  \n",
            " extracting: train/labels/video3_040_jpg.rf.e2f95a61619f1dd917fd00c41351720f.txt  \n",
            " extracting: train/labels/video3_044_jpg.rf.6e7782ec2cf0a6a009450d211864d877.txt  \n",
            " extracting: train/labels/video3_045_jpg.rf.02c39290f330ae7a93defbee2d9dd0c6.txt  \n",
            " extracting: train/labels/video3_046_jpg.rf.2cc33f07fb92152ad95b51925cfe9099.txt  \n",
            " extracting: train/labels/video3_047_jpg.rf.64fc01876410b16433b22806ea2ab777.txt  \n",
            " extracting: train/labels/video3_049_jpg.rf.22b53ea4d39aa6585c26cf6dc1e38c65.txt  \n",
            " extracting: train/labels/video3_050_jpg.rf.1e1bbc9668b54d3fdeb0d70819eac78d.txt  \n",
            " extracting: train/labels/video3_051_jpg.rf.ffc627db198bc60f7fcb5361aebbd501.txt  \n",
            " extracting: train/labels/video3_052_jpg.rf.0c3fb970be72e232b34dfce318a10125.txt  \n",
            " extracting: train/labels/video3_053_jpg.rf.d6198230c8860c1c1b262ece961109a8.txt  \n",
            " extracting: train/labels/video3_054_jpg.rf.5d90de7f6cc22657873389c10cb3498f.txt  \n",
            " extracting: train/labels/video3_055_jpg.rf.33db3d43e8d8dbf0f7555c37930befcc.txt  \n",
            " extracting: train/labels/video3_056_jpg.rf.a827debcf7b9aa53089bd767d20ea62f.txt  \n",
            " extracting: train/labels/video3_057_jpg.rf.7f074a42ce3f0e9897186bd981e57de6.txt  \n",
            " extracting: train/labels/video3_086_jpg.rf.8773132eb44cce753a3b8e9646b7bbcf.txt  \n",
            " extracting: train/labels/video3_091_jpg.rf.d7a653e4aabaea3b98ce15fbdc424972.txt  \n",
            " extracting: train/labels/video3_092_jpg.rf.e6c62b6bfefbf4cd320811a2c029b26b.txt  \n",
            " extracting: train/labels/video3_095_jpg.rf.32777aabd44356de39bfea00de5fc68f.txt  \n",
            " extracting: train/labels/video4_002_jpg.rf.d8681ba96dc826b69cbe3f73365bd9ed.txt  \n",
            " extracting: train/labels/video4_003_jpg.rf.b6b2299897103a09111d05da1ee2c068.txt  \n",
            " extracting: train/labels/video4_004_jpg.rf.2c260db480471b6e9f9dcef3332a3006.txt  \n",
            " extracting: train/labels/video4_005_jpg.rf.2112dfd918139244d952e231b4b748b3.txt  \n",
            " extracting: train/labels/video4_008_jpg.rf.426108a72c959b7949e114a93fa45dcb.txt  \n",
            " extracting: train/labels/video4_009_jpg.rf.437a5c3cd820edcf34cf0c23cef115a0.txt  \n",
            " extracting: train/labels/video4_011_jpg.rf.4c589c59346bca83b0e1b16bb2a5c746.txt  \n",
            " extracting: train/labels/video4_014_jpg.rf.6038513788bfe880fb2bb5d98bbbef99.txt  \n",
            " extracting: train/labels/video4_015_jpg.rf.91fed918fcb862ca3789ceb079ccebdb.txt  \n",
            " extracting: train/labels/video4_019_jpg.rf.77108af2f26597e31bf8a3c6efed690d.txt  \n",
            " extracting: train/labels/video4_027_jpg.rf.22c8c958eb961c58e0addedb00f6d6f7.txt  \n",
            " extracting: train/labels/video4_028_jpg.rf.70cdea74f455295ea63893d8ce5e5d24.txt  \n",
            " extracting: train/labels/video4_029_jpg.rf.9d84200fb7f9cca0accab5c45831c60d.txt  \n",
            " extracting: train/labels/video4_033_jpg.rf.0a5412b81361f12a580023db4c8da54c.txt  \n",
            " extracting: train/labels/video4_036_jpg.rf.736d63f667a0b58125d1642f8b114f2a.txt  \n",
            " extracting: train/labels/video4_039_jpg.rf.7b157335b606bca43a80226cd5621600.txt  \n",
            " extracting: train/labels/video4_042_jpg.rf.2b1ddaf659ac083775fc44ac9af27e99.txt  \n",
            " extracting: train/labels/video4_044_jpg.rf.edc9c17ac5447a3609dd7640a2056cf0.txt  \n",
            " extracting: train/labels/video4_047_jpg.rf.f60ced55511cd6d06218de8dc1f31845.txt  \n",
            " extracting: train/labels/video4_055_jpg.rf.fbd9cb5b40cbff495fe13d14140164ba.txt  \n",
            " extracting: train/labels/woman-hides-strawberries-in-her-handbag-while-shoplifting-in-the-supermarket-WXWWKP-1-_jpg.rf.1c5e21b339fe179fc4b900e3d25f7ced.txt  \n",
            " extracting: train/labels/woman-is-stealing-bottle-of-wine-and-hiding-it-in-handbag-in-supermarket-2D9DP8X_jpg.rf.4790fcda3ca74a6095e7ffd5be08dfa1.txt  \n",
            " extracting: train/labels/woman-shoplifting-in-a-store-RJ0NT9_jpg.rf.5b829a8fca383907c25cbc1e2e162432.txt  \n",
            " extracting: train/labels/woman-shoplifting-in-a-store-RJ0T4H_jpg.rf.18c922e54d239028b01d741d1b5b2dc6.txt  \n",
            " extracting: train/labels/woman-stealing-compact-makeup-powder-in-retail-store-shoplifting-theft-crime-2GNCM91_jpg.rf.cfbef43ba63c534a8417620880b501b9.txt  \n",
            " extracting: train/labels/young-casual-man-full-body-260nw-68570401_jpg.rf.219dcd3d22a2d455eb473983f554cfc4.txt  \n",
            " extracting: train/labels/young-casual-man-full-body-260nw-68570401_jpg.rf.b7f92079a59003002e39cdb6c499e7b7.txt  \n",
            "   creating: valid/\n",
            "   creating: valid/images/\n",
            " extracting: valid/images/1-16668_human-walking-side-view-standing-hd-png-download_png_jpg.rf.92ee6b03f1cd8c4880b73145b4c79fdc.jpg  \n",
            " extracting: valid/images/1-1_2_jpg.rf.69834d5736d55a6fc226a215d2f07651.jpg  \n",
            " extracting: valid/images/1-1_7_jpg.rf.2e5fa624b3af901cda5b4e74abd23892.jpg  \n",
            " extracting: valid/images/1-1_8_jpg.rf.859af27cdfb9ae6e9212440828ad2d7e.jpg  \n",
            " extracting: valid/images/1-2-_jpg.rf.542b1fa43326814223a77a72eeaa6a32.jpg  \n",
            " extracting: valid/images/1-2_15_jpg.rf.7d0607b0babcb427922a92e57d358448.jpg  \n",
            " extracting: valid/images/1-2_19_jpg.rf.da420da1fc4733c579786db33a845dbb.jpg  \n",
            " extracting: valid/images/1-2_2_jpg.rf.43893ef4e42e4f2d19fc65f565163855.jpg  \n",
            " extracting: valid/images/1-2_4_jpg.rf.d3902bb60c0466c4edb35c2d2303392f.jpg  \n",
            " extracting: valid/images/1-2_6_jpg.rf.65df223cd2efd960d348920e9bfbdfac.jpg  \n",
            " extracting: valid/images/1-2_7_jpg.rf.5d84c2d1ee5ebc89c4c42f82bacb2f60.jpg  \n",
            " extracting: valid/images/1-2_8_jpg.rf.663e5c0ba0059049f7cfb00f6477181b.jpg  \n",
            " extracting: valid/images/1-2_9_jpg.rf.d0a5a5f0807cd2b1c47a3c0433bc13cf.jpg  \n",
            " extracting: valid/images/13_jpg.rf.c4e14371bd84ada9d115bf57d61419bf.jpg  \n",
            " extracting: valid/images/13kamera-mamalar-Trim_mp4-12_jpg.rf.262e1adda97b57c117cc31234d7e6a1f.jpg  \n",
            " extracting: valid/images/13kamera-mamalar-Trim_mp4-14_jpg.rf.d88955c8f3f7b7460b6d9db3c159f37d.jpg  \n",
            " extracting: valid/images/13kamera-mamalar-Trim_mp4-19_jpg.rf.db98569adeb0e6b1c001588bce2fa2f4.jpg  \n",
            " extracting: valid/images/16A_jpg.rf.1134fdf22fb432d3a2e62273da66cddd.jpg  \n",
            " extracting: valid/images/1_mp4-11_jpg.rf.0dbaf2c85366d9ed15cd2f4d680f407e.jpg  \n",
            " extracting: valid/images/1_mp4-2_jpg.rf.c4190142f26673b353ff0012204ffc8e.jpg  \n",
            " extracting: valid/images/2-1_10_jpg.rf.21a7cea34e106d94a02166a71c4e3aaa.jpg  \n",
            " extracting: valid/images/2-1_2_jpg.rf.99498f745669471a746e49551672b995.jpg  \n",
            " extracting: valid/images/2-1_4_jpg.rf.76a95efd12b8b7788b4fc5fb23aea3fc.jpg  \n",
            " extracting: valid/images/2-1_8_jpg.rf.aefd3d2affb36e1ade5df43278d1e2d1.jpg  \n",
            " extracting: valid/images/2-1_9_jpg.rf.11b2a5973471091861f6727a3f9dc79a.jpg  \n",
            " extracting: valid/images/2-2_12_jpg.rf.b1db26e29776119daa0104cdc705a885.jpg  \n",
            " extracting: valid/images/2-2_16_jpg.rf.6d3a83732f4fb706710474465f1ccf4b.jpg  \n",
            " extracting: valid/images/2-2_18_jpg.rf.4a4c839e5db4c97e301320fbbe95640f.jpg  \n",
            " extracting: valid/images/2-2_20_jpg.rf.1e4f4913ce012a70ffeac679a403baeb.jpg  \n",
            " extracting: valid/images/2-2_2_jpg.rf.15312846dd88e822b2aad969724f6e67.jpg  \n",
            " extracting: valid/images/2-2_7_jpg.rf.843d21655a7345d1e696c213689b3c07.jpg  \n",
            " extracting: valid/images/2-2_8_jpg.rf.d6a4100f6cc3c723be345eb6544f868a.jpg  \n",
            " extracting: valid/images/21858508-group-of-real-people-casual-diversity-isolated-on-white-background_jpg.rf.0dca10222907931f856ef31f356c9dfb.jpg  \n",
            " extracting: valid/images/27144-0_png.rf.c2ecaeb896b3d186e4c56551d1a2326a.jpg  \n",
            " extracting: valid/images/27152-0_png.rf.cf67e03e44ede4861a3e77ad3cc07fe1.jpg  \n",
            " extracting: valid/images/27154-0_png.rf.367f1648ffe2b788377939b4bafa7ce7.jpg  \n",
            " extracting: valid/images/27202-0_png.rf.f2c3dfe2174ad710ce709b589f478bca.jpg  \n",
            " extracting: valid/images/27207-0_png.rf.f5b1853f894435ba8ad990553da46127.jpg  \n",
            " extracting: valid/images/27308-0_png.rf.a6b5e9c31acb6263c71a037e8b8e6250.jpg  \n",
            " extracting: valid/images/27326-0_png.rf.6aec392b1a03ccb81fa211018e7a3b4e.jpg  \n",
            " extracting: valid/images/27328-0_png.rf.0a5e551a993d8306bc9043e64ccc3e84.jpg  \n",
            " extracting: valid/images/27335-0_png.rf.ffa1b88947c3864945e64a2f4713dfd3.jpg  \n",
            " extracting: valid/images/27336-0_png.rf.ccc0ead8002b15baf613789fc5551125.jpg  \n",
            " extracting: valid/images/27342-0_png.rf.788ac6c71bd8cf4c3f27ab7dbdb9c481.jpg  \n",
            " extracting: valid/images/27368-0_png.rf.34b9d6c2eddbd838f7c49ec8e22b409e.jpg  \n",
            " extracting: valid/images/27506-0_png.rf.03b834bf3a5ebac61c661693d1bcffae.jpg  \n",
            " extracting: valid/images/27533-0_png.rf.ad7341f56953cbbea90e4a49a68c4cdc.jpg  \n",
            " extracting: valid/images/27539-0_png.rf.65545691c36e67c9c8b9235ebe707a9e.jpg  \n",
            " extracting: valid/images/27541-0_png.rf.8862bd1f9f25d67aa48e9f5150ebf7bd.jpg  \n",
            " extracting: valid/images/27543-0_png.rf.b66d02e8c9790e883024cd64a3985ec3.jpg  \n",
            " extracting: valid/images/27545-0_png.rf.ed8c95fcd58c62e1211d04a089c5f059.jpg  \n",
            " extracting: valid/images/27685-0_png.rf.b41c1a9c435d4ba7929e4754fee7c7f0.jpg  \n",
            " extracting: valid/images/27743-0_png.rf.65b493a59d9747417f1558e0fdb12e7d.jpg  \n",
            " extracting: valid/images/28373-0_png.rf.3638f8c66ee5e917eef2b346888e7435.jpg  \n",
            " extracting: valid/images/28379-0_png.rf.9a472170db617b6fb7ba915cf57b918b.jpg  \n",
            " extracting: valid/images/28401-0_png.rf.7b6e9ccff43c91d2fdb00a3f3eba1b70.jpg  \n",
            " extracting: valid/images/28409-0_png.rf.b619601f2ed53fb033983ecae933c318.jpg  \n",
            " extracting: valid/images/28451-0_png.rf.d76cf258741a26d0bc063e2348b3daa9.jpg  \n",
            " extracting: valid/images/28516-0_png.rf.2ad287e89fd14e2e6e798bb9d8960164.jpg  \n",
            " extracting: valid/images/28521-0_png.rf.d53b1b6165b859c4a0e269ab4ffd3757.jpg  \n",
            " extracting: valid/images/28530-0_png.rf.5d56457e9f65b0dcb23a9034e47e15dc.jpg  \n",
            " extracting: valid/images/28595-0_png.rf.5e383dee4d405b529e3604e80014b6b9.jpg  \n",
            " extracting: valid/images/28598-0_png.rf.410a7831d78558c3ea82b0ffbadb85ef.jpg  \n",
            " extracting: valid/images/28601-0_png.rf.9ba6c7dcd34d6760e8021b83c8bd47a1.jpg  \n",
            " extracting: valid/images/28612-0_png.rf.820257e658c5d18edd3dd25ffc58028f.jpg  \n",
            " extracting: valid/images/28615-0_png.rf.3d6bae3596a2099b1af3f83a0d14b158.jpg  \n",
            " extracting: valid/images/28618-0_png.rf.0b6b39686adc9f61ed577ccacd01fb96.jpg  \n",
            " extracting: valid/images/28619-0_png.rf.5f4791720def1e2f821b425c40105d96.jpg  \n",
            " extracting: valid/images/29769-0_png.rf.c5c88596fb4a61dd6ced050b657da76b.jpg  \n",
            " extracting: valid/images/29804-0_png.rf.620d624f59c9fa6c9f27e089b9f98b16.jpg  \n",
            " extracting: valid/images/29848-0_png.rf.b5cfde004d4f3278079c499e8e039f4b.jpg  \n",
            " extracting: valid/images/29865-0_png.rf.c99d2e39d832d24d18452bc1abba5c9e.jpg  \n",
            " extracting: valid/images/29871-0_png.rf.00a7f35c7a54ebdd2c2beaed3ea8f661.jpg  \n",
            " extracting: valid/images/29913-0_png.rf.2964d5626748b7e0cb0b928318693978.jpg  \n",
            " extracting: valid/images/29926-0_png.rf.cdc40f1cd7c1e8b0600add739de86da6.jpg  \n",
            " extracting: valid/images/29959-0_png.rf.3a12709bd59ddec32feca43be4ca0da1.jpg  \n",
            " extracting: valid/images/29962-0_png.rf.48442ced78bdfcf194ffbd7194348ab9.jpg  \n",
            " extracting: valid/images/29967-0_png.rf.a71bab7ba6dca051631f37754439d7e1.jpg  \n",
            " extracting: valid/images/29973-0_png.rf.1f66697c7b0b1debfbd7f237f346cc9a.jpg  \n",
            " extracting: valid/images/29986-0_png.rf.631e51af2590e646bf883a28ea68d5ec.jpg  \n",
            " extracting: valid/images/3-1_13_jpg.rf.4399f68c9de6964e3789baede58b47d6.jpg  \n",
            " extracting: valid/images/3-1_15_jpg.rf.d42c96f7c5b01b6f124ddf18df667164.jpg  \n",
            " extracting: valid/images/3-1_18_jpg.rf.fbefe81d765f0b989907400ffd6d4118.jpg  \n",
            " extracting: valid/images/3-1_27_jpg.rf.1d53ec2fd1c8fc89f6c673c73f1263e3.jpg  \n",
            " extracting: valid/images/3-1_28_jpg.rf.e4070d551aabafa0b52246835187d856.jpg  \n",
            " extracting: valid/images/3-1_30_jpg.rf.94110cc7636201b19b82b6e70688e071.jpg  \n",
            " extracting: valid/images/3-1_31_jpg.rf.79cf4342aeefb5d8f98303f3bf3ba824.jpg  \n",
            " extracting: valid/images/3-1_3_jpg.rf.655a317aebb0c2055fde12e8ae94f591.jpg  \n",
            " extracting: valid/images/3-1_9_jpg.rf.931517765ec854069cea3518125dd512.jpg  \n",
            " extracting: valid/images/3-2_10_jpg.rf.6cceb114f4b3acf3c3f2bc9d4dc0449f.jpg  \n",
            " extracting: valid/images/3-2_15_jpg.rf.3d318fe4e4aa3c69a9ad299ca4b20ef5.jpg  \n",
            " extracting: valid/images/3-2_20_jpg.rf.2cfc2249b61ef9dc58cd899aa9452921.jpg  \n",
            " extracting: valid/images/3-2_21_jpg.rf.cc10e4c29158b98c451e5a7584af76e4.jpg  \n",
            " extracting: valid/images/3-2_3_jpg.rf.05b3b4341e3bfb1ae497a475687ab80b.jpg  \n",
            " extracting: valid/images/3-2_7_jpg.rf.2392744a15676bf4987ec93d2fdde500.jpg  \n",
            " extracting: valid/images/3-2_9_jpg.rf.f32a2f11b71379d17898e9e6de314c44.jpg  \n",
            " extracting: valid/images/30021-0_png.rf.c041f1e4a5dc04440090f3400b0bbd4f.jpg  \n",
            " extracting: valid/images/30027-0_png.rf.f232ac48183a9b01193789b545f9bc6c.jpg  \n",
            " extracting: valid/images/30035-0_png.rf.6a311a6dc1653cf62e094610731a09e9.jpg  \n",
            " extracting: valid/images/360_F_262210971_GhUPB6ryelh5qJ9K6ZBAlqbLCVC1Zraf_jpg.rf.4ff2c670898226118407e2434db09670.jpg  \n",
            " extracting: valid/images/4-1_13_jpg.rf.a305111beb03b74c1649bc9937272fac.jpg  \n",
            " extracting: valid/images/4-1_14_jpg.rf.dba2e13b48f21cccd482cfd8554f0374.jpg  \n",
            " extracting: valid/images/4-1_16_jpg.rf.450559bce2b27de65fbb0665269c527c.jpg  \n",
            " extracting: valid/images/4-1_17_jpg.rf.c305aed678bffd4a63762d5725055d98.jpg  \n",
            " extracting: valid/images/4-1_18_jpg.rf.13886494c9fe6bd9201faacebf3e42cd.jpg  \n",
            " extracting: valid/images/4-1_1_jpg.rf.00d10eeb51278fde5758efd2f1779eb3.jpg  \n",
            " extracting: valid/images/4-1_20_jpg.rf.b2b50d72afb106654f74990b89280898.jpg  \n",
            " extracting: valid/images/4-1_22_jpg.rf.af619c6e644b00bcc261436c8f6b850c.jpg  \n",
            " extracting: valid/images/4-1_30_jpg.rf.3ab4b42509f56bfbd3539cf28add6022.jpg  \n",
            " extracting: valid/images/4-1_33_jpg.rf.c1a637e031ba2066e372da70a2c758ef.jpg  \n",
            " extracting: valid/images/4-1_5_jpg.rf.d3b107c1cb0a986ccc2cb333acae86ce.jpg  \n",
            " extracting: valid/images/4-1_6_jpg.rf.1c51ab7f68b7c6d2dadbeff40b2e6b70.jpg  \n",
            " extracting: valid/images/4-2_11_jpg.rf.6884631f5159ab728452ea5c591f4aaf.jpg  \n",
            " extracting: valid/images/4-2_11_jpg.rf.8b12c14a9f14ac51f9547ce55946dc32.jpg  \n",
            " extracting: valid/images/4-2_12_jpg.rf.e5d746891eadc29fda15da0797cea90c.jpg  \n",
            " extracting: valid/images/4-2_18_jpg.rf.78964b6bf88d78a9d0395ec78b9b1f2f.jpg  \n",
            " extracting: valid/images/4-2_23_jpg.rf.5115ac41c023c8b7c524776b1d58339c.jpg  \n",
            " extracting: valid/images/4-2_24_jpg.rf.29bfe8587ebc3925cceebc5716df2dee.jpg  \n",
            " extracting: valid/images/4-2_24_jpg.rf.68be5f0e8a4c598607fe146db36194d4.jpg  \n",
            " extracting: valid/images/4-2_27_jpg.rf.918264ff1d41d299875626fc6dabc1d3.jpg  \n",
            " extracting: valid/images/4-2_31_jpg.rf.bcbdc1a3d7b727a132b66c6dd7014523.jpg  \n",
            " extracting: valid/images/4-2_31_jpg.rf.da434d188a8f234349d3e19f2b876046.jpg  \n",
            " extracting: valid/images/4-2_8_jpg.rf.d503047cdb3d665f1f92418670d77cac.jpg  \n",
            " extracting: valid/images/46645-0_png.rf.9b4bcc37cb57e259df02a66149d82d06.jpg  \n",
            " extracting: valid/images/46672-0_png.rf.c7d216dd5d81e37b8b871321e34e1289.jpg  \n",
            " extracting: valid/images/46680-0_png.rf.0bd9cbd263150452dd02e28ca22d5653.jpg  \n",
            " extracting: valid/images/46688-0_png.rf.c77d73d1d84104f3f094d01cac9dd3cf.jpg  \n",
            " extracting: valid/images/46696-0_png.rf.fe55fcc4439235bdc73a379d1f3f1d0e.jpg  \n",
            " extracting: valid/images/46768-0_png.rf.49ddb643ae7aad51e996c14b000c0ab1.jpg  \n",
            " extracting: valid/images/46941-0_png.rf.d540606b7a96c29596c350e4f20d0162.jpg  \n",
            " extracting: valid/images/50870-0_png.rf.1733005329447c338d3d56beb14e2112.jpg  \n",
            " extracting: valid/images/50871-0_png.rf.f796a4d9e0456dae8927b022f106a4f1.jpg  \n",
            " extracting: valid/images/51014-0_png.rf.e8313eb3ebee8b98860181e10bb0f520.jpg  \n",
            " extracting: valid/images/51030-0_png.rf.41132b6be258b82383285656fc8ba145.jpg  \n",
            " extracting: valid/images/51037-0_png.rf.c074889ed2956bdacc4a3fe96a7e9613.jpg  \n",
            " extracting: valid/images/51200-0_png.rf.340a199488671961aa596020862469d9.jpg  \n",
            " extracting: valid/images/51205-0_png.rf.6a2d70995b1c9194dd0839f8815815a2.jpg  \n",
            " extracting: valid/images/51209-0_png.rf.5e20d544218d3c774452e2c08d1ebd94.jpg  \n",
            " extracting: valid/images/51465-0_png.rf.a79c9902fcdfbd4e763237b65cd78da5.jpg  \n",
            " extracting: valid/images/51477-0_png.rf.efc435ea112a1805785a2b84d2ccd2aa.jpg  \n",
            " extracting: valid/images/678fc132f9bb6e2b32cbafc417780304_jpg.rf.9f0a43c2a6f8db075ca7cdf19517be89.jpg  \n",
            " extracting: valid/images/75-751594_man-walking-old-man-cutout-back-old-people_jpg.rf.7ae5b764dfb9b349ea289ebe8689cdd6.jpg  \n",
            " extracting: valid/images/9141-0_png.rf.ebec3fac31997f3a59a1249d91cda297.jpg  \n",
            " extracting: valid/images/9296-0_png.rf.fc5b63453b4baa3c3b518b18c706dfe4.jpg  \n",
            " extracting: valid/images/9296_png.rf.5c7fadce99b11ae48e9edf01619e4442.jpg  \n",
            " extracting: valid/images/9308_png.rf.5df6f131cd9e31a31491ff593de0e792.jpg  \n",
            " extracting: valid/images/9309_png.rf.d9a2b41da51b14cb8e1fe1ac9141ba40.jpg  \n",
            " extracting: valid/images/9316_png.rf.a389cd796aad99d3d5169d8316be8d17.jpg  \n",
            " extracting: valid/images/9317_png.rf.98de41758e881df0017834f9cdb9e06f.jpg  \n",
            " extracting: valid/images/9321_png.rf.a6e016c3dbd8353d54cc104eef966723.jpg  \n",
            " extracting: valid/images/9kamera-biskvi-ikolata-Trim_mp4-100_jpg.rf.21c4004e96b5d98a423df02d7af318f5.jpg  \n",
            " extracting: valid/images/9kamera-biskvi-ikolata-Trim_mp4-106_jpg.rf.d2a4be030093279d948fdd219b08a4a5.jpg  \n",
            " extracting: valid/images/9kamera-biskvi-ikolata-Trim_mp4-46_jpg.rf.fef6e33519473a1dee5342468f548f1a.jpg  \n",
            " extracting: valid/images/9kamera-biskvi-ikolata-Trim_mp4-58_jpg.rf.04c0b7309e01b010aeda8fb797e05b8d.jpg  \n",
            " extracting: valid/images/DSC_1068_jpg.rf.fc765119a86abe789b410f074714df7e.jpg  \n",
            " extracting: valid/images/GENZ_jpg.rf.5c2f4c3c35986f7fb17f646fa66a3180.jpg  \n",
            " extracting: valid/images/c89c4477-3-1631438_jpg.rf.8f4aefb7c52e95d959c3dbd52002af90.jpg  \n",
            " extracting: valid/images/close-up-of-unrecognizable-woman-in-stripped-skirt-hiding-apple-in-pocket-while-stealing-it-in-food-store-R0MP53_jpg.rf.89ecbaa9846e0c78cf27a87898d008fd.jpg  \n",
            " extracting: valid/images/close-up-the-consumer-thiefs-hands-putting-the-new-gadget-in-the-pocket-in-the-store-2AETMAX_jpg.rf.98ff8bb79b872f303202d3316388f7bb.jpg  \n",
            " extracting: valid/images/d2drt0_jpg.rf.f9343def29197045c8dc13b889fe1134.jpg  \n",
            " extracting: valid/images/e7cf8a8a344674bcc1145dec1a90ab6d_jpg.rf.893c29ae5cf99b97ec0c55f65af96e91.jpg  \n",
            " extracting: valid/images/gettyimages-129311948-612x612_jpg.rf.9a86191153db755eedbfdd88cdf3c37b.jpg  \n",
            " extracting: valid/images/image_1011_jpg.rf.6424a72be727f69a06f72f3c5cebfb7b.jpg  \n",
            " extracting: valid/images/image_1011_jpg.rf.a500dc48a8a0b7b993d59b262e577f34.jpg  \n",
            " extracting: valid/images/image_1015_jpg.rf.4de4e9601787a0c6eefdf81849dda27f.jpg  \n",
            " extracting: valid/images/image_1018_jpg.rf.06ee6c794f07a621ad513277951c531a.jpg  \n",
            " extracting: valid/images/image_1019_jpg.rf.4974f899a578bb671157252c958db1b3.jpg  \n",
            " extracting: valid/images/image_1021_jpg.rf.9c717a7a6fee2d3a0642aef21f506e5e.jpg  \n",
            " extracting: valid/images/image_1022_jpg.rf.56ab5b70955b864b72a3ffa0ab78ccb1.jpg  \n",
            " extracting: valid/images/image_1024_jpg.rf.e95472aae0a738c0b901892558d4c314.jpg  \n",
            " extracting: valid/images/image_1025_jpg.rf.396b5f6f3bb7fd225f1425c892264dd9.jpg  \n",
            " extracting: valid/images/image_1026_jpg.rf.1d0b8766a1a2ec853beed6bd9cd0fa77.jpg  \n",
            " extracting: valid/images/image_102_jpg.rf.38d9ca2566d972e3e1a824e121e5e14a.jpg  \n",
            " extracting: valid/images/image_1038_jpg.rf.882ee9e6182f999306e3ddb5b35f499a.jpg  \n",
            " extracting: valid/images/image_1041_jpg.rf.a09223163aa01ee5980ea9055eec0a4c.jpg  \n",
            " extracting: valid/images/image_1044_jpg.rf.bce08113e8304a2fad6bd9d426a3aeb9.jpg  \n",
            " extracting: valid/images/image_1052_jpg.rf.46edb5bb20d46ed11a91747897ad98de.jpg  \n",
            " extracting: valid/images/image_1053_jpg.rf.165400c169f7f51f236e43dc402af9aa.jpg  \n",
            " extracting: valid/images/image_1058_jpg.rf.a4f7644a4377ae175b035863fa9b81ac.jpg  \n",
            " extracting: valid/images/image_1060_jpg.rf.3c98265e1736c3b6bc3622887d7bfa83.jpg  \n",
            " extracting: valid/images/image_1061_jpg.rf.daa02e49a2d4310351b28534a05ea30a.jpg  \n",
            " extracting: valid/images/image_1064_jpg.rf.831626d0afc55f636e43b277d521d0f9.jpg  \n",
            " extracting: valid/images/image_1065_jpg.rf.85bad1868847ce456c5953400212d68c.jpg  \n",
            " extracting: valid/images/image_1068_jpg.rf.6921f4646f5dba9425a97be93b3f4a14.jpg  \n",
            " extracting: valid/images/image_1069_jpg.rf.85acf5a1087a6b8839afbcd7bdf2dedf.jpg  \n",
            " extracting: valid/images/image_1070_jpg.rf.993508f49c1950c674b180aad95badcb.jpg  \n",
            " extracting: valid/images/image_1072_jpg.rf.dfe774d2c87cc3cc47a598582d200571.jpg  \n",
            " extracting: valid/images/image_107_jpg.rf.18a7e70d537441ca26eaccce44205964.jpg  \n",
            " extracting: valid/images/image_1081_jpg.rf.fdeeab2b75e7f87077fd1005a9d5aeb0.jpg  \n",
            " extracting: valid/images/image_1082_jpg.rf.f29458e374a7a8de568ee5dd96ffdfac.jpg  \n",
            " extracting: valid/images/image_1085_jpg.rf.82c65b4178b3a63f569a527b4bb7042e.jpg  \n",
            " extracting: valid/images/image_1089_jpg.rf.c5608b3a3c44ccb1628006c86e1537c6.jpg  \n",
            " extracting: valid/images/image_1096_jpg.rf.1173c43edc52a44ed95b94b61968ffce.jpg  \n",
            " extracting: valid/images/image_1101_jpg.rf.7f56191b156b8d8b47ae4efdc6005704.jpg  \n",
            " extracting: valid/images/image_1102_jpg.rf.bc3424013c24466581935d209a729417.jpg  \n",
            " extracting: valid/images/image_1106_jpg.rf.d21a6d82e9bac00f294aec57fcc41098.jpg  \n",
            " extracting: valid/images/image_110_jpg.rf.654449536b1d7cce88af99f5c1e46e4e.jpg  \n",
            " extracting: valid/images/image_1110_jpg.rf.3db358a7ee13904fca76bffa7e185bf2.jpg  \n",
            " extracting: valid/images/image_1115_jpg.rf.7896bd8549a4d4cfc5488917c72f5ef7.jpg  \n",
            " extracting: valid/images/image_1117_jpg.rf.7b307f968255201987692136517180e2.jpg  \n",
            " extracting: valid/images/image_1117_jpg.rf.89866358c7c6d6aadbea9761d5b3c282.jpg  \n",
            " extracting: valid/images/image_1120_jpg.rf.e1a3b2ee514bc1c039fcc7b62182ea50.jpg  \n",
            " extracting: valid/images/image_1121_jpg.rf.87dc441ace6ed980be73e16251e402d0.jpg  \n",
            " extracting: valid/images/image_1122_jpg.rf.19ca97b53d84a6daea8565c7f000f929.jpg  \n",
            " extracting: valid/images/image_1128_jpg.rf.ced74fc9a05e0b17af87b4531c3da2ac.jpg  \n",
            " extracting: valid/images/image_1132_jpg.rf.083c29937719b44b3bb79030a9a49537.jpg  \n",
            " extracting: valid/images/image_1133_jpg.rf.4006ffbaeacba09b945166888b250d45.jpg  \n",
            " extracting: valid/images/image_1134_jpg.rf.46c70f0cde9f8b1666b0f14d88aa4eb5.jpg  \n",
            " extracting: valid/images/image_1136_jpg.rf.960703fc1059cd87989a1e3bd9251890.jpg  \n",
            " extracting: valid/images/image_1137_jpg.rf.c72d827c191cad5e5048364b733fd611.jpg  \n",
            " extracting: valid/images/image_1138_jpg.rf.2de34380af1d6710c14094ff4b481222.jpg  \n",
            " extracting: valid/images/image_1141_jpg.rf.9180e5fe34c914867830c2cd0c1644a9.jpg  \n",
            " extracting: valid/images/image_115_jpg.rf.4ea3a4d4a5cd4f6fbd5579ce8181711f.jpg  \n",
            " extracting: valid/images/image_117_jpg.rf.e7da90d508f319495638bd6919d0f1c4.jpg  \n",
            " extracting: valid/images/image_124_jpg.rf.8b827e855f871dd414d1bee55ee88fa5.jpg  \n",
            " extracting: valid/images/image_124_jpg.rf.de0900675bf688c0073cb0791ff7ddf5.jpg  \n",
            " extracting: valid/images/image_128_jpg.rf.facea0f51fc1f42dc3fb368b5e309f0b.jpg  \n",
            " extracting: valid/images/image_129_jpg.rf.d68c0ebe6419356785042df2e0f1e410.jpg  \n",
            " extracting: valid/images/image_133_jpg.rf.030a99290a4f6b3c84ee6b71c485b019.jpg  \n",
            " extracting: valid/images/image_144_jpg.rf.6e702ba5f856981fc4ce730568d7dfb2.jpg  \n",
            " extracting: valid/images/image_145_jpg.rf.12c39f1f023e463e595c16570198b678.jpg  \n",
            " extracting: valid/images/image_14_jpg.rf.6114cd1d98849d7168590d7e47818053.jpg  \n",
            " extracting: valid/images/image_151_jpg.rf.fcbb79fbfeb3d01537075cc07f55393a.jpg  \n",
            " extracting: valid/images/image_154_jpg.rf.c0ec2fc5de125d29aa073e45fe71eb44.jpg  \n",
            " extracting: valid/images/image_159_jpg.rf.c254d06c4ea03ad2e40ace99fe5a477e.jpg  \n",
            " extracting: valid/images/image_163_jpg.rf.44a04f514fc2ffc7460b3eaa0e3a71f0.jpg  \n",
            " extracting: valid/images/image_17_jpg.rf.d04a58f0bc9b8e8a71ac30b068c9888b.jpg  \n",
            " extracting: valid/images/image_182_jpg.rf.32d756b368bab4f908597859877bea6d.jpg  \n",
            " extracting: valid/images/image_183_jpg.rf.7ef29c7f4ebdce1cb6e78326bda04a4b.jpg  \n",
            " extracting: valid/images/image_187_jpg.rf.05605b47324a3fcea4fa0f8226b3aa1b.jpg  \n",
            " extracting: valid/images/image_193_jpg.rf.db6c84873aa1df0d799dc0d5a2ced4cd.jpg  \n",
            " extracting: valid/images/image_199_jpg.rf.965471854bc97223389f199def21f02e.jpg  \n",
            " extracting: valid/images/image_1_jpg.rf.fe9dbf58b8eb141111dcb3e3d6df1bd2.jpg  \n",
            " extracting: valid/images/image_205_jpg.rf.4a5becd1dd774fcf5c0f99aa12ae38e8.jpg  \n",
            " extracting: valid/images/image_207_jpg.rf.4c783e7fcfcecf359b24dbdb103cd979.jpg  \n",
            " extracting: valid/images/image_208_jpg.rf.99c013a2e019b63339629eb98a92f05a.jpg  \n",
            " extracting: valid/images/image_20_jpg.rf.e4daaec3d9ffbf1133944e061778535c.jpg  \n",
            " extracting: valid/images/image_213_jpg.rf.6dd1eab70e97ac2a48bba477f9a12d02.jpg  \n",
            " extracting: valid/images/image_214_jpg.rf.3264d45ac77dd51a371e448764763fb4.jpg  \n",
            " extracting: valid/images/image_215_jpg.rf.1b6ca52e5d679ca73e60fe6e5b8a0cd7.jpg  \n",
            " extracting: valid/images/image_215_jpg.rf.e58ce1c621b3d2dff17da8c14bf62683.jpg  \n",
            " extracting: valid/images/image_219_jpg.rf.d7d74a83baab6c9d92d4c62922e66517.jpg  \n",
            " extracting: valid/images/image_221_jpg.rf.521fc19e37042bfcc44e0dc673ccc819.jpg  \n",
            " extracting: valid/images/image_226_jpg.rf.c1928e5c08175389627d4599fd860068.jpg  \n",
            " extracting: valid/images/image_232_jpg.rf.d61f3d23781132b3ea632f02143e176d.jpg  \n",
            " extracting: valid/images/image_234_jpg.rf.89fcab568d6e74bd657e47ad7a186386.jpg  \n",
            " extracting: valid/images/image_238_jpg.rf.5d3b78b67fb54bac281fabf78a8e833e.jpg  \n",
            " extracting: valid/images/image_239_jpg.rf.8f29b014d5c253911219c85410f0b454.jpg  \n",
            " extracting: valid/images/image_243_jpg.rf.4bda3481cd2769cb5b21e4b19e6ea7f2.jpg  \n",
            " extracting: valid/images/image_245_jpg.rf.2fb7513792fca869187738f7933bf99c.jpg  \n",
            " extracting: valid/images/image_245_jpg.rf.a001cc59c05ac3e6c91ac583645e14e0.jpg  \n",
            " extracting: valid/images/image_249_jpg.rf.0f4df717a4101dad25dc84ef32a37be5.jpg  \n",
            " extracting: valid/images/image_252_jpg.rf.1645f4415f9f66f4a752030cf94e9f2f.jpg  \n",
            " extracting: valid/images/image_253_jpg.rf.42793d17c83efb87ce6368dfa32044db.jpg  \n",
            " extracting: valid/images/image_256_jpg.rf.6cc464c1ac9fce0475cabfb013eed92a.jpg  \n",
            " extracting: valid/images/image_258_jpg.rf.c5999492143f4795883038bbf77660ab.jpg  \n",
            " extracting: valid/images/image_259_jpg.rf.40fe6ddf457b9d0cfb73e65afcfde18c.jpg  \n",
            " extracting: valid/images/image_263_jpg.rf.44b5fdbe71950d75c505218aeecd2c66.jpg  \n",
            " extracting: valid/images/image_267_jpg.rf.c2e6bd14feb8f438c28fac736c4d02c1.jpg  \n",
            " extracting: valid/images/image_268_jpg.rf.234cf81435e6a2d60fb419b6cf152ad5.jpg  \n",
            " extracting: valid/images/image_271_jpg.rf.898e307db9692c1ed7b7f5bd7cf0da55.jpg  \n",
            " extracting: valid/images/image_274_jpg.rf.fef4d15764cea4583d45d1c93f3f8450.jpg  \n",
            " extracting: valid/images/image_276_jpg.rf.1360b34e8f60a06ab48526c214248486.jpg  \n",
            " extracting: valid/images/image_282_jpg.rf.60b0ae66ba38cb2c99b5d6e4ebfd088c.jpg  \n",
            " extracting: valid/images/image_283_jpg.rf.9d061aa2de8026ad35bc9ae98bbc317e.jpg  \n",
            " extracting: valid/images/image_285_jpg.rf.c60be41c8bb947e0273c533175ee2dd7.jpg  \n",
            " extracting: valid/images/image_287_jpg.rf.7dac4d482ae7079f91c6b71f27ce672e.jpg  \n",
            " extracting: valid/images/image_288_jpg.rf.bb74bd0efc01f9ebc7e77d75cc77694c.jpg  \n",
            " extracting: valid/images/image_303_jpg.rf.3aeaafc938b155d6b801b232c5f2fee2.jpg  \n",
            " extracting: valid/images/image_307_jpg.rf.0d12dd976918e6f253d266e218d325b3.jpg  \n",
            " extracting: valid/images/image_310_jpg.rf.050cb553a6ebfa265a0ae5f187281b53.jpg  \n",
            " extracting: valid/images/image_310_jpg.rf.28d4518a42dc4eb8360e8caa64089f86.jpg  \n",
            " extracting: valid/images/image_317_jpg.rf.0550a3f4c013466d44a1edff4d707698.jpg  \n",
            " extracting: valid/images/image_320_jpg.rf.d62a29ea0097426497d7633ffb7ff136.jpg  \n",
            " extracting: valid/images/image_322_jpg.rf.57b3f3ee7ed3828f91c5c026f026886c.jpg  \n",
            " extracting: valid/images/image_326_jpg.rf.568c65416c9d9894002bdb57504dd323.jpg  \n",
            " extracting: valid/images/image_327_jpg.rf.4f017d0fafca679ffb7fc5d7aa2b4d29.jpg  \n",
            " extracting: valid/images/image_331_jpg.rf.af1b71098a1beec68de2f720fd57e490.jpg  \n",
            " extracting: valid/images/image_333_jpg.rf.f78db559526b921e2a593f91a6c53e36.jpg  \n",
            " extracting: valid/images/image_338_jpg.rf.b67ccb179db11e62919eac0f1354eeac.jpg  \n",
            " extracting: valid/images/image_346_jpg.rf.7bfa555da1e6933a334fac5e980b083e.jpg  \n",
            " extracting: valid/images/image_347_jpg.rf.12ef5169b5ff2d598dd0d096e96d4dee.jpg  \n",
            " extracting: valid/images/image_347_jpg.rf.8bdedec4c95141088fdb39952eed4bcf.jpg  \n",
            " extracting: valid/images/image_349_jpg.rf.f160398de3cfbd7e0b106032f950574e.jpg  \n",
            " extracting: valid/images/image_350_jpg.rf.8f2c7848c5be383fce3344cb7dba003a.jpg  \n",
            " extracting: valid/images/image_353_jpg.rf.ba6211f169214a603db6040734d6f4d8.jpg  \n",
            " extracting: valid/images/image_354_jpg.rf.896f451d60822d32e1aea24b78fd9c94.jpg  \n",
            " extracting: valid/images/image_355_jpg.rf.14e6f2ea3108631856fc018d65c11c56.jpg  \n",
            " extracting: valid/images/image_357_jpg.rf.4b2c9ee7a36631b25806de49b4599738.jpg  \n",
            " extracting: valid/images/image_359_jpg.rf.150e716bcf14cfb06bfebd10b87b468f.jpg  \n",
            " extracting: valid/images/image_364_jpg.rf.196c94fb2b44129a54b9954ef8b1c1ab.jpg  \n",
            " extracting: valid/images/image_365_jpg.rf.59e2145bb08d0f26ee9118a144c362ff.jpg  \n",
            " extracting: valid/images/image_367_jpg.rf.6058b4ee3a56da3a2fcbb623282344b7.jpg  \n",
            " extracting: valid/images/image_367_jpg.rf.8529942d3d8c4563e49472f70dfadc2a.jpg  \n",
            " extracting: valid/images/image_36_jpg.rf.38c046c1f4ff27d33780603dd885e7db.jpg  \n",
            " extracting: valid/images/image_374_jpg.rf.6b726d5688c55cbd3c09d93efdd45f22.jpg  \n",
            " extracting: valid/images/image_375_jpg.rf.31a8cef2aad46e4617c14e296bf96d65.jpg  \n",
            " extracting: valid/images/image_381_jpg.rf.fc642760888eae1eb2df9e376194acf2.jpg  \n",
            " extracting: valid/images/image_382_jpg.rf.5d5e146e16428291fb49f199d6257818.jpg  \n",
            " extracting: valid/images/image_387_jpg.rf.d8cf9bcc3ca1c60b81fd3f174e28419c.jpg  \n",
            " extracting: valid/images/image_397_jpg.rf.a708fc69654c0495464b5b8fe7242d74.jpg  \n",
            " extracting: valid/images/image_39_jpg.rf.5a10a4882236bcbaa51f5b463a802e49.jpg  \n",
            " extracting: valid/images/image_402_jpg.rf.1bdf9629ce6d5f297aecd5230acfef8b.jpg  \n",
            " extracting: valid/images/image_404_jpg.rf.b978881478aa7c075ec77cdb0221777b.jpg  \n",
            " extracting: valid/images/image_409_jpg.rf.4ab920412fd3529d9f4534f4792d7ae2.jpg  \n",
            " extracting: valid/images/image_413_jpg.rf.cc1c5f6e23f4715a9b0fd7f50e01bc3f.jpg  \n",
            " extracting: valid/images/image_415_jpg.rf.5027ce0cfad2d130f50da4ed8468e38d.jpg  \n",
            " extracting: valid/images/image_416_jpg.rf.decc080d7d5e42aacef315f321f4b90d.jpg  \n",
            " extracting: valid/images/image_417_jpg.rf.ede70619b2434c0f8c59005b8d5cf253.jpg  \n",
            " extracting: valid/images/image_420_jpg.rf.80e7dfb8c8c3eb5c8e5c26067a466924.jpg  \n",
            " extracting: valid/images/image_421_jpg.rf.dd33a7cdf791ad1677dc23ea2d035a8d.jpg  \n",
            " extracting: valid/images/image_423_jpg.rf.54a7b4b6922c0fae42e80124963e8c35.jpg  \n",
            " extracting: valid/images/image_425_jpg.rf.334a7c04dc62b1dd0868a1c8f4d9cbc6.jpg  \n",
            " extracting: valid/images/image_428_jpg.rf.9c06bfc1a243a7f5431b27c2cf373786.jpg  \n",
            " extracting: valid/images/image_429_jpg.rf.42853bce780761bf193d88d89a63df1d.jpg  \n",
            " extracting: valid/images/image_42_jpg.rf.8de043413d04008d2c1f4f4698b741b2.jpg  \n",
            " extracting: valid/images/image_430_jpg.rf.dc1a48f474064273ab7fac9b51f08c3a.jpg  \n",
            " extracting: valid/images/image_440_jpg.rf.d8f269cbdd1be324dfea9a4f4afc8d50.jpg  \n",
            " extracting: valid/images/image_445_jpg.rf.eca3cf693727e70058b224e663144bfb.jpg  \n",
            " extracting: valid/images/image_447_jpg.rf.96f2b4140187d134f7f4381bebd01ad4.jpg  \n",
            " extracting: valid/images/image_449_jpg.rf.24cb5cde46ffb9d275cd5c63ac790b70.jpg  \n",
            " extracting: valid/images/image_454_jpg.rf.b1098efbabaf209626e260bcfc645d4d.jpg  \n",
            " extracting: valid/images/image_464_jpg.rf.efefd1d6f457e1181e7ceaa928bce968.jpg  \n",
            " extracting: valid/images/image_46_jpg.rf.5ab00a508f2865c93eac9f36e125a709.jpg  \n",
            " extracting: valid/images/image_471_jpg.rf.e92f3768e62f18f46bd716ea917f4858.jpg  \n",
            " extracting: valid/images/image_473_jpg.rf.9f33f992e6a11d39228019b397beb995.jpg  \n",
            " extracting: valid/images/image_474_jpg.rf.85a22047b691ac92e9de61fcad0604c8.jpg  \n",
            " extracting: valid/images/image_479_jpg.rf.474bd5759686ca18c90b6546b7c737e7.jpg  \n",
            " extracting: valid/images/image_483_jpg.rf.c6fdb3cad881958f680fced9d237c497.jpg  \n",
            " extracting: valid/images/image_485_jpg.rf.f812dbbc7ca9536f7c064be9eb38be5b.jpg  \n",
            " extracting: valid/images/image_487_jpg.rf.6e1d0ff1d61b2c24fbf57cbdc3360af2.jpg  \n",
            " extracting: valid/images/image_491_jpg.rf.22f597a4639eb0b939e73867b8baa103.jpg  \n",
            " extracting: valid/images/image_496_jpg.rf.770f1a94d4b4f18be01963323d8c4df8.jpg  \n",
            " extracting: valid/images/image_497_jpg.rf.0145e0e30904422c0a9a420c9fc0a1b0.jpg  \n",
            " extracting: valid/images/image_500_jpg.rf.072abff1e053f3831a37daf5808dbdf0.jpg  \n",
            " extracting: valid/images/image_500_jpg.rf.9977d462f940e29fd58c9ba088ebeff9.jpg  \n",
            " extracting: valid/images/image_505_jpg.rf.6c6082c6e1167aa4bde3373cb53c3f13.jpg  \n",
            " extracting: valid/images/image_509_jpg.rf.d08b8797d917e3c6c182387c444086c0.jpg  \n",
            " extracting: valid/images/image_513_jpg.rf.bfa6d9e957a29490afa326bec89a95cf.jpg  \n",
            " extracting: valid/images/image_513_jpg.rf.fea82402517498447106467386dbf794.jpg  \n",
            " extracting: valid/images/image_514_jpg.rf.82b79ee0b48b5414addcae9c1f71b86e.jpg  \n",
            " extracting: valid/images/image_522_jpg.rf.f21ecf75285e6173fe566026413c4c94.jpg  \n",
            " extracting: valid/images/image_524_jpg.rf.331461a7b1b3abd16048d797c42d0f07.jpg  \n",
            " extracting: valid/images/image_548_jpg.rf.9c1ec1b284b2a68ffbcd8ef088da93d1.jpg  \n",
            " extracting: valid/images/image_549_jpg.rf.684e639a0d04c462fd00784a0f2ef363.jpg  \n",
            " extracting: valid/images/image_556_jpg.rf.48cf0bd5924e22fa68967c4674e46ea9.jpg  \n",
            " extracting: valid/images/image_556_jpg.rf.adf2c58990a6a9413c7aafbf9a28bec7.jpg  \n",
            " extracting: valid/images/image_557_jpg.rf.3cdcbba90c51d59b04e46678106aa36b.jpg  \n",
            " extracting: valid/images/image_558_jpg.rf.34be37dcb94e3bdc1cbb490e89e63c5c.jpg  \n",
            " extracting: valid/images/image_560_jpg.rf.ce1088dee6ebce69f464633981e66249.jpg  \n",
            " extracting: valid/images/image_562_jpg.rf.7967e725cb016b444754f5ed07d79cd2.jpg  \n",
            " extracting: valid/images/image_563_jpg.rf.67baec884b593c9ae201cb62a6efb503.jpg  \n",
            " extracting: valid/images/image_565_jpg.rf.1e3538e19ad105f9631dbb949e4a490b.jpg  \n",
            " extracting: valid/images/image_568_jpg.rf.47cf7f38d3faab1a93c46786b8ec6a1f.jpg  \n",
            " extracting: valid/images/image_568_jpg.rf.ac02628e2df9e3a8ac9107e0dc1edf3d.jpg  \n",
            " extracting: valid/images/image_569_jpg.rf.d5603e0797383c76fb5ec292c2930077.jpg  \n",
            " extracting: valid/images/image_572_jpg.rf.68549556d56fda3dc0e2d591a80824ec.jpg  \n",
            " extracting: valid/images/image_573_jpg.rf.a2069c36c0551e806541a3c41dcd0c72.jpg  \n",
            " extracting: valid/images/image_574_jpg.rf.c62e2d0f44e5426dca7dedcba74ecee2.jpg  \n",
            " extracting: valid/images/image_588_jpg.rf.3c271b72b686ca206abc5b2c7c7ebfb4.jpg  \n",
            " extracting: valid/images/image_58_jpg.rf.fb7d042d4fe90e38a7926507b0716c88.jpg  \n",
            " extracting: valid/images/image_590_jpg.rf.406b6f1019998ab482de1aa6421a5f86.jpg  \n",
            " extracting: valid/images/image_590_jpg.rf.b91424255c0fc278973c404951746371.jpg  \n",
            " extracting: valid/images/image_595_jpg.rf.d0c5c47841ffb5c0b298f16cd2caa42c.jpg  \n",
            " extracting: valid/images/image_596_jpg.rf.d2f27d1a7661ebdf25c1ed1cd0e73d1e.jpg  \n",
            " extracting: valid/images/image_59_jpg.rf.332df1f28874b22534c9ba3eb355d32f.jpg  \n",
            " extracting: valid/images/image_604_jpg.rf.7a87ad500cfd25520e27b655fe5a1455.jpg  \n",
            " extracting: valid/images/image_607_jpg.rf.807c704b351bd09ac1cfe05c338f15a5.jpg  \n",
            " extracting: valid/images/image_609_jpg.rf.8f6109c07b8466bc3f1ff349da13e611.jpg  \n",
            " extracting: valid/images/image_611_jpg.rf.890b4e77a74c7b9fde5f454eb7a77d26.jpg  \n",
            " extracting: valid/images/image_612_jpg.rf.d0491f4b68f6bd44a16dbd56627c2e75.jpg  \n",
            " extracting: valid/images/image_61_jpg.rf.7eb5ba23444776660ce121c4685bf877.jpg  \n",
            " extracting: valid/images/image_621_jpg.rf.05d6997fe7a8d69c4b6b76a652f83113.jpg  \n",
            " extracting: valid/images/image_622_jpg.rf.d49bb2c54ff023be35d76c1e2800a00a.jpg  \n",
            " extracting: valid/images/image_624_jpg.rf.118229fa6e9bfda823700243b3c69579.jpg  \n",
            " extracting: valid/images/image_625_jpg.rf.2b433574ddfc17c131c0b02f61766c23.jpg  \n",
            " extracting: valid/images/image_625_jpg.rf.db399db17668f7d41618ec310d8a13eb.jpg  \n",
            " extracting: valid/images/image_62_jpg.rf.6387ba5792225066fd49706453591366.jpg  \n",
            " extracting: valid/images/image_631_jpg.rf.0ec843a2f9adc0954b1ef22bf8eac02b.jpg  \n",
            " extracting: valid/images/image_633_jpg.rf.bddc7a1d74279f51164d34e1a86da740.jpg  \n",
            " extracting: valid/images/image_636_jpg.rf.511ecc153acdd377f8c25a8cfd75de04.jpg  \n",
            " extracting: valid/images/image_636_jpg.rf.a1e3afffd8c8cda88f9bd681d233a8b9.jpg  \n",
            " extracting: valid/images/image_642_jpg.rf.8de5e72141f8b0be61b8e5714b0daf36.jpg  \n",
            " extracting: valid/images/image_642_jpg.rf.fad069c2047e5747bf811d22170becee.jpg  \n",
            " extracting: valid/images/image_643_jpg.rf.83f59e5b0074a5e514b65a5cf776679b.jpg  \n",
            " extracting: valid/images/image_649_jpg.rf.2d56d6702999daf361780b24dc56320a.jpg  \n",
            " extracting: valid/images/image_650_jpg.rf.1297a4afff1a041ed674f7ddf35696db.jpg  \n",
            " extracting: valid/images/image_650_jpg.rf.b1b5f7d4d375fad5c655ea6b03e1047d.jpg  \n",
            " extracting: valid/images/image_652_jpg.rf.235e09df00e935f7030363ad802be3df.jpg  \n",
            " extracting: valid/images/image_653_jpg.rf.db09db651ccd99e3002a1ea92da97dba.jpg  \n",
            " extracting: valid/images/image_654_jpg.rf.47472b0ebb92bf5aaa8933c9290eb0a3.jpg  \n",
            " extracting: valid/images/image_66_jpg.rf.bda7c953bf0c6ed1f83fa5f16f1a8a68.jpg  \n",
            " extracting: valid/images/image_670_jpg.rf.77a33c210edf0d91c8750f65ce3eaaaa.jpg  \n",
            " extracting: valid/images/image_673_jpg.rf.0ab293fd914033c61788432961901b37.jpg  \n",
            " extracting: valid/images/image_673_jpg.rf.d826f35ff4152a3dd3152cddf2923c3d.jpg  \n",
            " extracting: valid/images/image_678_jpg.rf.dcc813c7c6bdde78f6f8ab1ef268cf0e.jpg  \n",
            " extracting: valid/images/image_683_jpg.rf.c76435feebe1bbe881c3a64f9823f19c.jpg  \n",
            " extracting: valid/images/image_685_jpg.rf.ab5929b7f4a2b6931ba21d90c2174112.jpg  \n",
            " extracting: valid/images/image_686_jpg.rf.fe860296035b6ff132d95849b9c7d8ef.jpg  \n",
            " extracting: valid/images/image_687_jpg.rf.d36fc1d2cde9313647eb7a936571a7e2.jpg  \n",
            " extracting: valid/images/image_695_jpg.rf.14b5090dd31ff9b64ca59e9e9a95a824.jpg  \n",
            " extracting: valid/images/image_695_jpg.rf.be51c0c456bee0e5271a8a028fab238d.jpg  \n",
            " extracting: valid/images/image_696_jpg.rf.20abf85a1c90c99062b979985cad3304.jpg  \n",
            " extracting: valid/images/image_696_jpg.rf.5e27ba05308807c97f12b5e3ac646b64.jpg  \n",
            " extracting: valid/images/image_697_jpg.rf.5fd4a6f3f74c8561162fb049928cb3c7.jpg  \n",
            " extracting: valid/images/image_698_jpg.rf.4348177a68127ad2434ee4dfca37e5a0.jpg  \n",
            " extracting: valid/images/image_698_jpg.rf.68170c3fd803439e09f02d500e809715.jpg  \n",
            " extracting: valid/images/image_699_jpg.rf.449c34ccaf584d43172f10923a4d2e7c.jpg  \n",
            " extracting: valid/images/image_699_jpg.rf.c056f03e90849de29ed6dab8dfcee500.jpg  \n",
            " extracting: valid/images/image_69_jpg.rf.2929344da319b33bfe448f5fc0b39cdc.jpg  \n",
            " extracting: valid/images/image_69_jpg.rf.7aee61bc0aaa383dbe35351159772e0f.jpg  \n",
            " extracting: valid/images/image_704_jpg.rf.973860ae9bfcdcc6b953fd44a5f79475.jpg  \n",
            " extracting: valid/images/image_707_jpg.rf.23e13c8efe32b3322e5e8ff066604664.jpg  \n",
            " extracting: valid/images/image_710_jpg.rf.ea08ae5349b2c94bdd59a479aa60bff9.jpg  \n",
            " extracting: valid/images/image_711_jpg.rf.19b2a3227132824be61c105d717e1b1e.jpg  \n",
            " extracting: valid/images/image_713_jpg.rf.6963c8561ebdd25d68432e642979d338.jpg  \n",
            " extracting: valid/images/image_717_jpg.rf.44d2cdbfa7f4b14277ebca6ae1148e9f.jpg  \n",
            " extracting: valid/images/image_721_jpg.rf.9562a10962b38778e0dd0fc404ef2ac3.jpg  \n",
            " extracting: valid/images/image_729_jpg.rf.5bce24b7f6d72e431639b54d0d9c1a19.jpg  \n",
            " extracting: valid/images/image_731_jpg.rf.76667e6e59628ae6144d18f384c41e3c.jpg  \n",
            " extracting: valid/images/image_733_jpg.rf.e23c8986f09648bcdf1fc77c647f0375.jpg  \n",
            " extracting: valid/images/image_735_jpg.rf.f865d62a1e1c8155ad99521a8f56ad9e.jpg  \n",
            " extracting: valid/images/image_737_jpg.rf.9973d8ed98507879ba0a50934bdd5a0c.jpg  \n",
            " extracting: valid/images/image_740_jpg.rf.a7c5c805230936dc4b898d2d40e21559.jpg  \n",
            " extracting: valid/images/image_741_jpg.rf.dc85ee8a20b802046c2572625aa8fb05.jpg  \n",
            " extracting: valid/images/image_745_jpg.rf.c8ea01202d0c76f466559c5472eb1648.jpg  \n",
            " extracting: valid/images/image_74_jpg.rf.3cd723517e7b671adbe8236af1182164.jpg  \n",
            " extracting: valid/images/image_750_jpg.rf.1dc62e9e8aee249b8dad224b7d259ac1.jpg  \n",
            " extracting: valid/images/image_752_jpg.rf.d0ce1b08ce38288ad051beb2e9222f73.jpg  \n",
            " extracting: valid/images/image_753_jpg.rf.74e8992af65c888ac4a1da568305cc09.jpg  \n",
            " extracting: valid/images/image_75_jpg.rf.95a74a3bbbd43df5fcb4d8e0defb54d1.jpg  \n",
            " extracting: valid/images/image_75_jpg.rf.a3d29a1a700005642e59bdf86b602a53.jpg  \n",
            " extracting: valid/images/image_762_jpg.rf.42b5636eb0e5422c655931bc468a4184.jpg  \n",
            " extracting: valid/images/image_764_jpg.rf.9473fb3fc1dea2814b670080e44d335c.jpg  \n",
            " extracting: valid/images/image_773_jpg.rf.eb5446a6b921d27e29588c13ad3f8792.jpg  \n",
            " extracting: valid/images/image_774_jpg.rf.6af3062771a5d924d3115602645a9a85.jpg  \n",
            " extracting: valid/images/image_781_jpg.rf.aab1d197679e19bf1ea93b52b63c2dcc.jpg  \n",
            " extracting: valid/images/image_791_jpg.rf.877c0f7c13264f9e7aa6dab8b368ad99.jpg  \n",
            " extracting: valid/images/image_793_jpg.rf.7bd9dbfdf9bcf1bd4437082411fec12f.jpg  \n",
            " extracting: valid/images/image_802_jpg.rf.3667fa07ecd3501eb59c7db1988821d8.jpg  \n",
            " extracting: valid/images/image_811_jpg.rf.9ee8ad5548d214ac79aa0e11bd8ea2e0.jpg  \n",
            " extracting: valid/images/image_812_jpg.rf.0c946f87ebc3e8f49a85afc11d11425a.jpg  \n",
            " extracting: valid/images/image_813_jpg.rf.db0c6b9084c999fc309311ea41686f0d.jpg  \n",
            " extracting: valid/images/image_820_jpg.rf.c2863d80707f4084648b1c3412f65063.jpg  \n",
            " extracting: valid/images/image_823_jpg.rf.47ec7a32aa3cdff172e887652a0f32b7.jpg  \n",
            " extracting: valid/images/image_824_jpg.rf.2906226ed8cf3e230615a2284c19696e.jpg  \n",
            " extracting: valid/images/image_826_jpg.rf.c803c0a2cd3bc9f02dc1af5341712ae0.jpg  \n",
            " extracting: valid/images/image_828_jpg.rf.0e1c9f22731a621467fa799e13064d3f.jpg  \n",
            " extracting: valid/images/image_828_jpg.rf.304fb3f71d9ecd5e0217933968a7017e.jpg  \n",
            " extracting: valid/images/image_832_jpg.rf.e4388a6cdadd415b13c3bf9267b024dd.jpg  \n",
            " extracting: valid/images/image_834_jpg.rf.52d6faddef5f7a93984147b064ba843d.jpg  \n",
            " extracting: valid/images/image_836_jpg.rf.4f316dae84f36d0237c0a5a6bb1f6ebc.jpg  \n",
            " extracting: valid/images/image_837_jpg.rf.58835394e2923524950050f878a21e0e.jpg  \n",
            " extracting: valid/images/image_847_jpg.rf.c24c571bd5c274ec179df87954dc923d.jpg  \n",
            " extracting: valid/images/image_853_jpg.rf.fd074d67e9833c91e4529c42808fdd8d.jpg  \n",
            " extracting: valid/images/image_859_jpg.rf.144851e9e5ca2364309571ea68da5ace.jpg  \n",
            " extracting: valid/images/image_85_jpg.rf.ce86a0cc295781275401f803c88da139.jpg  \n",
            " extracting: valid/images/image_861_jpg.rf.692d1546bdb320dec99407d25da4ad00.jpg  \n",
            " extracting: valid/images/image_863_jpg.rf.8fac353f3031e6eb092ceb9b28c49cb1.jpg  \n",
            " extracting: valid/images/image_865_jpg.rf.2fa94e3552ecdf950b156e897ab693ae.jpg  \n",
            " extracting: valid/images/image_867_jpg.rf.7e1b7b2fe9574ef1cdad6054021ab0d4.jpg  \n",
            " extracting: valid/images/image_868_jpg.rf.f8fa3757d4172f026a6473f8975e83a7.jpg  \n",
            " extracting: valid/images/image_877_jpg.rf.5fdd33e031ad9471bcfd8f23b3bc07b2.jpg  \n",
            " extracting: valid/images/image_877_jpg.rf.7dd3e3b4ddc9add2fa955603d81aaf9d.jpg  \n",
            " extracting: valid/images/image_881_jpg.rf.c058f86191f6e6fd86e627dae5647bcd.jpg  \n",
            " extracting: valid/images/image_885_jpg.rf.e4705913c004e80c99fac453b0f33bdf.jpg  \n",
            " extracting: valid/images/image_887_jpg.rf.4f155af9d4eb6fd64b03b953114e42e5.jpg  \n",
            " extracting: valid/images/image_888_jpg.rf.7624f11e937ddc6976e59fc3b839c2ce.jpg  \n",
            " extracting: valid/images/image_889_jpg.rf.cb6e2f53c9ab7e01bcea8806bc9b3f86.jpg  \n",
            " extracting: valid/images/image_893_jpg.rf.80fe1fb1208ea069f1848697a15d6bcc.jpg  \n",
            " extracting: valid/images/image_898_jpg.rf.7d71a373fa1cc75847fc3e4bc29338d6.jpg  \n",
            " extracting: valid/images/image_898_jpg.rf.bb0260689e21af589384f3d3c69475cd.jpg  \n",
            " extracting: valid/images/image_906_jpg.rf.5467900a514adcf9ddccf505fad103af.jpg  \n",
            " extracting: valid/images/image_910_jpg.rf.8d899677ab19c47de0d1de585b3fba30.jpg  \n",
            " extracting: valid/images/image_913_jpg.rf.4aea59ef05469c4dbd63652a321976e5.jpg  \n",
            " extracting: valid/images/image_915_jpg.rf.6e5ef2e2de9ab0bd0b8b792809854981.jpg  \n",
            " extracting: valid/images/image_916_jpg.rf.7e83bf6f9229bab4840291b39f3792ab.jpg  \n",
            " extracting: valid/images/image_917_jpg.rf.e7ba5d742aa4524993d84af49f80987f.jpg  \n",
            " extracting: valid/images/image_919_jpg.rf.379d8507baaeadb19805385e60f4f216.jpg  \n",
            " extracting: valid/images/image_91_jpg.rf.ea60e11d41e20f0bd73b52a2ca0cddce.jpg  \n",
            " extracting: valid/images/image_922_jpg.rf.01c4a857b84f74af03cf9dd5924d3b4f.jpg  \n",
            " extracting: valid/images/image_924_jpg.rf.fe821fdd2c3270637f93206733ac8a5e.jpg  \n",
            " extracting: valid/images/image_937_jpg.rf.7e6968bc321e98d1e351416ae4bba1e7.jpg  \n",
            " extracting: valid/images/image_93_jpg.rf.727f2565392b602eae0c6d3f37c877e6.jpg  \n",
            " extracting: valid/images/image_948_jpg.rf.f80ab681c455e80f7d0cf56d20c43fba.jpg  \n",
            " extracting: valid/images/image_949_jpg.rf.09165ff84b2ec6f9903dc8f20d342603.jpg  \n",
            " extracting: valid/images/image_950_jpg.rf.f204642057b1ee3c0c7c6a8dc3a41cc4.jpg  \n",
            " extracting: valid/images/image_952_jpg.rf.485292f53f37789d4f747e57d155135d.jpg  \n",
            " extracting: valid/images/image_955_jpg.rf.35d16937c23bfeffb83a4e002cf5dbf1.jpg  \n",
            " extracting: valid/images/image_956_jpg.rf.5221c9dea7ef0bcd206a32b75f87e64f.jpg  \n",
            " extracting: valid/images/image_959_jpg.rf.3c5ed6c743dae5cdf548ff01b27d720e.jpg  \n",
            " extracting: valid/images/image_963_jpg.rf.71db089ed124ec2501062057f53eb877.jpg  \n",
            " extracting: valid/images/image_967_jpg.rf.3aa55f92d2355f173fee36bc22e99695.jpg  \n",
            " extracting: valid/images/image_970_jpg.rf.e15cd4f56c87857011c507ac0db2690a.jpg  \n",
            " extracting: valid/images/image_972_jpg.rf.824a3f22b9117025a067c04432f3282f.jpg  \n",
            " extracting: valid/images/image_973_jpg.rf.97d5f1a0c2566be6b7e54b4474822a2c.jpg  \n",
            " extracting: valid/images/image_974_jpg.rf.de41a80a06d317ed6573a808b6f28753.jpg  \n",
            " extracting: valid/images/image_975_jpg.rf.1a39c1871a9eea80a85444e1517ea89e.jpg  \n",
            " extracting: valid/images/image_977_jpg.rf.6ed2ff44c574c91163447a26b4b2d739.jpg  \n",
            " extracting: valid/images/image_979_jpg.rf.90900a2a6118d48c2f16d531e3dee2fc.jpg  \n",
            " extracting: valid/images/image_97_jpg.rf.86b75ed000fa7505f177ed3318150fff.jpg  \n",
            " extracting: valid/images/image_986_jpg.rf.82e1862d2fed8a1c86b7250a4bea649c.jpg  \n",
            " extracting: valid/images/image_987_jpg.rf.6c9a9491a57235634a1989e7abb39078.jpg  \n",
            " extracting: valid/images/image_991_jpg.rf.082170d860dc6bf46e6c6f00ef85fdc3.jpg  \n",
            " extracting: valid/images/image_994_jpg.rf.1c25d35bf39a8a6e4d9274d14821a8eb.jpg  \n",
            " extracting: valid/images/image_998_jpg.rf.2715d7c7369619878421541af6ca6a37.jpg  \n",
            " extracting: valid/images/image_999_jpg.rf.c6432978b47fc71aeb78caf185105d13.jpg  \n",
            " extracting: valid/images/images-1-_jpg.rf.f91464ac0bacc355d4d99b573ce40e02.jpg  \n",
            " extracting: valid/images/images-5-_jpg.rf.595c6cda1b3f745ad6225a2b88c2aafe.jpg  \n",
            " extracting: valid/images/images2960653_mature_man_walking_park_outdoors_beig_jpg.rf.d5a6d9a9a21ab719bfb6968f1c10c744.jpg  \n",
            " extracting: valid/images/istockphoto-1172486872-612x612_jpg.rf.69dd13d15e8fd571d0840796f69e933a.jpg  \n",
            " extracting: valid/images/istockphoto-1184388353-612x612_jpg.rf.973782c40c35cb67dd1ec1c57c116638.jpg  \n",
            " extracting: valid/images/istockphoto-180500360-612x612-1-_jpg.rf.aa76f4a4d771d5e14d8b1321e9de499e.jpg  \n",
            " extracting: valid/images/istockphoto-486289973-612x612_jpg.rf.3b7cc81e1830df9d7c70cf3a8ffe73db.jpg  \n",
            " extracting: valid/images/man-shoplifting-alcohol-from-a-shop-B27FAX_jpg.rf.c7a4445fc05bde96a2f0496bfc0af042.jpg  \n",
            " extracting: valid/images/picture25-07283931_jpg.rf.88da66e77794a16b7352a302176632c9.jpg  \n",
            " extracting: valid/images/retail-shoplifting-man-stealing-jeans-theft-at-shop-2HF46AJ_jpg.rf.bedc10351667f76214fdbc1b5410a79d.jpg  \n",
            " extracting: valid/images/serious-worried-handsome-young-male-thief-in-casual-clothing-looking-around-and-putting-fruit-into-inside-pocket-in-food-store-he-stealing-fruit-in-o-R0MP4P_jpg.rf.c47ee4499b7a1ff95f6f3af73221157b.jpg  \n",
            " extracting: valid/images/shoplifter-electronic-store-supermarket-stealing-600w-1217013973_jpg.rf.2cf783e3d1f86c1c64bbf63b38fe1348.jpg  \n",
            " extracting: valid/images/stock-photo-a-man-and-woman-standing-together-talking-on-white-background-6980614_jpg.rf.dbbee3d6c6ee5421538f5f47b73fbe2c.jpg  \n",
            " extracting: valid/images/stock-photo-woman-trying-to-steal-trousers-from-a-clothing-store-313240559_jpg.rf.b6c1ba133c1e3cccdc170300acc98c12.jpg  \n",
            " extracting: valid/images/stock-vector-kleptomaniac-woman-stealing-from-supermarket-vector-cartoon-illustration-lady-shoplifting-a-2206061939_jpg.rf.52d9aef3eea67acd48d09ff6e18a8a56.jpg  \n",
            " extracting: valid/images/teenage-boy-shoplifting-a-music-cd-in-store-AC07RP_jpg.rf.5c0a371d926e616a36c9e5d7622adc68.jpg  \n",
            " extracting: valid/images/the-kleptomania-concept-a-man-in-the-grocery-store-stealing-food-and-put-it-in-the-pocket-2G53DDW_jpg.rf.78dcae069581fc05ec066efa041ffafd.jpg  \n",
            " extracting: valid/images/unnamed_jpg.rf.b8fadd92f8e6178d1d3f5dc5a584d324.jpg  \n",
            " extracting: valid/images/v1_29_jpg.rf.fbe2f31616fc6d1d571c085b726984c3.jpg  \n",
            " extracting: valid/images/v1_31_jpg.rf.844921f01c95bab1c842b8b80e29d2e6.jpg  \n",
            " extracting: valid/images/v1_52_jpg.rf.2ba3ff9ca3a7788f63af8a40a175bb74.jpg  \n",
            " extracting: valid/images/v1_52_jpg.rf.e0900821d685db2dda5e2ce70fa33f16.jpg  \n",
            " extracting: valid/images/v1_78_jpg.rf.982e800c803336703e5b6d80aebc04bf.jpg  \n",
            " extracting: valid/images/v2_21_jpg.rf.d11a2bbc7a0e606adb5ad4f3abc4f0ca.jpg  \n",
            " extracting: valid/images/v2_32_jpg.rf.880c8700b14f710132582ef13a5d854b.jpg  \n",
            " extracting: valid/images/v2_34_jpg.rf.33a4a801b9445618c963a53a340592fd.jpg  \n",
            " extracting: valid/images/v2_37_jpg.rf.ade3ba26a432991e3d5b4f40d2c6179a.jpg  \n",
            " extracting: valid/images/v2_47_jpg.rf.6b00c210c0b5dfee1503c574ac005b55.jpg  \n",
            " extracting: valid/images/v2_4_jpg.rf.47bef39b114b043cee21ed2c42270e28.jpg  \n",
            " extracting: valid/images/v2_60_jpg.rf.8beb8f00df202aa78628334b8054e120.jpg  \n",
            " extracting: valid/images/v2_8_jpg.rf.f9346ccd19b7d199bae2934a860e9a0d.jpg  \n",
            " extracting: valid/images/v2_9_jpg.rf.93621887a84b84428230e4e89fe8f9df.jpg  \n",
            " extracting: valid/images/video1_002_jpg.rf.83e435f5a315ef0eeef7776d4c663586.jpg  \n",
            " extracting: valid/images/video1_010_jpg.rf.221bc35a7565c51df494caf49f772e26.jpg  \n",
            " extracting: valid/images/video1_012_jpg.rf.803b9a62966b20e45c236a3a8a46048d.jpg  \n",
            " extracting: valid/images/video1_051_jpg.rf.2f42cf9d0eedb5cc84de5c8c4de3739e.jpg  \n",
            " extracting: valid/images/video1_065_jpg.rf.a5d9c3ac6670f1cdf175edfee291d7de.jpg  \n",
            " extracting: valid/images/video1_070_jpg.rf.3d393d8d744b32d4fbf28811aa8a56fd.jpg  \n",
            " extracting: valid/images/video1_073_jpg.rf.376cc2d8b5d772dd3e612fbbfeb8b9bb.jpg  \n",
            " extracting: valid/images/video1_097_jpg.rf.0b66c6e93a89ebcb5bcd7b4112652a4f.jpg  \n",
            " extracting: valid/images/video2_000_jpg.rf.95a328d0d579bc10de83701a8bb50b3d.jpg  \n",
            " extracting: valid/images/video2_013_jpg.rf.870eec4bbc1c2dd47a5a178f76289679.jpg  \n",
            " extracting: valid/images/video2_025_jpg.rf.e58cfba6cb6c7455bde1f88d08c7ed12.jpg  \n",
            " extracting: valid/images/video2_029_jpg.rf.fea601e59207cc1a00329a75ca5bd7bc.jpg  \n",
            " extracting: valid/images/video2_055_jpg.rf.e404fcf320e0965ea8376f03157ebd66.jpg  \n",
            " extracting: valid/images/video2_064_jpg.rf.0b717f2719fc7c67049ac1401a961d0e.jpg  \n",
            " extracting: valid/images/video2_065_jpg.rf.e256557274188a929fec17160cf32dcd.jpg  \n",
            " extracting: valid/images/video2_071_jpg.rf.73609c7b18d3895d52c36daa27f300fe.jpg  \n",
            " extracting: valid/images/video2_078_jpg.rf.0fad93167007aeddc4cb65e246475718.jpg  \n",
            " extracting: valid/images/video2_080_jpg.rf.71cd2ce4eb412562b865f603a6c5741a.jpg  \n",
            " extracting: valid/images/video2_086_jpg.rf.86b1e716c094100660b47f7e412689e0.jpg  \n",
            " extracting: valid/images/video3_041_jpg.rf.da9df7b36d30487bcfe7028fba8876f2.jpg  \n",
            " extracting: valid/images/woman-shoplifting-clothing-from-shop-with-security-tag-attached-E605H7_jpg.rf.c2942b0527bcaef42488f9ce1017c47d.jpg  \n",
            "   creating: valid/labels/\n",
            " extracting: valid/labels/1-16668_human-walking-side-view-standing-hd-png-download_png_jpg.rf.92ee6b03f1cd8c4880b73145b4c79fdc.txt  \n",
            " extracting: valid/labels/1-1_2_jpg.rf.69834d5736d55a6fc226a215d2f07651.txt  \n",
            " extracting: valid/labels/1-1_7_jpg.rf.2e5fa624b3af901cda5b4e74abd23892.txt  \n",
            " extracting: valid/labels/1-1_8_jpg.rf.859af27cdfb9ae6e9212440828ad2d7e.txt  \n",
            " extracting: valid/labels/1-2-_jpg.rf.542b1fa43326814223a77a72eeaa6a32.txt  \n",
            " extracting: valid/labels/1-2_15_jpg.rf.7d0607b0babcb427922a92e57d358448.txt  \n",
            " extracting: valid/labels/1-2_19_jpg.rf.da420da1fc4733c579786db33a845dbb.txt  \n",
            " extracting: valid/labels/1-2_2_jpg.rf.43893ef4e42e4f2d19fc65f565163855.txt  \n",
            " extracting: valid/labels/1-2_4_jpg.rf.d3902bb60c0466c4edb35c2d2303392f.txt  \n",
            " extracting: valid/labels/1-2_6_jpg.rf.65df223cd2efd960d348920e9bfbdfac.txt  \n",
            " extracting: valid/labels/1-2_7_jpg.rf.5d84c2d1ee5ebc89c4c42f82bacb2f60.txt  \n",
            " extracting: valid/labels/1-2_8_jpg.rf.663e5c0ba0059049f7cfb00f6477181b.txt  \n",
            " extracting: valid/labels/1-2_9_jpg.rf.d0a5a5f0807cd2b1c47a3c0433bc13cf.txt  \n",
            " extracting: valid/labels/13_jpg.rf.c4e14371bd84ada9d115bf57d61419bf.txt  \n",
            " extracting: valid/labels/13kamera-mamalar-Trim_mp4-12_jpg.rf.262e1adda97b57c117cc31234d7e6a1f.txt  \n",
            " extracting: valid/labels/13kamera-mamalar-Trim_mp4-14_jpg.rf.d88955c8f3f7b7460b6d9db3c159f37d.txt  \n",
            " extracting: valid/labels/13kamera-mamalar-Trim_mp4-19_jpg.rf.db98569adeb0e6b1c001588bce2fa2f4.txt  \n",
            " extracting: valid/labels/16A_jpg.rf.1134fdf22fb432d3a2e62273da66cddd.txt  \n",
            " extracting: valid/labels/1_mp4-11_jpg.rf.0dbaf2c85366d9ed15cd2f4d680f407e.txt  \n",
            " extracting: valid/labels/1_mp4-2_jpg.rf.c4190142f26673b353ff0012204ffc8e.txt  \n",
            " extracting: valid/labels/2-1_10_jpg.rf.21a7cea34e106d94a02166a71c4e3aaa.txt  \n",
            " extracting: valid/labels/2-1_2_jpg.rf.99498f745669471a746e49551672b995.txt  \n",
            " extracting: valid/labels/2-1_4_jpg.rf.76a95efd12b8b7788b4fc5fb23aea3fc.txt  \n",
            " extracting: valid/labels/2-1_8_jpg.rf.aefd3d2affb36e1ade5df43278d1e2d1.txt  \n",
            " extracting: valid/labels/2-1_9_jpg.rf.11b2a5973471091861f6727a3f9dc79a.txt  \n",
            " extracting: valid/labels/2-2_12_jpg.rf.b1db26e29776119daa0104cdc705a885.txt  \n",
            " extracting: valid/labels/2-2_16_jpg.rf.6d3a83732f4fb706710474465f1ccf4b.txt  \n",
            " extracting: valid/labels/2-2_18_jpg.rf.4a4c839e5db4c97e301320fbbe95640f.txt  \n",
            " extracting: valid/labels/2-2_20_jpg.rf.1e4f4913ce012a70ffeac679a403baeb.txt  \n",
            " extracting: valid/labels/2-2_2_jpg.rf.15312846dd88e822b2aad969724f6e67.txt  \n",
            " extracting: valid/labels/2-2_7_jpg.rf.843d21655a7345d1e696c213689b3c07.txt  \n",
            " extracting: valid/labels/2-2_8_jpg.rf.d6a4100f6cc3c723be345eb6544f868a.txt  \n",
            " extracting: valid/labels/21858508-group-of-real-people-casual-diversity-isolated-on-white-background_jpg.rf.0dca10222907931f856ef31f356c9dfb.txt  \n",
            " extracting: valid/labels/27144-0_png.rf.c2ecaeb896b3d186e4c56551d1a2326a.txt  \n",
            " extracting: valid/labels/27152-0_png.rf.cf67e03e44ede4861a3e77ad3cc07fe1.txt  \n",
            " extracting: valid/labels/27154-0_png.rf.367f1648ffe2b788377939b4bafa7ce7.txt  \n",
            " extracting: valid/labels/27202-0_png.rf.f2c3dfe2174ad710ce709b589f478bca.txt  \n",
            " extracting: valid/labels/27207-0_png.rf.f5b1853f894435ba8ad990553da46127.txt  \n",
            " extracting: valid/labels/27308-0_png.rf.a6b5e9c31acb6263c71a037e8b8e6250.txt  \n",
            " extracting: valid/labels/27326-0_png.rf.6aec392b1a03ccb81fa211018e7a3b4e.txt  \n",
            " extracting: valid/labels/27328-0_png.rf.0a5e551a993d8306bc9043e64ccc3e84.txt  \n",
            " extracting: valid/labels/27335-0_png.rf.ffa1b88947c3864945e64a2f4713dfd3.txt  \n",
            " extracting: valid/labels/27336-0_png.rf.ccc0ead8002b15baf613789fc5551125.txt  \n",
            " extracting: valid/labels/27342-0_png.rf.788ac6c71bd8cf4c3f27ab7dbdb9c481.txt  \n",
            " extracting: valid/labels/27368-0_png.rf.34b9d6c2eddbd838f7c49ec8e22b409e.txt  \n",
            " extracting: valid/labels/27506-0_png.rf.03b834bf3a5ebac61c661693d1bcffae.txt  \n",
            " extracting: valid/labels/27533-0_png.rf.ad7341f56953cbbea90e4a49a68c4cdc.txt  \n",
            " extracting: valid/labels/27539-0_png.rf.65545691c36e67c9c8b9235ebe707a9e.txt  \n",
            " extracting: valid/labels/27541-0_png.rf.8862bd1f9f25d67aa48e9f5150ebf7bd.txt  \n",
            " extracting: valid/labels/27543-0_png.rf.b66d02e8c9790e883024cd64a3985ec3.txt  \n",
            " extracting: valid/labels/27545-0_png.rf.ed8c95fcd58c62e1211d04a089c5f059.txt  \n",
            " extracting: valid/labels/27685-0_png.rf.b41c1a9c435d4ba7929e4754fee7c7f0.txt  \n",
            " extracting: valid/labels/27743-0_png.rf.65b493a59d9747417f1558e0fdb12e7d.txt  \n",
            " extracting: valid/labels/28373-0_png.rf.3638f8c66ee5e917eef2b346888e7435.txt  \n",
            " extracting: valid/labels/28379-0_png.rf.9a472170db617b6fb7ba915cf57b918b.txt  \n",
            " extracting: valid/labels/28401-0_png.rf.7b6e9ccff43c91d2fdb00a3f3eba1b70.txt  \n",
            " extracting: valid/labels/28409-0_png.rf.b619601f2ed53fb033983ecae933c318.txt  \n",
            " extracting: valid/labels/28451-0_png.rf.d76cf258741a26d0bc063e2348b3daa9.txt  \n",
            " extracting: valid/labels/28516-0_png.rf.2ad287e89fd14e2e6e798bb9d8960164.txt  \n",
            " extracting: valid/labels/28521-0_png.rf.d53b1b6165b859c4a0e269ab4ffd3757.txt  \n",
            " extracting: valid/labels/28530-0_png.rf.5d56457e9f65b0dcb23a9034e47e15dc.txt  \n",
            " extracting: valid/labels/28595-0_png.rf.5e383dee4d405b529e3604e80014b6b9.txt  \n",
            " extracting: valid/labels/28598-0_png.rf.410a7831d78558c3ea82b0ffbadb85ef.txt  \n",
            " extracting: valid/labels/28601-0_png.rf.9ba6c7dcd34d6760e8021b83c8bd47a1.txt  \n",
            " extracting: valid/labels/28612-0_png.rf.820257e658c5d18edd3dd25ffc58028f.txt  \n",
            " extracting: valid/labels/28615-0_png.rf.3d6bae3596a2099b1af3f83a0d14b158.txt  \n",
            " extracting: valid/labels/28618-0_png.rf.0b6b39686adc9f61ed577ccacd01fb96.txt  \n",
            " extracting: valid/labels/28619-0_png.rf.5f4791720def1e2f821b425c40105d96.txt  \n",
            " extracting: valid/labels/29769-0_png.rf.c5c88596fb4a61dd6ced050b657da76b.txt  \n",
            " extracting: valid/labels/29804-0_png.rf.620d624f59c9fa6c9f27e089b9f98b16.txt  \n",
            " extracting: valid/labels/29848-0_png.rf.b5cfde004d4f3278079c499e8e039f4b.txt  \n",
            " extracting: valid/labels/29865-0_png.rf.c99d2e39d832d24d18452bc1abba5c9e.txt  \n",
            " extracting: valid/labels/29871-0_png.rf.00a7f35c7a54ebdd2c2beaed3ea8f661.txt  \n",
            " extracting: valid/labels/29913-0_png.rf.2964d5626748b7e0cb0b928318693978.txt  \n",
            " extracting: valid/labels/29926-0_png.rf.cdc40f1cd7c1e8b0600add739de86da6.txt  \n",
            " extracting: valid/labels/29959-0_png.rf.3a12709bd59ddec32feca43be4ca0da1.txt  \n",
            " extracting: valid/labels/29962-0_png.rf.48442ced78bdfcf194ffbd7194348ab9.txt  \n",
            " extracting: valid/labels/29967-0_png.rf.a71bab7ba6dca051631f37754439d7e1.txt  \n",
            " extracting: valid/labels/29973-0_png.rf.1f66697c7b0b1debfbd7f237f346cc9a.txt  \n",
            " extracting: valid/labels/29986-0_png.rf.631e51af2590e646bf883a28ea68d5ec.txt  \n",
            " extracting: valid/labels/3-1_13_jpg.rf.4399f68c9de6964e3789baede58b47d6.txt  \n",
            " extracting: valid/labels/3-1_15_jpg.rf.d42c96f7c5b01b6f124ddf18df667164.txt  \n",
            " extracting: valid/labels/3-1_18_jpg.rf.fbefe81d765f0b989907400ffd6d4118.txt  \n",
            " extracting: valid/labels/3-1_27_jpg.rf.1d53ec2fd1c8fc89f6c673c73f1263e3.txt  \n",
            " extracting: valid/labels/3-1_28_jpg.rf.e4070d551aabafa0b52246835187d856.txt  \n",
            " extracting: valid/labels/3-1_30_jpg.rf.94110cc7636201b19b82b6e70688e071.txt  \n",
            " extracting: valid/labels/3-1_31_jpg.rf.79cf4342aeefb5d8f98303f3bf3ba824.txt  \n",
            " extracting: valid/labels/3-1_3_jpg.rf.655a317aebb0c2055fde12e8ae94f591.txt  \n",
            " extracting: valid/labels/3-1_9_jpg.rf.931517765ec854069cea3518125dd512.txt  \n",
            " extracting: valid/labels/3-2_10_jpg.rf.6cceb114f4b3acf3c3f2bc9d4dc0449f.txt  \n",
            " extracting: valid/labels/3-2_15_jpg.rf.3d318fe4e4aa3c69a9ad299ca4b20ef5.txt  \n",
            " extracting: valid/labels/3-2_20_jpg.rf.2cfc2249b61ef9dc58cd899aa9452921.txt  \n",
            " extracting: valid/labels/3-2_21_jpg.rf.cc10e4c29158b98c451e5a7584af76e4.txt  \n",
            " extracting: valid/labels/3-2_3_jpg.rf.05b3b4341e3bfb1ae497a475687ab80b.txt  \n",
            " extracting: valid/labels/3-2_7_jpg.rf.2392744a15676bf4987ec93d2fdde500.txt  \n",
            " extracting: valid/labels/3-2_9_jpg.rf.f32a2f11b71379d17898e9e6de314c44.txt  \n",
            " extracting: valid/labels/30021-0_png.rf.c041f1e4a5dc04440090f3400b0bbd4f.txt  \n",
            " extracting: valid/labels/30027-0_png.rf.f232ac48183a9b01193789b545f9bc6c.txt  \n",
            " extracting: valid/labels/30035-0_png.rf.6a311a6dc1653cf62e094610731a09e9.txt  \n",
            " extracting: valid/labels/360_F_262210971_GhUPB6ryelh5qJ9K6ZBAlqbLCVC1Zraf_jpg.rf.4ff2c670898226118407e2434db09670.txt  \n",
            " extracting: valid/labels/4-1_13_jpg.rf.a305111beb03b74c1649bc9937272fac.txt  \n",
            " extracting: valid/labels/4-1_14_jpg.rf.dba2e13b48f21cccd482cfd8554f0374.txt  \n",
            " extracting: valid/labels/4-1_16_jpg.rf.450559bce2b27de65fbb0665269c527c.txt  \n",
            " extracting: valid/labels/4-1_17_jpg.rf.c305aed678bffd4a63762d5725055d98.txt  \n",
            " extracting: valid/labels/4-1_18_jpg.rf.13886494c9fe6bd9201faacebf3e42cd.txt  \n",
            " extracting: valid/labels/4-1_1_jpg.rf.00d10eeb51278fde5758efd2f1779eb3.txt  \n",
            " extracting: valid/labels/4-1_20_jpg.rf.b2b50d72afb106654f74990b89280898.txt  \n",
            " extracting: valid/labels/4-1_22_jpg.rf.af619c6e644b00bcc261436c8f6b850c.txt  \n",
            " extracting: valid/labels/4-1_30_jpg.rf.3ab4b42509f56bfbd3539cf28add6022.txt  \n",
            " extracting: valid/labels/4-1_33_jpg.rf.c1a637e031ba2066e372da70a2c758ef.txt  \n",
            " extracting: valid/labels/4-1_5_jpg.rf.d3b107c1cb0a986ccc2cb333acae86ce.txt  \n",
            " extracting: valid/labels/4-1_6_jpg.rf.1c51ab7f68b7c6d2dadbeff40b2e6b70.txt  \n",
            " extracting: valid/labels/4-2_11_jpg.rf.6884631f5159ab728452ea5c591f4aaf.txt  \n",
            " extracting: valid/labels/4-2_11_jpg.rf.8b12c14a9f14ac51f9547ce55946dc32.txt  \n",
            " extracting: valid/labels/4-2_12_jpg.rf.e5d746891eadc29fda15da0797cea90c.txt  \n",
            " extracting: valid/labels/4-2_18_jpg.rf.78964b6bf88d78a9d0395ec78b9b1f2f.txt  \n",
            " extracting: valid/labels/4-2_23_jpg.rf.5115ac41c023c8b7c524776b1d58339c.txt  \n",
            " extracting: valid/labels/4-2_24_jpg.rf.29bfe8587ebc3925cceebc5716df2dee.txt  \n",
            " extracting: valid/labels/4-2_24_jpg.rf.68be5f0e8a4c598607fe146db36194d4.txt  \n",
            " extracting: valid/labels/4-2_27_jpg.rf.918264ff1d41d299875626fc6dabc1d3.txt  \n",
            " extracting: valid/labels/4-2_31_jpg.rf.bcbdc1a3d7b727a132b66c6dd7014523.txt  \n",
            " extracting: valid/labels/4-2_31_jpg.rf.da434d188a8f234349d3e19f2b876046.txt  \n",
            " extracting: valid/labels/4-2_8_jpg.rf.d503047cdb3d665f1f92418670d77cac.txt  \n",
            " extracting: valid/labels/46645-0_png.rf.9b4bcc37cb57e259df02a66149d82d06.txt  \n",
            " extracting: valid/labels/46672-0_png.rf.c7d216dd5d81e37b8b871321e34e1289.txt  \n",
            " extracting: valid/labels/46680-0_png.rf.0bd9cbd263150452dd02e28ca22d5653.txt  \n",
            " extracting: valid/labels/46688-0_png.rf.c77d73d1d84104f3f094d01cac9dd3cf.txt  \n",
            " extracting: valid/labels/46696-0_png.rf.fe55fcc4439235bdc73a379d1f3f1d0e.txt  \n",
            " extracting: valid/labels/46768-0_png.rf.49ddb643ae7aad51e996c14b000c0ab1.txt  \n",
            " extracting: valid/labels/46941-0_png.rf.d540606b7a96c29596c350e4f20d0162.txt  \n",
            " extracting: valid/labels/50870-0_png.rf.1733005329447c338d3d56beb14e2112.txt  \n",
            " extracting: valid/labels/50871-0_png.rf.f796a4d9e0456dae8927b022f106a4f1.txt  \n",
            " extracting: valid/labels/51014-0_png.rf.e8313eb3ebee8b98860181e10bb0f520.txt  \n",
            " extracting: valid/labels/51030-0_png.rf.41132b6be258b82383285656fc8ba145.txt  \n",
            " extracting: valid/labels/51037-0_png.rf.c074889ed2956bdacc4a3fe96a7e9613.txt  \n",
            " extracting: valid/labels/51200-0_png.rf.340a199488671961aa596020862469d9.txt  \n",
            " extracting: valid/labels/51205-0_png.rf.6a2d70995b1c9194dd0839f8815815a2.txt  \n",
            " extracting: valid/labels/51209-0_png.rf.5e20d544218d3c774452e2c08d1ebd94.txt  \n",
            " extracting: valid/labels/51465-0_png.rf.a79c9902fcdfbd4e763237b65cd78da5.txt  \n",
            " extracting: valid/labels/51477-0_png.rf.efc435ea112a1805785a2b84d2ccd2aa.txt  \n",
            " extracting: valid/labels/678fc132f9bb6e2b32cbafc417780304_jpg.rf.9f0a43c2a6f8db075ca7cdf19517be89.txt  \n",
            " extracting: valid/labels/75-751594_man-walking-old-man-cutout-back-old-people_jpg.rf.7ae5b764dfb9b349ea289ebe8689cdd6.txt  \n",
            " extracting: valid/labels/9141-0_png.rf.ebec3fac31997f3a59a1249d91cda297.txt  \n",
            " extracting: valid/labels/9296-0_png.rf.fc5b63453b4baa3c3b518b18c706dfe4.txt  \n",
            " extracting: valid/labels/9296_png.rf.5c7fadce99b11ae48e9edf01619e4442.txt  \n",
            " extracting: valid/labels/9308_png.rf.5df6f131cd9e31a31491ff593de0e792.txt  \n",
            " extracting: valid/labels/9309_png.rf.d9a2b41da51b14cb8e1fe1ac9141ba40.txt  \n",
            " extracting: valid/labels/9316_png.rf.a389cd796aad99d3d5169d8316be8d17.txt  \n",
            " extracting: valid/labels/9317_png.rf.98de41758e881df0017834f9cdb9e06f.txt  \n",
            " extracting: valid/labels/9321_png.rf.a6e016c3dbd8353d54cc104eef966723.txt  \n",
            " extracting: valid/labels/9kamera-biskvi-ikolata-Trim_mp4-100_jpg.rf.21c4004e96b5d98a423df02d7af318f5.txt  \n",
            " extracting: valid/labels/9kamera-biskvi-ikolata-Trim_mp4-106_jpg.rf.d2a4be030093279d948fdd219b08a4a5.txt  \n",
            " extracting: valid/labels/9kamera-biskvi-ikolata-Trim_mp4-46_jpg.rf.fef6e33519473a1dee5342468f548f1a.txt  \n",
            " extracting: valid/labels/9kamera-biskvi-ikolata-Trim_mp4-58_jpg.rf.04c0b7309e01b010aeda8fb797e05b8d.txt  \n",
            " extracting: valid/labels/DSC_1068_jpg.rf.fc765119a86abe789b410f074714df7e.txt  \n",
            " extracting: valid/labels/GENZ_jpg.rf.5c2f4c3c35986f7fb17f646fa66a3180.txt  \n",
            " extracting: valid/labels/c89c4477-3-1631438_jpg.rf.8f4aefb7c52e95d959c3dbd52002af90.txt  \n",
            " extracting: valid/labels/close-up-of-unrecognizable-woman-in-stripped-skirt-hiding-apple-in-pocket-while-stealing-it-in-food-store-R0MP53_jpg.rf.89ecbaa9846e0c78cf27a87898d008fd.txt  \n",
            " extracting: valid/labels/close-up-the-consumer-thiefs-hands-putting-the-new-gadget-in-the-pocket-in-the-store-2AETMAX_jpg.rf.98ff8bb79b872f303202d3316388f7bb.txt  \n",
            " extracting: valid/labels/d2drt0_jpg.rf.f9343def29197045c8dc13b889fe1134.txt  \n",
            " extracting: valid/labels/e7cf8a8a344674bcc1145dec1a90ab6d_jpg.rf.893c29ae5cf99b97ec0c55f65af96e91.txt  \n",
            " extracting: valid/labels/gettyimages-129311948-612x612_jpg.rf.9a86191153db755eedbfdd88cdf3c37b.txt  \n",
            " extracting: valid/labels/image_1011_jpg.rf.6424a72be727f69a06f72f3c5cebfb7b.txt  \n",
            " extracting: valid/labels/image_1011_jpg.rf.a500dc48a8a0b7b993d59b262e577f34.txt  \n",
            " extracting: valid/labels/image_1015_jpg.rf.4de4e9601787a0c6eefdf81849dda27f.txt  \n",
            " extracting: valid/labels/image_1018_jpg.rf.06ee6c794f07a621ad513277951c531a.txt  \n",
            " extracting: valid/labels/image_1019_jpg.rf.4974f899a578bb671157252c958db1b3.txt  \n",
            " extracting: valid/labels/image_1021_jpg.rf.9c717a7a6fee2d3a0642aef21f506e5e.txt  \n",
            " extracting: valid/labels/image_1022_jpg.rf.56ab5b70955b864b72a3ffa0ab78ccb1.txt  \n",
            " extracting: valid/labels/image_1024_jpg.rf.e95472aae0a738c0b901892558d4c314.txt  \n",
            " extracting: valid/labels/image_1025_jpg.rf.396b5f6f3bb7fd225f1425c892264dd9.txt  \n",
            " extracting: valid/labels/image_1026_jpg.rf.1d0b8766a1a2ec853beed6bd9cd0fa77.txt  \n",
            " extracting: valid/labels/image_102_jpg.rf.38d9ca2566d972e3e1a824e121e5e14a.txt  \n",
            " extracting: valid/labels/image_1038_jpg.rf.882ee9e6182f999306e3ddb5b35f499a.txt  \n",
            " extracting: valid/labels/image_1041_jpg.rf.a09223163aa01ee5980ea9055eec0a4c.txt  \n",
            " extracting: valid/labels/image_1044_jpg.rf.bce08113e8304a2fad6bd9d426a3aeb9.txt  \n",
            " extracting: valid/labels/image_1052_jpg.rf.46edb5bb20d46ed11a91747897ad98de.txt  \n",
            " extracting: valid/labels/image_1053_jpg.rf.165400c169f7f51f236e43dc402af9aa.txt  \n",
            " extracting: valid/labels/image_1058_jpg.rf.a4f7644a4377ae175b035863fa9b81ac.txt  \n",
            " extracting: valid/labels/image_1060_jpg.rf.3c98265e1736c3b6bc3622887d7bfa83.txt  \n",
            " extracting: valid/labels/image_1061_jpg.rf.daa02e49a2d4310351b28534a05ea30a.txt  \n",
            " extracting: valid/labels/image_1064_jpg.rf.831626d0afc55f636e43b277d521d0f9.txt  \n",
            " extracting: valid/labels/image_1065_jpg.rf.85bad1868847ce456c5953400212d68c.txt  \n",
            " extracting: valid/labels/image_1068_jpg.rf.6921f4646f5dba9425a97be93b3f4a14.txt  \n",
            " extracting: valid/labels/image_1069_jpg.rf.85acf5a1087a6b8839afbcd7bdf2dedf.txt  \n",
            " extracting: valid/labels/image_1070_jpg.rf.993508f49c1950c674b180aad95badcb.txt  \n",
            " extracting: valid/labels/image_1072_jpg.rf.dfe774d2c87cc3cc47a598582d200571.txt  \n",
            " extracting: valid/labels/image_107_jpg.rf.18a7e70d537441ca26eaccce44205964.txt  \n",
            " extracting: valid/labels/image_1081_jpg.rf.fdeeab2b75e7f87077fd1005a9d5aeb0.txt  \n",
            " extracting: valid/labels/image_1082_jpg.rf.f29458e374a7a8de568ee5dd96ffdfac.txt  \n",
            " extracting: valid/labels/image_1085_jpg.rf.82c65b4178b3a63f569a527b4bb7042e.txt  \n",
            " extracting: valid/labels/image_1089_jpg.rf.c5608b3a3c44ccb1628006c86e1537c6.txt  \n",
            " extracting: valid/labels/image_1096_jpg.rf.1173c43edc52a44ed95b94b61968ffce.txt  \n",
            " extracting: valid/labels/image_1101_jpg.rf.7f56191b156b8d8b47ae4efdc6005704.txt  \n",
            " extracting: valid/labels/image_1102_jpg.rf.bc3424013c24466581935d209a729417.txt  \n",
            " extracting: valid/labels/image_1106_jpg.rf.d21a6d82e9bac00f294aec57fcc41098.txt  \n",
            " extracting: valid/labels/image_110_jpg.rf.654449536b1d7cce88af99f5c1e46e4e.txt  \n",
            " extracting: valid/labels/image_1110_jpg.rf.3db358a7ee13904fca76bffa7e185bf2.txt  \n",
            " extracting: valid/labels/image_1115_jpg.rf.7896bd8549a4d4cfc5488917c72f5ef7.txt  \n",
            " extracting: valid/labels/image_1117_jpg.rf.7b307f968255201987692136517180e2.txt  \n",
            " extracting: valid/labels/image_1117_jpg.rf.89866358c7c6d6aadbea9761d5b3c282.txt  \n",
            " extracting: valid/labels/image_1120_jpg.rf.e1a3b2ee514bc1c039fcc7b62182ea50.txt  \n",
            " extracting: valid/labels/image_1121_jpg.rf.87dc441ace6ed980be73e16251e402d0.txt  \n",
            " extracting: valid/labels/image_1122_jpg.rf.19ca97b53d84a6daea8565c7f000f929.txt  \n",
            " extracting: valid/labels/image_1128_jpg.rf.ced74fc9a05e0b17af87b4531c3da2ac.txt  \n",
            " extracting: valid/labels/image_1132_jpg.rf.083c29937719b44b3bb79030a9a49537.txt  \n",
            " extracting: valid/labels/image_1133_jpg.rf.4006ffbaeacba09b945166888b250d45.txt  \n",
            " extracting: valid/labels/image_1134_jpg.rf.46c70f0cde9f8b1666b0f14d88aa4eb5.txt  \n",
            " extracting: valid/labels/image_1136_jpg.rf.960703fc1059cd87989a1e3bd9251890.txt  \n",
            " extracting: valid/labels/image_1137_jpg.rf.c72d827c191cad5e5048364b733fd611.txt  \n",
            " extracting: valid/labels/image_1138_jpg.rf.2de34380af1d6710c14094ff4b481222.txt  \n",
            " extracting: valid/labels/image_1141_jpg.rf.9180e5fe34c914867830c2cd0c1644a9.txt  \n",
            " extracting: valid/labels/image_115_jpg.rf.4ea3a4d4a5cd4f6fbd5579ce8181711f.txt  \n",
            " extracting: valid/labels/image_117_jpg.rf.e7da90d508f319495638bd6919d0f1c4.txt  \n",
            " extracting: valid/labels/image_124_jpg.rf.8b827e855f871dd414d1bee55ee88fa5.txt  \n",
            " extracting: valid/labels/image_124_jpg.rf.de0900675bf688c0073cb0791ff7ddf5.txt  \n",
            " extracting: valid/labels/image_128_jpg.rf.facea0f51fc1f42dc3fb368b5e309f0b.txt  \n",
            " extracting: valid/labels/image_129_jpg.rf.d68c0ebe6419356785042df2e0f1e410.txt  \n",
            " extracting: valid/labels/image_133_jpg.rf.030a99290a4f6b3c84ee6b71c485b019.txt  \n",
            " extracting: valid/labels/image_144_jpg.rf.6e702ba5f856981fc4ce730568d7dfb2.txt  \n",
            " extracting: valid/labels/image_145_jpg.rf.12c39f1f023e463e595c16570198b678.txt  \n",
            " extracting: valid/labels/image_14_jpg.rf.6114cd1d98849d7168590d7e47818053.txt  \n",
            " extracting: valid/labels/image_151_jpg.rf.fcbb79fbfeb3d01537075cc07f55393a.txt  \n",
            " extracting: valid/labels/image_154_jpg.rf.c0ec2fc5de125d29aa073e45fe71eb44.txt  \n",
            " extracting: valid/labels/image_159_jpg.rf.c254d06c4ea03ad2e40ace99fe5a477e.txt  \n",
            " extracting: valid/labels/image_163_jpg.rf.44a04f514fc2ffc7460b3eaa0e3a71f0.txt  \n",
            " extracting: valid/labels/image_17_jpg.rf.d04a58f0bc9b8e8a71ac30b068c9888b.txt  \n",
            " extracting: valid/labels/image_182_jpg.rf.32d756b368bab4f908597859877bea6d.txt  \n",
            " extracting: valid/labels/image_183_jpg.rf.7ef29c7f4ebdce1cb6e78326bda04a4b.txt  \n",
            " extracting: valid/labels/image_187_jpg.rf.05605b47324a3fcea4fa0f8226b3aa1b.txt  \n",
            " extracting: valid/labels/image_193_jpg.rf.db6c84873aa1df0d799dc0d5a2ced4cd.txt  \n",
            " extracting: valid/labels/image_199_jpg.rf.965471854bc97223389f199def21f02e.txt  \n",
            " extracting: valid/labels/image_1_jpg.rf.fe9dbf58b8eb141111dcb3e3d6df1bd2.txt  \n",
            " extracting: valid/labels/image_205_jpg.rf.4a5becd1dd774fcf5c0f99aa12ae38e8.txt  \n",
            " extracting: valid/labels/image_207_jpg.rf.4c783e7fcfcecf359b24dbdb103cd979.txt  \n",
            " extracting: valid/labels/image_208_jpg.rf.99c013a2e019b63339629eb98a92f05a.txt  \n",
            " extracting: valid/labels/image_20_jpg.rf.e4daaec3d9ffbf1133944e061778535c.txt  \n",
            " extracting: valid/labels/image_213_jpg.rf.6dd1eab70e97ac2a48bba477f9a12d02.txt  \n",
            " extracting: valid/labels/image_214_jpg.rf.3264d45ac77dd51a371e448764763fb4.txt  \n",
            " extracting: valid/labels/image_215_jpg.rf.1b6ca52e5d679ca73e60fe6e5b8a0cd7.txt  \n",
            " extracting: valid/labels/image_215_jpg.rf.e58ce1c621b3d2dff17da8c14bf62683.txt  \n",
            " extracting: valid/labels/image_219_jpg.rf.d7d74a83baab6c9d92d4c62922e66517.txt  \n",
            " extracting: valid/labels/image_221_jpg.rf.521fc19e37042bfcc44e0dc673ccc819.txt  \n",
            " extracting: valid/labels/image_226_jpg.rf.c1928e5c08175389627d4599fd860068.txt  \n",
            " extracting: valid/labels/image_232_jpg.rf.d61f3d23781132b3ea632f02143e176d.txt  \n",
            " extracting: valid/labels/image_234_jpg.rf.89fcab568d6e74bd657e47ad7a186386.txt  \n",
            " extracting: valid/labels/image_238_jpg.rf.5d3b78b67fb54bac281fabf78a8e833e.txt  \n",
            " extracting: valid/labels/image_239_jpg.rf.8f29b014d5c253911219c85410f0b454.txt  \n",
            " extracting: valid/labels/image_243_jpg.rf.4bda3481cd2769cb5b21e4b19e6ea7f2.txt  \n",
            " extracting: valid/labels/image_245_jpg.rf.2fb7513792fca869187738f7933bf99c.txt  \n",
            " extracting: valid/labels/image_245_jpg.rf.a001cc59c05ac3e6c91ac583645e14e0.txt  \n",
            " extracting: valid/labels/image_249_jpg.rf.0f4df717a4101dad25dc84ef32a37be5.txt  \n",
            " extracting: valid/labels/image_252_jpg.rf.1645f4415f9f66f4a752030cf94e9f2f.txt  \n",
            " extracting: valid/labels/image_253_jpg.rf.42793d17c83efb87ce6368dfa32044db.txt  \n",
            " extracting: valid/labels/image_256_jpg.rf.6cc464c1ac9fce0475cabfb013eed92a.txt  \n",
            " extracting: valid/labels/image_258_jpg.rf.c5999492143f4795883038bbf77660ab.txt  \n",
            " extracting: valid/labels/image_259_jpg.rf.40fe6ddf457b9d0cfb73e65afcfde18c.txt  \n",
            " extracting: valid/labels/image_263_jpg.rf.44b5fdbe71950d75c505218aeecd2c66.txt  \n",
            " extracting: valid/labels/image_267_jpg.rf.c2e6bd14feb8f438c28fac736c4d02c1.txt  \n",
            " extracting: valid/labels/image_268_jpg.rf.234cf81435e6a2d60fb419b6cf152ad5.txt  \n",
            " extracting: valid/labels/image_271_jpg.rf.898e307db9692c1ed7b7f5bd7cf0da55.txt  \n",
            " extracting: valid/labels/image_274_jpg.rf.fef4d15764cea4583d45d1c93f3f8450.txt  \n",
            " extracting: valid/labels/image_276_jpg.rf.1360b34e8f60a06ab48526c214248486.txt  \n",
            " extracting: valid/labels/image_282_jpg.rf.60b0ae66ba38cb2c99b5d6e4ebfd088c.txt  \n",
            " extracting: valid/labels/image_283_jpg.rf.9d061aa2de8026ad35bc9ae98bbc317e.txt  \n",
            " extracting: valid/labels/image_285_jpg.rf.c60be41c8bb947e0273c533175ee2dd7.txt  \n",
            " extracting: valid/labels/image_287_jpg.rf.7dac4d482ae7079f91c6b71f27ce672e.txt  \n",
            " extracting: valid/labels/image_288_jpg.rf.bb74bd0efc01f9ebc7e77d75cc77694c.txt  \n",
            " extracting: valid/labels/image_303_jpg.rf.3aeaafc938b155d6b801b232c5f2fee2.txt  \n",
            " extracting: valid/labels/image_307_jpg.rf.0d12dd976918e6f253d266e218d325b3.txt  \n",
            " extracting: valid/labels/image_310_jpg.rf.050cb553a6ebfa265a0ae5f187281b53.txt  \n",
            " extracting: valid/labels/image_310_jpg.rf.28d4518a42dc4eb8360e8caa64089f86.txt  \n",
            " extracting: valid/labels/image_317_jpg.rf.0550a3f4c013466d44a1edff4d707698.txt  \n",
            " extracting: valid/labels/image_320_jpg.rf.d62a29ea0097426497d7633ffb7ff136.txt  \n",
            " extracting: valid/labels/image_322_jpg.rf.57b3f3ee7ed3828f91c5c026f026886c.txt  \n",
            " extracting: valid/labels/image_326_jpg.rf.568c65416c9d9894002bdb57504dd323.txt  \n",
            " extracting: valid/labels/image_327_jpg.rf.4f017d0fafca679ffb7fc5d7aa2b4d29.txt  \n",
            " extracting: valid/labels/image_331_jpg.rf.af1b71098a1beec68de2f720fd57e490.txt  \n",
            " extracting: valid/labels/image_333_jpg.rf.f78db559526b921e2a593f91a6c53e36.txt  \n",
            " extracting: valid/labels/image_338_jpg.rf.b67ccb179db11e62919eac0f1354eeac.txt  \n",
            " extracting: valid/labels/image_346_jpg.rf.7bfa555da1e6933a334fac5e980b083e.txt  \n",
            " extracting: valid/labels/image_347_jpg.rf.12ef5169b5ff2d598dd0d096e96d4dee.txt  \n",
            " extracting: valid/labels/image_347_jpg.rf.8bdedec4c95141088fdb39952eed4bcf.txt  \n",
            " extracting: valid/labels/image_349_jpg.rf.f160398de3cfbd7e0b106032f950574e.txt  \n",
            " extracting: valid/labels/image_350_jpg.rf.8f2c7848c5be383fce3344cb7dba003a.txt  \n",
            " extracting: valid/labels/image_353_jpg.rf.ba6211f169214a603db6040734d6f4d8.txt  \n",
            " extracting: valid/labels/image_354_jpg.rf.896f451d60822d32e1aea24b78fd9c94.txt  \n",
            " extracting: valid/labels/image_355_jpg.rf.14e6f2ea3108631856fc018d65c11c56.txt  \n",
            " extracting: valid/labels/image_357_jpg.rf.4b2c9ee7a36631b25806de49b4599738.txt  \n",
            " extracting: valid/labels/image_359_jpg.rf.150e716bcf14cfb06bfebd10b87b468f.txt  \n",
            " extracting: valid/labels/image_364_jpg.rf.196c94fb2b44129a54b9954ef8b1c1ab.txt  \n",
            " extracting: valid/labels/image_365_jpg.rf.59e2145bb08d0f26ee9118a144c362ff.txt  \n",
            " extracting: valid/labels/image_367_jpg.rf.6058b4ee3a56da3a2fcbb623282344b7.txt  \n",
            " extracting: valid/labels/image_367_jpg.rf.8529942d3d8c4563e49472f70dfadc2a.txt  \n",
            " extracting: valid/labels/image_36_jpg.rf.38c046c1f4ff27d33780603dd885e7db.txt  \n",
            " extracting: valid/labels/image_374_jpg.rf.6b726d5688c55cbd3c09d93efdd45f22.txt  \n",
            " extracting: valid/labels/image_375_jpg.rf.31a8cef2aad46e4617c14e296bf96d65.txt  \n",
            " extracting: valid/labels/image_381_jpg.rf.fc642760888eae1eb2df9e376194acf2.txt  \n",
            " extracting: valid/labels/image_382_jpg.rf.5d5e146e16428291fb49f199d6257818.txt  \n",
            " extracting: valid/labels/image_387_jpg.rf.d8cf9bcc3ca1c60b81fd3f174e28419c.txt  \n",
            " extracting: valid/labels/image_397_jpg.rf.a708fc69654c0495464b5b8fe7242d74.txt  \n",
            " extracting: valid/labels/image_39_jpg.rf.5a10a4882236bcbaa51f5b463a802e49.txt  \n",
            " extracting: valid/labels/image_402_jpg.rf.1bdf9629ce6d5f297aecd5230acfef8b.txt  \n",
            " extracting: valid/labels/image_404_jpg.rf.b978881478aa7c075ec77cdb0221777b.txt  \n",
            " extracting: valid/labels/image_409_jpg.rf.4ab920412fd3529d9f4534f4792d7ae2.txt  \n",
            " extracting: valid/labels/image_413_jpg.rf.cc1c5f6e23f4715a9b0fd7f50e01bc3f.txt  \n",
            " extracting: valid/labels/image_415_jpg.rf.5027ce0cfad2d130f50da4ed8468e38d.txt  \n",
            " extracting: valid/labels/image_416_jpg.rf.decc080d7d5e42aacef315f321f4b90d.txt  \n",
            " extracting: valid/labels/image_417_jpg.rf.ede70619b2434c0f8c59005b8d5cf253.txt  \n",
            " extracting: valid/labels/image_420_jpg.rf.80e7dfb8c8c3eb5c8e5c26067a466924.txt  \n",
            " extracting: valid/labels/image_421_jpg.rf.dd33a7cdf791ad1677dc23ea2d035a8d.txt  \n",
            " extracting: valid/labels/image_423_jpg.rf.54a7b4b6922c0fae42e80124963e8c35.txt  \n",
            " extracting: valid/labels/image_425_jpg.rf.334a7c04dc62b1dd0868a1c8f4d9cbc6.txt  \n",
            " extracting: valid/labels/image_428_jpg.rf.9c06bfc1a243a7f5431b27c2cf373786.txt  \n",
            " extracting: valid/labels/image_429_jpg.rf.42853bce780761bf193d88d89a63df1d.txt  \n",
            " extracting: valid/labels/image_42_jpg.rf.8de043413d04008d2c1f4f4698b741b2.txt  \n",
            " extracting: valid/labels/image_430_jpg.rf.dc1a48f474064273ab7fac9b51f08c3a.txt  \n",
            " extracting: valid/labels/image_440_jpg.rf.d8f269cbdd1be324dfea9a4f4afc8d50.txt  \n",
            " extracting: valid/labels/image_445_jpg.rf.eca3cf693727e70058b224e663144bfb.txt  \n",
            " extracting: valid/labels/image_447_jpg.rf.96f2b4140187d134f7f4381bebd01ad4.txt  \n",
            " extracting: valid/labels/image_449_jpg.rf.24cb5cde46ffb9d275cd5c63ac790b70.txt  \n",
            " extracting: valid/labels/image_454_jpg.rf.b1098efbabaf209626e260bcfc645d4d.txt  \n",
            " extracting: valid/labels/image_464_jpg.rf.efefd1d6f457e1181e7ceaa928bce968.txt  \n",
            " extracting: valid/labels/image_46_jpg.rf.5ab00a508f2865c93eac9f36e125a709.txt  \n",
            " extracting: valid/labels/image_471_jpg.rf.e92f3768e62f18f46bd716ea917f4858.txt  \n",
            " extracting: valid/labels/image_473_jpg.rf.9f33f992e6a11d39228019b397beb995.txt  \n",
            " extracting: valid/labels/image_474_jpg.rf.85a22047b691ac92e9de61fcad0604c8.txt  \n",
            " extracting: valid/labels/image_479_jpg.rf.474bd5759686ca18c90b6546b7c737e7.txt  \n",
            " extracting: valid/labels/image_483_jpg.rf.c6fdb3cad881958f680fced9d237c497.txt  \n",
            " extracting: valid/labels/image_485_jpg.rf.f812dbbc7ca9536f7c064be9eb38be5b.txt  \n",
            " extracting: valid/labels/image_487_jpg.rf.6e1d0ff1d61b2c24fbf57cbdc3360af2.txt  \n",
            " extracting: valid/labels/image_491_jpg.rf.22f597a4639eb0b939e73867b8baa103.txt  \n",
            " extracting: valid/labels/image_496_jpg.rf.770f1a94d4b4f18be01963323d8c4df8.txt  \n",
            " extracting: valid/labels/image_497_jpg.rf.0145e0e30904422c0a9a420c9fc0a1b0.txt  \n",
            " extracting: valid/labels/image_500_jpg.rf.072abff1e053f3831a37daf5808dbdf0.txt  \n",
            " extracting: valid/labels/image_500_jpg.rf.9977d462f940e29fd58c9ba088ebeff9.txt  \n",
            " extracting: valid/labels/image_505_jpg.rf.6c6082c6e1167aa4bde3373cb53c3f13.txt  \n",
            " extracting: valid/labels/image_509_jpg.rf.d08b8797d917e3c6c182387c444086c0.txt  \n",
            " extracting: valid/labels/image_513_jpg.rf.bfa6d9e957a29490afa326bec89a95cf.txt  \n",
            " extracting: valid/labels/image_513_jpg.rf.fea82402517498447106467386dbf794.txt  \n",
            " extracting: valid/labels/image_514_jpg.rf.82b79ee0b48b5414addcae9c1f71b86e.txt  \n",
            " extracting: valid/labels/image_522_jpg.rf.f21ecf75285e6173fe566026413c4c94.txt  \n",
            " extracting: valid/labels/image_524_jpg.rf.331461a7b1b3abd16048d797c42d0f07.txt  \n",
            " extracting: valid/labels/image_548_jpg.rf.9c1ec1b284b2a68ffbcd8ef088da93d1.txt  \n",
            " extracting: valid/labels/image_549_jpg.rf.684e639a0d04c462fd00784a0f2ef363.txt  \n",
            " extracting: valid/labels/image_556_jpg.rf.48cf0bd5924e22fa68967c4674e46ea9.txt  \n",
            " extracting: valid/labels/image_556_jpg.rf.adf2c58990a6a9413c7aafbf9a28bec7.txt  \n",
            " extracting: valid/labels/image_557_jpg.rf.3cdcbba90c51d59b04e46678106aa36b.txt  \n",
            " extracting: valid/labels/image_558_jpg.rf.34be37dcb94e3bdc1cbb490e89e63c5c.txt  \n",
            " extracting: valid/labels/image_560_jpg.rf.ce1088dee6ebce69f464633981e66249.txt  \n",
            " extracting: valid/labels/image_562_jpg.rf.7967e725cb016b444754f5ed07d79cd2.txt  \n",
            " extracting: valid/labels/image_563_jpg.rf.67baec884b593c9ae201cb62a6efb503.txt  \n",
            " extracting: valid/labels/image_565_jpg.rf.1e3538e19ad105f9631dbb949e4a490b.txt  \n",
            " extracting: valid/labels/image_568_jpg.rf.47cf7f38d3faab1a93c46786b8ec6a1f.txt  \n",
            " extracting: valid/labels/image_568_jpg.rf.ac02628e2df9e3a8ac9107e0dc1edf3d.txt  \n",
            " extracting: valid/labels/image_569_jpg.rf.d5603e0797383c76fb5ec292c2930077.txt  \n",
            " extracting: valid/labels/image_572_jpg.rf.68549556d56fda3dc0e2d591a80824ec.txt  \n",
            " extracting: valid/labels/image_573_jpg.rf.a2069c36c0551e806541a3c41dcd0c72.txt  \n",
            " extracting: valid/labels/image_574_jpg.rf.c62e2d0f44e5426dca7dedcba74ecee2.txt  \n",
            " extracting: valid/labels/image_588_jpg.rf.3c271b72b686ca206abc5b2c7c7ebfb4.txt  \n",
            " extracting: valid/labels/image_58_jpg.rf.fb7d042d4fe90e38a7926507b0716c88.txt  \n",
            " extracting: valid/labels/image_590_jpg.rf.406b6f1019998ab482de1aa6421a5f86.txt  \n",
            " extracting: valid/labels/image_590_jpg.rf.b91424255c0fc278973c404951746371.txt  \n",
            " extracting: valid/labels/image_595_jpg.rf.d0c5c47841ffb5c0b298f16cd2caa42c.txt  \n",
            " extracting: valid/labels/image_596_jpg.rf.d2f27d1a7661ebdf25c1ed1cd0e73d1e.txt  \n",
            " extracting: valid/labels/image_59_jpg.rf.332df1f28874b22534c9ba3eb355d32f.txt  \n",
            " extracting: valid/labels/image_604_jpg.rf.7a87ad500cfd25520e27b655fe5a1455.txt  \n",
            " extracting: valid/labels/image_607_jpg.rf.807c704b351bd09ac1cfe05c338f15a5.txt  \n",
            " extracting: valid/labels/image_609_jpg.rf.8f6109c07b8466bc3f1ff349da13e611.txt  \n",
            " extracting: valid/labels/image_611_jpg.rf.890b4e77a74c7b9fde5f454eb7a77d26.txt  \n",
            " extracting: valid/labels/image_612_jpg.rf.d0491f4b68f6bd44a16dbd56627c2e75.txt  \n",
            " extracting: valid/labels/image_61_jpg.rf.7eb5ba23444776660ce121c4685bf877.txt  \n",
            " extracting: valid/labels/image_621_jpg.rf.05d6997fe7a8d69c4b6b76a652f83113.txt  \n",
            " extracting: valid/labels/image_622_jpg.rf.d49bb2c54ff023be35d76c1e2800a00a.txt  \n",
            " extracting: valid/labels/image_624_jpg.rf.118229fa6e9bfda823700243b3c69579.txt  \n",
            " extracting: valid/labels/image_625_jpg.rf.2b433574ddfc17c131c0b02f61766c23.txt  \n",
            " extracting: valid/labels/image_625_jpg.rf.db399db17668f7d41618ec310d8a13eb.txt  \n",
            " extracting: valid/labels/image_62_jpg.rf.6387ba5792225066fd49706453591366.txt  \n",
            " extracting: valid/labels/image_631_jpg.rf.0ec843a2f9adc0954b1ef22bf8eac02b.txt  \n",
            " extracting: valid/labels/image_633_jpg.rf.bddc7a1d74279f51164d34e1a86da740.txt  \n",
            " extracting: valid/labels/image_636_jpg.rf.511ecc153acdd377f8c25a8cfd75de04.txt  \n",
            " extracting: valid/labels/image_636_jpg.rf.a1e3afffd8c8cda88f9bd681d233a8b9.txt  \n",
            " extracting: valid/labels/image_642_jpg.rf.8de5e72141f8b0be61b8e5714b0daf36.txt  \n",
            " extracting: valid/labels/image_642_jpg.rf.fad069c2047e5747bf811d22170becee.txt  \n",
            " extracting: valid/labels/image_643_jpg.rf.83f59e5b0074a5e514b65a5cf776679b.txt  \n",
            " extracting: valid/labels/image_649_jpg.rf.2d56d6702999daf361780b24dc56320a.txt  \n",
            " extracting: valid/labels/image_650_jpg.rf.1297a4afff1a041ed674f7ddf35696db.txt  \n",
            " extracting: valid/labels/image_650_jpg.rf.b1b5f7d4d375fad5c655ea6b03e1047d.txt  \n",
            " extracting: valid/labels/image_652_jpg.rf.235e09df00e935f7030363ad802be3df.txt  \n",
            " extracting: valid/labels/image_653_jpg.rf.db09db651ccd99e3002a1ea92da97dba.txt  \n",
            " extracting: valid/labels/image_654_jpg.rf.47472b0ebb92bf5aaa8933c9290eb0a3.txt  \n",
            " extracting: valid/labels/image_66_jpg.rf.bda7c953bf0c6ed1f83fa5f16f1a8a68.txt  \n",
            " extracting: valid/labels/image_670_jpg.rf.77a33c210edf0d91c8750f65ce3eaaaa.txt  \n",
            " extracting: valid/labels/image_673_jpg.rf.0ab293fd914033c61788432961901b37.txt  \n",
            " extracting: valid/labels/image_673_jpg.rf.d826f35ff4152a3dd3152cddf2923c3d.txt  \n",
            " extracting: valid/labels/image_678_jpg.rf.dcc813c7c6bdde78f6f8ab1ef268cf0e.txt  \n",
            " extracting: valid/labels/image_683_jpg.rf.c76435feebe1bbe881c3a64f9823f19c.txt  \n",
            " extracting: valid/labels/image_685_jpg.rf.ab5929b7f4a2b6931ba21d90c2174112.txt  \n",
            " extracting: valid/labels/image_686_jpg.rf.fe860296035b6ff132d95849b9c7d8ef.txt  \n",
            " extracting: valid/labels/image_687_jpg.rf.d36fc1d2cde9313647eb7a936571a7e2.txt  \n",
            " extracting: valid/labels/image_695_jpg.rf.14b5090dd31ff9b64ca59e9e9a95a824.txt  \n",
            " extracting: valid/labels/image_695_jpg.rf.be51c0c456bee0e5271a8a028fab238d.txt  \n",
            " extracting: valid/labels/image_696_jpg.rf.20abf85a1c90c99062b979985cad3304.txt  \n",
            " extracting: valid/labels/image_696_jpg.rf.5e27ba05308807c97f12b5e3ac646b64.txt  \n",
            " extracting: valid/labels/image_697_jpg.rf.5fd4a6f3f74c8561162fb049928cb3c7.txt  \n",
            " extracting: valid/labels/image_698_jpg.rf.4348177a68127ad2434ee4dfca37e5a0.txt  \n",
            " extracting: valid/labels/image_698_jpg.rf.68170c3fd803439e09f02d500e809715.txt  \n",
            " extracting: valid/labels/image_699_jpg.rf.449c34ccaf584d43172f10923a4d2e7c.txt  \n",
            " extracting: valid/labels/image_699_jpg.rf.c056f03e90849de29ed6dab8dfcee500.txt  \n",
            " extracting: valid/labels/image_69_jpg.rf.2929344da319b33bfe448f5fc0b39cdc.txt  \n",
            " extracting: valid/labels/image_69_jpg.rf.7aee61bc0aaa383dbe35351159772e0f.txt  \n",
            " extracting: valid/labels/image_704_jpg.rf.973860ae9bfcdcc6b953fd44a5f79475.txt  \n",
            " extracting: valid/labels/image_707_jpg.rf.23e13c8efe32b3322e5e8ff066604664.txt  \n",
            " extracting: valid/labels/image_710_jpg.rf.ea08ae5349b2c94bdd59a479aa60bff9.txt  \n",
            " extracting: valid/labels/image_711_jpg.rf.19b2a3227132824be61c105d717e1b1e.txt  \n",
            " extracting: valid/labels/image_713_jpg.rf.6963c8561ebdd25d68432e642979d338.txt  \n",
            " extracting: valid/labels/image_717_jpg.rf.44d2cdbfa7f4b14277ebca6ae1148e9f.txt  \n",
            " extracting: valid/labels/image_721_jpg.rf.9562a10962b38778e0dd0fc404ef2ac3.txt  \n",
            " extracting: valid/labels/image_729_jpg.rf.5bce24b7f6d72e431639b54d0d9c1a19.txt  \n",
            " extracting: valid/labels/image_731_jpg.rf.76667e6e59628ae6144d18f384c41e3c.txt  \n",
            " extracting: valid/labels/image_733_jpg.rf.e23c8986f09648bcdf1fc77c647f0375.txt  \n",
            " extracting: valid/labels/image_735_jpg.rf.f865d62a1e1c8155ad99521a8f56ad9e.txt  \n",
            " extracting: valid/labels/image_737_jpg.rf.9973d8ed98507879ba0a50934bdd5a0c.txt  \n",
            " extracting: valid/labels/image_740_jpg.rf.a7c5c805230936dc4b898d2d40e21559.txt  \n",
            " extracting: valid/labels/image_741_jpg.rf.dc85ee8a20b802046c2572625aa8fb05.txt  \n",
            " extracting: valid/labels/image_745_jpg.rf.c8ea01202d0c76f466559c5472eb1648.txt  \n",
            " extracting: valid/labels/image_74_jpg.rf.3cd723517e7b671adbe8236af1182164.txt  \n",
            " extracting: valid/labels/image_750_jpg.rf.1dc62e9e8aee249b8dad224b7d259ac1.txt  \n",
            " extracting: valid/labels/image_752_jpg.rf.d0ce1b08ce38288ad051beb2e9222f73.txt  \n",
            " extracting: valid/labels/image_753_jpg.rf.74e8992af65c888ac4a1da568305cc09.txt  \n",
            " extracting: valid/labels/image_75_jpg.rf.95a74a3bbbd43df5fcb4d8e0defb54d1.txt  \n",
            " extracting: valid/labels/image_75_jpg.rf.a3d29a1a700005642e59bdf86b602a53.txt  \n",
            " extracting: valid/labels/image_762_jpg.rf.42b5636eb0e5422c655931bc468a4184.txt  \n",
            " extracting: valid/labels/image_764_jpg.rf.9473fb3fc1dea2814b670080e44d335c.txt  \n",
            " extracting: valid/labels/image_773_jpg.rf.eb5446a6b921d27e29588c13ad3f8792.txt  \n",
            " extracting: valid/labels/image_774_jpg.rf.6af3062771a5d924d3115602645a9a85.txt  \n",
            " extracting: valid/labels/image_781_jpg.rf.aab1d197679e19bf1ea93b52b63c2dcc.txt  \n",
            " extracting: valid/labels/image_791_jpg.rf.877c0f7c13264f9e7aa6dab8b368ad99.txt  \n",
            " extracting: valid/labels/image_793_jpg.rf.7bd9dbfdf9bcf1bd4437082411fec12f.txt  \n",
            " extracting: valid/labels/image_802_jpg.rf.3667fa07ecd3501eb59c7db1988821d8.txt  \n",
            " extracting: valid/labels/image_811_jpg.rf.9ee8ad5548d214ac79aa0e11bd8ea2e0.txt  \n",
            " extracting: valid/labels/image_812_jpg.rf.0c946f87ebc3e8f49a85afc11d11425a.txt  \n",
            " extracting: valid/labels/image_813_jpg.rf.db0c6b9084c999fc309311ea41686f0d.txt  \n",
            " extracting: valid/labels/image_820_jpg.rf.c2863d80707f4084648b1c3412f65063.txt  \n",
            " extracting: valid/labels/image_823_jpg.rf.47ec7a32aa3cdff172e887652a0f32b7.txt  \n",
            " extracting: valid/labels/image_824_jpg.rf.2906226ed8cf3e230615a2284c19696e.txt  \n",
            " extracting: valid/labels/image_826_jpg.rf.c803c0a2cd3bc9f02dc1af5341712ae0.txt  \n",
            " extracting: valid/labels/image_828_jpg.rf.0e1c9f22731a621467fa799e13064d3f.txt  \n",
            " extracting: valid/labels/image_828_jpg.rf.304fb3f71d9ecd5e0217933968a7017e.txt  \n",
            " extracting: valid/labels/image_832_jpg.rf.e4388a6cdadd415b13c3bf9267b024dd.txt  \n",
            " extracting: valid/labels/image_834_jpg.rf.52d6faddef5f7a93984147b064ba843d.txt  \n",
            " extracting: valid/labels/image_836_jpg.rf.4f316dae84f36d0237c0a5a6bb1f6ebc.txt  \n",
            " extracting: valid/labels/image_837_jpg.rf.58835394e2923524950050f878a21e0e.txt  \n",
            " extracting: valid/labels/image_847_jpg.rf.c24c571bd5c274ec179df87954dc923d.txt  \n",
            " extracting: valid/labels/image_853_jpg.rf.fd074d67e9833c91e4529c42808fdd8d.txt  \n",
            " extracting: valid/labels/image_859_jpg.rf.144851e9e5ca2364309571ea68da5ace.txt  \n",
            " extracting: valid/labels/image_85_jpg.rf.ce86a0cc295781275401f803c88da139.txt  \n",
            " extracting: valid/labels/image_861_jpg.rf.692d1546bdb320dec99407d25da4ad00.txt  \n",
            " extracting: valid/labels/image_863_jpg.rf.8fac353f3031e6eb092ceb9b28c49cb1.txt  \n",
            " extracting: valid/labels/image_865_jpg.rf.2fa94e3552ecdf950b156e897ab693ae.txt  \n",
            " extracting: valid/labels/image_867_jpg.rf.7e1b7b2fe9574ef1cdad6054021ab0d4.txt  \n",
            " extracting: valid/labels/image_868_jpg.rf.f8fa3757d4172f026a6473f8975e83a7.txt  \n",
            " extracting: valid/labels/image_877_jpg.rf.5fdd33e031ad9471bcfd8f23b3bc07b2.txt  \n",
            " extracting: valid/labels/image_877_jpg.rf.7dd3e3b4ddc9add2fa955603d81aaf9d.txt  \n",
            " extracting: valid/labels/image_881_jpg.rf.c058f86191f6e6fd86e627dae5647bcd.txt  \n",
            " extracting: valid/labels/image_885_jpg.rf.e4705913c004e80c99fac453b0f33bdf.txt  \n",
            " extracting: valid/labels/image_887_jpg.rf.4f155af9d4eb6fd64b03b953114e42e5.txt  \n",
            " extracting: valid/labels/image_888_jpg.rf.7624f11e937ddc6976e59fc3b839c2ce.txt  \n",
            " extracting: valid/labels/image_889_jpg.rf.cb6e2f53c9ab7e01bcea8806bc9b3f86.txt  \n",
            " extracting: valid/labels/image_893_jpg.rf.80fe1fb1208ea069f1848697a15d6bcc.txt  \n",
            " extracting: valid/labels/image_898_jpg.rf.7d71a373fa1cc75847fc3e4bc29338d6.txt  \n",
            " extracting: valid/labels/image_898_jpg.rf.bb0260689e21af589384f3d3c69475cd.txt  \n",
            " extracting: valid/labels/image_906_jpg.rf.5467900a514adcf9ddccf505fad103af.txt  \n",
            " extracting: valid/labels/image_910_jpg.rf.8d899677ab19c47de0d1de585b3fba30.txt  \n",
            " extracting: valid/labels/image_913_jpg.rf.4aea59ef05469c4dbd63652a321976e5.txt  \n",
            " extracting: valid/labels/image_915_jpg.rf.6e5ef2e2de9ab0bd0b8b792809854981.txt  \n",
            " extracting: valid/labels/image_916_jpg.rf.7e83bf6f9229bab4840291b39f3792ab.txt  \n",
            " extracting: valid/labels/image_917_jpg.rf.e7ba5d742aa4524993d84af49f80987f.txt  \n",
            " extracting: valid/labels/image_919_jpg.rf.379d8507baaeadb19805385e60f4f216.txt  \n",
            " extracting: valid/labels/image_91_jpg.rf.ea60e11d41e20f0bd73b52a2ca0cddce.txt  \n",
            " extracting: valid/labels/image_922_jpg.rf.01c4a857b84f74af03cf9dd5924d3b4f.txt  \n",
            " extracting: valid/labels/image_924_jpg.rf.fe821fdd2c3270637f93206733ac8a5e.txt  \n",
            " extracting: valid/labels/image_937_jpg.rf.7e6968bc321e98d1e351416ae4bba1e7.txt  \n",
            " extracting: valid/labels/image_93_jpg.rf.727f2565392b602eae0c6d3f37c877e6.txt  \n",
            " extracting: valid/labels/image_948_jpg.rf.f80ab681c455e80f7d0cf56d20c43fba.txt  \n",
            " extracting: valid/labels/image_949_jpg.rf.09165ff84b2ec6f9903dc8f20d342603.txt  \n",
            " extracting: valid/labels/image_950_jpg.rf.f204642057b1ee3c0c7c6a8dc3a41cc4.txt  \n",
            " extracting: valid/labels/image_952_jpg.rf.485292f53f37789d4f747e57d155135d.txt  \n",
            " extracting: valid/labels/image_955_jpg.rf.35d16937c23bfeffb83a4e002cf5dbf1.txt  \n",
            " extracting: valid/labels/image_956_jpg.rf.5221c9dea7ef0bcd206a32b75f87e64f.txt  \n",
            " extracting: valid/labels/image_959_jpg.rf.3c5ed6c743dae5cdf548ff01b27d720e.txt  \n",
            " extracting: valid/labels/image_963_jpg.rf.71db089ed124ec2501062057f53eb877.txt  \n",
            " extracting: valid/labels/image_967_jpg.rf.3aa55f92d2355f173fee36bc22e99695.txt  \n",
            " extracting: valid/labels/image_970_jpg.rf.e15cd4f56c87857011c507ac0db2690a.txt  \n",
            " extracting: valid/labels/image_972_jpg.rf.824a3f22b9117025a067c04432f3282f.txt  \n",
            " extracting: valid/labels/image_973_jpg.rf.97d5f1a0c2566be6b7e54b4474822a2c.txt  \n",
            " extracting: valid/labels/image_974_jpg.rf.de41a80a06d317ed6573a808b6f28753.txt  \n",
            " extracting: valid/labels/image_975_jpg.rf.1a39c1871a9eea80a85444e1517ea89e.txt  \n",
            " extracting: valid/labels/image_977_jpg.rf.6ed2ff44c574c91163447a26b4b2d739.txt  \n",
            " extracting: valid/labels/image_979_jpg.rf.90900a2a6118d48c2f16d531e3dee2fc.txt  \n",
            " extracting: valid/labels/image_97_jpg.rf.86b75ed000fa7505f177ed3318150fff.txt  \n",
            " extracting: valid/labels/image_986_jpg.rf.82e1862d2fed8a1c86b7250a4bea649c.txt  \n",
            " extracting: valid/labels/image_987_jpg.rf.6c9a9491a57235634a1989e7abb39078.txt  \n",
            " extracting: valid/labels/image_991_jpg.rf.082170d860dc6bf46e6c6f00ef85fdc3.txt  \n",
            " extracting: valid/labels/image_994_jpg.rf.1c25d35bf39a8a6e4d9274d14821a8eb.txt  \n",
            " extracting: valid/labels/image_998_jpg.rf.2715d7c7369619878421541af6ca6a37.txt  \n",
            " extracting: valid/labels/image_999_jpg.rf.c6432978b47fc71aeb78caf185105d13.txt  \n",
            " extracting: valid/labels/images-1-_jpg.rf.f91464ac0bacc355d4d99b573ce40e02.txt  \n",
            " extracting: valid/labels/images-5-_jpg.rf.595c6cda1b3f745ad6225a2b88c2aafe.txt  \n",
            " extracting: valid/labels/images2960653_mature_man_walking_park_outdoors_beig_jpg.rf.d5a6d9a9a21ab719bfb6968f1c10c744.txt  \n",
            " extracting: valid/labels/istockphoto-1172486872-612x612_jpg.rf.69dd13d15e8fd571d0840796f69e933a.txt  \n",
            " extracting: valid/labels/istockphoto-1184388353-612x612_jpg.rf.973782c40c35cb67dd1ec1c57c116638.txt  \n",
            " extracting: valid/labels/istockphoto-180500360-612x612-1-_jpg.rf.aa76f4a4d771d5e14d8b1321e9de499e.txt  \n",
            " extracting: valid/labels/istockphoto-486289973-612x612_jpg.rf.3b7cc81e1830df9d7c70cf3a8ffe73db.txt  \n",
            " extracting: valid/labels/man-shoplifting-alcohol-from-a-shop-B27FAX_jpg.rf.c7a4445fc05bde96a2f0496bfc0af042.txt  \n",
            " extracting: valid/labels/picture25-07283931_jpg.rf.88da66e77794a16b7352a302176632c9.txt  \n",
            " extracting: valid/labels/retail-shoplifting-man-stealing-jeans-theft-at-shop-2HF46AJ_jpg.rf.bedc10351667f76214fdbc1b5410a79d.txt  \n",
            " extracting: valid/labels/serious-worried-handsome-young-male-thief-in-casual-clothing-looking-around-and-putting-fruit-into-inside-pocket-in-food-store-he-stealing-fruit-in-o-R0MP4P_jpg.rf.c47ee4499b7a1ff95f6f3af73221157b.txt  \n",
            " extracting: valid/labels/shoplifter-electronic-store-supermarket-stealing-600w-1217013973_jpg.rf.2cf783e3d1f86c1c64bbf63b38fe1348.txt  \n",
            " extracting: valid/labels/stock-photo-a-man-and-woman-standing-together-talking-on-white-background-6980614_jpg.rf.dbbee3d6c6ee5421538f5f47b73fbe2c.txt  \n",
            " extracting: valid/labels/stock-photo-woman-trying-to-steal-trousers-from-a-clothing-store-313240559_jpg.rf.b6c1ba133c1e3cccdc170300acc98c12.txt  \n",
            " extracting: valid/labels/stock-vector-kleptomaniac-woman-stealing-from-supermarket-vector-cartoon-illustration-lady-shoplifting-a-2206061939_jpg.rf.52d9aef3eea67acd48d09ff6e18a8a56.txt  \n",
            " extracting: valid/labels/teenage-boy-shoplifting-a-music-cd-in-store-AC07RP_jpg.rf.5c0a371d926e616a36c9e5d7622adc68.txt  \n",
            " extracting: valid/labels/the-kleptomania-concept-a-man-in-the-grocery-store-stealing-food-and-put-it-in-the-pocket-2G53DDW_jpg.rf.78dcae069581fc05ec066efa041ffafd.txt  \n",
            " extracting: valid/labels/unnamed_jpg.rf.b8fadd92f8e6178d1d3f5dc5a584d324.txt  \n",
            " extracting: valid/labels/v1_29_jpg.rf.fbe2f31616fc6d1d571c085b726984c3.txt  \n",
            " extracting: valid/labels/v1_31_jpg.rf.844921f01c95bab1c842b8b80e29d2e6.txt  \n",
            " extracting: valid/labels/v1_52_jpg.rf.2ba3ff9ca3a7788f63af8a40a175bb74.txt  \n",
            " extracting: valid/labels/v1_52_jpg.rf.e0900821d685db2dda5e2ce70fa33f16.txt  \n",
            " extracting: valid/labels/v1_78_jpg.rf.982e800c803336703e5b6d80aebc04bf.txt  \n",
            " extracting: valid/labels/v2_21_jpg.rf.d11a2bbc7a0e606adb5ad4f3abc4f0ca.txt  \n",
            " extracting: valid/labels/v2_32_jpg.rf.880c8700b14f710132582ef13a5d854b.txt  \n",
            " extracting: valid/labels/v2_34_jpg.rf.33a4a801b9445618c963a53a340592fd.txt  \n",
            " extracting: valid/labels/v2_37_jpg.rf.ade3ba26a432991e3d5b4f40d2c6179a.txt  \n",
            " extracting: valid/labels/v2_47_jpg.rf.6b00c210c0b5dfee1503c574ac005b55.txt  \n",
            " extracting: valid/labels/v2_4_jpg.rf.47bef39b114b043cee21ed2c42270e28.txt  \n",
            " extracting: valid/labels/v2_60_jpg.rf.8beb8f00df202aa78628334b8054e120.txt  \n",
            " extracting: valid/labels/v2_8_jpg.rf.f9346ccd19b7d199bae2934a860e9a0d.txt  \n",
            " extracting: valid/labels/v2_9_jpg.rf.93621887a84b84428230e4e89fe8f9df.txt  \n",
            " extracting: valid/labels/video1_002_jpg.rf.83e435f5a315ef0eeef7776d4c663586.txt  \n",
            " extracting: valid/labels/video1_010_jpg.rf.221bc35a7565c51df494caf49f772e26.txt  \n",
            " extracting: valid/labels/video1_012_jpg.rf.803b9a62966b20e45c236a3a8a46048d.txt  \n",
            " extracting: valid/labels/video1_051_jpg.rf.2f42cf9d0eedb5cc84de5c8c4de3739e.txt  \n",
            " extracting: valid/labels/video1_065_jpg.rf.a5d9c3ac6670f1cdf175edfee291d7de.txt  \n",
            " extracting: valid/labels/video1_070_jpg.rf.3d393d8d744b32d4fbf28811aa8a56fd.txt  \n",
            " extracting: valid/labels/video1_073_jpg.rf.376cc2d8b5d772dd3e612fbbfeb8b9bb.txt  \n",
            " extracting: valid/labels/video1_097_jpg.rf.0b66c6e93a89ebcb5bcd7b4112652a4f.txt  \n",
            " extracting: valid/labels/video2_000_jpg.rf.95a328d0d579bc10de83701a8bb50b3d.txt  \n",
            " extracting: valid/labels/video2_013_jpg.rf.870eec4bbc1c2dd47a5a178f76289679.txt  \n",
            " extracting: valid/labels/video2_025_jpg.rf.e58cfba6cb6c7455bde1f88d08c7ed12.txt  \n",
            " extracting: valid/labels/video2_029_jpg.rf.fea601e59207cc1a00329a75ca5bd7bc.txt  \n",
            " extracting: valid/labels/video2_055_jpg.rf.e404fcf320e0965ea8376f03157ebd66.txt  \n",
            " extracting: valid/labels/video2_064_jpg.rf.0b717f2719fc7c67049ac1401a961d0e.txt  \n",
            " extracting: valid/labels/video2_065_jpg.rf.e256557274188a929fec17160cf32dcd.txt  \n",
            " extracting: valid/labels/video2_071_jpg.rf.73609c7b18d3895d52c36daa27f300fe.txt  \n",
            " extracting: valid/labels/video2_078_jpg.rf.0fad93167007aeddc4cb65e246475718.txt  \n",
            " extracting: valid/labels/video2_080_jpg.rf.71cd2ce4eb412562b865f603a6c5741a.txt  \n",
            " extracting: valid/labels/video2_086_jpg.rf.86b1e716c094100660b47f7e412689e0.txt  \n",
            " extracting: valid/labels/video3_041_jpg.rf.da9df7b36d30487bcfe7028fba8876f2.txt  \n",
            " extracting: valid/labels/woman-shoplifting-clothing-from-shop-with-security-tag-attached-E605H7_jpg.rf.c2942b0527bcaef42488f9ce1017c47d.txt  \n"
          ]
        }
      ]
    },
    {
      "cell_type": "code",
      "source": [
        "!nvidia-smi"
      ],
      "metadata": {
        "colab": {
          "base_uri": "https://localhost:8080/"
        },
        "id": "eSsC-n3RCS7n",
        "outputId": "74f99fb2-f254-49fc-a8bf-c86c8ef6088b"
      },
      "execution_count": null,
      "outputs": [
        {
          "output_type": "stream",
          "name": "stdout",
          "text": [
            "/bin/bash: line 1: nvidia-smi: command not found\n"
          ]
        }
      ]
    },
    {
      "cell_type": "code",
      "source": [
        "from IPython import display\n",
        "display.clear_output()\n",
        "\n",
        "import ultralytics\n",
        "ultralytics.checks()"
      ],
      "metadata": {
        "id": "_Dens51IDYtj",
        "colab": {
          "base_uri": "https://localhost:8080/"
        },
        "outputId": "17d2bcbf-f839-484d-e121-51ca83b4490b"
      },
      "execution_count": null,
      "outputs": [
        {
          "output_type": "stream",
          "name": "stdout",
          "text": [
            "Ultralytics YOLOv8.2.16 🚀 Python-3.10.12 torch-2.2.1+cu121 CPU (Intel Xeon 2.20GHz)\n",
            "Setup complete ✅ (2 CPUs, 12.7 GB RAM, 29.8/107.7 GB disk)\n"
          ]
        }
      ]
    },
    {
      "cell_type": "code",
      "source": [
        "from ultralytics import YOLO"
      ],
      "metadata": {
        "id": "-Yx_WMd56E-R"
      },
      "execution_count": null,
      "outputs": []
    },
    {
      "cell_type": "code",
      "source": [
        "model = YOLO('yolov8n.yaml').load('best.pt')"
      ],
      "metadata": {
        "colab": {
          "base_uri": "https://localhost:8080/"
        },
        "id": "e7rqJp68fusT",
        "outputId": "f59bc3c1-a09a-4dc4-bff4-785003e97961"
      },
      "execution_count": null,
      "outputs": [
        {
          "output_type": "stream",
          "name": "stdout",
          "text": [
            "Transferred 319/355 items from pretrained weights\n"
          ]
        }
      ]
    },
    {
      "cell_type": "code",
      "source": [
        "model = YOLO('yolov8n.pt')"
      ],
      "metadata": {
        "colab": {
          "base_uri": "https://localhost:8080/"
        },
        "id": "qC7lnCCP6bBj",
        "outputId": "fc00e45e-bdeb-4add-c184-393a5d76ae36"
      },
      "execution_count": null,
      "outputs": [
        {
          "output_type": "stream",
          "name": "stdout",
          "text": [
            "Downloading https://github.com/ultralytics/assets/releases/download/v8.2.0/yolov8n.pt to 'yolov8n.pt'...\n"
          ]
        },
        {
          "output_type": "stream",
          "name": "stderr",
          "text": [
            "100%|██████████| 6.23M/6.23M [00:00<00:00, 112MB/s]\n"
          ]
        }
      ]
    },
    {
      "cell_type": "code",
      "source": [
        "history = model.train(data='/content/data.yaml')"
      ],
      "metadata": {
        "colab": {
          "base_uri": "https://localhost:8080/"
        },
        "id": "pOfD7KdF6vMt",
        "outputId": "5dc61df8-9687-460e-9981-f61a5dd2d3aa",
        "collapsed": true
      },
      "execution_count": null,
      "outputs": [
        {
          "metadata": {
            "tags": null
          },
          "name": "stdout",
          "output_type": "stream",
          "text": [
            "Ultralytics YOLOv8.2.15 🚀 Python-3.10.12 torch-2.2.1+cu121 CUDA:0 (Tesla T4, 15102MiB)\n",
            "\u001b[34m\u001b[1mengine/trainer: \u001b[0mtask=detect, mode=train, model=yolov8n.pt, data=/content/data.yaml, epochs=100, time=None, patience=100, batch=16, imgsz=640, save=True, save_period=-1, cache=False, device=None, workers=8, project=None, name=train, exist_ok=False, pretrained=True, optimizer=auto, verbose=True, seed=0, deterministic=True, single_cls=False, rect=False, cos_lr=False, close_mosaic=10, resume=False, amp=True, fraction=1.0, profile=False, freeze=None, multi_scale=False, overlap_mask=True, mask_ratio=4, dropout=0.0, val=True, split=val, save_json=False, save_hybrid=False, conf=None, iou=0.7, max_det=300, half=False, dnn=False, plots=True, source=None, vid_stride=1, stream_buffer=False, visualize=False, augment=False, agnostic_nms=False, classes=None, retina_masks=False, embed=None, show=False, save_frames=False, save_txt=False, save_conf=False, save_crop=False, show_labels=True, show_conf=True, show_boxes=True, line_width=None, format=torchscript, keras=False, optimize=False, int8=False, dynamic=False, simplify=False, opset=None, workspace=4, nms=False, lr0=0.01, lrf=0.01, momentum=0.937, weight_decay=0.0005, warmup_epochs=3.0, warmup_momentum=0.8, warmup_bias_lr=0.1, box=7.5, cls=0.5, dfl=1.5, pose=12.0, kobj=1.0, label_smoothing=0.0, nbs=64, hsv_h=0.015, hsv_s=0.7, hsv_v=0.4, degrees=0.0, translate=0.1, scale=0.5, shear=0.0, perspective=0.0, flipud=0.0, fliplr=0.5, bgr=0.0, mosaic=1.0, mixup=0.0, copy_paste=0.0, auto_augment=randaugment, erasing=0.4, crop_fraction=1.0, cfg=None, tracker=botsort.yaml, save_dir=runs/detect/train\n",
            "Downloading https://ultralytics.com/assets/Arial.ttf to '/root/.config/Ultralytics/Arial.ttf'...\n"
          ]
        },
        {
          "metadata": {
            "tags": null
          },
          "name": "stderr",
          "output_type": "stream",
          "text": [
            "100%|██████████| 755k/755k [00:00<00:00, 22.6MB/s]\n"
          ]
        },
        {
          "metadata": {
            "tags": null
          },
          "name": "stdout",
          "output_type": "stream",
          "text": [
            "Overriding model.yaml nc=80 with nc=4\n",
            "\n",
            "                   from  n    params  module                                       arguments                     \n",
            "  0                  -1  1       464  ultralytics.nn.modules.conv.Conv             [3, 16, 3, 2]                 \n",
            "  1                  -1  1      4672  ultralytics.nn.modules.conv.Conv             [16, 32, 3, 2]                \n",
            "  2                  -1  1      7360  ultralytics.nn.modules.block.C2f             [32, 32, 1, True]             \n",
            "  3                  -1  1     18560  ultralytics.nn.modules.conv.Conv             [32, 64, 3, 2]                \n",
            "  4                  -1  2     49664  ultralytics.nn.modules.block.C2f             [64, 64, 2, True]             \n",
            "  5                  -1  1     73984  ultralytics.nn.modules.conv.Conv             [64, 128, 3, 2]               \n",
            "  6                  -1  2    197632  ultralytics.nn.modules.block.C2f             [128, 128, 2, True]           \n",
            "  7                  -1  1    295424  ultralytics.nn.modules.conv.Conv             [128, 256, 3, 2]              \n",
            "  8                  -1  1    460288  ultralytics.nn.modules.block.C2f             [256, 256, 1, True]           \n",
            "  9                  -1  1    164608  ultralytics.nn.modules.block.SPPF            [256, 256, 5]                 \n",
            " 10                  -1  1         0  torch.nn.modules.upsampling.Upsample         [None, 2, 'nearest']          \n",
            " 11             [-1, 6]  1         0  ultralytics.nn.modules.conv.Concat           [1]                           \n",
            " 12                  -1  1    148224  ultralytics.nn.modules.block.C2f             [384, 128, 1]                 \n",
            " 13                  -1  1         0  torch.nn.modules.upsampling.Upsample         [None, 2, 'nearest']          \n",
            " 14             [-1, 4]  1         0  ultralytics.nn.modules.conv.Concat           [1]                           \n",
            " 15                  -1  1     37248  ultralytics.nn.modules.block.C2f             [192, 64, 1]                  \n",
            " 16                  -1  1     36992  ultralytics.nn.modules.conv.Conv             [64, 64, 3, 2]                \n",
            " 17            [-1, 12]  1         0  ultralytics.nn.modules.conv.Concat           [1]                           \n",
            " 18                  -1  1    123648  ultralytics.nn.modules.block.C2f             [192, 128, 1]                 \n",
            " 19                  -1  1    147712  ultralytics.nn.modules.conv.Conv             [128, 128, 3, 2]              \n",
            " 20             [-1, 9]  1         0  ultralytics.nn.modules.conv.Concat           [1]                           \n",
            " 21                  -1  1    493056  ultralytics.nn.modules.block.C2f             [384, 256, 1]                 \n",
            " 22        [15, 18, 21]  1    752092  ultralytics.nn.modules.head.Detect           [4, [64, 128, 256]]           \n",
            "Model summary: 225 layers, 3011628 parameters, 3011612 gradients, 8.2 GFLOPs\n",
            "\n",
            "Transferred 319/355 items from pretrained weights\n",
            "\u001b[34m\u001b[1mTensorBoard: \u001b[0mStart with 'tensorboard --logdir runs/detect/train', view at http://localhost:6006/\n",
            "Freezing layer 'model.22.dfl.conv.weight'\n",
            "\u001b[34m\u001b[1mAMP: \u001b[0mrunning Automatic Mixed Precision (AMP) checks with YOLOv8n...\n",
            "\u001b[34m\u001b[1mAMP: \u001b[0mchecks passed ✅\n"
          ]
        },
        {
          "metadata": {
            "tags": null
          },
          "name": "stderr",
          "output_type": "stream",
          "text": [
            "\u001b[34m\u001b[1mtrain: \u001b[0mScanning /content/train/labels... 2374 images, 15 backgrounds, 0 corrupt: 100%|██████████| 2374/2374 [00:01<00:00, 2025.19it/s]\n"
          ]
        },
        {
          "metadata": {
            "tags": null
          },
          "name": "stdout",
          "output_type": "stream",
          "text": [
            "\u001b[34m\u001b[1mtrain: \u001b[0mNew cache created: /content/train/labels.cache\n",
            "\u001b[34m\u001b[1malbumentations: \u001b[0mBlur(p=0.01, blur_limit=(3, 7)), MedianBlur(p=0.01, blur_limit=(3, 7)), ToGray(p=0.01), CLAHE(p=0.01, clip_limit=(1, 4.0), tile_grid_size=(8, 8))\n"
          ]
        },
        {
          "metadata": {
            "tags": null
          },
          "name": "stderr",
          "output_type": "stream",
          "text": [
            "/usr/lib/python3.10/multiprocessing/popen_fork.py:66: RuntimeWarning: os.fork() was called. os.fork() is incompatible with multithreaded code, and JAX is multithreaded, so this will likely lead to a deadlock.\n",
            "  self.pid = os.fork()\n",
            "\u001b[34m\u001b[1mval: \u001b[0mScanning /content/valid/labels... 560 images, 3 backgrounds, 0 corrupt: 100%|██████████| 560/560 [00:00<00:00, 693.52it/s]\n"
          ]
        },
        {
          "metadata": {
            "tags": null
          },
          "name": "stdout",
          "output_type": "stream",
          "text": [
            "\u001b[34m\u001b[1mval: \u001b[0mNew cache created: /content/valid/labels.cache\n",
            "Plotting labels to runs/detect/train/labels.jpg... \n",
            "\u001b[34m\u001b[1moptimizer:\u001b[0m 'optimizer=auto' found, ignoring 'lr0=0.01' and 'momentum=0.937' and determining best 'optimizer', 'lr0' and 'momentum' automatically... \n",
            "\u001b[34m\u001b[1moptimizer:\u001b[0m AdamW(lr=0.00125, momentum=0.9) with parameter groups 57 weight(decay=0.0), 64 weight(decay=0.0005), 63 bias(decay=0.0)\n",
            "\u001b[34m\u001b[1mTensorBoard: \u001b[0mmodel graph visualization added ✅\n",
            "Image sizes 640 train, 640 val\n",
            "Using 2 dataloader workers\n",
            "Logging results to \u001b[1mruns/detect/train\u001b[0m\n",
            "Starting training for 100 epochs...\n",
            "\n",
            "      Epoch    GPU_mem   box_loss   cls_loss   dfl_loss  Instances       Size\n"
          ]
        },
        {
          "metadata": {
            "tags": null
          },
          "name": "stderr",
          "output_type": "stream",
          "text": [
            "      1/100       2.6G      2.201       3.87      1.734         20        640: 100%|██████████| 149/149 [01:01<00:00,  2.41it/s]\n",
            "                 Class     Images  Instances      Box(P          R      mAP50  mAP50-95): 100%|██████████| 18/18 [00:12<00:00,  1.41it/s]\n"
          ]
        },
        {
          "metadata": {
            "tags": null
          },
          "name": "stdout",
          "output_type": "stream",
          "text": [
            "                   all        560        868      0.636      0.206      0.215     0.0846\n",
            "\n",
            "      Epoch    GPU_mem   box_loss   cls_loss   dfl_loss  Instances       Size\n"
          ]
        },
        {
          "metadata": {
            "tags": null
          },
          "name": "stderr",
          "output_type": "stream",
          "text": [
            "      2/100      2.29G      2.184      2.905        1.7          9        640: 100%|██████████| 149/149 [00:59<00:00,  2.50it/s]\n",
            "                 Class     Images  Instances      Box(P          R      mAP50  mAP50-95): 100%|██████████| 18/18 [00:05<00:00,  3.11it/s]\n"
          ]
        },
        {
          "metadata": {
            "tags": null
          },
          "name": "stdout",
          "output_type": "stream",
          "text": [
            "                   all        560        868      0.428      0.242      0.205     0.0755\n",
            "\n",
            "      Epoch    GPU_mem   box_loss   cls_loss   dfl_loss  Instances       Size\n"
          ]
        },
        {
          "metadata": {
            "tags": null
          },
          "name": "stderr",
          "output_type": "stream",
          "text": [
            "      3/100      2.27G       2.21      2.498      1.741         13        640: 100%|██████████| 149/149 [00:58<00:00,  2.53it/s]\n",
            "                 Class     Images  Instances      Box(P          R      mAP50  mAP50-95): 100%|██████████| 18/18 [00:05<00:00,  3.24it/s]"
          ]
        },
        {
          "metadata": {
            "tags": null
          },
          "name": "stdout",
          "output_type": "stream",
          "text": [
            "                   all        560        868       0.59       0.25      0.287      0.109\n"
          ]
        },
        {
          "metadata": {
            "tags": null
          },
          "name": "stderr",
          "output_type": "stream",
          "text": [
            "\n"
          ]
        },
        {
          "metadata": {
            "tags": null
          },
          "name": "stdout",
          "output_type": "stream",
          "text": [
            "\n",
            "      Epoch    GPU_mem   box_loss   cls_loss   dfl_loss  Instances       Size\n"
          ]
        },
        {
          "metadata": {
            "tags": null
          },
          "name": "stderr",
          "output_type": "stream",
          "text": [
            "      4/100      2.27G      2.183       2.25      1.732         17        640: 100%|██████████| 149/149 [00:56<00:00,  2.62it/s]\n",
            "                 Class     Images  Instances      Box(P          R      mAP50  mAP50-95): 100%|██████████| 18/18 [00:07<00:00,  2.47it/s]\n"
          ]
        },
        {
          "metadata": {
            "tags": null
          },
          "name": "stdout",
          "output_type": "stream",
          "text": [
            "                   all        560        868      0.337      0.304      0.276      0.106\n",
            "\n",
            "      Epoch    GPU_mem   box_loss   cls_loss   dfl_loss  Instances       Size\n"
          ]
        },
        {
          "metadata": {
            "tags": null
          },
          "name": "stderr",
          "output_type": "stream",
          "text": [
            "      5/100      2.27G      2.186      2.148      1.741          7        640: 100%|██████████| 149/149 [00:55<00:00,  2.68it/s]\n",
            "                 Class     Images  Instances      Box(P          R      mAP50  mAP50-95): 100%|██████████| 18/18 [00:09<00:00,  1.86it/s]"
          ]
        },
        {
          "metadata": {
            "tags": null
          },
          "name": "stdout",
          "output_type": "stream",
          "text": [
            "                   all        560        868      0.519       0.32      0.345      0.132\n"
          ]
        },
        {
          "metadata": {
            "tags": null
          },
          "name": "stderr",
          "output_type": "stream",
          "text": [
            "\n"
          ]
        },
        {
          "metadata": {
            "tags": null
          },
          "name": "stdout",
          "output_type": "stream",
          "text": [
            "\n",
            "      Epoch    GPU_mem   box_loss   cls_loss   dfl_loss  Instances       Size\n"
          ]
        },
        {
          "metadata": {
            "tags": null
          },
          "name": "stderr",
          "output_type": "stream",
          "text": [
            "      6/100      2.28G      2.136      2.029      1.672         32        640: 100%|██████████| 149/149 [00:54<00:00,  2.73it/s]\n",
            "                 Class     Images  Instances      Box(P          R      mAP50  mAP50-95): 100%|██████████| 18/18 [00:07<00:00,  2.56it/s]"
          ]
        },
        {
          "metadata": {
            "tags": null
          },
          "name": "stdout",
          "output_type": "stream",
          "text": [
            "                   all        560        868      0.439      0.316       0.32      0.117\n"
          ]
        },
        {
          "metadata": {
            "tags": null
          },
          "name": "stderr",
          "output_type": "stream",
          "text": [
            "\n"
          ]
        },
        {
          "metadata": {
            "tags": null
          },
          "name": "stdout",
          "output_type": "stream",
          "text": [
            "\n",
            "      Epoch    GPU_mem   box_loss   cls_loss   dfl_loss  Instances       Size\n"
          ]
        },
        {
          "metadata": {
            "tags": null
          },
          "name": "stderr",
          "output_type": "stream",
          "text": [
            "      7/100      2.27G      2.108      1.946      1.674         11        640: 100%|██████████| 149/149 [00:58<00:00,  2.53it/s]\n",
            "                 Class     Images  Instances      Box(P          R      mAP50  mAP50-95): 100%|██████████| 18/18 [00:05<00:00,  3.18it/s]\n"
          ]
        },
        {
          "metadata": {
            "tags": null
          },
          "name": "stdout",
          "output_type": "stream",
          "text": [
            "                   all        560        868      0.542      0.356      0.389      0.158\n",
            "\n",
            "      Epoch    GPU_mem   box_loss   cls_loss   dfl_loss  Instances       Size\n"
          ]
        },
        {
          "metadata": {
            "tags": null
          },
          "name": "stderr",
          "output_type": "stream",
          "text": [
            "      8/100      2.27G      2.134      1.956      1.686         13        640: 100%|██████████| 149/149 [00:56<00:00,  2.62it/s]\n",
            "                 Class     Images  Instances      Box(P          R      mAP50  mAP50-95): 100%|██████████| 18/18 [00:06<00:00,  2.97it/s]"
          ]
        },
        {
          "metadata": {
            "tags": null
          },
          "name": "stdout",
          "output_type": "stream",
          "text": [
            "                   all        560        868      0.535      0.394      0.418      0.167\n"
          ]
        },
        {
          "metadata": {
            "tags": null
          },
          "name": "stderr",
          "output_type": "stream",
          "text": [
            "\n"
          ]
        },
        {
          "metadata": {
            "tags": null
          },
          "name": "stdout",
          "output_type": "stream",
          "text": [
            "\n",
            "      Epoch    GPU_mem   box_loss   cls_loss   dfl_loss  Instances       Size\n"
          ]
        },
        {
          "metadata": {
            "tags": null
          },
          "name": "stderr",
          "output_type": "stream",
          "text": [
            "      9/100      2.27G      2.081      1.834      1.641          8        640: 100%|██████████| 149/149 [00:56<00:00,  2.63it/s]\n",
            "                 Class     Images  Instances      Box(P          R      mAP50  mAP50-95): 100%|██████████| 18/18 [00:07<00:00,  2.29it/s]\n"
          ]
        },
        {
          "metadata": {
            "tags": null
          },
          "name": "stdout",
          "output_type": "stream",
          "text": [
            "                   all        560        868      0.495       0.42      0.403      0.157\n",
            "\n",
            "      Epoch    GPU_mem   box_loss   cls_loss   dfl_loss  Instances       Size\n"
          ]
        },
        {
          "metadata": {
            "tags": null
          },
          "name": "stderr",
          "output_type": "stream",
          "text": [
            "     10/100      2.26G       2.09      1.819      1.655         11        640: 100%|██████████| 149/149 [00:55<00:00,  2.70it/s]\n",
            "                 Class     Images  Instances      Box(P          R      mAP50  mAP50-95): 100%|██████████| 18/18 [00:09<00:00,  1.83it/s]"
          ]
        },
        {
          "metadata": {
            "tags": null
          },
          "name": "stdout",
          "output_type": "stream",
          "text": [
            "                   all        560        868       0.53      0.406      0.427      0.173\n"
          ]
        },
        {
          "metadata": {
            "tags": null
          },
          "name": "stderr",
          "output_type": "stream",
          "text": [
            "\n"
          ]
        },
        {
          "metadata": {
            "tags": null
          },
          "name": "stdout",
          "output_type": "stream",
          "text": [
            "\n",
            "      Epoch    GPU_mem   box_loss   cls_loss   dfl_loss  Instances       Size\n"
          ]
        },
        {
          "metadata": {
            "tags": null
          },
          "name": "stderr",
          "output_type": "stream",
          "text": [
            "     11/100      2.29G      2.044      1.751      1.608         17        640: 100%|██████████| 149/149 [00:55<00:00,  2.69it/s]\n",
            "                 Class     Images  Instances      Box(P          R      mAP50  mAP50-95): 100%|██████████| 18/18 [00:07<00:00,  2.31it/s]\n"
          ]
        },
        {
          "metadata": {
            "tags": null
          },
          "name": "stdout",
          "output_type": "stream",
          "text": [
            "                   all        560        868       0.63      0.366      0.435       0.17\n",
            "\n",
            "      Epoch    GPU_mem   box_loss   cls_loss   dfl_loss  Instances       Size\n"
          ]
        },
        {
          "metadata": {
            "tags": null
          },
          "name": "stderr",
          "output_type": "stream",
          "text": [
            "     12/100      2.28G      2.027      1.717      1.623         15        640: 100%|██████████| 149/149 [00:58<00:00,  2.55it/s]\n",
            "                 Class     Images  Instances      Box(P          R      mAP50  mAP50-95): 100%|██████████| 18/18 [00:05<00:00,  3.23it/s]"
          ]
        },
        {
          "metadata": {
            "tags": null
          },
          "name": "stdout",
          "output_type": "stream",
          "text": [
            "                   all        560        868      0.573      0.473      0.476      0.194\n"
          ]
        },
        {
          "metadata": {
            "tags": null
          },
          "name": "stderr",
          "output_type": "stream",
          "text": [
            "\n"
          ]
        },
        {
          "metadata": {
            "tags": null
          },
          "name": "stdout",
          "output_type": "stream",
          "text": [
            "\n",
            "      Epoch    GPU_mem   box_loss   cls_loss   dfl_loss  Instances       Size\n"
          ]
        },
        {
          "metadata": {
            "tags": null
          },
          "name": "stderr",
          "output_type": "stream",
          "text": [
            "     13/100      2.27G      2.021      1.705      1.607         16        640: 100%|██████████| 149/149 [00:58<00:00,  2.55it/s]\n",
            "                 Class     Images  Instances      Box(P          R      mAP50  mAP50-95): 100%|██████████| 18/18 [00:05<00:00,  3.15it/s]"
          ]
        },
        {
          "metadata": {
            "tags": null
          },
          "name": "stdout",
          "output_type": "stream",
          "text": [
            "                   all        560        868      0.614      0.403      0.457      0.187\n"
          ]
        },
        {
          "metadata": {
            "tags": null
          },
          "name": "stderr",
          "output_type": "stream",
          "text": [
            "\n"
          ]
        },
        {
          "metadata": {
            "tags": null
          },
          "name": "stdout",
          "output_type": "stream",
          "text": [
            "\n",
            "      Epoch    GPU_mem   box_loss   cls_loss   dfl_loss  Instances       Size\n"
          ]
        },
        {
          "metadata": {
            "tags": null
          },
          "name": "stderr",
          "output_type": "stream",
          "text": [
            "     14/100      2.26G      2.019      1.686      1.602         15        640: 100%|██████████| 149/149 [00:57<00:00,  2.60it/s]\n",
            "                 Class     Images  Instances      Box(P          R      mAP50  mAP50-95): 100%|██████████| 18/18 [00:06<00:00,  2.73it/s]"
          ]
        },
        {
          "metadata": {
            "tags": null
          },
          "name": "stdout",
          "output_type": "stream",
          "text": [
            "                   all        560        868      0.573      0.451      0.471      0.196\n"
          ]
        },
        {
          "metadata": {
            "tags": null
          },
          "name": "stderr",
          "output_type": "stream",
          "text": [
            "\n"
          ]
        },
        {
          "metadata": {
            "tags": null
          },
          "name": "stdout",
          "output_type": "stream",
          "text": [
            "\n",
            "      Epoch    GPU_mem   box_loss   cls_loss   dfl_loss  Instances       Size\n"
          ]
        },
        {
          "metadata": {
            "tags": null
          },
          "name": "stderr",
          "output_type": "stream",
          "text": [
            "     15/100      2.29G      1.994      1.642      1.593         17        640: 100%|██████████| 149/149 [00:57<00:00,  2.61it/s]\n",
            "                 Class     Images  Instances      Box(P          R      mAP50  mAP50-95): 100%|██████████| 18/18 [00:08<00:00,  2.25it/s]"
          ]
        },
        {
          "metadata": {
            "tags": null
          },
          "name": "stdout",
          "output_type": "stream",
          "text": [
            "                   all        560        868      0.601      0.404       0.46      0.187\n"
          ]
        },
        {
          "metadata": {
            "tags": null
          },
          "name": "stderr",
          "output_type": "stream",
          "text": [
            "\n"
          ]
        },
        {
          "metadata": {
            "tags": null
          },
          "name": "stdout",
          "output_type": "stream",
          "text": [
            "\n",
            "      Epoch    GPU_mem   box_loss   cls_loss   dfl_loss  Instances       Size\n"
          ]
        },
        {
          "metadata": {
            "tags": null
          },
          "name": "stderr",
          "output_type": "stream",
          "text": [
            "     16/100      2.29G      1.975      1.575      1.576          9        640: 100%|██████████| 149/149 [00:53<00:00,  2.77it/s]\n",
            "                 Class     Images  Instances      Box(P          R      mAP50  mAP50-95): 100%|██████████| 18/18 [00:08<00:00,  2.08it/s]"
          ]
        },
        {
          "metadata": {
            "tags": null
          },
          "name": "stdout",
          "output_type": "stream",
          "text": [
            "                   all        560        868       0.64       0.43      0.509      0.206\n"
          ]
        },
        {
          "metadata": {
            "tags": null
          },
          "name": "stderr",
          "output_type": "stream",
          "text": [
            "\n"
          ]
        },
        {
          "metadata": {
            "tags": null
          },
          "name": "stdout",
          "output_type": "stream",
          "text": [
            "\n",
            "      Epoch    GPU_mem   box_loss   cls_loss   dfl_loss  Instances       Size\n"
          ]
        },
        {
          "metadata": {
            "tags": null
          },
          "name": "stderr",
          "output_type": "stream",
          "text": [
            "     17/100      2.29G      2.004      1.603       1.58         20        640: 100%|██████████| 149/149 [00:55<00:00,  2.68it/s]\n",
            "                 Class     Images  Instances      Box(P          R      mAP50  mAP50-95): 100%|██████████| 18/18 [00:07<00:00,  2.47it/s]"
          ]
        },
        {
          "metadata": {
            "tags": null
          },
          "name": "stdout",
          "output_type": "stream",
          "text": [
            "                   all        560        868      0.726      0.438      0.535      0.213\n"
          ]
        },
        {
          "metadata": {
            "tags": null
          },
          "name": "stderr",
          "output_type": "stream",
          "text": [
            "\n"
          ]
        },
        {
          "metadata": {
            "tags": null
          },
          "name": "stdout",
          "output_type": "stream",
          "text": [
            "\n",
            "      Epoch    GPU_mem   box_loss   cls_loss   dfl_loss  Instances       Size\n"
          ]
        },
        {
          "metadata": {
            "tags": null
          },
          "name": "stderr",
          "output_type": "stream",
          "text": [
            "     18/100      2.27G      1.965      1.571      1.569         22        640: 100%|██████████| 149/149 [00:57<00:00,  2.60it/s]\n",
            "                 Class     Images  Instances      Box(P          R      mAP50  mAP50-95): 100%|██████████| 18/18 [00:05<00:00,  3.23it/s]"
          ]
        },
        {
          "metadata": {
            "tags": null
          },
          "name": "stdout",
          "output_type": "stream",
          "text": [
            "                   all        560        868      0.704      0.493      0.544       0.22\n"
          ]
        },
        {
          "metadata": {
            "tags": null
          },
          "name": "stderr",
          "output_type": "stream",
          "text": [
            "\n"
          ]
        },
        {
          "metadata": {
            "tags": null
          },
          "name": "stdout",
          "output_type": "stream",
          "text": [
            "\n",
            "      Epoch    GPU_mem   box_loss   cls_loss   dfl_loss  Instances       Size\n"
          ]
        },
        {
          "metadata": {
            "tags": null
          },
          "name": "stderr",
          "output_type": "stream",
          "text": [
            "     19/100      2.27G      1.947      1.533      1.532         13        640: 100%|██████████| 149/149 [00:57<00:00,  2.60it/s]\n",
            "                 Class     Images  Instances      Box(P          R      mAP50  mAP50-95): 100%|██████████| 18/18 [00:05<00:00,  3.24it/s]"
          ]
        },
        {
          "metadata": {
            "tags": null
          },
          "name": "stdout",
          "output_type": "stream",
          "text": [
            "                   all        560        868      0.598       0.44        0.5      0.195\n"
          ]
        },
        {
          "metadata": {
            "tags": null
          },
          "name": "stderr",
          "output_type": "stream",
          "text": [
            "\n"
          ]
        },
        {
          "metadata": {
            "tags": null
          },
          "name": "stdout",
          "output_type": "stream",
          "text": [
            "\n",
            "      Epoch    GPU_mem   box_loss   cls_loss   dfl_loss  Instances       Size\n"
          ]
        },
        {
          "metadata": {
            "tags": null
          },
          "name": "stderr",
          "output_type": "stream",
          "text": [
            "     20/100      2.27G      1.942       1.52      1.541          8        640: 100%|██████████| 149/149 [00:58<00:00,  2.56it/s]\n",
            "                 Class     Images  Instances      Box(P          R      mAP50  mAP50-95): 100%|██████████| 18/18 [00:06<00:00,  2.77it/s]"
          ]
        },
        {
          "metadata": {
            "tags": null
          },
          "name": "stdout",
          "output_type": "stream",
          "text": [
            "                   all        560        868       0.64      0.493      0.539      0.225\n"
          ]
        },
        {
          "metadata": {
            "tags": null
          },
          "name": "stderr",
          "output_type": "stream",
          "text": [
            "\n"
          ]
        },
        {
          "metadata": {
            "tags": null
          },
          "name": "stdout",
          "output_type": "stream",
          "text": [
            "\n",
            "      Epoch    GPU_mem   box_loss   cls_loss   dfl_loss  Instances       Size\n"
          ]
        },
        {
          "metadata": {
            "tags": null
          },
          "name": "stderr",
          "output_type": "stream",
          "text": [
            "     21/100      2.27G      1.961      1.514       1.55          9        640: 100%|██████████| 149/149 [00:56<00:00,  2.65it/s]\n",
            "                 Class     Images  Instances      Box(P          R      mAP50  mAP50-95): 100%|██████████| 18/18 [00:08<00:00,  2.01it/s]\n"
          ]
        },
        {
          "metadata": {
            "tags": null
          },
          "name": "stdout",
          "output_type": "stream",
          "text": [
            "                   all        560        868      0.556      0.503      0.528      0.218\n",
            "\n",
            "      Epoch    GPU_mem   box_loss   cls_loss   dfl_loss  Instances       Size\n"
          ]
        },
        {
          "metadata": {
            "tags": null
          },
          "name": "stderr",
          "output_type": "stream",
          "text": [
            "     22/100      2.28G      1.949      1.509      1.552         11        640: 100%|██████████| 149/149 [00:54<00:00,  2.71it/s]\n",
            "                 Class     Images  Instances      Box(P          R      mAP50  mAP50-95): 100%|██████████| 18/18 [00:08<00:00,  2.11it/s]"
          ]
        },
        {
          "metadata": {
            "tags": null
          },
          "name": "stdout",
          "output_type": "stream",
          "text": [
            "                   all        560        868       0.56      0.556      0.563      0.224\n"
          ]
        },
        {
          "metadata": {
            "tags": null
          },
          "name": "stderr",
          "output_type": "stream",
          "text": [
            "\n"
          ]
        },
        {
          "metadata": {
            "tags": null
          },
          "name": "stdout",
          "output_type": "stream",
          "text": [
            "\n",
            "      Epoch    GPU_mem   box_loss   cls_loss   dfl_loss  Instances       Size\n"
          ]
        },
        {
          "metadata": {
            "tags": null
          },
          "name": "stderr",
          "output_type": "stream",
          "text": [
            "     23/100      2.27G      1.909      1.464      1.524         23        640: 100%|██████████| 149/149 [00:57<00:00,  2.58it/s]\n",
            "                 Class     Images  Instances      Box(P          R      mAP50  mAP50-95): 100%|██████████| 18/18 [00:05<00:00,  3.10it/s]\n"
          ]
        },
        {
          "metadata": {
            "tags": null
          },
          "name": "stdout",
          "output_type": "stream",
          "text": [
            "                   all        560        868      0.623      0.535      0.573      0.234\n",
            "\n",
            "      Epoch    GPU_mem   box_loss   cls_loss   dfl_loss  Instances       Size\n"
          ]
        },
        {
          "metadata": {
            "tags": null
          },
          "name": "stderr",
          "output_type": "stream",
          "text": [
            "     24/100      2.29G      1.935       1.45      1.529         18        640: 100%|██████████| 149/149 [00:58<00:00,  2.54it/s]\n",
            "                 Class     Images  Instances      Box(P          R      mAP50  mAP50-95): 100%|██████████| 18/18 [00:05<00:00,  3.24it/s]"
          ]
        },
        {
          "metadata": {
            "tags": null
          },
          "name": "stdout",
          "output_type": "stream",
          "text": [
            "                   all        560        868      0.659      0.496      0.555      0.224\n"
          ]
        },
        {
          "metadata": {
            "tags": null
          },
          "name": "stderr",
          "output_type": "stream",
          "text": [
            "\n"
          ]
        },
        {
          "metadata": {
            "tags": null
          },
          "name": "stdout",
          "output_type": "stream",
          "text": [
            "\n",
            "      Epoch    GPU_mem   box_loss   cls_loss   dfl_loss  Instances       Size\n"
          ]
        },
        {
          "metadata": {
            "tags": null
          },
          "name": "stderr",
          "output_type": "stream",
          "text": [
            "     25/100      2.27G      1.892      1.445      1.506         10        640: 100%|██████████| 149/149 [00:57<00:00,  2.58it/s]\n",
            "                 Class     Images  Instances      Box(P          R      mAP50  mAP50-95): 100%|██████████| 18/18 [00:07<00:00,  2.37it/s]"
          ]
        },
        {
          "metadata": {
            "tags": null
          },
          "name": "stdout",
          "output_type": "stream",
          "text": [
            "                   all        560        868      0.681      0.511      0.571       0.23\n"
          ]
        },
        {
          "metadata": {
            "tags": null
          },
          "name": "stderr",
          "output_type": "stream",
          "text": [
            "\n"
          ]
        },
        {
          "metadata": {
            "tags": null
          },
          "name": "stdout",
          "output_type": "stream",
          "text": [
            "\n",
            "      Epoch    GPU_mem   box_loss   cls_loss   dfl_loss  Instances       Size\n"
          ]
        },
        {
          "metadata": {
            "tags": null
          },
          "name": "stderr",
          "output_type": "stream",
          "text": [
            "     26/100      2.27G       1.87      1.426      1.508         11        640: 100%|██████████| 149/149 [00:56<00:00,  2.65it/s]\n",
            "                 Class     Images  Instances      Box(P          R      mAP50  mAP50-95): 100%|██████████| 18/18 [00:10<00:00,  1.76it/s]"
          ]
        },
        {
          "metadata": {
            "tags": null
          },
          "name": "stdout",
          "output_type": "stream",
          "text": [
            "                   all        560        868      0.615      0.556       0.58      0.232\n"
          ]
        },
        {
          "metadata": {
            "tags": null
          },
          "name": "stderr",
          "output_type": "stream",
          "text": [
            "\n"
          ]
        },
        {
          "metadata": {
            "tags": null
          },
          "name": "stdout",
          "output_type": "stream",
          "text": [
            "\n",
            "      Epoch    GPU_mem   box_loss   cls_loss   dfl_loss  Instances       Size\n"
          ]
        },
        {
          "metadata": {
            "tags": null
          },
          "name": "stderr",
          "output_type": "stream",
          "text": [
            "     27/100      2.27G        1.9      1.381      1.498         12        640: 100%|██████████| 149/149 [00:56<00:00,  2.64it/s]\n",
            "                 Class     Images  Instances      Box(P          R      mAP50  mAP50-95): 100%|██████████| 18/18 [00:06<00:00,  2.59it/s]\n"
          ]
        },
        {
          "metadata": {
            "tags": null
          },
          "name": "stdout",
          "output_type": "stream",
          "text": [
            "                   all        560        868      0.668      0.525      0.586      0.236\n",
            "\n",
            "      Epoch    GPU_mem   box_loss   cls_loss   dfl_loss  Instances       Size\n"
          ]
        },
        {
          "metadata": {
            "tags": null
          },
          "name": "stderr",
          "output_type": "stream",
          "text": [
            "     28/100      2.27G        1.9      1.409      1.506         13        640: 100%|██████████| 149/149 [00:58<00:00,  2.55it/s]\n",
            "                 Class     Images  Instances      Box(P          R      mAP50  mAP50-95): 100%|██████████| 18/18 [00:05<00:00,  3.17it/s]"
          ]
        },
        {
          "metadata": {
            "tags": null
          },
          "name": "stdout",
          "output_type": "stream",
          "text": [
            "                   all        560        868      0.659      0.505      0.572      0.237\n"
          ]
        },
        {
          "metadata": {
            "tags": null
          },
          "name": "stderr",
          "output_type": "stream",
          "text": [
            "\n"
          ]
        },
        {
          "metadata": {
            "tags": null
          },
          "name": "stdout",
          "output_type": "stream",
          "text": [
            "\n",
            "      Epoch    GPU_mem   box_loss   cls_loss   dfl_loss  Instances       Size\n"
          ]
        },
        {
          "metadata": {
            "tags": null
          },
          "name": "stderr",
          "output_type": "stream",
          "text": [
            "     29/100      2.27G      1.864       1.37      1.484         20        640: 100%|██████████| 149/149 [00:58<00:00,  2.57it/s]\n",
            "                 Class     Images  Instances      Box(P          R      mAP50  mAP50-95): 100%|██████████| 18/18 [00:05<00:00,  3.09it/s]"
          ]
        },
        {
          "metadata": {
            "tags": null
          },
          "name": "stdout",
          "output_type": "stream",
          "text": [
            "                   all        560        868      0.613      0.518      0.554      0.224\n"
          ]
        },
        {
          "metadata": {
            "tags": null
          },
          "name": "stderr",
          "output_type": "stream",
          "text": [
            "\n"
          ]
        },
        {
          "metadata": {
            "tags": null
          },
          "name": "stdout",
          "output_type": "stream",
          "text": [
            "\n",
            "      Epoch    GPU_mem   box_loss   cls_loss   dfl_loss  Instances       Size\n"
          ]
        },
        {
          "metadata": {
            "tags": null
          },
          "name": "stderr",
          "output_type": "stream",
          "text": [
            "     30/100      2.26G      1.865      1.373      1.482         25        640: 100%|██████████| 149/149 [00:58<00:00,  2.56it/s]\n",
            "                 Class     Images  Instances      Box(P          R      mAP50  mAP50-95): 100%|██████████| 18/18 [00:07<00:00,  2.29it/s]"
          ]
        },
        {
          "metadata": {
            "tags": null
          },
          "name": "stdout",
          "output_type": "stream",
          "text": [
            "                   all        560        868      0.628      0.546      0.587      0.237\n"
          ]
        },
        {
          "metadata": {
            "tags": null
          },
          "name": "stderr",
          "output_type": "stream",
          "text": [
            "\n"
          ]
        },
        {
          "metadata": {
            "tags": null
          },
          "name": "stdout",
          "output_type": "stream",
          "text": [
            "\n",
            "      Epoch    GPU_mem   box_loss   cls_loss   dfl_loss  Instances       Size\n"
          ]
        },
        {
          "metadata": {
            "tags": null
          },
          "name": "stderr",
          "output_type": "stream",
          "text": [
            "     31/100      2.27G      1.871       1.37       1.48         12        640: 100%|██████████| 149/149 [00:56<00:00,  2.65it/s]\n",
            "                 Class     Images  Instances      Box(P          R      mAP50  mAP50-95): 100%|██████████| 18/18 [00:09<00:00,  1.91it/s]"
          ]
        },
        {
          "metadata": {
            "tags": null
          },
          "name": "stdout",
          "output_type": "stream",
          "text": [
            "                   all        560        868      0.689      0.507      0.573      0.243\n"
          ]
        },
        {
          "metadata": {
            "tags": null
          },
          "name": "stderr",
          "output_type": "stream",
          "text": [
            "\n"
          ]
        },
        {
          "metadata": {
            "tags": null
          },
          "name": "stdout",
          "output_type": "stream",
          "text": [
            "\n",
            "      Epoch    GPU_mem   box_loss   cls_loss   dfl_loss  Instances       Size\n"
          ]
        },
        {
          "metadata": {
            "tags": null
          },
          "name": "stderr",
          "output_type": "stream",
          "text": [
            "     32/100      2.27G      1.866      1.366      1.489          9        640: 100%|██████████| 149/149 [00:57<00:00,  2.60it/s]\n",
            "                 Class     Images  Instances      Box(P          R      mAP50  mAP50-95): 100%|██████████| 18/18 [00:07<00:00,  2.45it/s]"
          ]
        },
        {
          "metadata": {
            "tags": null
          },
          "name": "stdout",
          "output_type": "stream",
          "text": [
            "                   all        560        868       0.69      0.549      0.608      0.246\n"
          ]
        },
        {
          "metadata": {
            "tags": null
          },
          "name": "stderr",
          "output_type": "stream",
          "text": [
            "\n"
          ]
        },
        {
          "metadata": {
            "tags": null
          },
          "name": "stdout",
          "output_type": "stream",
          "text": [
            "\n",
            "      Epoch    GPU_mem   box_loss   cls_loss   dfl_loss  Instances       Size\n"
          ]
        },
        {
          "metadata": {
            "tags": null
          },
          "name": "stderr",
          "output_type": "stream",
          "text": [
            "     33/100      2.28G      1.832      1.303      1.463         13        640: 100%|██████████| 149/149 [00:56<00:00,  2.64it/s]\n",
            "                 Class     Images  Instances      Box(P          R      mAP50  mAP50-95): 100%|██████████| 18/18 [00:05<00:00,  3.16it/s]"
          ]
        },
        {
          "metadata": {
            "tags": null
          },
          "name": "stdout",
          "output_type": "stream",
          "text": [
            "                   all        560        868      0.663      0.565      0.583      0.238\n"
          ]
        },
        {
          "metadata": {
            "tags": null
          },
          "name": "stderr",
          "output_type": "stream",
          "text": [
            "\n"
          ]
        },
        {
          "metadata": {
            "tags": null
          },
          "name": "stdout",
          "output_type": "stream",
          "text": [
            "\n",
            "      Epoch    GPU_mem   box_loss   cls_loss   dfl_loss  Instances       Size\n"
          ]
        },
        {
          "metadata": {
            "tags": null
          },
          "name": "stderr",
          "output_type": "stream",
          "text": [
            "     34/100      2.26G      1.856      1.341      1.481         17        640: 100%|██████████| 149/149 [00:57<00:00,  2.59it/s]\n",
            "                 Class     Images  Instances      Box(P          R      mAP50  mAP50-95): 100%|██████████| 18/18 [00:05<00:00,  3.22it/s]"
          ]
        },
        {
          "metadata": {
            "tags": null
          },
          "name": "stdout",
          "output_type": "stream",
          "text": [
            "                   all        560        868       0.63       0.57      0.606      0.248\n"
          ]
        },
        {
          "metadata": {
            "tags": null
          },
          "name": "stderr",
          "output_type": "stream",
          "text": [
            "\n"
          ]
        },
        {
          "metadata": {
            "tags": null
          },
          "name": "stdout",
          "output_type": "stream",
          "text": [
            "\n",
            "      Epoch    GPU_mem   box_loss   cls_loss   dfl_loss  Instances       Size\n"
          ]
        },
        {
          "metadata": {
            "tags": null
          },
          "name": "stderr",
          "output_type": "stream",
          "text": [
            "     35/100      2.27G      1.817      1.305      1.454         12        640: 100%|██████████| 149/149 [00:56<00:00,  2.62it/s]\n",
            "                 Class     Images  Instances      Box(P          R      mAP50  mAP50-95): 100%|██████████| 18/18 [00:07<00:00,  2.54it/s]"
          ]
        },
        {
          "metadata": {
            "tags": null
          },
          "name": "stdout",
          "output_type": "stream",
          "text": [
            "                   all        560        868      0.656      0.572      0.619      0.249\n"
          ]
        },
        {
          "metadata": {
            "tags": null
          },
          "name": "stderr",
          "output_type": "stream",
          "text": [
            "\n"
          ]
        },
        {
          "metadata": {
            "tags": null
          },
          "name": "stdout",
          "output_type": "stream",
          "text": [
            "\n",
            "      Epoch    GPU_mem   box_loss   cls_loss   dfl_loss  Instances       Size\n"
          ]
        },
        {
          "metadata": {
            "tags": null
          },
          "name": "stderr",
          "output_type": "stream",
          "text": [
            "     36/100      2.27G      1.843      1.291      1.468         14        640: 100%|██████████| 149/149 [00:54<00:00,  2.71it/s]\n",
            "                 Class     Images  Instances      Box(P          R      mAP50  mAP50-95): 100%|██████████| 18/18 [00:09<00:00,  1.88it/s]"
          ]
        },
        {
          "metadata": {
            "tags": null
          },
          "name": "stdout",
          "output_type": "stream",
          "text": [
            "                   all        560        868      0.631      0.584       0.62      0.254\n"
          ]
        },
        {
          "metadata": {
            "tags": null
          },
          "name": "stderr",
          "output_type": "stream",
          "text": [
            "\n"
          ]
        },
        {
          "metadata": {
            "tags": null
          },
          "name": "stdout",
          "output_type": "stream",
          "text": [
            "\n",
            "      Epoch    GPU_mem   box_loss   cls_loss   dfl_loss  Instances       Size\n"
          ]
        },
        {
          "metadata": {
            "tags": null
          },
          "name": "stderr",
          "output_type": "stream",
          "text": [
            "     37/100      2.27G      1.817       1.27      1.447         10        640: 100%|██████████| 149/149 [00:55<00:00,  2.68it/s]\n",
            "                 Class     Images  Instances      Box(P          R      mAP50  mAP50-95): 100%|██████████| 18/18 [00:08<00:00,  2.08it/s]"
          ]
        },
        {
          "metadata": {
            "tags": null
          },
          "name": "stdout",
          "output_type": "stream",
          "text": [
            "                   all        560        868      0.666      0.554       0.61      0.247\n"
          ]
        },
        {
          "metadata": {
            "tags": null
          },
          "name": "stderr",
          "output_type": "stream",
          "text": [
            "\n"
          ]
        },
        {
          "metadata": {
            "tags": null
          },
          "name": "stdout",
          "output_type": "stream",
          "text": [
            "\n",
            "      Epoch    GPU_mem   box_loss   cls_loss   dfl_loss  Instances       Size\n"
          ]
        },
        {
          "metadata": {
            "tags": null
          },
          "name": "stderr",
          "output_type": "stream",
          "text": [
            "     38/100      2.27G      1.808      1.267      1.449         11        640: 100%|██████████| 149/149 [00:57<00:00,  2.58it/s]\n",
            "                 Class     Images  Instances      Box(P          R      mAP50  mAP50-95): 100%|██████████| 18/18 [00:06<00:00,  2.91it/s]"
          ]
        },
        {
          "metadata": {
            "tags": null
          },
          "name": "stdout",
          "output_type": "stream",
          "text": [
            "                   all        560        868      0.714      0.572      0.615      0.258\n"
          ]
        },
        {
          "metadata": {
            "tags": null
          },
          "name": "stderr",
          "output_type": "stream",
          "text": [
            "\n"
          ]
        },
        {
          "metadata": {
            "tags": null
          },
          "name": "stdout",
          "output_type": "stream",
          "text": [
            "\n",
            "      Epoch    GPU_mem   box_loss   cls_loss   dfl_loss  Instances       Size\n"
          ]
        },
        {
          "metadata": {
            "tags": null
          },
          "name": "stderr",
          "output_type": "stream",
          "text": [
            "     39/100      2.29G      1.807      1.264      1.444         12        640: 100%|██████████| 149/149 [00:58<00:00,  2.56it/s]\n",
            "                 Class     Images  Instances      Box(P          R      mAP50  mAP50-95): 100%|██████████| 18/18 [00:05<00:00,  3.14it/s]\n"
          ]
        },
        {
          "metadata": {
            "tags": null
          },
          "name": "stdout",
          "output_type": "stream",
          "text": [
            "                   all        560        868       0.68      0.584      0.619       0.25\n",
            "\n",
            "      Epoch    GPU_mem   box_loss   cls_loss   dfl_loss  Instances       Size\n"
          ]
        },
        {
          "metadata": {
            "tags": null
          },
          "name": "stderr",
          "output_type": "stream",
          "text": [
            "     40/100      2.29G      1.816      1.255      1.452         13        640: 100%|██████████| 149/149 [00:57<00:00,  2.58it/s]\n",
            "                 Class     Images  Instances      Box(P          R      mAP50  mAP50-95): 100%|██████████| 18/18 [00:06<00:00,  2.81it/s]"
          ]
        },
        {
          "metadata": {
            "tags": null
          },
          "name": "stdout",
          "output_type": "stream",
          "text": [
            "                   all        560        868      0.681      0.599      0.619      0.254\n"
          ]
        },
        {
          "metadata": {
            "tags": null
          },
          "name": "stderr",
          "output_type": "stream",
          "text": [
            "\n"
          ]
        },
        {
          "metadata": {
            "tags": null
          },
          "name": "stdout",
          "output_type": "stream",
          "text": [
            "\n",
            "      Epoch    GPU_mem   box_loss   cls_loss   dfl_loss  Instances       Size\n"
          ]
        },
        {
          "metadata": {
            "tags": null
          },
          "name": "stderr",
          "output_type": "stream",
          "text": [
            "     41/100      2.27G      1.817      1.254      1.451         14        640: 100%|██████████| 149/149 [00:57<00:00,  2.58it/s]\n",
            "                 Class     Images  Instances      Box(P          R      mAP50  mAP50-95): 100%|██████████| 18/18 [00:08<00:00,  2.02it/s]"
          ]
        },
        {
          "metadata": {
            "tags": null
          },
          "name": "stdout",
          "output_type": "stream",
          "text": [
            "                   all        560        868       0.68      0.605       0.62      0.253\n"
          ]
        },
        {
          "metadata": {
            "tags": null
          },
          "name": "stderr",
          "output_type": "stream",
          "text": [
            "\n"
          ]
        },
        {
          "metadata": {
            "tags": null
          },
          "name": "stdout",
          "output_type": "stream",
          "text": [
            "\n",
            "      Epoch    GPU_mem   box_loss   cls_loss   dfl_loss  Instances       Size\n"
          ]
        },
        {
          "metadata": {
            "tags": null
          },
          "name": "stderr",
          "output_type": "stream",
          "text": [
            "     42/100      2.26G      1.798      1.214      1.435         17        640: 100%|██████████| 149/149 [00:55<00:00,  2.71it/s]\n",
            "                 Class     Images  Instances      Box(P          R      mAP50  mAP50-95): 100%|██████████| 18/18 [00:08<00:00,  2.02it/s]\n"
          ]
        },
        {
          "metadata": {
            "tags": null
          },
          "name": "stdout",
          "output_type": "stream",
          "text": [
            "                   all        560        868      0.727      0.576      0.626      0.256\n",
            "\n",
            "      Epoch    GPU_mem   box_loss   cls_loss   dfl_loss  Instances       Size\n"
          ]
        },
        {
          "metadata": {
            "tags": null
          },
          "name": "stderr",
          "output_type": "stream",
          "text": [
            "     43/100      2.29G       1.79      1.253      1.432         17        640: 100%|██████████| 149/149 [01:05<00:00,  2.29it/s]\n",
            "                 Class     Images  Instances      Box(P          R      mAP50  mAP50-95): 100%|██████████| 18/18 [00:08<00:00,  2.17it/s]"
          ]
        },
        {
          "metadata": {
            "tags": null
          },
          "name": "stdout",
          "output_type": "stream",
          "text": [
            "                   all        560        868      0.638      0.571      0.622      0.254\n"
          ]
        },
        {
          "metadata": {
            "tags": null
          },
          "name": "stderr",
          "output_type": "stream",
          "text": [
            "\n"
          ]
        },
        {
          "metadata": {
            "tags": null
          },
          "name": "stdout",
          "output_type": "stream",
          "text": [
            "\n",
            "      Epoch    GPU_mem   box_loss   cls_loss   dfl_loss  Instances       Size\n"
          ]
        },
        {
          "metadata": {
            "tags": null
          },
          "name": "stderr",
          "output_type": "stream",
          "text": [
            "     44/100      2.27G      1.787      1.221      1.435          6        640: 100%|██████████| 149/149 [00:57<00:00,  2.59it/s]\n",
            "                 Class     Images  Instances      Box(P          R      mAP50  mAP50-95): 100%|██████████| 18/18 [00:09<00:00,  1.90it/s]"
          ]
        },
        {
          "metadata": {
            "tags": null
          },
          "name": "stdout",
          "output_type": "stream",
          "text": [
            "                   all        560        868      0.684      0.576      0.613       0.25\n"
          ]
        },
        {
          "metadata": {
            "tags": null
          },
          "name": "stderr",
          "output_type": "stream",
          "text": [
            "\n"
          ]
        },
        {
          "metadata": {
            "tags": null
          },
          "name": "stdout",
          "output_type": "stream",
          "text": [
            "\n",
            "      Epoch    GPU_mem   box_loss   cls_loss   dfl_loss  Instances       Size\n"
          ]
        },
        {
          "metadata": {
            "tags": null
          },
          "name": "stderr",
          "output_type": "stream",
          "text": [
            "     45/100      2.28G      1.783      1.182      1.431          8        640: 100%|██████████| 149/149 [00:57<00:00,  2.58it/s]\n",
            "                 Class     Images  Instances      Box(P          R      mAP50  mAP50-95): 100%|██████████| 18/18 [00:07<00:00,  2.50it/s]"
          ]
        },
        {
          "metadata": {
            "tags": null
          },
          "name": "stdout",
          "output_type": "stream",
          "text": [
            "                   all        560        868      0.688      0.567      0.615      0.262\n"
          ]
        },
        {
          "metadata": {
            "tags": null
          },
          "name": "stderr",
          "output_type": "stream",
          "text": [
            "\n"
          ]
        },
        {
          "metadata": {
            "tags": null
          },
          "name": "stdout",
          "output_type": "stream",
          "text": [
            "\n",
            "      Epoch    GPU_mem   box_loss   cls_loss   dfl_loss  Instances       Size\n"
          ]
        },
        {
          "metadata": {
            "tags": null
          },
          "name": "stderr",
          "output_type": "stream",
          "text": [
            "     46/100      2.26G      1.768      1.187      1.418         23        640: 100%|██████████| 149/149 [00:57<00:00,  2.59it/s]\n",
            "                 Class     Images  Instances      Box(P          R      mAP50  mAP50-95): 100%|██████████| 18/18 [00:05<00:00,  3.30it/s]"
          ]
        },
        {
          "metadata": {
            "tags": null
          },
          "name": "stdout",
          "output_type": "stream",
          "text": [
            "                   all        560        868      0.645      0.585      0.613      0.256\n"
          ]
        },
        {
          "metadata": {
            "tags": null
          },
          "name": "stderr",
          "output_type": "stream",
          "text": [
            "\n"
          ]
        },
        {
          "metadata": {
            "tags": null
          },
          "name": "stdout",
          "output_type": "stream",
          "text": [
            "\n",
            "      Epoch    GPU_mem   box_loss   cls_loss   dfl_loss  Instances       Size\n"
          ]
        },
        {
          "metadata": {
            "tags": null
          },
          "name": "stderr",
          "output_type": "stream",
          "text": [
            "     47/100      2.27G      1.782      1.187      1.437         12        640: 100%|██████████| 149/149 [00:57<00:00,  2.60it/s]\n",
            "                 Class     Images  Instances      Box(P          R      mAP50  mAP50-95): 100%|██████████| 18/18 [00:06<00:00,  2.81it/s]"
          ]
        },
        {
          "metadata": {
            "tags": null
          },
          "name": "stdout",
          "output_type": "stream",
          "text": [
            "                   all        560        868      0.695      0.572      0.624      0.256\n"
          ]
        },
        {
          "metadata": {
            "tags": null
          },
          "name": "stderr",
          "output_type": "stream",
          "text": [
            "\n"
          ]
        },
        {
          "metadata": {
            "tags": null
          },
          "name": "stdout",
          "output_type": "stream",
          "text": [
            "\n",
            "      Epoch    GPU_mem   box_loss   cls_loss   dfl_loss  Instances       Size\n"
          ]
        },
        {
          "metadata": {
            "tags": null
          },
          "name": "stderr",
          "output_type": "stream",
          "text": [
            "     48/100      2.27G      1.757      1.177       1.41         15        640: 100%|██████████| 149/149 [00:57<00:00,  2.59it/s]\n",
            "                 Class     Images  Instances      Box(P          R      mAP50  mAP50-95): 100%|██████████| 18/18 [00:08<00:00,  2.15it/s]"
          ]
        },
        {
          "metadata": {
            "tags": null
          },
          "name": "stdout",
          "output_type": "stream",
          "text": [
            "                   all        560        868      0.715      0.586      0.643      0.254\n"
          ]
        },
        {
          "metadata": {
            "tags": null
          },
          "name": "stderr",
          "output_type": "stream",
          "text": [
            "\n"
          ]
        },
        {
          "metadata": {
            "tags": null
          },
          "name": "stdout",
          "output_type": "stream",
          "text": [
            "\n",
            "      Epoch    GPU_mem   box_loss   cls_loss   dfl_loss  Instances       Size\n"
          ]
        },
        {
          "metadata": {
            "tags": null
          },
          "name": "stderr",
          "output_type": "stream",
          "text": [
            "     49/100      2.28G      1.746      1.142      1.407         29        640: 100%|██████████| 149/149 [00:55<00:00,  2.68it/s]\n",
            "                 Class     Images  Instances      Box(P          R      mAP50  mAP50-95): 100%|██████████| 18/18 [00:08<00:00,  2.22it/s]"
          ]
        },
        {
          "metadata": {
            "tags": null
          },
          "name": "stdout",
          "output_type": "stream",
          "text": [
            "                   all        560        868      0.696      0.588      0.645      0.265\n"
          ]
        },
        {
          "metadata": {
            "tags": null
          },
          "name": "stderr",
          "output_type": "stream",
          "text": [
            "\n"
          ]
        },
        {
          "metadata": {
            "tags": null
          },
          "name": "stdout",
          "output_type": "stream",
          "text": [
            "\n",
            "      Epoch    GPU_mem   box_loss   cls_loss   dfl_loss  Instances       Size\n"
          ]
        },
        {
          "metadata": {
            "tags": null
          },
          "name": "stderr",
          "output_type": "stream",
          "text": [
            "     50/100       2.3G      1.754      1.134      1.404         17        640: 100%|██████████| 149/149 [00:56<00:00,  2.62it/s]\n",
            "                 Class     Images  Instances      Box(P          R      mAP50  mAP50-95): 100%|██████████| 18/18 [00:06<00:00,  2.69it/s]"
          ]
        },
        {
          "metadata": {
            "tags": null
          },
          "name": "stdout",
          "output_type": "stream",
          "text": [
            "                   all        560        868      0.738      0.532      0.623      0.261\n"
          ]
        },
        {
          "metadata": {
            "tags": null
          },
          "name": "stderr",
          "output_type": "stream",
          "text": [
            "\n"
          ]
        },
        {
          "metadata": {
            "tags": null
          },
          "name": "stdout",
          "output_type": "stream",
          "text": [
            "\n",
            "      Epoch    GPU_mem   box_loss   cls_loss   dfl_loss  Instances       Size\n"
          ]
        },
        {
          "metadata": {
            "tags": null
          },
          "name": "stderr",
          "output_type": "stream",
          "text": [
            "     51/100      2.29G      1.749      1.144      1.398          9        640: 100%|██████████| 149/149 [00:57<00:00,  2.57it/s]\n",
            "                 Class     Images  Instances      Box(P          R      mAP50  mAP50-95): 100%|██████████| 18/18 [00:05<00:00,  3.30it/s]"
          ]
        },
        {
          "metadata": {
            "tags": null
          },
          "name": "stdout",
          "output_type": "stream",
          "text": [
            "                   all        560        868      0.675      0.582      0.628       0.25\n"
          ]
        },
        {
          "metadata": {
            "tags": null
          },
          "name": "stderr",
          "output_type": "stream",
          "text": [
            "\n"
          ]
        },
        {
          "metadata": {
            "tags": null
          },
          "name": "stdout",
          "output_type": "stream",
          "text": [
            "\n",
            "      Epoch    GPU_mem   box_loss   cls_loss   dfl_loss  Instances       Size\n"
          ]
        },
        {
          "metadata": {
            "tags": null
          },
          "name": "stderr",
          "output_type": "stream",
          "text": [
            "     52/100      2.27G      1.734      1.156       1.41         12        640: 100%|██████████| 149/149 [00:57<00:00,  2.59it/s]\n",
            "                 Class     Images  Instances      Box(P          R      mAP50  mAP50-95): 100%|██████████| 18/18 [00:05<00:00,  3.21it/s]"
          ]
        },
        {
          "metadata": {
            "tags": null
          },
          "name": "stdout",
          "output_type": "stream",
          "text": [
            "                   all        560        868      0.679      0.621      0.654      0.269\n"
          ]
        },
        {
          "metadata": {
            "tags": null
          },
          "name": "stderr",
          "output_type": "stream",
          "text": [
            "\n"
          ]
        },
        {
          "metadata": {
            "tags": null
          },
          "name": "stdout",
          "output_type": "stream",
          "text": [
            "\n",
            "      Epoch    GPU_mem   box_loss   cls_loss   dfl_loss  Instances       Size\n"
          ]
        },
        {
          "metadata": {
            "tags": null
          },
          "name": "stderr",
          "output_type": "stream",
          "text": [
            "     53/100      2.29G      1.724      1.124      1.388         10        640: 100%|██████████| 149/149 [00:57<00:00,  2.61it/s]\n",
            "                 Class     Images  Instances      Box(P          R      mAP50  mAP50-95): 100%|██████████| 18/18 [00:06<00:00,  2.82it/s]"
          ]
        },
        {
          "metadata": {
            "tags": null
          },
          "name": "stdout",
          "output_type": "stream",
          "text": [
            "                   all        560        868      0.686      0.596      0.643      0.261\n"
          ]
        },
        {
          "metadata": {
            "tags": null
          },
          "name": "stderr",
          "output_type": "stream",
          "text": [
            "\n"
          ]
        },
        {
          "metadata": {
            "tags": null
          },
          "name": "stdout",
          "output_type": "stream",
          "text": [
            "\n",
            "      Epoch    GPU_mem   box_loss   cls_loss   dfl_loss  Instances       Size\n"
          ]
        },
        {
          "metadata": {
            "tags": null
          },
          "name": "stderr",
          "output_type": "stream",
          "text": [
            "     54/100      2.26G      1.736      1.118      1.389          5        640: 100%|██████████| 149/149 [00:55<00:00,  2.69it/s]\n",
            "                 Class     Images  Instances      Box(P          R      mAP50  mAP50-95): 100%|██████████| 18/18 [00:08<00:00,  2.17it/s]"
          ]
        },
        {
          "metadata": {
            "tags": null
          },
          "name": "stdout",
          "output_type": "stream",
          "text": [
            "                   all        560        868      0.698      0.589      0.631      0.263\n"
          ]
        },
        {
          "metadata": {
            "tags": null
          },
          "name": "stderr",
          "output_type": "stream",
          "text": [
            "\n"
          ]
        },
        {
          "metadata": {
            "tags": null
          },
          "name": "stdout",
          "output_type": "stream",
          "text": [
            "\n",
            "      Epoch    GPU_mem   box_loss   cls_loss   dfl_loss  Instances       Size\n"
          ]
        },
        {
          "metadata": {
            "tags": null
          },
          "name": "stderr",
          "output_type": "stream",
          "text": [
            "     55/100      2.27G      1.716       1.11      1.391         10        640: 100%|██████████| 149/149 [00:55<00:00,  2.69it/s]\n",
            "                 Class     Images  Instances      Box(P          R      mAP50  mAP50-95): 100%|██████████| 18/18 [00:09<00:00,  1.84it/s]"
          ]
        },
        {
          "metadata": {
            "tags": null
          },
          "name": "stdout",
          "output_type": "stream",
          "text": [
            "                   all        560        868      0.653      0.586      0.633      0.264\n"
          ]
        },
        {
          "metadata": {
            "tags": null
          },
          "name": "stderr",
          "output_type": "stream",
          "text": [
            "\n"
          ]
        },
        {
          "metadata": {
            "tags": null
          },
          "name": "stdout",
          "output_type": "stream",
          "text": [
            "\n",
            "      Epoch    GPU_mem   box_loss   cls_loss   dfl_loss  Instances       Size\n"
          ]
        },
        {
          "metadata": {
            "tags": null
          },
          "name": "stderr",
          "output_type": "stream",
          "text": [
            "     56/100      2.29G      1.717      1.107      1.385         14        640: 100%|██████████| 149/149 [00:55<00:00,  2.66it/s]\n",
            "                 Class     Images  Instances      Box(P          R      mAP50  mAP50-95): 100%|██████████| 18/18 [00:07<00:00,  2.26it/s]"
          ]
        },
        {
          "metadata": {
            "tags": null
          },
          "name": "stdout",
          "output_type": "stream",
          "text": [
            "                   all        560        868      0.718      0.617      0.657      0.268\n"
          ]
        },
        {
          "metadata": {
            "tags": null
          },
          "name": "stderr",
          "output_type": "stream",
          "text": [
            "\n"
          ]
        },
        {
          "metadata": {
            "tags": null
          },
          "name": "stdout",
          "output_type": "stream",
          "text": [
            "\n",
            "      Epoch    GPU_mem   box_loss   cls_loss   dfl_loss  Instances       Size\n"
          ]
        },
        {
          "metadata": {
            "tags": null
          },
          "name": "stderr",
          "output_type": "stream",
          "text": [
            "     57/100      2.29G      1.697      1.104      1.375          8        640: 100%|██████████| 149/149 [01:01<00:00,  2.43it/s]\n",
            "                 Class     Images  Instances      Box(P          R      mAP50  mAP50-95): 100%|██████████| 18/18 [00:05<00:00,  3.09it/s]"
          ]
        },
        {
          "metadata": {
            "tags": null
          },
          "name": "stdout",
          "output_type": "stream",
          "text": [
            "                   all        560        868      0.683      0.584      0.627       0.26\n"
          ]
        },
        {
          "metadata": {
            "tags": null
          },
          "name": "stderr",
          "output_type": "stream",
          "text": [
            "\n"
          ]
        },
        {
          "metadata": {
            "tags": null
          },
          "name": "stdout",
          "output_type": "stream",
          "text": [
            "\n",
            "      Epoch    GPU_mem   box_loss   cls_loss   dfl_loss  Instances       Size\n"
          ]
        },
        {
          "metadata": {
            "tags": null
          },
          "name": "stderr",
          "output_type": "stream",
          "text": [
            "     58/100      2.28G      1.687      1.086      1.369         14        640: 100%|██████████| 149/149 [00:59<00:00,  2.49it/s]\n",
            "                 Class     Images  Instances      Box(P          R      mAP50  mAP50-95): 100%|██████████| 18/18 [00:07<00:00,  2.28it/s]"
          ]
        },
        {
          "metadata": {
            "tags": null
          },
          "name": "stdout",
          "output_type": "stream",
          "text": [
            "                   all        560        868       0.68      0.608      0.652      0.272\n"
          ]
        },
        {
          "metadata": {
            "tags": null
          },
          "name": "stderr",
          "output_type": "stream",
          "text": [
            "\n"
          ]
        },
        {
          "metadata": {
            "tags": null
          },
          "name": "stdout",
          "output_type": "stream",
          "text": [
            "\n",
            "      Epoch    GPU_mem   box_loss   cls_loss   dfl_loss  Instances       Size\n"
          ]
        },
        {
          "metadata": {
            "tags": null
          },
          "name": "stderr",
          "output_type": "stream",
          "text": [
            "     59/100      2.27G      1.703      1.081      1.378          9        640: 100%|██████████| 149/149 [00:58<00:00,  2.54it/s]\n",
            "                 Class     Images  Instances      Box(P          R      mAP50  mAP50-95): 100%|██████████| 18/18 [00:09<00:00,  1.95it/s]\n"
          ]
        },
        {
          "metadata": {
            "tags": null
          },
          "name": "stdout",
          "output_type": "stream",
          "text": [
            "                   all        560        868      0.742      0.577      0.641      0.262\n",
            "\n",
            "      Epoch    GPU_mem   box_loss   cls_loss   dfl_loss  Instances       Size\n"
          ]
        },
        {
          "metadata": {
            "tags": null
          },
          "name": "stderr",
          "output_type": "stream",
          "text": [
            "     60/100      2.28G      1.687      1.069      1.361         11        640: 100%|██████████| 149/149 [01:00<00:00,  2.47it/s]\n",
            "                 Class     Images  Instances      Box(P          R      mAP50  mAP50-95): 100%|██████████| 18/18 [00:06<00:00,  2.89it/s]"
          ]
        },
        {
          "metadata": {
            "tags": null
          },
          "name": "stdout",
          "output_type": "stream",
          "text": [
            "                   all        560        868      0.731      0.598      0.663      0.273\n"
          ]
        },
        {
          "metadata": {
            "tags": null
          },
          "name": "stderr",
          "output_type": "stream",
          "text": [
            "\n"
          ]
        },
        {
          "metadata": {
            "tags": null
          },
          "name": "stdout",
          "output_type": "stream",
          "text": [
            "\n",
            "      Epoch    GPU_mem   box_loss   cls_loss   dfl_loss  Instances       Size\n"
          ]
        },
        {
          "metadata": {
            "tags": null
          },
          "name": "stderr",
          "output_type": "stream",
          "text": [
            "     61/100      2.27G       1.68      1.063      1.363         19        640: 100%|██████████| 149/149 [00:59<00:00,  2.52it/s]\n",
            "                 Class     Images  Instances      Box(P          R      mAP50  mAP50-95): 100%|██████████| 18/18 [00:06<00:00,  2.98it/s]"
          ]
        },
        {
          "metadata": {
            "tags": null
          },
          "name": "stdout",
          "output_type": "stream",
          "text": [
            "                   all        560        868      0.664      0.609      0.647      0.263\n"
          ]
        },
        {
          "metadata": {
            "tags": null
          },
          "name": "stderr",
          "output_type": "stream",
          "text": [
            "\n"
          ]
        },
        {
          "metadata": {
            "tags": null
          },
          "name": "stdout",
          "output_type": "stream",
          "text": [
            "\n",
            "      Epoch    GPU_mem   box_loss   cls_loss   dfl_loss  Instances       Size\n"
          ]
        },
        {
          "metadata": {
            "tags": null
          },
          "name": "stderr",
          "output_type": "stream",
          "text": [
            "     62/100      2.26G      1.697      1.078      1.377         15        640: 100%|██████████| 149/149 [01:00<00:00,  2.44it/s]\n",
            "                 Class     Images  Instances      Box(P          R      mAP50  mAP50-95): 100%|██████████| 18/18 [00:07<00:00,  2.32it/s]"
          ]
        },
        {
          "metadata": {
            "tags": null
          },
          "name": "stdout",
          "output_type": "stream",
          "text": [
            "                   all        560        868      0.692       0.59      0.634      0.257\n"
          ]
        },
        {
          "metadata": {
            "tags": null
          },
          "name": "stderr",
          "output_type": "stream",
          "text": [
            "\n"
          ]
        },
        {
          "metadata": {
            "tags": null
          },
          "name": "stdout",
          "output_type": "stream",
          "text": [
            "\n",
            "      Epoch    GPU_mem   box_loss   cls_loss   dfl_loss  Instances       Size\n"
          ]
        },
        {
          "metadata": {
            "tags": null
          },
          "name": "stderr",
          "output_type": "stream",
          "text": [
            "     63/100      2.28G      1.666      1.061      1.353         11        640: 100%|██████████| 149/149 [00:57<00:00,  2.57it/s]\n",
            "                 Class     Images  Instances      Box(P          R      mAP50  mAP50-95): 100%|██████████| 18/18 [00:09<00:00,  1.88it/s]"
          ]
        },
        {
          "metadata": {
            "tags": null
          },
          "name": "stdout",
          "output_type": "stream",
          "text": [
            "                   all        560        868      0.737      0.605      0.655      0.266\n"
          ]
        },
        {
          "metadata": {
            "tags": null
          },
          "name": "stderr",
          "output_type": "stream",
          "text": [
            "\n"
          ]
        },
        {
          "metadata": {
            "tags": null
          },
          "name": "stdout",
          "output_type": "stream",
          "text": [
            "\n",
            "      Epoch    GPU_mem   box_loss   cls_loss   dfl_loss  Instances       Size\n"
          ]
        },
        {
          "metadata": {
            "tags": null
          },
          "name": "stderr",
          "output_type": "stream",
          "text": [
            "     64/100      2.27G       1.67      1.064      1.357         15        640: 100%|██████████| 149/149 [00:59<00:00,  2.49it/s]\n",
            "                 Class     Images  Instances      Box(P          R      mAP50  mAP50-95): 100%|██████████| 18/18 [00:05<00:00,  3.08it/s]"
          ]
        },
        {
          "metadata": {
            "tags": null
          },
          "name": "stdout",
          "output_type": "stream",
          "text": [
            "                   all        560        868      0.748      0.601      0.658      0.275\n"
          ]
        },
        {
          "metadata": {
            "tags": null
          },
          "name": "stderr",
          "output_type": "stream",
          "text": [
            "\n"
          ]
        },
        {
          "metadata": {
            "tags": null
          },
          "name": "stdout",
          "output_type": "stream",
          "text": [
            "\n",
            "      Epoch    GPU_mem   box_loss   cls_loss   dfl_loss  Instances       Size\n"
          ]
        },
        {
          "metadata": {
            "tags": null
          },
          "name": "stderr",
          "output_type": "stream",
          "text": [
            "     65/100      2.27G      1.655      1.062      1.352         13        640: 100%|██████████| 149/149 [00:58<00:00,  2.54it/s]\n",
            "                 Class     Images  Instances      Box(P          R      mAP50  mAP50-95): 100%|██████████| 18/18 [00:05<00:00,  3.11it/s]"
          ]
        },
        {
          "metadata": {
            "tags": null
          },
          "name": "stdout",
          "output_type": "stream",
          "text": [
            "                   all        560        868      0.733       0.61      0.653      0.264\n"
          ]
        },
        {
          "metadata": {
            "tags": null
          },
          "name": "stderr",
          "output_type": "stream",
          "text": [
            "\n"
          ]
        },
        {
          "metadata": {
            "tags": null
          },
          "name": "stdout",
          "output_type": "stream",
          "text": [
            "\n",
            "      Epoch    GPU_mem   box_loss   cls_loss   dfl_loss  Instances       Size\n"
          ]
        },
        {
          "metadata": {
            "tags": null
          },
          "name": "stderr",
          "output_type": "stream",
          "text": [
            "     66/100      2.26G      1.668      1.027      1.353         13        640: 100%|██████████| 149/149 [01:00<00:00,  2.48it/s]\n",
            "                 Class     Images  Instances      Box(P          R      mAP50  mAP50-95): 100%|██████████| 18/18 [00:07<00:00,  2.40it/s]"
          ]
        },
        {
          "metadata": {
            "tags": null
          },
          "name": "stdout",
          "output_type": "stream",
          "text": [
            "                   all        560        868      0.708      0.631       0.67      0.274\n"
          ]
        },
        {
          "metadata": {
            "tags": null
          },
          "name": "stderr",
          "output_type": "stream",
          "text": [
            "\n"
          ]
        },
        {
          "metadata": {
            "tags": null
          },
          "name": "stdout",
          "output_type": "stream",
          "text": [
            "\n",
            "      Epoch    GPU_mem   box_loss   cls_loss   dfl_loss  Instances       Size\n"
          ]
        },
        {
          "metadata": {
            "tags": null
          },
          "name": "stderr",
          "output_type": "stream",
          "text": [
            "     67/100      2.28G       1.64      1.037      1.331         13        640: 100%|██████████| 149/149 [01:02<00:00,  2.39it/s]\n",
            "                 Class     Images  Instances      Box(P          R      mAP50  mAP50-95): 100%|██████████| 18/18 [00:10<00:00,  1.72it/s]"
          ]
        },
        {
          "metadata": {
            "tags": null
          },
          "name": "stdout",
          "output_type": "stream",
          "text": [
            "                   all        560        868        0.7      0.627      0.666      0.275\n"
          ]
        },
        {
          "metadata": {
            "tags": null
          },
          "name": "stderr",
          "output_type": "stream",
          "text": [
            "\n"
          ]
        },
        {
          "metadata": {
            "tags": null
          },
          "name": "stdout",
          "output_type": "stream",
          "text": [
            "\n",
            "      Epoch    GPU_mem   box_loss   cls_loss   dfl_loss  Instances       Size\n"
          ]
        },
        {
          "metadata": {
            "tags": null
          },
          "name": "stderr",
          "output_type": "stream",
          "text": [
            "     68/100      2.27G      1.647      1.028      1.341          9        640: 100%|██████████| 149/149 [00:59<00:00,  2.52it/s]\n",
            "                 Class     Images  Instances      Box(P          R      mAP50  mAP50-95): 100%|██████████| 18/18 [00:06<00:00,  2.81it/s]"
          ]
        },
        {
          "metadata": {
            "tags": null
          },
          "name": "stdout",
          "output_type": "stream",
          "text": [
            "                   all        560        868      0.734      0.618      0.665      0.269\n"
          ]
        },
        {
          "metadata": {
            "tags": null
          },
          "name": "stderr",
          "output_type": "stream",
          "text": [
            "\n"
          ]
        },
        {
          "metadata": {
            "tags": null
          },
          "name": "stdout",
          "output_type": "stream",
          "text": [
            "\n",
            "      Epoch    GPU_mem   box_loss   cls_loss   dfl_loss  Instances       Size\n"
          ]
        },
        {
          "metadata": {
            "tags": null
          },
          "name": "stderr",
          "output_type": "stream",
          "text": [
            "     69/100      2.28G      1.633       1.01      1.336         12        640: 100%|██████████| 149/149 [01:02<00:00,  2.40it/s]\n",
            "                 Class     Images  Instances      Box(P          R      mAP50  mAP50-95): 100%|██████████| 18/18 [00:06<00:00,  2.95it/s]"
          ]
        },
        {
          "metadata": {
            "tags": null
          },
          "name": "stdout",
          "output_type": "stream",
          "text": [
            "                   all        560        868      0.739      0.618       0.67       0.27\n"
          ]
        },
        {
          "metadata": {
            "tags": null
          },
          "name": "stderr",
          "output_type": "stream",
          "text": [
            "\n"
          ]
        },
        {
          "metadata": {
            "tags": null
          },
          "name": "stdout",
          "output_type": "stream",
          "text": [
            "\n",
            "      Epoch    GPU_mem   box_loss   cls_loss   dfl_loss  Instances       Size\n"
          ]
        },
        {
          "metadata": {
            "tags": null
          },
          "name": "stderr",
          "output_type": "stream",
          "text": [
            "     70/100      2.27G      1.629      1.006      1.337          9        640: 100%|██████████| 149/149 [01:02<00:00,  2.39it/s]\n",
            "                 Class     Images  Instances      Box(P          R      mAP50  mAP50-95): 100%|██████████| 18/18 [00:07<00:00,  2.28it/s]"
          ]
        },
        {
          "metadata": {
            "tags": null
          },
          "name": "stdout",
          "output_type": "stream",
          "text": [
            "                   all        560        868      0.746       0.64      0.672      0.271\n"
          ]
        },
        {
          "metadata": {
            "tags": null
          },
          "name": "stderr",
          "output_type": "stream",
          "text": [
            "\n"
          ]
        },
        {
          "metadata": {
            "tags": null
          },
          "name": "stdout",
          "output_type": "stream",
          "text": [
            "\n",
            "      Epoch    GPU_mem   box_loss   cls_loss   dfl_loss  Instances       Size\n"
          ]
        },
        {
          "metadata": {
            "tags": null
          },
          "name": "stderr",
          "output_type": "stream",
          "text": [
            "     71/100      2.28G      1.632      1.004      1.334          5        640: 100%|██████████| 149/149 [01:00<00:00,  2.45it/s]\n",
            "                 Class     Images  Instances      Box(P          R      mAP50  mAP50-95): 100%|██████████| 18/18 [00:09<00:00,  1.99it/s]"
          ]
        },
        {
          "metadata": {
            "tags": null
          },
          "name": "stdout",
          "output_type": "stream",
          "text": [
            "                   all        560        868      0.707      0.626      0.651      0.271\n"
          ]
        },
        {
          "metadata": {
            "tags": null
          },
          "name": "stderr",
          "output_type": "stream",
          "text": [
            "\n"
          ]
        },
        {
          "metadata": {
            "tags": null
          },
          "name": "stdout",
          "output_type": "stream",
          "text": [
            "\n",
            "      Epoch    GPU_mem   box_loss   cls_loss   dfl_loss  Instances       Size\n"
          ]
        },
        {
          "metadata": {
            "tags": null
          },
          "name": "stderr",
          "output_type": "stream",
          "text": [
            "     72/100      2.27G      1.627      1.009      1.332          7        640: 100%|██████████| 149/149 [00:59<00:00,  2.50it/s]\n",
            "                 Class     Images  Instances      Box(P          R      mAP50  mAP50-95): 100%|██████████| 18/18 [00:05<00:00,  3.02it/s]"
          ]
        },
        {
          "metadata": {
            "tags": null
          },
          "name": "stdout",
          "output_type": "stream",
          "text": [
            "                   all        560        868      0.682      0.613      0.645       0.27\n"
          ]
        },
        {
          "metadata": {
            "tags": null
          },
          "name": "stderr",
          "output_type": "stream",
          "text": [
            "\n"
          ]
        },
        {
          "metadata": {
            "tags": null
          },
          "name": "stdout",
          "output_type": "stream",
          "text": [
            "\n",
            "      Epoch    GPU_mem   box_loss   cls_loss   dfl_loss  Instances       Size\n"
          ]
        },
        {
          "metadata": {
            "tags": null
          },
          "name": "stderr",
          "output_type": "stream",
          "text": [
            "     73/100      2.29G      1.617      1.001      1.335         15        640: 100%|██████████| 149/149 [01:00<00:00,  2.46it/s]\n",
            "                 Class     Images  Instances      Box(P          R      mAP50  mAP50-95): 100%|██████████| 18/18 [00:05<00:00,  3.02it/s]"
          ]
        },
        {
          "metadata": {
            "tags": null
          },
          "name": "stdout",
          "output_type": "stream",
          "text": [
            "                   all        560        868      0.727      0.625      0.665      0.273\n"
          ]
        },
        {
          "metadata": {
            "tags": null
          },
          "name": "stderr",
          "output_type": "stream",
          "text": [
            "\n"
          ]
        },
        {
          "metadata": {
            "tags": null
          },
          "name": "stdout",
          "output_type": "stream",
          "text": [
            "\n",
            "      Epoch    GPU_mem   box_loss   cls_loss   dfl_loss  Instances       Size\n"
          ]
        },
        {
          "metadata": {
            "tags": null
          },
          "name": "stderr",
          "output_type": "stream",
          "text": [
            "     74/100      2.26G      1.609     0.9832      1.323         20        640: 100%|██████████| 149/149 [01:00<00:00,  2.47it/s]\n",
            "                 Class     Images  Instances      Box(P          R      mAP50  mAP50-95): 100%|██████████| 18/18 [00:08<00:00,  2.01it/s]"
          ]
        },
        {
          "metadata": {
            "tags": null
          },
          "name": "stdout",
          "output_type": "stream",
          "text": [
            "                   all        560        868      0.765      0.618      0.676      0.272\n"
          ]
        },
        {
          "metadata": {
            "tags": null
          },
          "name": "stderr",
          "output_type": "stream",
          "text": [
            "\n"
          ]
        },
        {
          "metadata": {
            "tags": null
          },
          "name": "stdout",
          "output_type": "stream",
          "text": [
            "\n",
            "      Epoch    GPU_mem   box_loss   cls_loss   dfl_loss  Instances       Size\n"
          ]
        },
        {
          "metadata": {
            "tags": null
          },
          "name": "stderr",
          "output_type": "stream",
          "text": [
            "     75/100      2.27G      1.616     0.9842      1.327         16        640: 100%|██████████| 149/149 [00:57<00:00,  2.57it/s]\n",
            "                 Class     Images  Instances      Box(P          R      mAP50  mAP50-95): 100%|██████████| 18/18 [00:07<00:00,  2.28it/s]"
          ]
        },
        {
          "metadata": {
            "tags": null
          },
          "name": "stdout",
          "output_type": "stream",
          "text": [
            "                   all        560        868      0.707      0.636      0.675      0.277\n"
          ]
        },
        {
          "metadata": {
            "tags": null
          },
          "name": "stderr",
          "output_type": "stream",
          "text": [
            "\n"
          ]
        },
        {
          "metadata": {
            "tags": null
          },
          "name": "stdout",
          "output_type": "stream",
          "text": [
            "\n",
            "      Epoch    GPU_mem   box_loss   cls_loss   dfl_loss  Instances       Size\n"
          ]
        },
        {
          "output_type": "stream",
          "name": "stderr",
          "text": [
            "     76/100      2.28G      1.605      0.965      1.321         14        640: 100%|██████████| 149/149 [00:58<00:00,  2.53it/s]\n",
            "                 Class     Images  Instances      Box(P          R      mAP50  mAP50-95): 100%|██████████| 18/18 [00:05<00:00,  3.06it/s]"
          ]
        },
        {
          "output_type": "stream",
          "name": "stdout",
          "text": [
            "                   all        560        868      0.745      0.653      0.685      0.276\n"
          ]
        },
        {
          "output_type": "stream",
          "name": "stderr",
          "text": [
            "\n"
          ]
        },
        {
          "output_type": "stream",
          "name": "stdout",
          "text": [
            "\n",
            "      Epoch    GPU_mem   box_loss   cls_loss   dfl_loss  Instances       Size\n"
          ]
        },
        {
          "output_type": "stream",
          "name": "stderr",
          "text": [
            "     77/100      2.27G      1.585     0.9828      1.313         11        640: 100%|██████████| 149/149 [00:58<00:00,  2.53it/s]\n",
            "                 Class     Images  Instances      Box(P          R      mAP50  mAP50-95): 100%|██████████| 18/18 [00:06<00:00,  2.94it/s]"
          ]
        },
        {
          "output_type": "stream",
          "name": "stdout",
          "text": [
            "                   all        560        868      0.701      0.646      0.671      0.274\n"
          ]
        },
        {
          "output_type": "stream",
          "name": "stderr",
          "text": [
            "\n"
          ]
        },
        {
          "output_type": "stream",
          "name": "stdout",
          "text": [
            "\n",
            "      Epoch    GPU_mem   box_loss   cls_loss   dfl_loss  Instances       Size\n"
          ]
        },
        {
          "output_type": "stream",
          "name": "stderr",
          "text": [
            "     78/100      2.26G      1.603     0.9667      1.323         22        640: 100%|██████████| 149/149 [00:57<00:00,  2.60it/s]\n",
            "                 Class     Images  Instances      Box(P          R      mAP50  mAP50-95): 100%|██████████| 18/18 [00:09<00:00,  1.90it/s]"
          ]
        },
        {
          "output_type": "stream",
          "name": "stdout",
          "text": [
            "                   all        560        868      0.714      0.632      0.671      0.272\n"
          ]
        },
        {
          "output_type": "stream",
          "name": "stderr",
          "text": [
            "\n"
          ]
        },
        {
          "output_type": "stream",
          "name": "stdout",
          "text": [
            "\n",
            "      Epoch    GPU_mem   box_loss   cls_loss   dfl_loss  Instances       Size\n"
          ]
        },
        {
          "output_type": "stream",
          "name": "stderr",
          "text": [
            "     79/100      2.28G      1.607     0.9753      1.321         25        640: 100%|██████████| 149/149 [00:57<00:00,  2.61it/s]\n",
            "                 Class     Images  Instances      Box(P          R      mAP50  mAP50-95): 100%|██████████| 18/18 [00:09<00:00,  1.98it/s]\n"
          ]
        },
        {
          "output_type": "stream",
          "name": "stdout",
          "text": [
            "                   all        560        868      0.747      0.642      0.685      0.281\n",
            "\n",
            "      Epoch    GPU_mem   box_loss   cls_loss   dfl_loss  Instances       Size\n"
          ]
        },
        {
          "output_type": "stream",
          "name": "stderr",
          "text": [
            "     80/100      2.29G       1.58      0.966      1.301          8        640: 100%|██████████| 149/149 [01:00<00:00,  2.46it/s]\n",
            "                 Class     Images  Instances      Box(P          R      mAP50  mAP50-95): 100%|██████████| 18/18 [00:06<00:00,  2.98it/s]"
          ]
        },
        {
          "output_type": "stream",
          "name": "stdout",
          "text": [
            "                   all        560        868      0.714       0.64      0.677      0.275\n"
          ]
        },
        {
          "output_type": "stream",
          "name": "stderr",
          "text": [
            "\n"
          ]
        },
        {
          "output_type": "stream",
          "name": "stdout",
          "text": [
            "\n",
            "      Epoch    GPU_mem   box_loss   cls_loss   dfl_loss  Instances       Size\n"
          ]
        },
        {
          "output_type": "stream",
          "name": "stderr",
          "text": [
            "     81/100      2.27G      1.603     0.9735      1.325         18        640: 100%|██████████| 149/149 [01:01<00:00,  2.42it/s]\n",
            "                 Class     Images  Instances      Box(P          R      mAP50  mAP50-95): 100%|██████████| 18/18 [00:07<00:00,  2.43it/s]"
          ]
        },
        {
          "output_type": "stream",
          "name": "stdout",
          "text": [
            "                   all        560        868      0.758      0.597      0.678      0.273\n"
          ]
        },
        {
          "output_type": "stream",
          "name": "stderr",
          "text": [
            "\n"
          ]
        },
        {
          "output_type": "stream",
          "name": "stdout",
          "text": [
            "\n",
            "      Epoch    GPU_mem   box_loss   cls_loss   dfl_loss  Instances       Size\n"
          ]
        },
        {
          "output_type": "stream",
          "name": "stderr",
          "text": [
            "     82/100      2.26G      1.578     0.9625      1.301         12        640: 100%|██████████| 149/149 [00:58<00:00,  2.54it/s]\n",
            "                 Class     Images  Instances      Box(P          R      mAP50  mAP50-95): 100%|██████████| 18/18 [00:09<00:00,  2.00it/s]"
          ]
        },
        {
          "output_type": "stream",
          "name": "stdout",
          "text": [
            "                   all        560        868      0.738      0.601      0.667      0.277\n"
          ]
        },
        {
          "output_type": "stream",
          "name": "stderr",
          "text": [
            "\n"
          ]
        },
        {
          "output_type": "stream",
          "name": "stdout",
          "text": [
            "\n",
            "      Epoch    GPU_mem   box_loss   cls_loss   dfl_loss  Instances       Size\n"
          ]
        },
        {
          "output_type": "stream",
          "name": "stderr",
          "text": [
            "     83/100      2.28G      1.565     0.9542       1.29         14        640: 100%|██████████| 149/149 [00:58<00:00,  2.53it/s]\n",
            "                 Class     Images  Instances      Box(P          R      mAP50  mAP50-95): 100%|██████████| 18/18 [00:05<00:00,  3.11it/s]"
          ]
        },
        {
          "output_type": "stream",
          "name": "stdout",
          "text": [
            "                   all        560        868      0.726      0.601      0.663      0.276\n"
          ]
        },
        {
          "output_type": "stream",
          "name": "stderr",
          "text": [
            "\n"
          ]
        },
        {
          "output_type": "stream",
          "name": "stdout",
          "text": [
            "\n",
            "      Epoch    GPU_mem   box_loss   cls_loss   dfl_loss  Instances       Size\n"
          ]
        },
        {
          "output_type": "stream",
          "name": "stderr",
          "text": [
            "     84/100      2.27G      1.581     0.9414        1.3         10        640: 100%|██████████| 149/149 [00:58<00:00,  2.53it/s]\n",
            "                 Class     Images  Instances      Box(P          R      mAP50  mAP50-95): 100%|██████████| 18/18 [00:06<00:00,  2.75it/s]"
          ]
        },
        {
          "output_type": "stream",
          "name": "stdout",
          "text": [
            "                   all        560        868      0.702       0.61      0.659      0.277\n"
          ]
        },
        {
          "output_type": "stream",
          "name": "stderr",
          "text": [
            "\n"
          ]
        },
        {
          "output_type": "stream",
          "name": "stdout",
          "text": [
            "\n",
            "      Epoch    GPU_mem   box_loss   cls_loss   dfl_loss  Instances       Size\n"
          ]
        },
        {
          "output_type": "stream",
          "name": "stderr",
          "text": [
            "     85/100      2.27G      1.558     0.9204      1.294         16        640: 100%|██████████| 149/149 [00:58<00:00,  2.55it/s]\n",
            "                 Class     Images  Instances      Box(P          R      mAP50  mAP50-95): 100%|██████████| 18/18 [00:09<00:00,  1.87it/s]\n"
          ]
        },
        {
          "output_type": "stream",
          "name": "stdout",
          "text": [
            "                   all        560        868      0.714      0.644      0.668      0.279\n",
            "\n",
            "      Epoch    GPU_mem   box_loss   cls_loss   dfl_loss  Instances       Size\n"
          ]
        },
        {
          "output_type": "stream",
          "name": "stderr",
          "text": [
            "     86/100      2.26G      1.563     0.9465      1.286         10        640: 100%|██████████| 149/149 [00:58<00:00,  2.54it/s]\n",
            "                 Class     Images  Instances      Box(P          R      mAP50  mAP50-95): 100%|██████████| 18/18 [00:06<00:00,  2.97it/s]"
          ]
        },
        {
          "output_type": "stream",
          "name": "stdout",
          "text": [
            "                   all        560        868      0.709      0.658      0.671      0.273\n"
          ]
        },
        {
          "output_type": "stream",
          "name": "stderr",
          "text": [
            "\n"
          ]
        },
        {
          "output_type": "stream",
          "name": "stdout",
          "text": [
            "\n",
            "      Epoch    GPU_mem   box_loss   cls_loss   dfl_loss  Instances       Size\n"
          ]
        },
        {
          "output_type": "stream",
          "name": "stderr",
          "text": [
            "     87/100      2.27G      1.548     0.9272      1.294         11        640: 100%|██████████| 149/149 [00:59<00:00,  2.52it/s]\n",
            "                 Class     Images  Instances      Box(P          R      mAP50  mAP50-95): 100%|██████████| 18/18 [00:06<00:00,  2.85it/s]"
          ]
        },
        {
          "output_type": "stream",
          "name": "stdout",
          "text": [
            "                   all        560        868      0.735      0.634      0.672      0.276\n"
          ]
        },
        {
          "output_type": "stream",
          "name": "stderr",
          "text": [
            "\n"
          ]
        },
        {
          "output_type": "stream",
          "name": "stdout",
          "text": [
            "\n",
            "      Epoch    GPU_mem   box_loss   cls_loss   dfl_loss  Instances       Size\n"
          ]
        },
        {
          "output_type": "stream",
          "name": "stderr",
          "text": [
            "     88/100      2.27G      1.549     0.9298      1.287          9        640: 100%|██████████| 149/149 [00:58<00:00,  2.53it/s]\n",
            "                 Class     Images  Instances      Box(P          R      mAP50  mAP50-95): 100%|██████████| 18/18 [00:09<00:00,  1.90it/s]"
          ]
        },
        {
          "output_type": "stream",
          "name": "stdout",
          "text": [
            "                   all        560        868      0.726      0.652      0.678      0.275\n"
          ]
        },
        {
          "output_type": "stream",
          "name": "stderr",
          "text": [
            "\n"
          ]
        },
        {
          "output_type": "stream",
          "name": "stdout",
          "text": [
            "\n",
            "      Epoch    GPU_mem   box_loss   cls_loss   dfl_loss  Instances       Size\n"
          ]
        },
        {
          "output_type": "stream",
          "name": "stderr",
          "text": [
            "     89/100      2.28G      1.541     0.9197      1.279         22        640: 100%|██████████| 149/149 [00:57<00:00,  2.57it/s]\n",
            "                 Class     Images  Instances      Box(P          R      mAP50  mAP50-95): 100%|██████████| 18/18 [00:07<00:00,  2.28it/s]"
          ]
        },
        {
          "output_type": "stream",
          "name": "stdout",
          "text": [
            "                   all        560        868      0.728      0.655       0.67      0.276\n"
          ]
        },
        {
          "output_type": "stream",
          "name": "stderr",
          "text": [
            "\n"
          ]
        },
        {
          "output_type": "stream",
          "name": "stdout",
          "text": [
            "\n",
            "      Epoch    GPU_mem   box_loss   cls_loss   dfl_loss  Instances       Size\n"
          ]
        },
        {
          "output_type": "stream",
          "name": "stderr",
          "text": [
            "     90/100      2.26G      1.531     0.9176      1.275         15        640: 100%|██████████| 149/149 [01:01<00:00,  2.41it/s]\n",
            "                 Class     Images  Instances      Box(P          R      mAP50  mAP50-95): 100%|██████████| 18/18 [00:06<00:00,  2.73it/s]"
          ]
        },
        {
          "output_type": "stream",
          "name": "stdout",
          "text": [
            "                   all        560        868      0.749      0.649      0.682      0.278\n"
          ]
        },
        {
          "output_type": "stream",
          "name": "stderr",
          "text": [
            "\n"
          ]
        },
        {
          "output_type": "stream",
          "name": "stdout",
          "text": [
            "Closing dataloader mosaic\n",
            "\u001b[34m\u001b[1malbumentations: \u001b[0mBlur(p=0.01, blur_limit=(3, 7)), MedianBlur(p=0.01, blur_limit=(3, 7)), ToGray(p=0.01), CLAHE(p=0.01, clip_limit=(1, 4.0), tile_grid_size=(8, 8))\n"
          ]
        },
        {
          "output_type": "stream",
          "name": "stderr",
          "text": [
            "/usr/lib/python3.10/multiprocessing/popen_fork.py:66: RuntimeWarning: os.fork() was called. os.fork() is incompatible with multithreaded code, and JAX is multithreaded, so this will likely lead to a deadlock.\n",
            "  self.pid = os.fork()\n"
          ]
        },
        {
          "output_type": "stream",
          "name": "stdout",
          "text": [
            "\n",
            "      Epoch    GPU_mem   box_loss   cls_loss   dfl_loss  Instances       Size\n"
          ]
        },
        {
          "output_type": "stream",
          "name": "stderr",
          "text": [
            "     91/100       2.4G      1.513     0.8443      1.318         10        640: 100%|██████████| 149/149 [01:00<00:00,  2.48it/s]\n",
            "                 Class     Images  Instances      Box(P          R      mAP50  mAP50-95): 100%|██████████| 18/18 [00:09<00:00,  1.94it/s]"
          ]
        },
        {
          "output_type": "stream",
          "name": "stdout",
          "text": [
            "                   all        560        868      0.735      0.651      0.683      0.279\n"
          ]
        },
        {
          "output_type": "stream",
          "name": "stderr",
          "text": [
            "\n"
          ]
        },
        {
          "output_type": "stream",
          "name": "stdout",
          "text": [
            "\n",
            "      Epoch    GPU_mem   box_loss   cls_loss   dfl_loss  Instances       Size\n"
          ]
        },
        {
          "output_type": "stream",
          "name": "stderr",
          "text": [
            "     92/100      2.27G      1.507     0.8383      1.319          9        640: 100%|██████████| 149/149 [00:52<00:00,  2.84it/s]\n",
            "                 Class     Images  Instances      Box(P          R      mAP50  mAP50-95): 100%|██████████| 18/18 [00:09<00:00,  1.92it/s]"
          ]
        },
        {
          "output_type": "stream",
          "name": "stdout",
          "text": [
            "                   all        560        868      0.737       0.66      0.677      0.277\n"
          ]
        },
        {
          "output_type": "stream",
          "name": "stderr",
          "text": [
            "\n"
          ]
        },
        {
          "output_type": "stream",
          "name": "stdout",
          "text": [
            "\n",
            "      Epoch    GPU_mem   box_loss   cls_loss   dfl_loss  Instances       Size\n"
          ]
        },
        {
          "output_type": "stream",
          "name": "stderr",
          "text": [
            "     93/100      2.27G      1.494     0.8239      1.312          8        640: 100%|██████████| 149/149 [00:54<00:00,  2.73it/s]\n",
            "                 Class     Images  Instances      Box(P          R      mAP50  mAP50-95): 100%|██████████| 18/18 [00:09<00:00,  1.99it/s]"
          ]
        },
        {
          "output_type": "stream",
          "name": "stdout",
          "text": [
            "                   all        560        868      0.732      0.658      0.676      0.277\n"
          ]
        },
        {
          "output_type": "stream",
          "name": "stderr",
          "text": [
            "\n"
          ]
        },
        {
          "output_type": "stream",
          "name": "stdout",
          "text": [
            "\n",
            "      Epoch    GPU_mem   box_loss   cls_loss   dfl_loss  Instances       Size\n"
          ]
        },
        {
          "output_type": "stream",
          "name": "stderr",
          "text": [
            "     94/100      2.26G       1.49     0.8266      1.311         10        640: 100%|██████████| 149/149 [00:54<00:00,  2.72it/s]\n",
            "                 Class     Images  Instances      Box(P          R      mAP50  mAP50-95): 100%|██████████| 18/18 [00:07<00:00,  2.52it/s]"
          ]
        },
        {
          "output_type": "stream",
          "name": "stdout",
          "text": [
            "                   all        560        868      0.703      0.647      0.665      0.273\n"
          ]
        },
        {
          "output_type": "stream",
          "name": "stderr",
          "text": [
            "\n"
          ]
        },
        {
          "output_type": "stream",
          "name": "stdout",
          "text": [
            "\n",
            "      Epoch    GPU_mem   box_loss   cls_loss   dfl_loss  Instances       Size\n"
          ]
        },
        {
          "output_type": "stream",
          "name": "stderr",
          "text": [
            "     95/100      2.27G      1.487     0.8224      1.311          8        640: 100%|██████████| 149/149 [00:55<00:00,  2.70it/s]\n",
            "                 Class     Images  Instances      Box(P          R      mAP50  mAP50-95): 100%|██████████| 18/18 [00:05<00:00,  3.19it/s]"
          ]
        },
        {
          "output_type": "stream",
          "name": "stdout",
          "text": [
            "                   all        560        868      0.717      0.643      0.663      0.274\n"
          ]
        },
        {
          "output_type": "stream",
          "name": "stderr",
          "text": [
            "\n"
          ]
        },
        {
          "output_type": "stream",
          "name": "stdout",
          "text": [
            "\n",
            "      Epoch    GPU_mem   box_loss   cls_loss   dfl_loss  Instances       Size\n"
          ]
        },
        {
          "output_type": "stream",
          "name": "stderr",
          "text": [
            "     96/100      2.27G      1.474      0.814      1.309          9        640: 100%|██████████| 149/149 [00:57<00:00,  2.59it/s]\n",
            "                 Class     Images  Instances      Box(P          R      mAP50  mAP50-95): 100%|██████████| 18/18 [00:06<00:00,  2.96it/s]"
          ]
        },
        {
          "output_type": "stream",
          "name": "stdout",
          "text": [
            "                   all        560        868      0.713      0.655      0.667      0.274\n"
          ]
        },
        {
          "output_type": "stream",
          "name": "stderr",
          "text": [
            "\n"
          ]
        },
        {
          "output_type": "stream",
          "name": "stdout",
          "text": [
            "\n",
            "      Epoch    GPU_mem   box_loss   cls_loss   dfl_loss  Instances       Size\n"
          ]
        },
        {
          "output_type": "stream",
          "name": "stderr",
          "text": [
            "     97/100      2.27G      1.476     0.8055      1.305          8        640: 100%|██████████| 149/149 [00:57<00:00,  2.57it/s]\n",
            "                 Class     Images  Instances      Box(P          R      mAP50  mAP50-95): 100%|██████████| 18/18 [00:05<00:00,  3.02it/s]"
          ]
        },
        {
          "output_type": "stream",
          "name": "stdout",
          "text": [
            "                   all        560        868      0.714      0.658      0.674      0.273\n"
          ]
        },
        {
          "output_type": "stream",
          "name": "stderr",
          "text": [
            "\n"
          ]
        },
        {
          "output_type": "stream",
          "name": "stdout",
          "text": [
            "\n",
            "      Epoch    GPU_mem   box_loss   cls_loss   dfl_loss  Instances       Size\n"
          ]
        },
        {
          "output_type": "stream",
          "name": "stderr",
          "text": [
            "     98/100      2.26G      1.471      0.808      1.303          7        640: 100%|██████████| 149/149 [00:55<00:00,  2.68it/s]\n",
            "                 Class     Images  Instances      Box(P          R      mAP50  mAP50-95): 100%|██████████| 18/18 [00:07<00:00,  2.54it/s]"
          ]
        },
        {
          "output_type": "stream",
          "name": "stdout",
          "text": [
            "                   all        560        868      0.717      0.683      0.682      0.275\n"
          ]
        },
        {
          "output_type": "stream",
          "name": "stderr",
          "text": [
            "\n"
          ]
        },
        {
          "output_type": "stream",
          "name": "stdout",
          "text": [
            "\n",
            "      Epoch    GPU_mem   box_loss   cls_loss   dfl_loss  Instances       Size\n"
          ]
        },
        {
          "output_type": "stream",
          "name": "stderr",
          "text": [
            "     99/100      2.27G      1.472     0.8069      1.303         11        640: 100%|██████████| 149/149 [00:55<00:00,  2.67it/s]\n",
            "                 Class     Images  Instances      Box(P          R      mAP50  mAP50-95): 100%|██████████| 18/18 [00:08<00:00,  2.08it/s]"
          ]
        },
        {
          "output_type": "stream",
          "name": "stdout",
          "text": [
            "                   all        560        868      0.707      0.657      0.676      0.275\n"
          ]
        },
        {
          "output_type": "stream",
          "name": "stderr",
          "text": [
            "\n"
          ]
        },
        {
          "output_type": "stream",
          "name": "stdout",
          "text": [
            "\n",
            "      Epoch    GPU_mem   box_loss   cls_loss   dfl_loss  Instances       Size\n"
          ]
        },
        {
          "output_type": "stream",
          "name": "stderr",
          "text": [
            "    100/100      2.27G      1.455     0.7956      1.301          8        640: 100%|██████████| 149/149 [00:55<00:00,  2.68it/s]\n",
            "                 Class     Images  Instances      Box(P          R      mAP50  mAP50-95): 100%|██████████| 18/18 [00:09<00:00,  1.86it/s]"
          ]
        },
        {
          "output_type": "stream",
          "name": "stdout",
          "text": [
            "                   all        560        868      0.704      0.653      0.671      0.274\n"
          ]
        },
        {
          "output_type": "stream",
          "name": "stderr",
          "text": [
            "\n"
          ]
        },
        {
          "output_type": "stream",
          "name": "stdout",
          "text": [
            "\n",
            "100 epochs completed in 1.846 hours.\n",
            "Optimizer stripped from runs/detect/train/weights/last.pt, 6.3MB\n",
            "Optimizer stripped from runs/detect/train/weights/best.pt, 6.3MB\n",
            "\n",
            "Validating runs/detect/train/weights/best.pt...\n",
            "Ultralytics YOLOv8.2.15 🚀 Python-3.10.12 torch-2.2.1+cu121 CUDA:0 (Tesla T4, 15102MiB)\n",
            "Model summary (fused): 168 layers, 3006428 parameters, 0 gradients, 8.1 GFLOPs\n"
          ]
        },
        {
          "output_type": "stream",
          "name": "stderr",
          "text": [
            "                 Class     Images  Instances      Box(P          R      mAP50  mAP50-95): 100%|██████████| 18/18 [00:08<00:00,  2.10it/s]\n"
          ]
        },
        {
          "output_type": "stream",
          "name": "stdout",
          "text": [
            "                   all        560        868      0.747       0.64      0.685       0.28\n",
            "            EmptyHands        560        386      0.808      0.676      0.736      0.284\n",
            "               droping        560         44      0.635      0.474      0.455      0.144\n",
            "          picking-hold        560        173      0.745      0.559      0.671       0.31\n",
            "           shoplifting        560        265      0.801      0.853      0.877      0.382\n",
            "Speed: 0.3ms preprocess, 2.7ms inference, 0.0ms loss, 2.6ms postprocess per image\n",
            "Results saved to \u001b[1mruns/detect/train\u001b[0m\n"
          ]
        }
      ]
    },
    {
      "cell_type": "code",
      "source": [
        "metrics = model.val(data='/content/data.yaml')  # no arguments needed, dataset and settings remembered\n",
        "metrics.box.map    # map50-95\n",
        "metrics.box.map50  # map50\n",
        "metrics.box.map75  # map75\n",
        "metrics.box.maps   # a list contains map50-95 of each category"
      ],
      "metadata": {
        "colab": {
          "base_uri": "https://localhost:8080/"
        },
        "id": "YNpehn-Gj8jb",
        "outputId": "4f9c076f-e527-4a22-f3e5-0b127afe972f"
      },
      "execution_count": null,
      "outputs": [
        {
          "output_type": "stream",
          "name": "stdout",
          "text": [
            "Ultralytics YOLOv8.2.16 🚀 Python-3.10.12 torch-2.2.1+cu121 CPU (Intel Xeon 2.20GHz)\n",
            "Downloading https://ultralytics.com/assets/Arial.ttf to '/root/.config/Ultralytics/Arial.ttf'...\n"
          ]
        },
        {
          "output_type": "stream",
          "name": "stderr",
          "text": [
            "100%|██████████| 755k/755k [00:00<00:00, 5.16MB/s]\n",
            "\u001b[34m\u001b[1mval: \u001b[0mScanning /content/valid/labels... 560 images, 3 backgrounds, 0 corrupt: 100%|██████████| 560/560 [00:00<00:00, 1717.17it/s]"
          ]
        },
        {
          "output_type": "stream",
          "name": "stdout",
          "text": [
            "\u001b[34m\u001b[1mval: \u001b[0mNew cache created: /content/valid/labels.cache\n"
          ]
        },
        {
          "output_type": "stream",
          "name": "stderr",
          "text": [
            "\n",
            "                 Class     Images  Instances      Box(P          R      mAP50  mAP50-95): 100%|██████████| 35/35 [03:29<00:00,  5.98s/it]"
          ]
        },
        {
          "output_type": "stream",
          "name": "stdout",
          "text": [
            "                   all        560        868          0          0          0          0\n"
          ]
        },
        {
          "output_type": "stream",
          "name": "stderr",
          "text": [
            "\n"
          ]
        },
        {
          "output_type": "stream",
          "name": "stdout",
          "text": [
            "Speed: 9.8ms preprocess, 346.0ms inference, 0.0ms loss, 6.3ms postprocess per image\n",
            "Results saved to \u001b[1mruns/detect/val3\u001b[0m\n"
          ]
        },
        {
          "output_type": "execute_result",
          "data": {
            "text/plain": [
              "array([], dtype=float64)"
            ]
          },
          "metadata": {},
          "execution_count": 9
        }
      ]
    },
    {
      "cell_type": "code",
      "source": [
        "model.export(format='saved_model')\n",
        "model.export(format='pb')"
      ],
      "metadata": {
        "colab": {
          "base_uri": "https://localhost:8080/",
          "height": 703
        },
        "id": "xMikfzZxNQdC",
        "outputId": "c631df4d-2f89-40ab-a3e9-0959c4afa9e3"
      },
      "execution_count": null,
      "outputs": [
        {
          "output_type": "stream",
          "name": "stdout",
          "text": [
            "Ultralytics YOLOv8.2.16 🚀 Python-3.10.12 torch-2.2.1+cu121 CPU (Intel Xeon 2.20GHz)\n",
            "\n",
            "\u001b[34m\u001b[1mPyTorch:\u001b[0m starting from 'yolov8n.yaml' with input shape (1, 3, 640, 640) BCHW and output shape(s) (1, 84, 8400) (0.0 MB)\n",
            "\n",
            "\u001b[34m\u001b[1mTensorFlow SavedModel:\u001b[0m starting export with tensorflow 2.15.0...\n",
            "WARNING ⚠️ tensorflow<=2.13.1 is required, but tensorflow==2.15.0 is currently installed https://github.com/ultralytics/ultralytics/issues/5161\n",
            "\n",
            "\u001b[34m\u001b[1mONNX:\u001b[0m starting export with onnx 1.16.0 opset 17...\n",
            "\u001b[34m\u001b[1mONNX:\u001b[0m simplifying with onnxsim 0.4.36...\n",
            "\u001b[34m\u001b[1mONNX:\u001b[0m export success ✅ 1.4s, saved as 'yolov8n.onnx' (12.2 MB)\n",
            "\u001b[34m\u001b[1mTensorFlow SavedModel:\u001b[0m starting TFLite export with onnx2tf 1.17.5...\n",
            "\u001b[34m\u001b[1mTensorFlow SavedModel:\u001b[0m export failure ❌ 88.8s: generic_type: cannot initialize type \"StatusCode\": an object with that name is already defined\n"
          ]
        },
        {
          "output_type": "error",
          "ename": "ImportError",
          "evalue": "generic_type: cannot initialize type \"StatusCode\": an object with that name is already defined",
          "traceback": [
            "\u001b[0;31m---------------------------------------------------------------------------\u001b[0m",
            "\u001b[0;31mImportError\u001b[0m                               Traceback (most recent call last)",
            "\u001b[0;32m<ipython-input-11-b06c4a86f448>\u001b[0m in \u001b[0;36m<cell line: 1>\u001b[0;34m()\u001b[0m\n\u001b[0;32m----> 1\u001b[0;31m \u001b[0mmodel\u001b[0m\u001b[0;34m.\u001b[0m\u001b[0mexport\u001b[0m\u001b[0;34m(\u001b[0m\u001b[0mformat\u001b[0m\u001b[0;34m=\u001b[0m\u001b[0;34m'saved_model'\u001b[0m\u001b[0;34m)\u001b[0m\u001b[0;34m\u001b[0m\u001b[0;34m\u001b[0m\u001b[0m\n\u001b[0m\u001b[1;32m      2\u001b[0m \u001b[0mmodel\u001b[0m\u001b[0;34m.\u001b[0m\u001b[0mexport\u001b[0m\u001b[0;34m(\u001b[0m\u001b[0mformat\u001b[0m\u001b[0;34m=\u001b[0m\u001b[0;34m'pb'\u001b[0m\u001b[0;34m)\u001b[0m\u001b[0;34m\u001b[0m\u001b[0;34m\u001b[0m\u001b[0m\n",
            "\u001b[0;32m/usr/local/lib/python3.10/dist-packages/ultralytics/engine/model.py\u001b[0m in \u001b[0;36mexport\u001b[0;34m(self, **kwargs)\u001b[0m\n\u001b[1;32m    600\u001b[0m         \u001b[0mcustom\u001b[0m \u001b[0;34m=\u001b[0m \u001b[0;34m{\u001b[0m\u001b[0;34m\"imgsz\"\u001b[0m\u001b[0;34m:\u001b[0m \u001b[0mself\u001b[0m\u001b[0;34m.\u001b[0m\u001b[0mmodel\u001b[0m\u001b[0;34m.\u001b[0m\u001b[0margs\u001b[0m\u001b[0;34m[\u001b[0m\u001b[0;34m\"imgsz\"\u001b[0m\u001b[0;34m]\u001b[0m\u001b[0;34m,\u001b[0m \u001b[0;34m\"batch\"\u001b[0m\u001b[0;34m:\u001b[0m \u001b[0;36m1\u001b[0m\u001b[0;34m,\u001b[0m \u001b[0;34m\"data\"\u001b[0m\u001b[0;34m:\u001b[0m \u001b[0;32mNone\u001b[0m\u001b[0;34m,\u001b[0m \u001b[0;34m\"verbose\"\u001b[0m\u001b[0;34m:\u001b[0m \u001b[0;32mFalse\u001b[0m\u001b[0;34m}\u001b[0m  \u001b[0;31m# method defaults\u001b[0m\u001b[0;34m\u001b[0m\u001b[0;34m\u001b[0m\u001b[0m\n\u001b[1;32m    601\u001b[0m         \u001b[0margs\u001b[0m \u001b[0;34m=\u001b[0m \u001b[0;34m{\u001b[0m\u001b[0;34m**\u001b[0m\u001b[0mself\u001b[0m\u001b[0;34m.\u001b[0m\u001b[0moverrides\u001b[0m\u001b[0;34m,\u001b[0m \u001b[0;34m**\u001b[0m\u001b[0mcustom\u001b[0m\u001b[0;34m,\u001b[0m \u001b[0;34m**\u001b[0m\u001b[0mkwargs\u001b[0m\u001b[0;34m,\u001b[0m \u001b[0;34m\"mode\"\u001b[0m\u001b[0;34m:\u001b[0m \u001b[0;34m\"export\"\u001b[0m\u001b[0;34m}\u001b[0m  \u001b[0;31m# highest priority args on the right\u001b[0m\u001b[0;34m\u001b[0m\u001b[0;34m\u001b[0m\u001b[0m\n\u001b[0;32m--> 602\u001b[0;31m         \u001b[0;32mreturn\u001b[0m \u001b[0mExporter\u001b[0m\u001b[0;34m(\u001b[0m\u001b[0moverrides\u001b[0m\u001b[0;34m=\u001b[0m\u001b[0margs\u001b[0m\u001b[0;34m,\u001b[0m \u001b[0m_callbacks\u001b[0m\u001b[0;34m=\u001b[0m\u001b[0mself\u001b[0m\u001b[0;34m.\u001b[0m\u001b[0mcallbacks\u001b[0m\u001b[0;34m)\u001b[0m\u001b[0;34m(\u001b[0m\u001b[0mmodel\u001b[0m\u001b[0;34m=\u001b[0m\u001b[0mself\u001b[0m\u001b[0;34m.\u001b[0m\u001b[0mmodel\u001b[0m\u001b[0;34m)\u001b[0m\u001b[0;34m\u001b[0m\u001b[0;34m\u001b[0m\u001b[0m\n\u001b[0m\u001b[1;32m    603\u001b[0m \u001b[0;34m\u001b[0m\u001b[0m\n\u001b[1;32m    604\u001b[0m     def train(\n",
            "\u001b[0;32m/usr/local/lib/python3.10/dist-packages/ultralytics/engine/exporter.py\u001b[0m in \u001b[0;36m__call__\u001b[0;34m(self, model)\u001b[0m\n\u001b[1;32m    303\u001b[0m         \u001b[0;32mif\u001b[0m \u001b[0many\u001b[0m\u001b[0;34m(\u001b[0m\u001b[0;34m(\u001b[0m\u001b[0msaved_model\u001b[0m\u001b[0;34m,\u001b[0m \u001b[0mpb\u001b[0m\u001b[0;34m,\u001b[0m \u001b[0mtflite\u001b[0m\u001b[0;34m,\u001b[0m \u001b[0medgetpu\u001b[0m\u001b[0;34m,\u001b[0m \u001b[0mtfjs\u001b[0m\u001b[0;34m)\u001b[0m\u001b[0;34m)\u001b[0m\u001b[0;34m:\u001b[0m  \u001b[0;31m# TensorFlow formats\u001b[0m\u001b[0;34m\u001b[0m\u001b[0;34m\u001b[0m\u001b[0m\n\u001b[1;32m    304\u001b[0m             \u001b[0mself\u001b[0m\u001b[0;34m.\u001b[0m\u001b[0margs\u001b[0m\u001b[0;34m.\u001b[0m\u001b[0mint8\u001b[0m \u001b[0;34m|=\u001b[0m \u001b[0medgetpu\u001b[0m\u001b[0;34m\u001b[0m\u001b[0;34m\u001b[0m\u001b[0m\n\u001b[0;32m--> 305\u001b[0;31m             \u001b[0mf\u001b[0m\u001b[0;34m[\u001b[0m\u001b[0;36m5\u001b[0m\u001b[0;34m]\u001b[0m\u001b[0;34m,\u001b[0m \u001b[0mkeras_model\u001b[0m \u001b[0;34m=\u001b[0m \u001b[0mself\u001b[0m\u001b[0;34m.\u001b[0m\u001b[0mexport_saved_model\u001b[0m\u001b[0;34m(\u001b[0m\u001b[0;34m)\u001b[0m\u001b[0;34m\u001b[0m\u001b[0;34m\u001b[0m\u001b[0m\n\u001b[0m\u001b[1;32m    306\u001b[0m             \u001b[0;32mif\u001b[0m \u001b[0mpb\u001b[0m \u001b[0;32mor\u001b[0m \u001b[0mtfjs\u001b[0m\u001b[0;34m:\u001b[0m  \u001b[0;31m# pb prerequisite to tfjs\u001b[0m\u001b[0;34m\u001b[0m\u001b[0;34m\u001b[0m\u001b[0m\n\u001b[1;32m    307\u001b[0m                 \u001b[0mf\u001b[0m\u001b[0;34m[\u001b[0m\u001b[0;36m6\u001b[0m\u001b[0;34m]\u001b[0m\u001b[0;34m,\u001b[0m \u001b[0m_\u001b[0m \u001b[0;34m=\u001b[0m \u001b[0mself\u001b[0m\u001b[0;34m.\u001b[0m\u001b[0mexport_pb\u001b[0m\u001b[0;34m(\u001b[0m\u001b[0mkeras_model\u001b[0m\u001b[0;34m=\u001b[0m\u001b[0mkeras_model\u001b[0m\u001b[0;34m)\u001b[0m\u001b[0;34m\u001b[0m\u001b[0;34m\u001b[0m\u001b[0m\n",
            "\u001b[0;32m/usr/local/lib/python3.10/dist-packages/ultralytics/engine/exporter.py\u001b[0m in \u001b[0;36mouter_func\u001b[0;34m(*args, **kwargs)\u001b[0m\n\u001b[1;32m    140\u001b[0m         \u001b[0;32mexcept\u001b[0m \u001b[0mException\u001b[0m \u001b[0;32mas\u001b[0m \u001b[0me\u001b[0m\u001b[0;34m:\u001b[0m\u001b[0;34m\u001b[0m\u001b[0;34m\u001b[0m\u001b[0m\n\u001b[1;32m    141\u001b[0m             \u001b[0mLOGGER\u001b[0m\u001b[0;34m.\u001b[0m\u001b[0minfo\u001b[0m\u001b[0;34m(\u001b[0m\u001b[0;34mf\"{prefix} export failure ❌ {dt.t:.1f}s: {e}\"\u001b[0m\u001b[0;34m)\u001b[0m\u001b[0;34m\u001b[0m\u001b[0;34m\u001b[0m\u001b[0m\n\u001b[0;32m--> 142\u001b[0;31m             \u001b[0;32mraise\u001b[0m \u001b[0me\u001b[0m\u001b[0;34m\u001b[0m\u001b[0;34m\u001b[0m\u001b[0m\n\u001b[0m\u001b[1;32m    143\u001b[0m \u001b[0;34m\u001b[0m\u001b[0m\n\u001b[1;32m    144\u001b[0m     \u001b[0;32mreturn\u001b[0m \u001b[0mouter_func\u001b[0m\u001b[0;34m\u001b[0m\u001b[0;34m\u001b[0m\u001b[0m\n",
            "\u001b[0;32m/usr/local/lib/python3.10/dist-packages/ultralytics/engine/exporter.py\u001b[0m in \u001b[0;36mouter_func\u001b[0;34m(*args, **kwargs)\u001b[0m\n\u001b[1;32m    135\u001b[0m         \u001b[0;32mtry\u001b[0m\u001b[0;34m:\u001b[0m\u001b[0;34m\u001b[0m\u001b[0;34m\u001b[0m\u001b[0m\n\u001b[1;32m    136\u001b[0m             \u001b[0;32mwith\u001b[0m \u001b[0mProfile\u001b[0m\u001b[0;34m(\u001b[0m\u001b[0;34m)\u001b[0m \u001b[0;32mas\u001b[0m \u001b[0mdt\u001b[0m\u001b[0;34m:\u001b[0m\u001b[0;34m\u001b[0m\u001b[0;34m\u001b[0m\u001b[0m\n\u001b[0;32m--> 137\u001b[0;31m                 \u001b[0mf\u001b[0m\u001b[0;34m,\u001b[0m \u001b[0mmodel\u001b[0m \u001b[0;34m=\u001b[0m \u001b[0minner_func\u001b[0m\u001b[0;34m(\u001b[0m\u001b[0;34m*\u001b[0m\u001b[0margs\u001b[0m\u001b[0;34m,\u001b[0m \u001b[0;34m**\u001b[0m\u001b[0mkwargs\u001b[0m\u001b[0;34m)\u001b[0m\u001b[0;34m\u001b[0m\u001b[0;34m\u001b[0m\u001b[0m\n\u001b[0m\u001b[1;32m    138\u001b[0m             \u001b[0mLOGGER\u001b[0m\u001b[0;34m.\u001b[0m\u001b[0minfo\u001b[0m\u001b[0;34m(\u001b[0m\u001b[0;34mf\"{prefix} export success ✅ {dt.t:.1f}s, saved as '{f}' ({file_size(f):.1f} MB)\"\u001b[0m\u001b[0;34m)\u001b[0m\u001b[0;34m\u001b[0m\u001b[0;34m\u001b[0m\u001b[0m\n\u001b[1;32m    139\u001b[0m             \u001b[0;32mreturn\u001b[0m \u001b[0mf\u001b[0m\u001b[0;34m,\u001b[0m \u001b[0mmodel\u001b[0m\u001b[0;34m\u001b[0m\u001b[0;34m\u001b[0m\u001b[0m\n",
            "\u001b[0;32m/usr/local/lib/python3.10/dist-packages/ultralytics/engine/exporter.py\u001b[0m in \u001b[0;36mexport_saved_model\u001b[0;34m(self, prefix)\u001b[0m\n\u001b[1;32m    897\u001b[0m         \u001b[0;31m# Add TFLite metadata\u001b[0m\u001b[0;34m\u001b[0m\u001b[0;34m\u001b[0m\u001b[0m\n\u001b[1;32m    898\u001b[0m         \u001b[0;32mfor\u001b[0m \u001b[0mfile\u001b[0m \u001b[0;32min\u001b[0m \u001b[0mf\u001b[0m\u001b[0;34m.\u001b[0m\u001b[0mrglob\u001b[0m\u001b[0;34m(\u001b[0m\u001b[0;34m\"*.tflite\"\u001b[0m\u001b[0;34m)\u001b[0m\u001b[0;34m:\u001b[0m\u001b[0;34m\u001b[0m\u001b[0;34m\u001b[0m\u001b[0m\n\u001b[0;32m--> 899\u001b[0;31m             \u001b[0mf\u001b[0m\u001b[0;34m.\u001b[0m\u001b[0munlink\u001b[0m\u001b[0;34m(\u001b[0m\u001b[0;34m)\u001b[0m \u001b[0;32mif\u001b[0m \u001b[0;34m\"quant_with_int16_act.tflite\"\u001b[0m \u001b[0;32min\u001b[0m \u001b[0mstr\u001b[0m\u001b[0;34m(\u001b[0m\u001b[0mf\u001b[0m\u001b[0;34m)\u001b[0m \u001b[0;32melse\u001b[0m \u001b[0mself\u001b[0m\u001b[0;34m.\u001b[0m\u001b[0m_add_tflite_metadata\u001b[0m\u001b[0;34m(\u001b[0m\u001b[0mfile\u001b[0m\u001b[0;34m)\u001b[0m\u001b[0;34m\u001b[0m\u001b[0;34m\u001b[0m\u001b[0m\n\u001b[0m\u001b[1;32m    900\u001b[0m \u001b[0;34m\u001b[0m\u001b[0m\n\u001b[1;32m    901\u001b[0m         \u001b[0;32mreturn\u001b[0m \u001b[0mstr\u001b[0m\u001b[0;34m(\u001b[0m\u001b[0mf\u001b[0m\u001b[0;34m)\u001b[0m\u001b[0;34m,\u001b[0m \u001b[0mtf\u001b[0m\u001b[0;34m.\u001b[0m\u001b[0msaved_model\u001b[0m\u001b[0;34m.\u001b[0m\u001b[0mload\u001b[0m\u001b[0;34m(\u001b[0m\u001b[0mf\u001b[0m\u001b[0;34m,\u001b[0m \u001b[0mtags\u001b[0m\u001b[0;34m=\u001b[0m\u001b[0;32mNone\u001b[0m\u001b[0;34m,\u001b[0m \u001b[0moptions\u001b[0m\u001b[0;34m=\u001b[0m\u001b[0;32mNone\u001b[0m\u001b[0;34m)\u001b[0m  \u001b[0;31m# load saved_model as Keras model\u001b[0m\u001b[0;34m\u001b[0m\u001b[0;34m\u001b[0m\u001b[0m\n",
            "\u001b[0;32m/usr/local/lib/python3.10/dist-packages/ultralytics/engine/exporter.py\u001b[0m in \u001b[0;36m_add_tflite_metadata\u001b[0;34m(self, file)\u001b[0m\n\u001b[1;32m   1013\u001b[0m     \u001b[0;32mdef\u001b[0m \u001b[0m_add_tflite_metadata\u001b[0m\u001b[0;34m(\u001b[0m\u001b[0mself\u001b[0m\u001b[0;34m,\u001b[0m \u001b[0mfile\u001b[0m\u001b[0;34m)\u001b[0m\u001b[0;34m:\u001b[0m\u001b[0;34m\u001b[0m\u001b[0;34m\u001b[0m\u001b[0m\n\u001b[1;32m   1014\u001b[0m         \u001b[0;34m\"\"\"Add metadata to *.tflite models per https://www.tensorflow.org/lite/models/convert/metadata.\"\"\"\u001b[0m\u001b[0;34m\u001b[0m\u001b[0;34m\u001b[0m\u001b[0m\n\u001b[0;32m-> 1015\u001b[0;31m         \u001b[0;32mfrom\u001b[0m \u001b[0mtflite_support\u001b[0m \u001b[0;32mimport\u001b[0m \u001b[0mflatbuffers\u001b[0m  \u001b[0;31m# noqa\u001b[0m\u001b[0;34m\u001b[0m\u001b[0;34m\u001b[0m\u001b[0m\n\u001b[0m\u001b[1;32m   1016\u001b[0m         \u001b[0;32mfrom\u001b[0m \u001b[0mtflite_support\u001b[0m \u001b[0;32mimport\u001b[0m \u001b[0mmetadata\u001b[0m \u001b[0;32mas\u001b[0m \u001b[0m_metadata\u001b[0m  \u001b[0;31m# noqa\u001b[0m\u001b[0;34m\u001b[0m\u001b[0;34m\u001b[0m\u001b[0m\n\u001b[1;32m   1017\u001b[0m         \u001b[0;32mfrom\u001b[0m \u001b[0mtflite_support\u001b[0m \u001b[0;32mimport\u001b[0m \u001b[0mmetadata_schema_py_generated\u001b[0m \u001b[0;32mas\u001b[0m \u001b[0m_metadata_fb\u001b[0m  \u001b[0;31m# noqa\u001b[0m\u001b[0;34m\u001b[0m\u001b[0;34m\u001b[0m\u001b[0m\n",
            "\u001b[0;32m/usr/local/lib/python3.10/dist-packages/tflite_support/__init__.py\u001b[0m in \u001b[0;36m<module>\u001b[0;34m\u001b[0m\n\u001b[1;32m     51\u001b[0m \u001b[0;32mif\u001b[0m \u001b[0mplatform\u001b[0m\u001b[0;34m.\u001b[0m\u001b[0msystem\u001b[0m\u001b[0;34m(\u001b[0m\u001b[0;34m)\u001b[0m \u001b[0;34m!=\u001b[0m \u001b[0;34m'Windows'\u001b[0m\u001b[0;34m:\u001b[0m\u001b[0;34m\u001b[0m\u001b[0;34m\u001b[0m\u001b[0m\n\u001b[1;32m     52\u001b[0m   \u001b[0;31m# Task Library is not supported on Windows yet.\u001b[0m\u001b[0;34m\u001b[0m\u001b[0;34m\u001b[0m\u001b[0m\n\u001b[0;32m---> 53\u001b[0;31m   \u001b[0;32mfrom\u001b[0m \u001b[0mtflite_support\u001b[0m \u001b[0;32mimport\u001b[0m \u001b[0mtask\u001b[0m\u001b[0;34m\u001b[0m\u001b[0;34m\u001b[0m\u001b[0m\n\u001b[0m",
            "\u001b[0;32m/usr/local/lib/python3.10/dist-packages/tflite_support/task/__init__.py\u001b[0m in \u001b[0;36m<module>\u001b[0;34m\u001b[0m\n\u001b[1;32m     30\u001b[0m \u001b[0;32mfrom\u001b[0m \u001b[0;34m.\u001b[0m \u001b[0;32mimport\u001b[0m \u001b[0mprocessor\u001b[0m\u001b[0;34m\u001b[0m\u001b[0;34m\u001b[0m\u001b[0m\n\u001b[1;32m     31\u001b[0m \u001b[0;32mfrom\u001b[0m \u001b[0;34m.\u001b[0m \u001b[0;32mimport\u001b[0m \u001b[0mtext\u001b[0m\u001b[0;34m\u001b[0m\u001b[0;34m\u001b[0m\u001b[0m\n\u001b[0;32m---> 32\u001b[0;31m \u001b[0;32mfrom\u001b[0m \u001b[0;34m.\u001b[0m \u001b[0;32mimport\u001b[0m \u001b[0mvision\u001b[0m\u001b[0;34m\u001b[0m\u001b[0;34m\u001b[0m\u001b[0m\n\u001b[0m",
            "\u001b[0;32m/usr/local/lib/python3.10/dist-packages/tflite_support/task/vision/__init__.py\u001b[0m in \u001b[0;36m<module>\u001b[0;34m\u001b[0m\n\u001b[1;32m     18\u001b[0m \"\"\"\n\u001b[1;32m     19\u001b[0m \u001b[0;34m\u001b[0m\u001b[0m\n\u001b[0;32m---> 20\u001b[0;31m \u001b[0;32mfrom\u001b[0m \u001b[0mtensorflow_lite_support\u001b[0m\u001b[0;34m.\u001b[0m\u001b[0mpython\u001b[0m\u001b[0;34m.\u001b[0m\u001b[0mtask\u001b[0m\u001b[0;34m.\u001b[0m\u001b[0mvision\u001b[0m \u001b[0;32mimport\u001b[0m \u001b[0mimage_classifier\u001b[0m\u001b[0;34m\u001b[0m\u001b[0;34m\u001b[0m\u001b[0m\n\u001b[0m\u001b[1;32m     21\u001b[0m \u001b[0;32mfrom\u001b[0m \u001b[0mtensorflow_lite_support\u001b[0m\u001b[0;34m.\u001b[0m\u001b[0mpython\u001b[0m\u001b[0;34m.\u001b[0m\u001b[0mtask\u001b[0m\u001b[0;34m.\u001b[0m\u001b[0mvision\u001b[0m \u001b[0;32mimport\u001b[0m \u001b[0mimage_embedder\u001b[0m\u001b[0;34m\u001b[0m\u001b[0;34m\u001b[0m\u001b[0m\n\u001b[1;32m     22\u001b[0m \u001b[0;32mfrom\u001b[0m \u001b[0mtensorflow_lite_support\u001b[0m\u001b[0;34m.\u001b[0m\u001b[0mpython\u001b[0m\u001b[0;34m.\u001b[0m\u001b[0mtask\u001b[0m\u001b[0;34m.\u001b[0m\u001b[0mvision\u001b[0m \u001b[0;32mimport\u001b[0m \u001b[0mimage_segmenter\u001b[0m\u001b[0;34m\u001b[0m\u001b[0;34m\u001b[0m\u001b[0m\n",
            "\u001b[0;32m/usr/local/lib/python3.10/dist-packages/tensorflow_lite_support/python/task/vision/image_classifier.py\u001b[0m in \u001b[0;36m<module>\u001b[0;34m\u001b[0m\n\u001b[1;32m     21\u001b[0m \u001b[0;32mfrom\u001b[0m \u001b[0mtensorflow_lite_support\u001b[0m\u001b[0;34m.\u001b[0m\u001b[0mpython\u001b[0m\u001b[0;34m.\u001b[0m\u001b[0mtask\u001b[0m\u001b[0;34m.\u001b[0m\u001b[0mprocessor\u001b[0m\u001b[0;34m.\u001b[0m\u001b[0mproto\u001b[0m \u001b[0;32mimport\u001b[0m \u001b[0mclassification_options_pb2\u001b[0m\u001b[0;34m\u001b[0m\u001b[0;34m\u001b[0m\u001b[0m\n\u001b[1;32m     22\u001b[0m \u001b[0;32mfrom\u001b[0m \u001b[0mtensorflow_lite_support\u001b[0m\u001b[0;34m.\u001b[0m\u001b[0mpython\u001b[0m\u001b[0;34m.\u001b[0m\u001b[0mtask\u001b[0m\u001b[0;34m.\u001b[0m\u001b[0mprocessor\u001b[0m\u001b[0;34m.\u001b[0m\u001b[0mproto\u001b[0m \u001b[0;32mimport\u001b[0m \u001b[0mclassifications_pb2\u001b[0m\u001b[0;34m\u001b[0m\u001b[0;34m\u001b[0m\u001b[0m\n\u001b[0;32m---> 23\u001b[0;31m \u001b[0;32mfrom\u001b[0m \u001b[0mtensorflow_lite_support\u001b[0m\u001b[0;34m.\u001b[0m\u001b[0mpython\u001b[0m\u001b[0;34m.\u001b[0m\u001b[0mtask\u001b[0m\u001b[0;34m.\u001b[0m\u001b[0mvision\u001b[0m\u001b[0;34m.\u001b[0m\u001b[0mcore\u001b[0m \u001b[0;32mimport\u001b[0m \u001b[0mtensor_image\u001b[0m\u001b[0;34m\u001b[0m\u001b[0;34m\u001b[0m\u001b[0m\n\u001b[0m\u001b[1;32m     24\u001b[0m \u001b[0;32mfrom\u001b[0m \u001b[0mtensorflow_lite_support\u001b[0m\u001b[0;34m.\u001b[0m\u001b[0mpython\u001b[0m\u001b[0;34m.\u001b[0m\u001b[0mtask\u001b[0m\u001b[0;34m.\u001b[0m\u001b[0mvision\u001b[0m\u001b[0;34m.\u001b[0m\u001b[0mcore\u001b[0m\u001b[0;34m.\u001b[0m\u001b[0mpybinds\u001b[0m \u001b[0;32mimport\u001b[0m \u001b[0mimage_utils\u001b[0m\u001b[0;34m\u001b[0m\u001b[0;34m\u001b[0m\u001b[0m\n\u001b[1;32m     25\u001b[0m \u001b[0;32mfrom\u001b[0m \u001b[0mtensorflow_lite_support\u001b[0m\u001b[0;34m.\u001b[0m\u001b[0mpython\u001b[0m\u001b[0;34m.\u001b[0m\u001b[0mtask\u001b[0m\u001b[0;34m.\u001b[0m\u001b[0mvision\u001b[0m\u001b[0;34m.\u001b[0m\u001b[0mpybinds\u001b[0m \u001b[0;32mimport\u001b[0m \u001b[0m_pywrap_image_classifier\u001b[0m\u001b[0;34m\u001b[0m\u001b[0;34m\u001b[0m\u001b[0m\n",
            "\u001b[0;32m/usr/local/lib/python3.10/dist-packages/tensorflow_lite_support/python/task/vision/core/tensor_image.py\u001b[0m in \u001b[0;36m<module>\u001b[0;34m\u001b[0m\n\u001b[1;32m     17\u001b[0m \u001b[0;34m\u001b[0m\u001b[0m\n\u001b[1;32m     18\u001b[0m \u001b[0;32mfrom\u001b[0m \u001b[0mtensorflow_lite_support\u001b[0m\u001b[0;34m.\u001b[0m\u001b[0mpython\u001b[0m\u001b[0;34m.\u001b[0m\u001b[0mtask\u001b[0m\u001b[0;34m.\u001b[0m\u001b[0mvision\u001b[0m\u001b[0;34m.\u001b[0m\u001b[0mcore\u001b[0m \u001b[0;32mimport\u001b[0m \u001b[0mcolor_space_type\u001b[0m\u001b[0;34m\u001b[0m\u001b[0;34m\u001b[0m\u001b[0m\n\u001b[0;32m---> 19\u001b[0;31m \u001b[0;32mfrom\u001b[0m \u001b[0mtensorflow_lite_support\u001b[0m\u001b[0;34m.\u001b[0m\u001b[0mpython\u001b[0m\u001b[0;34m.\u001b[0m\u001b[0mtask\u001b[0m\u001b[0;34m.\u001b[0m\u001b[0mvision\u001b[0m\u001b[0;34m.\u001b[0m\u001b[0mcore\u001b[0m\u001b[0;34m.\u001b[0m\u001b[0mpybinds\u001b[0m \u001b[0;32mimport\u001b[0m \u001b[0mimage_utils\u001b[0m\u001b[0;34m\u001b[0m\u001b[0;34m\u001b[0m\u001b[0m\n\u001b[0m\u001b[1;32m     20\u001b[0m \u001b[0;34m\u001b[0m\u001b[0m\n\u001b[1;32m     21\u001b[0m \u001b[0;34m\u001b[0m\u001b[0m\n",
            "\u001b[0;31mImportError\u001b[0m: generic_type: cannot initialize type \"StatusCode\": an object with that name is already defined",
            "",
            "\u001b[0;31m---------------------------------------------------------------------------\u001b[0;32m\nNOTE: If your import is failing due to a missing package, you can\nmanually install dependencies using either !pip or !apt.\n\nTo view examples of installing some common dependencies, click the\n\"Open Examples\" button below.\n\u001b[0;31m---------------------------------------------------------------------------\u001b[0m\n"
          ],
          "errorDetails": {
            "actions": [
              {
                "action": "open_url",
                "actionText": "Open Examples",
                "url": "/notebooks/snippets/importing_libraries.ipynb"
              }
            ]
          }
        }
      ]
    }
  ]
}